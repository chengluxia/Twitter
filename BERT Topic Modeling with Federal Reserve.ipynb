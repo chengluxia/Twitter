{
 "cells": [
  {
   "cell_type": "markdown",
   "metadata": {},
   "source": [
    "<font size = 5, color='##4682B4' ><b><center>BERT Topic Modeling-Federal Reserve</font>\n",
    "<ul>\n",
    "<font size = 3>\n",
    "<a href = \"#section1\"><li>1. Load Dataset</li></a>\n",
    "<a href = \"#section2\"><li>2. Preprocessing text Column</li></a>\n",
    "    <a href = \"#section2.1\"><ul><li>2.1 Clean text column for topic modeling</li></ul></a>\n",
    "    <a href = \"#section2.2\"><ul><li>2.2 WordCloud</li></ul></a>\n",
    "<a href = \"#section3\"><li>3. BERT Topic Modeling</li></a>\n",
    "    <a href = \"#section3.1\"><ul><li>3.1 BERTopic modeling with default setting</li></ul></a>\n",
    "    <a href = \"#section3.2\"><ul><li>3.2 Tuning BERTopic model parameter-n_neighbors</li></ul></a>\n",
    "    <a href = \"#section3.3\"><ul><li>3.3 Tuning BERTopic model parameter-nr_topics</li></ul></a>\n",
    "    <a href = \"#section3.4\"><ul><li>3.4 Get the Optimal BERTopic model</li></ul></a>\n",
    "    <a href = \"#section3.5\"><ul><li>3.5 Visualizations</li></ul></a>\n",
    "<a href = \"#section4\"><li>4. Conclusion</li></a>\n",
    "        \n",
    "</ul>"
   ]
  },
  {
   "cell_type": "markdown",
   "metadata": {},
   "source": [
    "<font size = 4><b><center><a id=\"section1\">1. Load Dataset</a>"
   ]
  },
  {
   "cell_type": "markdown",
   "metadata": {},
   "source": [
    "<font color='##4682B4' size = 3>Pool dataset into jupyter notebook from Google SQL, credential file is named macrox.json. <br>\n",
    "    All seven streams are included in the tables list, this file will focus on Trader Influencers dataset only </font>"
   ]
  },
  {
   "cell_type": "code",
   "execution_count": 1,
   "metadata": {},
   "outputs": [],
   "source": [
    "#pip install gcsfs\n",
    "import os\n",
    "import pandas as pd\n",
    "import numpy as np\n",
    "import matplotlib.pyplot as plt\n",
    "%matplotlib inline\n",
    "import sys\n",
    "\n",
    "import re,string #deal with special characteristics in hashtag and text\n",
    "\n",
    "import datetime\n",
    "from timeit import default_timer as timer    \n",
    "\n",
    "import warnings\n",
    "warnings.filterwarnings('ignore')"
   ]
  },
  {
   "cell_type": "code",
   "execution_count": 2,
   "metadata": {},
   "outputs": [],
   "source": [
    "os.environ['GOOGLE_APPLICATION_CREDENTIALS'] = 'macrox.json'\n",
    "\n",
    "tables = ['twitter_stream_macro_institutions',\n",
    " 'twitter_stream_econ_news',\n",
    " 'twitter_stream_investment_communities',\n",
    " 'twitter_stream_us_politicians',\n",
    " 'twitter_stream_federal_reserve',\n",
    " 'twitter_stream_india_covid',\n",
    " 'twitter_stream_trader_influencers']"
   ]
  },
  {
   "cell_type": "code",
   "execution_count": 3,
   "metadata": {},
   "outputs": [],
   "source": [
    "##Choose Federal Reserve Stream as pd\n",
    "df = pd.read_csv('gs://capstone_twitter/capstone/' + tables[4] + '.csv', index_col= 0)"
   ]
  },
  {
   "cell_type": "code",
   "execution_count": 4,
   "metadata": {},
   "outputs": [],
   "source": [
    "##convert the 'created_at' colunm to datetime format\n",
    "df_bert = df.copy()\n",
    "df_bert['Date'] = pd.to_datetime(df_bert['created_at']).dt.date"
   ]
  },
  {
   "cell_type": "code",
   "execution_count": 5,
   "metadata": {},
   "outputs": [],
   "source": [
    "## choose the time duration \n",
    "earliest_date = datetime.date(2021, 6, 15)\n",
    "\n",
    "latest_date= datetime.date(2021, 6, 30)"
   ]
  },
  {
   "cell_type": "code",
   "execution_count": 6,
   "metadata": {},
   "outputs": [
    {
     "data": {
      "text/plain": [
       "13058"
      ]
     },
     "execution_count": 6,
     "metadata": {},
     "output_type": "execute_result"
    }
   ],
   "source": [
    "#filter for 15 days \n",
    "df_model = df_bert[(df_bert['Date'] >= earliest_date)&(df_bert['Date'] <= latest_date)]\n",
    "len(df_model)"
   ]
  },
  {
   "cell_type": "markdown",
   "metadata": {},
   "source": [
    "<font size = 4><b><center><a id=\"section2\">2. Preprocessing text Column</a>"
   ]
  },
  {
   "cell_type": "markdown",
   "metadata": {},
   "source": [
    "<font size = 4><b><center><a id=\"section2.1\">2.1 Clean text column for topic modeling</a>"
   ]
  },
  {
   "cell_type": "code",
   "execution_count": 7,
   "metadata": {},
   "outputs": [],
   "source": [
    "from nltk.tokenize import TweetTokenizer\n",
    "tknzr = TweetTokenizer()"
   ]
  },
  {
   "cell_type": "code",
   "execution_count": 8,
   "metadata": {},
   "outputs": [],
   "source": [
    "#Add the directory that contains the preprocessing.py module to the system path for import \n",
    "base_dir = os.getcwd() #get the current working directory \n",
    "sys.path.insert(0,base_dir)"
   ]
  },
  {
   "cell_type": "code",
   "execution_count": 9,
   "metadata": {},
   "outputs": [],
   "source": [
    "import preprocessing ## import preprocessing function\n",
    "from preprocessing import stop_words,nlp\n",
    "import string"
   ]
  },
  {
   "cell_type": "code",
   "execution_count": 10,
   "metadata": {},
   "outputs": [],
   "source": [
    "## remove links ##\n",
    "def strip_links(text):\n",
    "    link_regex = re.compile('((https?):((//)|(\\\\\\\\))+([\\w\\d:#@%/;$()~_?\\+-=\\\\\\.&](#!)?)*)', re.DOTALL)\n",
    "    links = re.findall(link_regex, text)\n",
    "    for link in links:\n",
    "        text = text.replace(link[0], '')    \n",
    "    return text\n",
    "\n",
    "## remove all entities ##\n",
    "def strip_all_entities(text):\n",
    "    entity_prefixes = ['@','_']\n",
    "    for separator in string.punctuation:\n",
    "        if separator not in entity_prefixes :\n",
    "            text = text.replace(separator,' ')\n",
    "    words = []\n",
    "    for word in text.split():\n",
    "        word = word.strip()\n",
    "        if word:\n",
    "            if word[0] not in entity_prefixes:\n",
    "                words.append(word)\n",
    "    return ' '.join(words)\n",
    "\n",
    "##remove numbers##\n",
    "def remove_number(text):\n",
    "    return re.sub(\"\\S*\\d\\S*\", \"\", text).strip()\n",
    "\n",
    "##remove stopwords##\n",
    "def remove_stops_words(text):\n",
    "    text = [w for w in text if not w in list(stop_words)] #remove stopwords\n",
    "    return text\n",
    "## remove punctuations##\n",
    "def remove_punc(text):\n",
    "    return text.translate(str.maketrans('', '', string.punctuation))"
   ]
  },
  {
   "cell_type": "code",
   "execution_count": 11,
   "metadata": {},
   "outputs": [],
   "source": [
    "## define a clean function to clean all links, entities and numbers from text\n",
    "def clean_text(text):\n",
    "    text = strip_links(text)\n",
    "    text = strip_all_entities(text)\n",
    "    text = remove_number(text)\n",
    "    return text"
   ]
  },
  {
   "cell_type": "code",
   "execution_count": 12,
   "metadata": {},
   "outputs": [],
   "source": [
    "## define a function by using preprocessing function to do deep cleaning \n",
    "def pre_process(df):\n",
    "    df['clean_text'] = df['text'].apply(clean_text)\n",
    "    df['clean_text'] = df['clean_text'].str.lower()\n",
    "    df['clean_text'] = df.clean_text.str.replace('’',\"\\'\")\n",
    "    df['clean_text'] = df.clean_text.str.replace('#',\"\").str.replace('$',\"\").str.replace('%',\"\").str.replace(\"-\",\" \").str.replace(\"…\",\"\")\n",
    "#     eco['clean_text'] = eco.clean_text.str.replace('u.s.',\"usa\").str.replace('u.s.a.',\"usa\")\n",
    "    df['clean_text'] = df.clean_text.apply(preprocessing.remove_whitespace)\n",
    "    df['clean_text'] = df.clean_text.apply(lambda x: preprocessing.find_urls(x,rm=True))\n",
    "    df['clean_text'] = df.clean_text.apply(lambda x: preprocessing.find_emojis(x,rm=True))\n",
    "    df['clean_text'] = df.clean_text.apply(preprocessing.expand_contractions) #this expands possessie contractions to '... is'\n",
    "    df['clean_text'] = df.clean_text.apply(preprocessing.remove_apostrophe) #remove any lingering appostrophes in accents or informal abbreviations.\n",
    "    df['clean_text'] = df.clean_text.apply(preprocessing.remove_handles)\n",
    "    df['clean_text'] = df.clean_text.apply(remove_punc)\n",
    "    df['clean_text'] = df.clean_text.apply(tknzr.tokenize)\n",
    "    df['clean_text'] = df.clean_text.apply(remove_stops_words)"
   ]
  },
  {
   "cell_type": "code",
   "execution_count": 13,
   "metadata": {},
   "outputs": [
    {
     "name": "stdout",
     "output_type": "stream",
     "text": [
      "CPU times: user 7.21 s, sys: 42.6 ms, total: 7.26 s\n",
      "Wall time: 7.26 s\n"
     ]
    }
   ],
   "source": [
    "%%time\n",
    "pre_process(df_model)"
   ]
  },
  {
   "cell_type": "code",
   "execution_count": 14,
   "metadata": {},
   "outputs": [],
   "source": [
    "def lemmatization(texts, allowed_postags=['NOUN', 'ADJ', 'VERB', 'ADV']):\n",
    "    \"\"\"https://spacy.io/api/annotation\"\"\"\n",
    "    texts_out = []\n",
    "    for sent in texts:\n",
    "        doc = nlp(\" \".join(sent)) \n",
    "        texts_out.append(\" \".join([token.lemma_ for token in doc if token.pos_ in allowed_postags]))\n",
    "    return texts_out"
   ]
  },
  {
   "cell_type": "code",
   "execution_count": 15,
   "metadata": {
    "scrolled": true
   },
   "outputs": [
    {
     "name": "stdout",
     "output_type": "stream",
     "text": [
      "CPU times: user 23.4 s, sys: 63.1 ms, total: 23.4 s\n",
      "Wall time: 23.5 s\n"
     ]
    }
   ],
   "source": [
    "%%time\n",
    "data_lemmatized = lemmatization(df_model.clean_text.to_list(), allowed_postags=['NOUN', 'ADJ', 'VERB', 'ADV'])"
   ]
  },
  {
   "cell_type": "code",
   "execution_count": 16,
   "metadata": {},
   "outputs": [
    {
     "name": "stdout",
     "output_type": "stream",
     "text": [
      "['inflation month love guy understand complexity move part cdnecon inflation', 'type accidentally inflation bad', 'woman watch simonebile britneyspear', 'inflation', 'polarise pretty bunker camp']\n"
     ]
    }
   ],
   "source": [
    "print(data_lemmatized[:5])"
   ]
  },
  {
   "cell_type": "code",
   "execution_count": 17,
   "metadata": {},
   "outputs": [],
   "source": [
    "## define a function that just aloow noun as output\n",
    "def keep_noun(texts, allowed_postags=['NOUN']):\n",
    "    texts_out = []\n",
    "    for i in texts:\n",
    "        doc = nlp(i) \n",
    "        texts_out.append(\" \".join([str(token) for token in doc if (token.pos_ in allowed_postags or '_' in str(token)) ]))\n",
    "    return texts_out"
   ]
  },
  {
   "cell_type": "code",
   "execution_count": 18,
   "metadata": {},
   "outputs": [
    {
     "name": "stdout",
     "output_type": "stream",
     "text": [
      "CPU times: user 18.4 s, sys: 28.7 ms, total: 18.5 s\n",
      "Wall time: 18.5 s\n"
     ]
    }
   ],
   "source": [
    "%%time\n",
    "data_bert = keep_noun(data_lemmatized)"
   ]
  },
  {
   "cell_type": "code",
   "execution_count": 19,
   "metadata": {
    "scrolled": true
   },
   "outputs": [
    {
     "data": {
      "text/plain": [
       "['inflation guy complexity part cdnecon inflation',\n",
       " 'inflation',\n",
       " 'woman',\n",
       " 'inflation',\n",
       " 'polarise bunker camp']"
      ]
     },
     "execution_count": 19,
     "metadata": {},
     "output_type": "execute_result"
    }
   ],
   "source": [
    "data_bert[:5]"
   ]
  },
  {
   "cell_type": "markdown",
   "metadata": {},
   "source": [
    "<font size = 4><b><center><a id=\"section2.2\">2.2 WordCloud</a>"
   ]
  },
  {
   "cell_type": "code",
   "execution_count": 20,
   "metadata": {},
   "outputs": [],
   "source": [
    "from wordcloud import WordCloud"
   ]
  },
  {
   "cell_type": "code",
   "execution_count": 21,
   "metadata": {},
   "outputs": [],
   "source": [
    "def wordcloud_func(words, Stop_Words = [], Twitter_Icon = False, feature_name = '', if_save = False):\n",
    "\n",
    "    #set wordcloud style\n",
    "    if Twitter_Icon:\n",
    "        mask = np.array(Image.open(path.join(base_dir, \"Twitter.png\")))\n",
    "        data_wordcloud = WordCloud(stopwords = Stop_Words, background_color = \"white\", collocations = False, \n",
    "                                   max_words = 100, contour_width=1,width=800, height=500, mask=mask)\n",
    "    else:\n",
    "         data_wordcloud = WordCloud(stopwords = Stop_Words, background_color = \"white\", collocations = False, \n",
    "                                   max_words = 100, contour_width=1,width=800, height=500)\n",
    "    #produce wordcloud\n",
    "    data_wordcloud.generate(words)\n",
    "    #     wordcloud_image = data_wordcloud.to_image()\n",
    "    plt.subplots(figsize=(15,12))\n",
    "    plt.imshow(data_wordcloud, interpolation='bilinear')\n",
    "    plt.title('Most used words in %s'%feature_name,fontweight ='bold', fontsize = 20)\n",
    "    plt.axis(\"off\")\n",
    "    \n",
    "    if if_save:\n",
    "         plt.savefig('Most used words in %s'%feature_name, bbox_inches=\"tight\")\n",
    "\n",
    "    plt.show()"
   ]
  },
  {
   "cell_type": "code",
   "execution_count": 22,
   "metadata": {
    "scrolled": true
   },
   "outputs": [
    {
     "data": {
      "image/png": "[encoded data removed]",
      "text/plain": [
       "<Figure size 1080x864 with 1 Axes>"
      ]
     },
     "metadata": {
      "needs_background": "light"
     },
     "output_type": "display_data"
    }
   ],
   "source": [
    "wordcloud_func(\" \".join(data_bert), Stop_Words = ['people', 'year', 'time', 'thing', 'week', 'person', 'today',\n",
    "                                                 'lot', 'amp', 'month', 'man'],\n",
    "               Twitter_Icon = False, feature_name = 'clean text', if_save = False)"
   ]
  },
  {
   "cell_type": "code",
   "execution_count": 23,
   "metadata": {},
   "outputs": [],
   "source": [
    "# delete some words that frequently shows but useless according from wordcloud \n",
    "Useless_Words_wc = ['people', 'year', 'time', 'thing', 'week', 'person', 'today',\n",
    "                    'lot', 'amp', 'month', 'man', 'shit', 'suck', 'folk','hour',\n",
    "                    'bruh','bit', 'congratulation', 'day', 'guy', 'matter', 'thought',\n",
    "                    'tomorrow', 'morning', 'year_ago', 'dude', 'good_morning', 'feel',\n",
    "                    'month_ago', 'yesterday', '•', 'age', 'fool', 'idiot', 'good_luck','zzzzzzz',\n",
    "                   \"yess\", \"letsgo\",\"fuckboi\",\"wait\", \"hear\",\"notice\",\"obv\",\"talk_taper\",\"baerplag\",\"taxis\"]"
   ]
  },
  {
   "cell_type": "code",
   "execution_count": 24,
   "metadata": {},
   "outputs": [],
   "source": [
    "def remove_useless_words(text):\n",
    "    text = [w for w in text if not w in Useless_Words_wc] #remove stopwords\n",
    "    return text"
   ]
  },
  {
   "cell_type": "code",
   "execution_count": 25,
   "metadata": {},
   "outputs": [],
   "source": [
    "data_for_modeling = [(remove_useless_words(text.split())) for text in data_bert]"
   ]
  },
  {
   "cell_type": "code",
   "execution_count": 26,
   "metadata": {},
   "outputs": [
    {
     "data": {
      "text/plain": [
       "[['inflation', 'complexity', 'part', 'cdnecon', 'inflation'],\n",
       " ['inflation'],\n",
       " ['woman'],\n",
       " ['inflation'],\n",
       " ['polarise', 'bunker', 'camp'],\n",
       " ['ticker'],\n",
       " ['cryptocurrency', 'inflation', 'level', 'flux', 'defi', 'good'],\n",
       " ['drug', 'covid'],\n",
       " ['reason', 'inflation'],\n",
       " ['inflation'],\n",
       " ['inflation',\n",
       "  'financialliteracy',\n",
       "  'inflation',\n",
       "  'government',\n",
       "  'economy',\n",
       "  'tune'],\n",
       " ['paycheck',\n",
       "  'protection',\n",
       "  'program',\n",
       "  'processing',\n",
       "  'ppp',\n",
       "  'business',\n",
       "  'detail',\n",
       "  'politician'],\n",
       " ['family',\n",
       "  'cell',\n",
       "  'shift',\n",
       "  'attention',\n",
       "  'scandal',\n",
       "  'problem',\n",
       "  'bordercrisis',\n",
       "  'inflation'],\n",
       " ['mind', 'action', 'taker', 'face', 'crisis', 'inflation'],\n",
       " ['judgment',\n",
       "  'deal',\n",
       "  'dollar',\n",
       "  'distribution',\n",
       "  'mechanism',\n",
       "  'decade',\n",
       "  'sector',\n",
       "  'stablecoin'],\n",
       " ['food', 'inflation'],\n",
       " [],\n",
       " ['price', 'food', 'gas', 'surge', 'inflation'],\n",
       " ['rmb', 'crisis', 'question'],\n",
       " ['gold', 'silver', 'index', 'print', 'inflation'],\n",
       " ['inflation'],\n",
       " ['fact',\n",
       "  'consumer',\n",
       "  'food',\n",
       "  'price',\n",
       "  'food',\n",
       "  'price',\n",
       "  'inflation',\n",
       "  'increase',\n",
       "  'pandemic'],\n",
       " ['restaurant', 'price', 'inflation', 'edge'],\n",
       " ['fighting'],\n",
       " ['investor',\n",
       "  'concern',\n",
       "  'inflation',\n",
       "  'labor',\n",
       "  'shortage',\n",
       "  'supply',\n",
       "  'chain',\n",
       "  'issue'],\n",
       " ['inflation',\n",
       "  'tax',\n",
       "  'income',\n",
       "  'household',\n",
       "  'restaurant',\n",
       "  'paring',\n",
       "  'item',\n",
       "  'combo',\n",
       "  'meal',\n",
       "  'strategy',\n",
       "  'employ',\n",
       "  'lift',\n",
       "  'sale',\n",
       "  'profit',\n",
       "  'rise',\n",
       "  'food',\n",
       "  'cost'],\n",
       " ['friend', 'print', 'money', 'supply'],\n",
       " ['military'],\n",
       " ['food', 'chain', 'slash', 'dollar', 'menu', 'family', 'meal', 'inflation'],\n",
       " ['policy',\n",
       "  'dream',\n",
       "  'family',\n",
       "  'murder',\n",
       "  'fertility',\n",
       "  'rate',\n",
       "  'decline',\n",
       "  'parent',\n",
       "  'ramp',\n",
       "  'salary',\n",
       "  'cover',\n",
       "  'generation',\n",
       "  'min',\n",
       "  'wage',\n",
       "  'ounce'],\n",
       " [],\n",
       " ['money',\n",
       "  'inflation',\n",
       "  'ramp',\n",
       "  'energy',\n",
       "  'sector',\n",
       "  'outperform',\n",
       "  'inflationaryenvironment'],\n",
       " ['term',\n",
       "  'debt',\n",
       "  'cycle',\n",
       "  'deleverage',\n",
       "  'meltup',\n",
       "  'record',\n",
       "  'pile',\n",
       "  'debt',\n",
       "  'technician',\n",
       "  'relax'],\n",
       " ['shrinkflation',\n",
       "  'company',\n",
       "  'size',\n",
       "  'charge',\n",
       "  'size',\n",
       "  'profit',\n",
       "  'consumer',\n",
       "  'price',\n",
       "  'dollar',\n",
       "  'form',\n",
       "  'inflation'],\n",
       " ['child'],\n",
       " ['donor', 'mitch'],\n",
       " ['dollar'],\n",
       " ['similarity',\n",
       "  'period',\n",
       "  'inflation',\n",
       "  'lesson',\n",
       "  'ignore',\n",
       "  'call',\n",
       "  'factor',\n",
       "  'peril'],\n",
       " ['inflation', 'price', 'inflation'],\n",
       " ['rate',\n",
       "  'debt',\n",
       "  'record',\n",
       "  'economy',\n",
       "  'stock',\n",
       "  'market',\n",
       "  'ride',\n",
       "  'flow',\n",
       "  'money',\n",
       "  'inflation',\n",
       "  'rate',\n",
       "  'debt',\n",
       "  'inflation',\n",
       "  'debt',\n",
       "  'interestrate'],\n",
       " [],\n",
       " ['deposit', 'deposit', 'bluevine', 'account', 'money', 'call', 'word'],\n",
       " ['reward', 'cryptocurrencie', 'threat', 'crypto'],\n",
       " ['price', 'bus', 'order', 'night'],\n",
       " ['term', 'consumer', 'inflation', 'expectation', 'area', 'inflation'],\n",
       " ['challenge', 'question', 'altcoin'],\n",
       " ['inflation', 'datum', 'roll', 'score', 'sale'],\n",
       " ['term', 'moron', 'trap'],\n",
       " ['concern', 'inflation', 'impact', 'policy', 'ease', 'yield', 'slip'],\n",
       " ['face',\n",
       "  'market',\n",
       "  'monopoly',\n",
       "  'charge',\n",
       "  'control',\n",
       "  'economy',\n",
       "  'war',\n",
       "  'defend',\n",
       "  'interest'],\n",
       " ['inflation', 'problem', 'inflation', 'gold', 'interestrate'],\n",
       " ['pricing',\n",
       "  'fear',\n",
       "  'lack',\n",
       "  'faith',\n",
       "  'source',\n",
       "  'author',\n",
       "  'trend',\n",
       "  'news',\n",
       "  'visit',\n",
       "  'market',\n",
       "  'federalreserve'],\n",
       " ['inertia', 'rate', 'pound', 'fear', 'inflation', 'weigh', 'currency'],\n",
       " ['inflation',\n",
       "  'inflation',\n",
       "  'grocery',\n",
       "  'shopping',\n",
       "  'tomato',\n",
       "  'price',\n",
       "  'surging',\n",
       "  'fuel'],\n",
       " ['life'],\n",
       " ['stock', 'market'],\n",
       " ['growth', 'inception', 'trading'],\n",
       " ['wage',\n",
       "  'price',\n",
       "  'hike',\n",
       "  'majority',\n",
       "  'dal',\n",
       "  'cartoon',\n",
       "  'economy',\n",
       "  'inflation',\n",
       "  'wage'],\n",
       " ['stock',\n",
       "  'future',\n",
       "  'fall',\n",
       "  'recession',\n",
       "  'inflation',\n",
       "  'debt',\n",
       "  'tax',\n",
       "  'plan',\n",
       "  'floridabuildingcollapse'],\n",
       " ['action',\n",
       "  'story',\n",
       "  'government',\n",
       "  'bail',\n",
       "  'company',\n",
       "  'accountability',\n",
       "  'bailout'],\n",
       " ['dividend', 'trade', 'book', 'bond'],\n",
       " ['action',\n",
       "  'story',\n",
       "  'government',\n",
       "  'bail',\n",
       "  'company',\n",
       "  'accountability',\n",
       "  'bailout'],\n",
       " ['stock',\n",
       "  'investor',\n",
       "  'employment',\n",
       "  'datum',\n",
       "  'indication',\n",
       "  'inflation',\n",
       "  'pressure',\n",
       "  'asianstockmarket',\n",
       "  'business',\n",
       "  'stock',\n",
       "  'inflation'],\n",
       " ['inflation', 'lockdown', 'whiplash'],\n",
       " ['inflation', 'inflation', 'economy', 'consumer', 'price'],\n",
       " [],\n",
       " ['condition',\n",
       "  'ease',\n",
       "  'basis',\n",
       "  'point',\n",
       "  'fomc',\n",
       "  'meeting',\n",
       "  'statement',\n",
       "  'official'],\n",
       " [],\n",
       " ['skepticism', 'idea', 'dollar'],\n",
       " ['price',\n",
       "  'expectation',\n",
       "  'manufacturing',\n",
       "  'sector',\n",
       "  'service',\n",
       "  'sector',\n",
       "  'revise',\n",
       "  'model',\n",
       "  'show',\n",
       "  'pass',\n",
       "  'producer',\n",
       "  'consumer',\n",
       "  'price',\n",
       "  'inflation'],\n",
       " ['inflation', 'risk', 'overshoot', 'inflation', 'transitory'],\n",
       " [],\n",
       " ['farm',\n",
       "  'payroll',\n",
       "  'job',\n",
       "  'growth',\n",
       "  'meeting',\n",
       "  'oil',\n",
       "  'fall',\n",
       "  'inflation',\n",
       "  'bond',\n",
       "  'yield',\n",
       "  'fall',\n",
       "  'gold',\n",
       "  'rally',\n",
       "  'base',\n",
       "  'metal',\n",
       "  'ev',\n",
       "  'boom'],\n",
       " ['movie',\n",
       "  'cinema',\n",
       "  'theatre',\n",
       "  'trick',\n",
       "  'ticket',\n",
       "  'inflation',\n",
       "  'budget',\n",
       "  'pandemic',\n",
       "  'gt'],\n",
       " ['zoom', 'picture', 'silver', 'inflation'],\n",
       " ['support', 'fraud', 'collapse', 'fraud'],\n",
       " ['trading', 'strength', 'virus', 'fear', 'stock', 'commodity'],\n",
       " ['market', 'play', 'game', 'bitfinex', 'exchange', 'usdt'],\n",
       " ['demonstrate', 'doubt', 'fraud', 'terrorism'],\n",
       " ['stock',\n",
       "  'fall',\n",
       "  'recession',\n",
       "  'inflation',\n",
       "  'debt',\n",
       "  'tax',\n",
       "  'plan',\n",
       "  'floridabuildingcollapse'],\n",
       " ['inflation', 'trader'],\n",
       " ['fall',\n",
       "  'dollar',\n",
       "  'debt',\n",
       "  'stock',\n",
       "  'fall',\n",
       "  'recession',\n",
       "  'inflation',\n",
       "  'debt',\n",
       "  'tax',\n",
       "  'plan',\n",
       "  'fatality'],\n",
       " ['stablecoin', 'risk'],\n",
       " ['food',\n",
       "  'price',\n",
       "  'gasoline',\n",
       "  'price',\n",
       "  'price',\n",
       "  'station',\n",
       "  'hit',\n",
       "  'road',\n",
       "  'gasoline',\n",
       "  'inflation',\n",
       "  'gasoline'],\n",
       " ['heart', 'loss', 'claim', 'state', 'license', 'money', 'prison', 'confine'],\n",
       " ['inflation', 'economy', 'recession', 'fall', 'inflation', 'story'],\n",
       " ['soothsayer', 'investment'],\n",
       " ['term',\n",
       "  'inflation',\n",
       "  'reason',\n",
       "  'rise',\n",
       "  'rate',\n",
       "  'market',\n",
       "  'bubble',\n",
       "  'blowing',\n",
       "  'economy',\n",
       "  'plunge',\n",
       "  'crisis',\n",
       "  'federalreserve'],\n",
       " ['inflation', 'impact', 'trading', 'tune', 'guide', 'opportunity', 'risk'],\n",
       " ['vote', 'cease'],\n",
       " ['price',\n",
       "  'rise',\n",
       "  'investor',\n",
       "  'inflation',\n",
       "  'risk',\n",
       "  'stockmarket',\n",
       "  'worldmarket',\n",
       "  'investor',\n",
       "  'inflation'],\n",
       " ['market',\n",
       "  'investor',\n",
       "  'profit',\n",
       "  'inflation',\n",
       "  'change',\n",
       "  'condition',\n",
       "  'asset',\n",
       "  'class',\n",
       "  'wealth',\n",
       "  'investment'],\n",
       " ['work', 'class'],\n",
       " ['moon'],\n",
       " ['empire'],\n",
       " ['consumer',\n",
       "  'confidence',\n",
       "  'rise',\n",
       "  'consumer',\n",
       "  'optimism',\n",
       "  'hinder',\n",
       "  'employment',\n",
       "  'inflation',\n",
       "  'trading',\n",
       "  'inflation'],\n",
       " [],\n",
       " ['rate',\n",
       "  'hike',\n",
       "  'economy',\n",
       "  'inflation',\n",
       "  'investing',\n",
       "  'realestate',\n",
       "  'interestrate'],\n",
       " ['indictment'],\n",
       " ['bike',\n",
       "  'bicycle',\n",
       "  'oil',\n",
       "  'vegetable',\n",
       "  'drip',\n",
       "  'bjp',\n",
       "  'solution',\n",
       "  'inflation'],\n",
       " ['construction',\n",
       "  'industry',\n",
       "  'period',\n",
       "  'rise',\n",
       "  'cost',\n",
       "  'variety',\n",
       "  'material',\n",
       "  'construction',\n",
       "  'inflation',\n",
       "  'constractor',\n",
       "  'production',\n",
       "  'price'],\n",
       " ['opinion', 'inflatie', 'inflation', 'inflación', 'eurozone'],\n",
       " ['market', 'situation', 'gold', 'inflation', 'money', 'rtltbot'],\n",
       " ['evictionmoratorium',\n",
       "  'economy',\n",
       "  'job',\n",
       "  'place',\n",
       "  'inflation',\n",
       "  'gasprice',\n",
       "  'fact'],\n",
       " ['stablecoin', 'stablecoin'],\n",
       " ['tuesdaymotivation',\n",
       "  'policy',\n",
       "  'bill',\n",
       "  'inflation',\n",
       "  'war',\n",
       "  'rift',\n",
       "  'origin',\n",
       "  'abuse',\n",
       "  'troop',\n",
       "  'attack'],\n",
       " ['money', 'score', 'inflation', 'investment', 'wealth'],\n",
       " ['inflation',\n",
       "  'rate',\n",
       "  'country',\n",
       "  'oil',\n",
       "  'price',\n",
       "  'expectation',\n",
       "  'inflation',\n",
       "  'hold'],\n",
       " ['consumer',\n",
       "  'confidence',\n",
       "  'measure',\n",
       "  'exacerbate',\n",
       "  'fear',\n",
       "  'inflation',\n",
       "  'concern',\n",
       "  'level'],\n",
       " ['head', 'asset', 'hedge', 'inflation'],\n",
       " ['decade'],\n",
       " [],\n",
       " ['inflation', 'permanentinflation'],\n",
       " ['stupidity', 'dislocation'],\n",
       " ['inflation', 'trade', 'inflation', 'money', 'trade'],\n",
       " ['investment'],\n",
       " ['agenda', 'price', 'consumer', 'confidence', 'barkin', 'speak', 'night'],\n",
       " ['response',\n",
       "  'lifting',\n",
       "  'restriction',\n",
       "  'economy',\n",
       "  'consumer',\n",
       "  'engage',\n",
       "  'travel',\n",
       "  'shopping',\n",
       "  'dining',\n",
       "  'inflation',\n",
       "  'dampen',\n",
       "  'enthusiasm',\n",
       "  'degree'],\n",
       " ['agenda', 'price', 'consumer', 'confidence', 'barkin', 'speak', 'night'],\n",
       " ['cash',\n",
       "  'saving',\n",
       "  'form',\n",
       "  'cash',\n",
       "  'money',\n",
       "  'inflation',\n",
       "  'emergency',\n",
       "  'fund',\n",
       "  'rest'],\n",
       " ['level',\n",
       "  'inflation',\n",
       "  'inflation',\n",
       "  'adjust',\n",
       "  'tip',\n",
       "  'note',\n",
       "  'inflation',\n",
       "  'rate',\n",
       "  'level',\n",
       "  'return',\n",
       "  'tip',\n",
       "  'note'],\n",
       " ['inflation', 'target', 'level'],\n",
       " ['baby',\n",
       "  'step',\n",
       "  'direction',\n",
       "  'policy',\n",
       "  'tightening',\n",
       "  'fomc',\n",
       "  'way',\n",
       "  'bond',\n",
       "  'buying',\n",
       "  'program'],\n",
       " ['agenda', 'price', 'consumer', 'confidence', 'barkin', 'speak', 'night'],\n",
       " ['fund',\n",
       "  'rate',\n",
       "  'stock',\n",
       "  'commodity',\n",
       "  'price',\n",
       "  'enact',\n",
       "  'comment',\n",
       "  'market',\n",
       "  'pricing',\n",
       "  'rate',\n",
       "  'basis',\n",
       "  'point'],\n",
       " ['combination', 'inflation', 'term', 'rate'],\n",
       " ['currency',\n",
       "  'analysis',\n",
       "  'question',\n",
       "  'datum',\n",
       "  'trading',\n",
       "  'rkrivofx',\n",
       "  'currency',\n",
       "  'market',\n",
       "  'finance',\n",
       "  'trading',\n",
       "  'usd',\n",
       "  'economy',\n",
       "  'inflation',\n",
       "  'stock'],\n",
       " [],\n",
       " [],\n",
       " ['inflation', 'press', 'concern'],\n",
       " ['decomposition'],\n",
       " ['inflation', 'increase', 'economy', 'price', 'inflation'],\n",
       " ['investor'],\n",
       " ['fear',\n",
       "  'mutate',\n",
       "  'virus',\n",
       "  'recovery',\n",
       "  'toll',\n",
       "  'risk',\n",
       "  'appetite',\n",
       "  'quarter',\n",
       "  'virus',\n",
       "  'risk',\n",
       "  'currency',\n",
       "  'market',\n",
       "  'finance',\n",
       "  'trading',\n",
       "  'usd',\n",
       "  'economy',\n",
       "  'inflation',\n",
       "  'stock'],\n",
       " [],\n",
       " ['school',\n",
       "  'diploma',\n",
       "  'increase',\n",
       "  'college',\n",
       "  'graduate',\n",
       "  'record',\n",
       "  'pressure',\n",
       "  'inflation'],\n",
       " ['investor',\n",
       "  'mix',\n",
       "  'signal',\n",
       "  'policy',\n",
       "  'tightening',\n",
       "  'inflation',\n",
       "  'rate',\n",
       "  'yield',\n",
       "  'job'],\n",
       " ['eye'],\n",
       " ['statement'],\n",
       " ['estate', 'moon'],\n",
       " ['mortgage', 'mbs', 'market'],\n",
       " ['country', 'inflation'],\n",
       " ['hedgefund', 'transfer', 'asset', 'inflation', 'diversify'],\n",
       " ['reporter', 'mortgage', 'rate', 'mortgage', 'security', 'purchase'],\n",
       " ['authorize', 'sign'],\n",
       " ['bubble', 'house'],\n",
       " ['sink', 'nomination'],\n",
       " ['consumerism',\n",
       "  'inflation',\n",
       "  'increase',\n",
       "  'money',\n",
       "  'stock',\n",
       "  'miniscule',\n",
       "  'damage',\n",
       "  'economy',\n",
       "  'taxation',\n",
       "  'print',\n",
       "  'inflation'],\n",
       " ['opposite'],\n",
       " ['report',\n",
       "  'yield',\n",
       "  'inch',\n",
       "  'consumer',\n",
       "  'confidence',\n",
       "  'investing',\n",
       "  'federalreserve'],\n",
       " ['yield', 'inflation', 'datum', 'dollar', 'ground', 'term', 'gold', 'silver'],\n",
       " ['point', 'woman', 'son'],\n",
       " ['image'],\n",
       " ['card', 'plastic', 'metal', 'expiration', 'rest', 'payment', 'fingerprint'],\n",
       " ['datum', 'drive', 'guess', 'estimate'],\n",
       " [],\n",
       " ['weather', 'cashless', 'society', 'coin', 'gold'],\n",
       " ['growth',\n",
       "  'peak',\n",
       "  'inflation',\n",
       "  'recovery',\n",
       "  'drive',\n",
       "  'explosion',\n",
       "  'government',\n",
       "  'finish',\n",
       "  'repeat',\n",
       "  'rate',\n",
       "  'growth',\n",
       "  'peak',\n",
       "  'quarter',\n",
       "  'growth',\n",
       "  'rate',\n",
       "  'inflation'],\n",
       " [],\n",
       " ['housing',\n",
       "  'inflation',\n",
       "  'rent',\n",
       "  'land',\n",
       "  'economist',\n",
       "  'skyrocket',\n",
       "  'price',\n",
       "  'transitor',\n",
       "  'car',\n",
       "  'cricket'],\n",
       " ['limit',\n",
       "  'earth',\n",
       "  'recommendation',\n",
       "  'flow',\n",
       "  'panic',\n",
       "  'mining',\n",
       "  'regulate',\n",
       "  'calling',\n",
       "  'felon'],\n",
       " ['stablecoin', 'fear', 'report'],\n",
       " ['condemn', 'inflation'],\n",
       " ['woman', 'mortgage', 'security', 'mbs'],\n",
       " ['inflation', 'money', 'supply', 'point', 'misdirection', 'moment'],\n",
       " ['banking', 'tech'],\n",
       " ['inflation',\n",
       "  'impact',\n",
       "  'trading',\n",
       "  'tune',\n",
       "  'minute',\n",
       "  'guide',\n",
       "  'opportunity',\n",
       "  'risk'],\n",
       " ['stooge'],\n",
       " ['internet'],\n",
       " [],\n",
       " ['image'],\n",
       " ['term',\n",
       "  'inflation',\n",
       "  'base',\n",
       "  'drive',\n",
       "  'headline',\n",
       "  'inflation',\n",
       "  'sign',\n",
       "  'peak',\n",
       "  'model',\n",
       "  'predict',\n",
       "  'rise',\n",
       "  'core',\n",
       "  'price',\n",
       "  'accelerate',\n",
       "  'economy',\n",
       "  'macro'],\n",
       " ['money', 'inflation'],\n",
       " ['maoist'],\n",
       " ['establishment',\n",
       "  'management',\n",
       "  'flame',\n",
       "  'box',\n",
       "  'mystery',\n",
       "  'meat',\n",
       "  'chip',\n",
       "  'cost',\n",
       "  'inflation'],\n",
       " ['return'],\n",
       " [],\n",
       " ['sense',\n",
       "  'fomc',\n",
       "  'trading',\n",
       "  'write',\n",
       "  'security',\n",
       "  'fomc',\n",
       "  'raise',\n",
       "  'dividend',\n",
       "  'lead',\n",
       "  'pack'],\n",
       " ['pant', 'crypto'],\n",
       " ['bellyexpansion', 'inflation'],\n",
       " ['inflation', 'transitory'],\n",
       " ['cash', 'transfer', 'baby'],\n",
       " ['portion', 'tune', 'mark', 'help'],\n",
       " ['response',\n",
       "  'lifting',\n",
       "  'restriction',\n",
       "  'economy',\n",
       "  'consumer',\n",
       "  'engage',\n",
       "  'travel',\n",
       "  'shopping',\n",
       "  'dining',\n",
       "  'inflation',\n",
       "  'dampen',\n",
       "  'enthusiasm',\n",
       "  'degree'],\n",
       " [],\n",
       " ['number', 'inflation', 'doubt', 'market'],\n",
       " ['inflation'],\n",
       " ['bubble', 'commentary', 'price', 'inflation', 'cryptoart'],\n",
       " ['request',\n",
       "  'government',\n",
       "  'inflation',\n",
       "  'consumer',\n",
       "  'saving',\n",
       "  'struggle',\n",
       "  'lessjobs',\n",
       "  'economy'],\n",
       " ['response',\n",
       "  'lifting',\n",
       "  'restriction',\n",
       "  'economy',\n",
       "  'consumer',\n",
       "  'engage',\n",
       "  'travel',\n",
       "  'shopping',\n",
       "  'dining',\n",
       "  'inflation',\n",
       "  'dampen',\n",
       "  'enthusiasm',\n",
       "  'degree'],\n",
       " ['inflation'],\n",
       " ['security', 'exercise', 'market'],\n",
       " ['ability', 'price', 'market', 'inflation', 'stimulus'],\n",
       " ['cycle',\n",
       "  'credit',\n",
       "  'condition',\n",
       "  'cycle',\n",
       "  'fix',\n",
       "  'income',\n",
       "  'valuation',\n",
       "  'midyear',\n",
       "  'fix',\n",
       "  'income',\n",
       "  'outlook',\n",
       "  'bond',\n",
       "  'fixedincome',\n",
       "  'coronavirus',\n",
       "  'inflation'],\n",
       " ['price', 'fall', 'print', 'gold', 'silver'],\n",
       " ['inflation', 'rate'],\n",
       " ['fixture', 'capital', 'market', 'debt', 'instrument', 'nail'],\n",
       " ['price',\n",
       "  'purchase',\n",
       "  'rise',\n",
       "  'talk',\n",
       "  'inflation',\n",
       "  'podcast',\n",
       "  'click',\n",
       "  'inflation',\n",
       "  'stockmarket'],\n",
       " ['shame', 'bidding'],\n",
       " ['increase', 'fill', 'position', 'xglobalmarket', 'inflation', 'feed'],\n",
       " ['curve', 'class', 'economy', 'inflation'],\n",
       " ['pant'],\n",
       " ['mortgage', 'banker', 'supply', 'occupant', 'valuation', 'raise', 'gfee'],\n",
       " ['inflation',\n",
       "  'article',\n",
       "  'inflation',\n",
       "  'price',\n",
       "  'rate',\n",
       "  'brexit',\n",
       "  'wage',\n",
       "  'rate',\n",
       "  'growth',\n",
       "  'debt',\n",
       "  'price',\n",
       "  'asset',\n",
       "  'market',\n",
       "  'interestrate',\n",
       "  'economy',\n",
       "  'bond',\n",
       "  'recession',\n",
       "  'investment',\n",
       "  'realestate',\n",
       "  'market',\n",
       "  'finance'],\n",
       " ['inflation', 'foodstuff'],\n",
       " ['eye', 'gage', 'vx', 'bond', 'inflation', 'economy', 'vlo'],\n",
       " ['response',\n",
       "  'lifting',\n",
       "  'restriction',\n",
       "  'economy',\n",
       "  'consumer',\n",
       "  'engage',\n",
       "  'travel',\n",
       "  'shopping',\n",
       "  'dining',\n",
       "  'inflation',\n",
       "  'dampen',\n",
       "  'enthusiasm',\n",
       "  'degree'],\n",
       " [],\n",
       " ['design'],\n",
       " ['economy'],\n",
       " ['hate', 'care'],\n",
       " ['failure', 'management', 'investor', 'trip', 'risk'],\n",
       " [],\n",
       " ['market', 'inflation', 'century'],\n",
       " ['percentage', 'pay', 'country', 'president', 'level', 'tax'],\n",
       " ['debt',\n",
       "  'bubble',\n",
       "  'junk',\n",
       "  'yield',\n",
       "  'divorce',\n",
       "  'semblance',\n",
       "  'reality',\n",
       "  'debt',\n",
       "  'yield',\n",
       "  'destruction',\n",
       "  'loot',\n",
       "  'formation',\n",
       "  'engineering',\n",
       "  'layoff',\n",
       "  'job',\n",
       "  'policy'],\n",
       " ['supply', 'inflation', 'retreat', 'inflation'],\n",
       " ['thrill', 'guess'],\n",
       " ['bank', 'money', 'risk', 'discipline', 'loan', 'assure', 'loan', 'pay'],\n",
       " ['investing',\n",
       "  'focus',\n",
       "  'term',\n",
       "  'fact',\n",
       "  'endure',\n",
       "  'condition',\n",
       "  'inflation',\n",
       "  'investing',\n",
       "  'blog'],\n",
       " ['investor', 'currency', 'commodity'],\n",
       " ['icymi',\n",
       "  'hike',\n",
       "  'rate',\n",
       "  'rescue',\n",
       "  'money',\n",
       "  'market',\n",
       "  'fund',\n",
       "  'rate',\n",
       "  'call',\n",
       "  'wit'],\n",
       " [],\n",
       " ['inflation', 'raise', 'rate'],\n",
       " ['joke', 'love', 'biden', 'work'],\n",
       " ['gold',\n",
       "  'ratio',\n",
       "  'gold',\n",
       "  'silver',\n",
       "  'term',\n",
       "  'encourage',\n",
       "  'inflation',\n",
       "  'autumn'],\n",
       " ['member', 'policy', 'work', 'rate', 'bind', 'inflation'],\n",
       " ['price', 'price', 'surge', 'rate', 'case', 'shiller'],\n",
       " ['inflation'],\n",
       " ['music', 'music', 'lover', 'inflation', 'rowle', 'blacklivesmatter'],\n",
       " ['institution',\n",
       "  'majority',\n",
       "  'family',\n",
       "  'home',\n",
       "  'price',\n",
       "  'rate',\n",
       "  'case',\n",
       "  'shiller'],\n",
       " [],\n",
       " ['quarter',\n",
       "  'point',\n",
       "  'growth',\n",
       "  'inflation',\n",
       "  'xglobalmarket',\n",
       "  'inflation',\n",
       "  'feed'],\n",
       " ['music',\n",
       "  'video',\n",
       "  'promotion',\n",
       "  'audience',\n",
       "  'inflation',\n",
       "  'rowle',\n",
       "  'blacklivesmatter',\n",
       "  'rowling'],\n",
       " ['price',\n",
       "  'push',\n",
       "  'supply',\n",
       "  'chain',\n",
       "  'problem',\n",
       "  'pricing',\n",
       "  'condition',\n",
       "  'federalreserve'],\n",
       " ['work'],\n",
       " ['job', 'buy', 'price', 'inflation', 'criminal'],\n",
       " ['question',\n",
       "  'condition',\n",
       "  'change',\n",
       "  'business',\n",
       "  'alter',\n",
       "  'aversion',\n",
       "  'price',\n",
       "  'barkin',\n",
       "  'federalreserve'],\n",
       " ['investor', 'indifferent', 'prepayment', 'loss', 'emphasis'],\n",
       " ['hip',\n",
       "  'hop',\n",
       "  'edm',\n",
       "  'music',\n",
       "  'audience',\n",
       "  'inflation',\n",
       "  'rowle',\n",
       "  'blacklivesmatter',\n",
       "  'rowling'],\n",
       " ['criticalracetheory', 'africanqueen'],\n",
       " ['work'],\n",
       " ['patreon', 'audience', 'inflation', 'rowle', 'blacklivesmatter', 'rowling'],\n",
       " ['pricing', 'retailer', 'shopping', 'globalization', 'federalreserve'],\n",
       " [],\n",
       " [],\n",
       " ['traffic', 'inflation', 'rowle', 'blacklivesmatter'],\n",
       " ['voice', 'idea', 'insight', 'job', 'child', 'support', 'dick'],\n",
       " ['inflation',\n",
       "  'wealth',\n",
       "  'transfer',\n",
       "  'lender',\n",
       "  'professor',\n",
       "  'faculty',\n",
       "  'director'],\n",
       " ['music', 'music', 'lover', 'inflation', 'rowle', 'blacklivesmatter'],\n",
       " ['inflation', 'handle'],\n",
       " ['punt',\n",
       "  'comment',\n",
       "  'stuff',\n",
       "  'usdc',\n",
       "  'transparency',\n",
       "  'issue',\n",
       "  'binance',\n",
       "  'trust'],\n",
       " ['flattening',\n",
       "  'yield',\n",
       "  'curve',\n",
       "  'compare',\n",
       "  'inflation',\n",
       "  'inflation',\n",
       "  'market',\n",
       "  'rate',\n",
       "  'hawks'],\n",
       " [],\n",
       " [],\n",
       " ['debt'],\n",
       " ['music', 'night', 'life', 'inflation', 'rowle', 'blacklivesmatter'],\n",
       " ['debt'],\n",
       " ['change', 'inflation', 'rowle', 'blacklivesmatter'],\n",
       " ['country', 'coin', 'step', 'eye', 'money'],\n",
       " ['boi'],\n",
       " ['housing',\n",
       "  'market',\n",
       "  'update',\n",
       "  'market',\n",
       "  'watch',\n",
       "  'boom',\n",
       "  'bust',\n",
       "  'market',\n",
       "  'housingboom',\n",
       "  'thefe',\n",
       "  'screeneze'],\n",
       " ['invitation',\n",
       "  'trading',\n",
       "  'community',\n",
       "  'asset',\n",
       "  'class',\n",
       "  'stock',\n",
       "  'option',\n",
       "  'follow',\n",
       "  'trade',\n",
       "  'opportunity',\n",
       "  'tradephantom',\n",
       "  'trade',\n",
       "  'stock',\n",
       "  'option',\n",
       "  'forex',\n",
       "  'trader',\n",
       "  'tradesignal',\n",
       "  'inflation'],\n",
       " ['inflation', 'risingrent', 'problem', 'decade'],\n",
       " ['music',\n",
       "  'food',\n",
       "  'love',\n",
       "  'surfeiting',\n",
       "  'inflation',\n",
       "  'rowle',\n",
       "  'blacklivesmatter'],\n",
       " ['charge', 'money'],\n",
       " ['race', 'history', 'future'],\n",
       " ['work'],\n",
       " ['politician', 'inflation', 'watch'],\n",
       " [],\n",
       " ['ass'],\n",
       " ['inflation', 'bond', 'price', 'gain', 'increase', 'price'],\n",
       " ['inflation', 'rowling'],\n",
       " ['taper',\n",
       "  'employment',\n",
       "  'xglobalmarket',\n",
       "  'inflation',\n",
       "  'economy',\n",
       "  'employment'],\n",
       " ['policy',\n",
       "  'reason',\n",
       "  'inflation',\n",
       "  'burn',\n",
       "  'price',\n",
       "  'surge',\n",
       "  'monetarypolicy',\n",
       "  'structure'],\n",
       " ['development', 'fundamental', 'update', 'oil', 'gold', 'fomc'],\n",
       " [],\n",
       " ['job',\n",
       "  'payroll',\n",
       "  'figure',\n",
       "  'rise',\n",
       "  'outcome',\n",
       "  'base',\n",
       "  'progress',\n",
       "  'employment',\n",
       "  'inflation',\n",
       "  'federalreserve'],\n",
       " ['case', 'price', 'pace', 'price', 'inflation', 'record', 'inflation'],\n",
       " ['inflation', 'rowling', 'blacklivesmatter'],\n",
       " [],\n",
       " ['uncertainty', 'economy', 'hotter', 'federalreserve'],\n",
       " ['policy',\n",
       "  'shift',\n",
       "  'communicate',\n",
       "  'prefer',\n",
       "  'drama',\n",
       "  'barkin',\n",
       "  'federalreserve'],\n",
       " ['definition', 'progress'],\n",
       " ['channel', 'viewer', 'inflation', 'rowle', 'blacklivesmatter'],\n",
       " ['market', 'mess'],\n",
       " ['sequencing',\n",
       "  'taper',\n",
       "  'rate',\n",
       "  'rise',\n",
       "  'condition',\n",
       "  'outcome',\n",
       "  'flexibility',\n",
       "  'federalreserve'],\n",
       " ['fall',\n",
       "  'dollar',\n",
       "  'debt',\n",
       "  'stock',\n",
       "  'fall',\n",
       "  'recession',\n",
       "  'inflation',\n",
       "  'debt',\n",
       "  'tax',\n",
       "  'plan',\n",
       "  'fatality'],\n",
       " [],\n",
       " ['child', 'promotion', 'reader', 'inflation', 'rowle', 'blacklivesmatter'],\n",
       " ['increase', 'subscriber', 'inflation', 'rowle', 'blacklivesmatter'],\n",
       " ['response', 'era', 'policy', 'inflation', 'macroeconomic'],\n",
       " ['price', 'inflation', 'economicrecovery', 'oilprice'],\n",
       " ['situation', 'mandate', 'band', 'growth', 'brokerage'],\n",
       " ['marketing',\n",
       "  'promotion',\n",
       "  'audience',\n",
       "  'inflation',\n",
       "  'rowle',\n",
       "  'blacklivesmatter'],\n",
       " [],\n",
       " ['inflation', 'inflation', 'bitcoinfixesthis'],\n",
       " ['promotion',\n",
       "  'audience',\n",
       "  'inflation',\n",
       "  'rowle',\n",
       "  'blacklivesmatter',\n",
       "  'rowling'],\n",
       " ['music',\n",
       "  'promotion',\n",
       "  'rise',\n",
       "  'listening',\n",
       "  'inflation',\n",
       "  'rowle',\n",
       "  'blacklivesmatter'],\n",
       " ['inflation', 'supply', 'chain', 'delay', 'challenge', 'inflation'],\n",
       " ['money', 'inflation'],\n",
       " ['spending', 'pay', 'investment', 'stuff', 'pay', 'federalreserve'],\n",
       " ['case', 'inflation', 'inflation'],\n",
       " ['stimulus', 'boost', 'barkin', 'federalreserve'],\n",
       " ['collapse',\n",
       "  'dollar',\n",
       "  'debt',\n",
       "  'stock',\n",
       "  'fall',\n",
       "  'recession',\n",
       "  'inflation',\n",
       "  'debt',\n",
       "  'tax',\n",
       "  'plan',\n",
       "  'fatality'],\n",
       " ['growth',\n",
       "  'inflation',\n",
       "  'hike',\n",
       "  'rate',\n",
       "  'report',\n",
       "  'rbi',\n",
       "  'centralbank',\n",
       "  'inflation'],\n",
       " ['discipline',\n",
       "  'exercise',\n",
       "  'match',\n",
       "  'policy',\n",
       "  'forecast',\n",
       "  'colleague',\n",
       "  'dot',\n",
       "  'federalreserve'],\n",
       " ['money', 'throw', 'sea', 'money'],\n",
       " ['stock',\n",
       "  'raise',\n",
       "  'dividend',\n",
       "  'update',\n",
       "  'mannarino',\n",
       "  'crypto',\n",
       "  'trading',\n",
       "  'ban',\n",
       "  'market',\n",
       "  'inflation',\n",
       "  'centralbank',\n",
       "  'buy'],\n",
       " ['purpose',\n",
       "  'core',\n",
       "  'consolidation',\n",
       "  'mechanism',\n",
       "  'design',\n",
       "  'advance',\n",
       "  'goal'],\n",
       " ['price',\n",
       "  'case',\n",
       "  'shiller',\n",
       "  'call',\n",
       "  'reaction',\n",
       "  'transitory',\n",
       "  'recession',\n",
       "  'prompt',\n",
       "  'housing',\n",
       "  'sector'],\n",
       " ['price', 'surge', 'inflation'],\n",
       " ['company',\n",
       "  'price',\n",
       "  'inflation',\n",
       "  'surge',\n",
       "  'company',\n",
       "  'pass',\n",
       "  'rise',\n",
       "  'commodity',\n",
       "  'cost',\n",
       "  'consumer'],\n",
       " [],\n",
       " ['case', 'pace', 'case', 'charlesrutenbergrealty', 'realtor'],\n",
       " ['concern',\n",
       "  'address',\n",
       "  'product',\n",
       "  'strain',\n",
       "  'way',\n",
       "  'concern',\n",
       "  'raise',\n",
       "  'term',\n",
       "  'spera',\n",
       "  'stablecoin'],\n",
       " ['economy',\n",
       "  'feed',\n",
       "  'sideline',\n",
       "  'job',\n",
       "  'market',\n",
       "  'xglobalmarket',\n",
       "  'inflation',\n",
       "  'feed',\n",
       "  'economy'],\n",
       " ['spy', 'recession', 'history', 'theory', 'stem'],\n",
       " ['compensation',\n",
       "  'employee',\n",
       "  'fall',\n",
       "  'household',\n",
       "  'income',\n",
       "  'decline',\n",
       "  'government',\n",
       "  'transfer',\n",
       "  'compensate',\n",
       "  'loss',\n",
       "  'income',\n",
       "  'xglobalmarket',\n",
       "  'inflation',\n",
       "  'economy'],\n",
       " ['cycling',\n",
       "  'advise',\n",
       "  'guru',\n",
       "  'misery',\n",
       "  'unemployment',\n",
       "  'inflation',\n",
       "  'मोदीहैतोबर्बादीहै'],\n",
       " ['force', 'federalreserve'],\n",
       " ['inflation', 'tbf', 'tbt'],\n",
       " ['stability'],\n",
       " ['stability', 'risk', 'leverage', 'barkin', 'federalreserve'],\n",
       " ['juice',\n",
       "  'supply',\n",
       "  'taxpayer',\n",
       "  'cash',\n",
       "  'rate',\n",
       "  'suppression',\n",
       "  'policy',\n",
       "  'stock',\n",
       "  'market',\n",
       "  'travel',\n",
       "  'nosebleedvaluation'],\n",
       " ['inflation', 'inflation', 'work'],\n",
       " ['government',\n",
       "  'organise',\n",
       "  'crime',\n",
       "  'syndicate',\n",
       "  'sense',\n",
       "  'decepticon',\n",
       "  'inflation',\n",
       "  'extortion'],\n",
       " ['figure', 'attempt', 'downplay', 'inflation'],\n",
       " ['report',\n",
       "  'issue',\n",
       "  'pick',\n",
       "  'article',\n",
       "  'stock',\n",
       "  'market',\n",
       "  'action',\n",
       "  'stock',\n",
       "  'inflation',\n",
       "  'sevensreport'],\n",
       " ['note',\n",
       "  'combination',\n",
       "  'mortgage',\n",
       "  'rate',\n",
       "  'surge',\n",
       "  'price',\n",
       "  'regulator',\n",
       "  'housing',\n",
       "  'sector'],\n",
       " ['forbearance', 'inflation', 'post'],\n",
       " ['program'],\n",
       " ['inflation',\n",
       "  'message',\n",
       "  'test',\n",
       "  'polling',\n",
       "  'publicpolicy',\n",
       "  'inflation',\n",
       "  'marketresearch'],\n",
       " ['retiree', 'inflation', 'money', 'budget', 'retiree', 'adcockrental'],\n",
       " ['mortgage'],\n",
       " ['impact', 'cost', 'earth', 'commodity', 'inflation', 'scare'],\n",
       " ['inflation', 'problem', 'inflation'],\n",
       " ['trade',\n",
       "  'money',\n",
       "  'spy',\n",
       "  'increase',\n",
       "  'inflation',\n",
       "  'bubble',\n",
       "  'money',\n",
       "  'crypto',\n",
       "  'dollar'],\n",
       " ['estate',\n",
       "  'portfolio',\n",
       "  'building',\n",
       "  'equity',\n",
       "  'bond',\n",
       "  'inflation',\n",
       "  'hedge',\n",
       "  'investor',\n",
       "  'manage',\n",
       "  'privateasset',\n",
       "  'complexity',\n",
       "  'premium'],\n",
       " ['generate',\n",
       "  'commodity',\n",
       "  'supercycle',\n",
       "  'firm',\n",
       "  'capture',\n",
       "  'move',\n",
       "  'trade',\n",
       "  'talk',\n",
       "  'inflation',\n",
       "  'managedfuture',\n",
       "  'bitcoin'],\n",
       " ['inflation', 'gold', 'hedge', 'usinflation', 'silver'],\n",
       " ['stockbubblemanager'],\n",
       " ['consumer', 'inflation', 'rate', 'expectation', 'inflation'],\n",
       " ['condition',\n",
       "  'expectation',\n",
       "  'job',\n",
       "  'bounce',\n",
       "  'number',\n",
       "  'inflation',\n",
       "  'expectation',\n",
       "  'eurozone',\n",
       "  'usd'],\n",
       " ['inflation', 'scarcity', 'supply', 'chain', 'loom'],\n",
       " ['hyperinflation', 'governor', 'core'],\n",
       " ['account', 'promise', 'slam', 'gold'],\n",
       " ['supply', 'chain', 'bottleneck', 'inflation', 'transitory'],\n",
       " ['rent',\n",
       "  'inflation',\n",
       "  'transitory',\n",
       "  'project',\n",
       "  'money',\n",
       "  'mortgage',\n",
       "  'economy',\n",
       "  'creditscore',\n",
       "  'realtor'],\n",
       " ['policy', 'analyst', 'applynow'],\n",
       " ['consumer',\n",
       "  'confidence',\n",
       "  'report',\n",
       "  'inflation',\n",
       "  'expectation',\n",
       "  'dent',\n",
       "  'purchase',\n",
       "  'plan'],\n",
       " [],\n",
       " ['father'],\n",
       " ['market', 'project', 'volatility', 'slowdown', 'project'],\n",
       " ['energy', 'break'],\n",
       " ['housing',\n",
       "  'bubble',\n",
       "  'inflation',\n",
       "  'price',\n",
       "  'rise',\n",
       "  'inventory',\n",
       "  'demand',\n",
       "  'money',\n",
       "  'supply',\n",
       "  'collapse',\n",
       "  'housing',\n",
       "  'situation'],\n",
       " ['trade', 'push', 'economy', 'point', 'unsustainability'],\n",
       " ['trade', 'company', 'review'],\n",
       " ['mind'],\n",
       " ['metal',\n",
       "  'inflation',\n",
       "  'oil',\n",
       "  'erase',\n",
       "  'deal',\n",
       "  'setback',\n",
       "  'strength',\n",
       "  'strength',\n",
       "  'detail'],\n",
       " [],\n",
       " ['hair', 'decrease', 'buck'],\n",
       " ['dollar'],\n",
       " ['trade', 'company', 'review'],\n",
       " ['country', 'shareholder', 'gofigure'],\n",
       " ['market',\n",
       "  'correction',\n",
       "  'slowdown',\n",
       "  'trigger',\n",
       "  'recession',\n",
       "  'job',\n",
       "  'outpace',\n",
       "  'growth'],\n",
       " ['credit',\n",
       "  'contraction',\n",
       "  'crisis',\n",
       "  'bottleneck',\n",
       "  'inventory',\n",
       "  'work',\n",
       "  'print',\n",
       "  'money',\n",
       "  'inflation',\n",
       "  'lending'],\n",
       " ['money', 'rate', 'mortgage', 'bond', 'buying', 'yield', 'asset', 'cost'],\n",
       " [],\n",
       " ['stimulus', 'tool', 'growth'],\n",
       " ['collapse',\n",
       "  'dollar',\n",
       "  'debt',\n",
       "  'stock',\n",
       "  'fall',\n",
       "  'recession',\n",
       "  'inflation',\n",
       "  'debt',\n",
       "  'tax',\n",
       "  'plan',\n",
       "  'fatality'],\n",
       " ['ability', 'governor', 'spotlight', 'governor', 'member'],\n",
       " ['raise', 'debt', 'ceiling', 'spending', 'debt'],\n",
       " ['inflation', 'mortgage', 'bond', 'realestate', 'mortgagenew'],\n",
       " ['collapse',\n",
       "  'dollar',\n",
       "  'debt',\n",
       "  'stock',\n",
       "  'fall',\n",
       "  'recession',\n",
       "  'tax',\n",
       "  'plan',\n",
       "  'fatality'],\n",
       " ['inflation'],\n",
       " ['anxiety', 'solution', 'heart', 'love', 'inflation'],\n",
       " ['stress', 'test', 'stage', 'payout'],\n",
       " ['mind', 'price', 'pace', 'estate', 'price', 'transitory'],\n",
       " ['consumer',\n",
       "  'confidence',\n",
       "  'situation',\n",
       "  'employment',\n",
       "  'optimism',\n",
       "  'firm',\n",
       "  'expectation',\n",
       "  'inflation',\n",
       "  'expectation',\n",
       "  'impact',\n",
       "  'confidence'],\n",
       " ['bond', 'mortgage', 'security', 'economy', 'smallbusinesse', 'drown', 'ppp'],\n",
       " ['radar', 'trend', 'investor', 'relief', 'inflation', 'fear'],\n",
       " ['price', 'rise', 'pace', 'price', 'inflation', 'record', 'source'],\n",
       " ['gold',\n",
       "  'stock',\n",
       "  'trade',\n",
       "  'trading',\n",
       "  'silversqueeze',\n",
       "  'investment',\n",
       "  'investor',\n",
       "  'inflation',\n",
       "  'stock'],\n",
       " ['gold',\n",
       "  'stock',\n",
       "  'trade',\n",
       "  'trading',\n",
       "  'silversqueeze',\n",
       "  'investment',\n",
       "  'investor',\n",
       "  'inflation'],\n",
       " ['inflation', 'amount', 'wealth', 'cash', 'read'],\n",
       " ['drug', 'economy', 'increase', 'inflation', 'moneytalk'],\n",
       " ['price',\n",
       "  'analysis',\n",
       "  'scenario',\n",
       "  'bitcoin',\n",
       "  'gold',\n",
       "  'inflation',\n",
       "  'term',\n",
       "  'decade'],\n",
       " ['bottle', 'inflation'],\n",
       " ['datum',\n",
       "  'tue',\n",
       "  'consumer',\n",
       "  'confidence',\n",
       "  'adp',\n",
       "  'process',\n",
       "  'employment',\n",
       "  'report',\n",
       "  'claim',\n",
       "  'employment',\n",
       "  'situation',\n",
       "  'factory',\n",
       "  'order'],\n",
       " ['heatingoil', 'price', 'winter', 'inflation'],\n",
       " ['inflation', 'progress', 'xglobalmarket', 'inflation', 'feed', 'economy'],\n",
       " [],\n",
       " ['inflation',\n",
       "  'tin',\n",
       "  'tomato',\n",
       "  'dearer',\n",
       "  'combine',\n",
       "  'cost',\n",
       "  'stir',\n",
       "  'labourmarket',\n",
       "  'shortage',\n",
       "  'twist',\n",
       "  'brexit',\n",
       "  'weather',\n",
       "  'voila',\n",
       "  'business',\n",
       "  'food'],\n",
       " ['color', 'icon'],\n",
       " ['agitator',\n",
       "  'investment',\n",
       "  'adviser',\n",
       "  'cheat',\n",
       "  'investment',\n",
       "  'reality',\n",
       "  'loss'],\n",
       " ['note', 'metal', 'level', 'view', 'inflation', 'follow'],\n",
       " ['price',\n",
       "  'mom',\n",
       "  'inflation',\n",
       "  'transitory',\n",
       "  'realestate',\n",
       "  'reit',\n",
       "  'inflation'],\n",
       " ['junk',\n",
       "  'bond',\n",
       "  'yield',\n",
       "  'account',\n",
       "  'coinbase',\n",
       "  'coin',\n",
       "  'coinbase',\n",
       "  'license'],\n",
       " ['period',\n",
       "  'dividend',\n",
       "  'pay',\n",
       "  'stock',\n",
       "  'offer',\n",
       "  'buffer',\n",
       "  'growth',\n",
       "  'stock',\n",
       "  'debt',\n",
       "  'cash',\n",
       "  'hand',\n",
       "  'bond',\n",
       "  'stock',\n",
       "  'inflation'],\n",
       " ['bull', 'market', 'asset'],\n",
       " ['technology',\n",
       "  'compliance',\n",
       "  'practice',\n",
       "  'requirement',\n",
       "  'fedline',\n",
       "  'solution',\n",
       "  'program'],\n",
       " ['price',\n",
       "  'quantity',\n",
       "  'price',\n",
       "  'trading',\n",
       "  'platform',\n",
       "  'wallet',\n",
       "  'payment',\n",
       "  'method',\n",
       "  'mainstream',\n",
       "  'method',\n",
       "  'pay',\n",
       "  'contact',\n",
       "  'whatsapp'],\n",
       " [],\n",
       " ['inflation', 'hurt', 'economy', 'bank'],\n",
       " ['job'],\n",
       " ['housing',\n",
       "  'policy',\n",
       "  'joke',\n",
       "  'wealth',\n",
       "  'gap',\n",
       "  'creation',\n",
       "  'stock',\n",
       "  'market',\n",
       "  'nonsense'],\n",
       " ['fedhistory'],\n",
       " ['employment',\n",
       "  'figure',\n",
       "  'barkin',\n",
       "  'work',\n",
       "  'xglobalmarket',\n",
       "  'inflation',\n",
       "  'growth'],\n",
       " [],\n",
       " ['video',\n",
       "  'economy',\n",
       "  'housing',\n",
       "  'market',\n",
       "  'economist',\n",
       "  'banking',\n",
       "  'bond',\n",
       "  'feed',\n",
       "  'federalreserve',\n",
       "  'inflation'],\n",
       " ['business', 'economy', 'place'],\n",
       " ['bank', 'swap', 'line'],\n",
       " ['excitement', 'inflation', 'rate', 'economy'],\n",
       " ['inflation', 'reason', 'rate', 'fxe', 'uup'],\n",
       " ['inflation',\n",
       "  'term',\n",
       "  'phenomenon',\n",
       "  'reality',\n",
       "  'company',\n",
       "  'precision',\n",
       "  'strategy',\n",
       "  'pricing',\n",
       "  'pressure'],\n",
       " ['chart',\n",
       "  'face',\n",
       "  'speculation',\n",
       "  'cheatcode',\n",
       "  'correction',\n",
       "  'inflation',\n",
       "  'gold',\n",
       "  'silversqueeze'],\n",
       " ['confidence'],\n",
       " ['event', 'inflation'],\n",
       " ['concern'],\n",
       " ['level', 'contempt'],\n",
       " ['inflation',\n",
       "  'catalog',\n",
       "  'price',\n",
       "  'update',\n",
       "  'manufacturer',\n",
       "  'work',\n",
       "  'price',\n",
       "  'ecb',\n",
       "  'inflation',\n",
       "  'manufacturer',\n",
       "  'price'],\n",
       " ['consumer',\n",
       "  'confidence',\n",
       "  'inflation',\n",
       "  'expectation',\n",
       "  'rise',\n",
       "  'doubt',\n",
       "  'government',\n",
       "  'spending'],\n",
       " ['rate',\n",
       "  'debt',\n",
       "  'record',\n",
       "  'economy',\n",
       "  'stock',\n",
       "  'market',\n",
       "  'ride',\n",
       "  'flow',\n",
       "  'money',\n",
       "  'inflation',\n",
       "  'rate',\n",
       "  'debt',\n",
       "  'inflation',\n",
       "  'debt',\n",
       "  'interestrate'],\n",
       " ['cathie',\n",
       "  'wood',\n",
       "  'dollar',\n",
       "  'gain',\n",
       "  'increase',\n",
       "  'yield',\n",
       "  'concern',\n",
       "  'inflation',\n",
       "  'federalreserve',\n",
       "  'measure',\n",
       "  'price',\n",
       "  'rise',\n",
       "  'meet',\n",
       "  'expectation'],\n",
       " ['parent', 'inflation'],\n",
       " ['pass', 'help', 'piece', 'legislation'],\n",
       " ['pain'],\n",
       " ['restriction', 'tool'],\n",
       " ['job', 'expense', 'employ', 'rock'],\n",
       " ['leverage', 'fedballoon', 'bubblemanager'],\n",
       " [],\n",
       " ['energy', 'cost', 'inflation', 'crime', 'job', 'moron'],\n",
       " ['inflation',\n",
       "  'condition',\n",
       "  'lever',\n",
       "  'economy',\n",
       "  'rate',\n",
       "  'target',\n",
       "  'card',\n",
       "  'wage',\n",
       "  'rate',\n",
       "  'fwn'],\n",
       " ['parameter',\n",
       "  'peak',\n",
       "  'commoditie',\n",
       "  'inflation',\n",
       "  'equity',\n",
       "  'estate',\n",
       "  'spread',\n",
       "  'level',\n",
       "  'equity',\n",
       "  'inflation'],\n",
       " ['condition',\n",
       "  'hike',\n",
       "  'rate',\n",
       "  'feed',\n",
       "  'barkin',\n",
       "  'circumstance',\n",
       "  'raise',\n",
       "  'rate',\n",
       "  'xglobalmarket',\n",
       "  'inflation',\n",
       "  'growth'],\n",
       " ['security', 'church'],\n",
       " ['collapse',\n",
       "  'dollar',\n",
       "  'debt',\n",
       "  'stock',\n",
       "  'fall',\n",
       "  'recession',\n",
       "  'tax',\n",
       "  'plan',\n",
       "  'fatality'],\n",
       " ['minority',\n",
       "  'comment',\n",
       "  'policy',\n",
       "  'trill',\n",
       "  'wealth',\n",
       "  'guessing',\n",
       "  'response',\n",
       "  'shill'],\n",
       " ['budget', 'rise', 'interestrate', 'start', 'liquidity', 'analysis'],\n",
       " ['ball', 'debt', 'inflation', 'wealth', 'eye'],\n",
       " ['downtrend', 'break', 'head', 'cycle', 'cycle', 'gold', 'silver'],\n",
       " ['smoke', 'mirror', 'inflation'],\n",
       " ['theme',\n",
       "  'inflation',\n",
       "  'investment',\n",
       "  'growth',\n",
       "  'cash',\n",
       "  'click',\n",
       "  'link',\n",
       "  'inflation',\n",
       "  'ghanaianeconomy',\n",
       "  'investment',\n",
       "  'money',\n",
       "  'financialsecuirity'],\n",
       " ['consumer',\n",
       "  'price',\n",
       "  'report',\n",
       "  'percent',\n",
       "  'voter',\n",
       "  'concern',\n",
       "  'price',\n",
       "  'increase',\n",
       "  'polling',\n",
       "  'inflation'],\n",
       " ['stock',\n",
       "  'adult',\n",
       "  'life',\n",
       "  'stock',\n",
       "  'market',\n",
       "  'mind',\n",
       "  'blow',\n",
       "  'face',\n",
       "  'market',\n",
       "  'manipulation',\n",
       "  'crash',\n",
       "  'stand'],\n",
       " ['inflation', 'framework'],\n",
       " ['opinion', 'building'],\n",
       " ['climate',\n",
       "  'energy',\n",
       "  'target',\n",
       "  'transformation',\n",
       "  'xglobalmarket',\n",
       "  'inflation'],\n",
       " ['transitory'],\n",
       " ['inflation', 'plan', 'inflation', 'inflation', 'inflation', 'inflation'],\n",
       " ['price', 'inflation', 'inflation', 'inflation'],\n",
       " ['rise',\n",
       "  'energy',\n",
       "  'price',\n",
       "  'administration',\n",
       "  'curtail',\n",
       "  'production',\n",
       "  'inflation',\n",
       "  'energyindependence'],\n",
       " ['inflation'],\n",
       " ['moderation',\n",
       "  'emphasis',\n",
       "  'inflation',\n",
       "  'level',\n",
       "  'unemployment',\n",
       "  'level',\n",
       "  'unemployment',\n",
       "  'level',\n",
       "  'unemployment',\n",
       "  'exacerbate',\n",
       "  'wage',\n",
       "  'inequality',\n",
       "  'bargaining',\n",
       "  'power',\n",
       "  'labor'],\n",
       " ['police',\n",
       "  'skyrocket',\n",
       "  'crime',\n",
       "  'inflation',\n",
       "  'drug',\n",
       "  'gun',\n",
       "  'divide',\n",
       "  'communism',\n",
       "  'job'],\n",
       " [],\n",
       " ['tail',\n",
       "  'distribution',\n",
       "  'risk',\n",
       "  'management',\n",
       "  'risk',\n",
       "  'assessment',\n",
       "  'risk',\n",
       "  'management',\n",
       "  'aim',\n",
       "  'tail',\n",
       "  'event',\n",
       "  'tailrisk'],\n",
       " ['deficit', 'inflation', 'inflation', 'money', 'centralbank', 'stimulus'],\n",
       " ['race',\n",
       "  'theory',\n",
       "  'belief',\n",
       "  'family',\n",
       "  'treat',\n",
       "  'family',\n",
       "  'papa',\n",
       "  'reserve',\n",
       "  'industry',\n",
       "  'conglomerate'],\n",
       " ['deficit', 'inflation', 'inflation', 'money', 'centralbank', 'stimulus'],\n",
       " ['recovery', 'economy', 'hole', 'xglobalmarket', 'inflation', 'feed'],\n",
       " ['inflation',\n",
       "  'concern',\n",
       "  'jury',\n",
       "  'impact',\n",
       "  'secondwave',\n",
       "  'infection',\n",
       "  'emerge',\n",
       "  'economy',\n",
       "  'economist'],\n",
       " ['address', 'problem', 'fund'],\n",
       " ['inflation', 'drive', 'metal', 'financialadvisor'],\n",
       " ['credit',\n",
       "  'spread',\n",
       "  'corporation',\n",
       "  'business',\n",
       "  'model',\n",
       "  'access',\n",
       "  'debt',\n",
       "  'equity',\n",
       "  'inflation'],\n",
       " ['result', 'credit', 'expansion', 'bank', 'inflation'],\n",
       " ['dividend', 'inflation'],\n",
       " ['quarter',\n",
       "  'point',\n",
       "  'growth',\n",
       "  'inflation',\n",
       "  'xglobalmarket',\n",
       "  'inflation',\n",
       "  'growth'],\n",
       " ['inflation', 'healthcarewithoutborder'],\n",
       " ['pay',\n",
       "  'taxessure',\n",
       "  'food',\n",
       "  'material',\n",
       "  'housing',\n",
       "  'cost',\n",
       "  'pay',\n",
       "  'nose',\n",
       "  'policy',\n",
       "  'bidenflation'],\n",
       " [],\n",
       " ['price',\n",
       "  'administration',\n",
       "  'bleed',\n",
       "  'pocket',\n",
       "  'bidenlie',\n",
       "  'regulationsmatter'],\n",
       " ['pay'],\n",
       " ['price', 'price', 'appreciate', 'record'],\n",
       " ['inflation', 'inflation', 'economy'],\n",
       " ['inflation'],\n",
       " ['reading', 'eyeopene', 'cartel'],\n",
       " ['inflation', 'policy', 'way', 'address', 'gender', 'inequity'],\n",
       " ['chance', 'money'],\n",
       " ['hedge', 'fintwit', 'iot', 'trade', 'stockstowatch'],\n",
       " ['imagination', 'ostracizingleadership'],\n",
       " ['bank', 'work', 'good', 'mbs', 'market'],\n",
       " ['recovery',\n",
       "  'crisis',\n",
       "  'stimulus',\n",
       "  'challenge',\n",
       "  'policymaker',\n",
       "  'economy',\n",
       "  'market',\n",
       "  'centralbank',\n",
       "  'inflation',\n",
       "  'publicdebt',\n",
       "  'monetarystimulus'],\n",
       " ['car', 'inflation'],\n",
       " ['recovery',\n",
       "  'crisis',\n",
       "  'stimulus',\n",
       "  'challenge',\n",
       "  'policymaker',\n",
       "  'economy',\n",
       "  'market',\n",
       "  'centralbank',\n",
       "  'inflation',\n",
       "  'publicdebt',\n",
       "  'monetarystimulus'],\n",
       " ['recovery',\n",
       "  'crisis',\n",
       "  'stimulus',\n",
       "  'challenge',\n",
       "  'policymaker',\n",
       "  'economy',\n",
       "  'market',\n",
       "  'centralbank',\n",
       "  'inflation',\n",
       "  'publicdebt',\n",
       "  'monetarystimulus'],\n",
       " ['spending', 'inflation', 'crisis'],\n",
       " ['market',\n",
       "  'trade',\n",
       "  'cape',\n",
       "  'ratio',\n",
       "  'money',\n",
       "  'invest',\n",
       "  'cost',\n",
       "  'hold',\n",
       "  'step',\n",
       "  'raise',\n",
       "  'rate'],\n",
       " ['debate',\n",
       "  'inflation',\n",
       "  'cause',\n",
       "  'market',\n",
       "  'op',\n",
       "  'reduce',\n",
       "  'bond',\n",
       "  'purchase',\n",
       "  'inflation',\n",
       "  'threat'],\n",
       " ['attack', 'inflation'],\n",
       " ['inflation',\n",
       "  'attempt',\n",
       "  'inflation',\n",
       "  'risk',\n",
       "  'recovery',\n",
       "  'term',\n",
       "  'outlook',\n",
       "  'face',\n",
       "  'twitter'],\n",
       " ['bank', 'money'],\n",
       " ['analyst', 'war', 'twitter', 'feed'],\n",
       " ['factor', 'drugcost'],\n",
       " ['company', 'price', 'silver', 'inflation', 'gotsilver'],\n",
       " ['factor', 'drugcost'],\n",
       " ['inflation',\n",
       "  'destroy',\n",
       "  'economy',\n",
       "  'load',\n",
       "  'pork',\n",
       "  'enemy',\n",
       "  'aid',\n",
       "  'mix',\n",
       "  'blow',\n",
       "  'inflation'],\n",
       " ['analysis', 'psychology'],\n",
       " ['inflation',\n",
       "  'wage',\n",
       "  'moderation',\n",
       "  'wage',\n",
       "  'work',\n",
       "  'unemployment',\n",
       "  'wage',\n",
       "  'growth'],\n",
       " ['inflation',\n",
       "  'technology',\n",
       "  'accelerate',\n",
       "  'resource',\n",
       "  'extraction',\n",
       "  'resource',\n",
       "  'depletion',\n",
       "  'expansion',\n",
       "  'ignore'],\n",
       " ['inflation',\n",
       "  'challenge',\n",
       "  'moment',\n",
       "  'issue',\n",
       "  'employment',\n",
       "  'reopen',\n",
       "  'economy'],\n",
       " ['mind', 'conflict', 'driver'],\n",
       " ['reason',\n",
       "  'chip',\n",
       "  'shortage',\n",
       "  'car',\n",
       "  'shortage',\n",
       "  'appliance',\n",
       "  'shortage',\n",
       "  'increase',\n",
       "  'oil',\n",
       "  'price',\n",
       "  'inflation'],\n",
       " ['scam'],\n",
       " [],\n",
       " ['money', 'paper'],\n",
       " [],\n",
       " ['money', 'vote'],\n",
       " [],\n",
       " ['money', 'love', 'avoid', 'victim'],\n",
       " ['organization', 'work', 'money'],\n",
       " [],\n",
       " ['inflation',\n",
       "  'renegade',\n",
       "  'money',\n",
       "  'inflation',\n",
       "  'bank',\n",
       "  'money',\n",
       "  'history',\n",
       "  'bank'],\n",
       " [],\n",
       " ['call', 'tmobile', 'concern', 'money', 'account', 'lie', 'lie', 'lie'],\n",
       " ['account'],\n",
       " ['consumer',\n",
       "  'consensus',\n",
       "  'estimate',\n",
       "  'consumer',\n",
       "  'inflation',\n",
       "  'growth',\n",
       "  'job',\n",
       "  'wage',\n",
       "  'interestrate'],\n",
       " ['deal', 'debt', 'base', 'money', 'falsehood', 'disguise'],\n",
       " ['bank',\n",
       "  'raise',\n",
       "  'dividend',\n",
       "  'housing',\n",
       "  'price',\n",
       "  'stock',\n",
       "  'eat',\n",
       "  'trading',\n",
       "  'bank',\n",
       "  'housing',\n",
       "  'inflation'],\n",
       " ['competition'],\n",
       " ['technology', 'issue'],\n",
       " ['thumb', 'cryptocurrency'],\n",
       " ['unemployment', 'story', 'inflation'],\n",
       " ['momentum',\n",
       "  'crippler',\n",
       "  'wealth',\n",
       "  'economist',\n",
       "  'emerge',\n",
       "  'inflation',\n",
       "  'inflation',\n",
       "  'economy',\n",
       "  'supplychain',\n",
       "  'debt',\n",
       "  'labor'],\n",
       " [],\n",
       " ['outlier', 'return', 'theory', 'expansion', 'inflation'],\n",
       " ['money'],\n",
       " ['pay', 'firework', 'inflation'],\n",
       " ['office', 'employee', 'money', 'federalreserve'],\n",
       " ['bank', 'money'],\n",
       " [],\n",
       " ['market',\n",
       "  'outlook',\n",
       "  'inflation',\n",
       "  'stock',\n",
       "  'growth',\n",
       "  'stock',\n",
       "  'stock',\n",
       "  'stock',\n",
       "  'tackle',\n",
       "  'question',\n",
       "  'economy',\n",
       "  'rest'],\n",
       " ['money'],\n",
       " ['stock',\n",
       "  'correction',\n",
       "  'risk',\n",
       "  'fall',\n",
       "  'strategist',\n",
       "  'news',\n",
       "  'source',\n",
       "  'trend',\n",
       "  'news',\n",
       "  'visit',\n",
       "  'trade'],\n",
       " [],\n",
       " ['reason',\n",
       "  'customer',\n",
       "  'conceal',\n",
       "  'party',\n",
       "  'transact',\n",
       "  'shutdown',\n",
       "  'tmobile',\n",
       "  'money',\n",
       "  'joke'],\n",
       " ['money', 'saturate', 'inflation', 'case', 'scenario'],\n",
       " [],\n",
       " ['money', 'saturate', 'inflation', 'case', 'scenario'],\n",
       " ['guest'],\n",
       " ['money', 'saturate', 'inflation', 'case', 'scenario'],\n",
       " ['money', 'saturate', 'inflation', 'case', 'scenario'],\n",
       " ['money', 'saturate', 'inflation', 'case', 'scenario'],\n",
       " ['dollar', 'balance', 'sheet'],\n",
       " ['money', 'saturate', 'inflation', 'case', 'scenario'],\n",
       " ['print', 'crypto'],\n",
       " [],\n",
       " ['boom', 'bust', 'term', 'feed', 'friend'],\n",
       " ['inflation', 'price'],\n",
       " ['money', 'saturate', 'inflation', 'case', 'scenario'],\n",
       " ['life'],\n",
       " ['thesis'],\n",
       " [],\n",
       " ['consumer',\n",
       "  'shift',\n",
       "  'service',\n",
       "  'underlie',\n",
       "  'trend',\n",
       "  'spending',\n",
       "  'read',\n",
       "  'article',\n",
       "  'economist',\n",
       "  'economy',\n",
       "  'inflation'],\n",
       " ['fedhistory'],\n",
       " ['bank', 'money'],\n",
       " ['life', 'inflation', 'market', 'bubble'],\n",
       " ['crypto', 'pose', 'question', 'bank', 'federalreserve'],\n",
       " ['balance', 'sheet', 'coincidence'],\n",
       " [],\n",
       " ['business'],\n",
       " [],\n",
       " ['recovery', 'vaccine', 'growth', 'consumption', 'spending', 'inflation'],\n",
       " ['consumer',\n",
       "  'inflation',\n",
       "  'rate',\n",
       "  'expectation',\n",
       "  'level',\n",
       "  'inflation',\n",
       "  'rate',\n",
       "  'growth',\n",
       "  'recovery',\n",
       "  'price',\n",
       "  'pmi',\n",
       "  'oil',\n",
       "  'gas',\n",
       "  'demand',\n",
       "  'price'],\n",
       " ['regulator', 'concern', 'effect'],\n",
       " ['piece', 'colapse'],\n",
       " ['oil',\n",
       "  'price',\n",
       "  'demand',\n",
       "  'expectation',\n",
       "  'supply',\n",
       "  'expectation',\n",
       "  'fall',\n",
       "  'rise',\n",
       "  'fuel',\n",
       "  'input',\n",
       "  'price',\n",
       "  'contributing',\n",
       "  'factor',\n",
       "  'rise',\n",
       "  'ppis',\n",
       "  'cpis'],\n",
       " ['restaurant', 'transitorynot', 'inflation'],\n",
       " ['business', 'federalreserve'],\n",
       " ['liquidity', 'hell'],\n",
       " ['dollar', 'inflation'],\n",
       " ['inequality'],\n",
       " ['currency', 'pose', 'risk', 'benefit', 'cbdcs'],\n",
       " ['downtrend', 'chart', 'stack', 'panic', 'inflation'],\n",
       " ['tuesdaymotivation', 'inflation', 'inflation', 'gold'],\n",
       " ['town', 'cost', 'clam', 'outrage', 'inflation'],\n",
       " ['import', 'tax', 'palm', 'oil', 'tax', 'import', 'budget', 'inflation'],\n",
       " [],\n",
       " ['spending',\n",
       "  'office',\n",
       "  'project',\n",
       "  'impact',\n",
       "  'reconciliation',\n",
       "  'bill',\n",
       "  'inflation'],\n",
       " ['bullshit', 'engineering'],\n",
       " ['politician'],\n",
       " ['dollar', 'inflation'],\n",
       " ['market', 'control', 'spy'],\n",
       " [],\n",
       " [],\n",
       " ['blame',\n",
       "  'price',\n",
       "  'increase',\n",
       "  'impact',\n",
       "  'cure',\n",
       "  'print',\n",
       "  'money',\n",
       "  'reason',\n",
       "  'inflation'],\n",
       " [],\n",
       " [],\n",
       " ['earth'],\n",
       " ['lie', 'inflation'],\n",
       " ['inflation'],\n",
       " ['inflation'],\n",
       " ['banker'],\n",
       " ['corporation', 'benefit', 'bonus', 'contribute', 'encourage'],\n",
       " ['coin', 'turning', 'benefit', 'change', 'plan', 'future', 'everycoincount'],\n",
       " ['scheme'],\n",
       " [],\n",
       " ['housing',\n",
       "  'market',\n",
       "  'crash',\n",
       "  'bail',\n",
       "  'government',\n",
       "  'housingcrisis',\n",
       "  'economy',\n",
       "  'investment',\n",
       "  'inflation'],\n",
       " ['money', 'bank', 'drain', 'pay', 'share', 'land'],\n",
       " ['handler', 'vote', 'green'],\n",
       " ['ship', 'order', 'answer', 'question'],\n",
       " ['heritage',\n",
       "  'company',\n",
       "  'segment',\n",
       "  'milk',\n",
       "  'product',\n",
       "  'margin',\n",
       "  'profit',\n",
       "  'share',\n",
       "  'inflation',\n",
       "  'stockstowatch'],\n",
       " ['quarter', 'quarter'],\n",
       " ['country',\n",
       "  'food',\n",
       "  'inflation',\n",
       "  'pricingpower',\n",
       "  'mrp',\n",
       "  'paisawasool',\n",
       "  'budget',\n",
       "  'government',\n",
       "  'business',\n",
       "  'resource',\n",
       "  'industry',\n",
       "  'petrol'],\n",
       " ['inflation', 'rate', 'record', 'mark', 'reason', 'market', 'check', 'blog'],\n",
       " ['excuse', 'development', 'figure', 'gas', 'room'],\n",
       " ['financialstability'],\n",
       " ['inflation', 'expert', 'session', 'inflation', 'join', 'inflation'],\n",
       " [],\n",
       " ['consumer',\n",
       "  'shift',\n",
       "  'service',\n",
       "  'underlie',\n",
       "  'trend',\n",
       "  'spending',\n",
       "  'read',\n",
       "  'article',\n",
       "  'economist',\n",
       "  'economy',\n",
       "  'inflation'],\n",
       " ['phrase'],\n",
       " ['target',\n",
       "  'prospect',\n",
       "  'inflation',\n",
       "  'range',\n",
       "  'problem',\n",
       "  'economy',\n",
       "  'case',\n",
       "  'growth',\n",
       "  'inflation',\n",
       "  'process'],\n",
       " [],\n",
       " ['market',\n",
       "  'injection',\n",
       "  'liquidity',\n",
       "  'bubble',\n",
       "  'money',\n",
       "  'finance',\n",
       "  'inflation',\n",
       "  'gold'],\n",
       " [],\n",
       " [],\n",
       " ['inflation', 'outcome'],\n",
       " ['transfer', 'wealth', 'history', 'supervision', 'screw'],\n",
       " ['gold',\n",
       "  'silver',\n",
       "  'decade',\n",
       "  'money',\n",
       "  'tin',\n",
       "  'uranium',\n",
       "  'manipulation',\n",
       "  'commodity',\n",
       "  'inflation'],\n",
       " [],\n",
       " ['estate', 'realestateinveste', 'crypto', 'inflation'],\n",
       " ['story',\n",
       "  'tax',\n",
       "  'favor',\n",
       "  'order',\n",
       "  'policy',\n",
       "  'lawyer',\n",
       "  'train',\n",
       "  'tax',\n",
       "  'specialist',\n",
       "  'pay'],\n",
       " ['supply',\n",
       "  'management',\n",
       "  'encourage',\n",
       "  'trend',\n",
       "  'supplier',\n",
       "  'diversity',\n",
       "  'inflation',\n",
       "  'subscribe',\n",
       "  'resource',\n",
       "  'center'],\n",
       " ['consumer', 'confidence', 'house', 'price', 'inflation', 'heat', 'economy'],\n",
       " ['administration',\n",
       "  'inflation',\n",
       "  'gasshortage',\n",
       "  'gasprice',\n",
       "  'absenteeleadership'],\n",
       " [],\n",
       " [],\n",
       " ['inflation', 'explainer'],\n",
       " ['security', 'sound', 'fun'],\n",
       " ['reset'],\n",
       " ['aristocracy'],\n",
       " ['tax', 'reform'],\n",
       " [],\n",
       " ['inflation', 'bidenbordercrisis', 'inflation', 'donaldtrump'],\n",
       " ['argument', 'diversification', 'fix', 'inflation', 'inflation'],\n",
       " ['hit', 'market'],\n",
       " ['file', 'technologie', 'growth', 'cannabiscommunity'],\n",
       " ['tax', 'deal'],\n",
       " ['collapse',\n",
       "  'dollar',\n",
       "  'debt',\n",
       "  'stock',\n",
       "  'fall',\n",
       "  'recession',\n",
       "  'tax',\n",
       "  'plan',\n",
       "  'fatality'],\n",
       " ['inflation',\n",
       "  'inflation',\n",
       "  'rate',\n",
       "  'bond',\n",
       "  'participant',\n",
       "  'shrug',\n",
       "  'bondmarket'],\n",
       " ['supercycle', 'money', 'inflation', 'hackernoontopstory'],\n",
       " ['authority', 'policy', 'policy', 'control', 'money', 'control'],\n",
       " ['business',\n",
       "  'struggle',\n",
       "  'howto',\n",
       "  'respond',\n",
       "  'management',\n",
       "  'job',\n",
       "  'job',\n",
       "  'work',\n",
       "  'money',\n",
       "  'pay',\n",
       "  'wage',\n",
       "  'inflation',\n",
       "  'customerservice',\n",
       "  'strategy',\n",
       "  'marketing',\n",
       "  'competition',\n",
       "  'worker',\n",
       "  'employee'],\n",
       " [],\n",
       " ['estate', 'realestateinveste', 'crypto', 'inflation'],\n",
       " [],\n",
       " ['panic', 'cover'],\n",
       " ['usd',\n",
       "  'rise',\n",
       "  'rate',\n",
       "  'gold',\n",
       "  'gold',\n",
       "  'catalyst',\n",
       "  'energize',\n",
       "  'market',\n",
       "  'lack',\n",
       "  'impetus',\n",
       "  'buy',\n",
       "  'bar',\n",
       "  'cont',\n",
       "  'weaknesss'],\n",
       " ['construction',\n",
       "  'business',\n",
       "  'capital',\n",
       "  'consumer',\n",
       "  'appliance',\n",
       "  'money',\n",
       "  'inflation',\n",
       "  'economy',\n",
       "  'stock',\n",
       "  'invest'],\n",
       " ['inflation', 'rate', 'change'],\n",
       " ['share',\n",
       "  'view',\n",
       "  'inflation',\n",
       "  'consumer',\n",
       "  'return',\n",
       "  'credit',\n",
       "  'watch',\n",
       "  'clip'],\n",
       " ['inflation',\n",
       "  'look',\n",
       "  'commodity',\n",
       "  'car',\n",
       "  'value',\n",
       "  'money',\n",
       "  'privateinvesting',\n",
       "  'capital',\n",
       "  'capitalmarket'],\n",
       " ['buying', 'security'],\n",
       " ['congressman', 'want', 'madness', 'inflation', 'gold'],\n",
       " ['estate', 'goose', 'feed', 'market', 'money'],\n",
       " [],\n",
       " ['governor'],\n",
       " [],\n",
       " ['governor', 'mix', 'commentary'],\n",
       " ['market',\n",
       "  'struggle',\n",
       "  'uncertainty',\n",
       "  'inflation',\n",
       "  'rate',\n",
       "  'supply',\n",
       "  'chain',\n",
       "  'issue',\n",
       "  'stock'],\n",
       " ['market',\n",
       "  'struggle',\n",
       "  'uncertainty',\n",
       "  'inflation',\n",
       "  'rate',\n",
       "  'supply',\n",
       "  'chain',\n",
       "  'issue',\n",
       "  'stock'],\n",
       " ['market',\n",
       "  'struggle',\n",
       "  'uncertainty',\n",
       "  'inflation',\n",
       "  'rate',\n",
       "  'supply',\n",
       "  'chain',\n",
       "  'issue',\n",
       "  'stock'],\n",
       " ['inflation', 'bull', 'inflation'],\n",
       " [],\n",
       " ['inflation',\n",
       "  'impact',\n",
       "  'risk',\n",
       "  'benefit',\n",
       "  'inflation',\n",
       "  'stockmarket',\n",
       "  'stock',\n",
       "  'trading'],\n",
       " ['theme', 'song'],\n",
       " ['police'],\n",
       " ['stage', 'inflation', 'plan'],\n",
       " ['inflation',\n",
       "  'pattern',\n",
       "  'bond',\n",
       "  'market',\n",
       "  'summerlull',\n",
       "  'equity',\n",
       "  'rein',\n",
       "  'push'],\n",
       " ['rock', 'money', 'child', 'hope'],\n",
       " ['inflation', 'affect', 'investor', 'return'],\n",
       " ['business',\n",
       "  'decision',\n",
       "  'inflation',\n",
       "  'cost',\n",
       "  'product',\n",
       "  'service',\n",
       "  'decision',\n",
       "  'determine',\n",
       "  'business',\n",
       "  'future',\n",
       "  'inflation',\n",
       "  'inflationexpectation'],\n",
       " [],\n",
       " ['contribute', 'price', 'surge', 'minority', 'chance', 'support'],\n",
       " ['inflation', 'company', 'shrinkflation', 'consumer', 'inflation'],\n",
       " ['demand',\n",
       "  'supply',\n",
       "  'imbalance',\n",
       "  'ease',\n",
       "  'inflation',\n",
       "  'auto',\n",
       "  'production',\n",
       "  'capacity',\n",
       "  'semiconductor',\n",
       "  'plant',\n",
       "  'supply',\n",
       "  'microchip',\n",
       "  'inflation'],\n",
       " ['inflation', 'pay', 'car', 'inflation', 'sofortcollin'],\n",
       " ['money', 'asset'],\n",
       " ['inflation', 'transitory'],\n",
       " [],\n",
       " ['break', 'tge', 'law', 'work', 'class', 'tent'],\n",
       " ['order', 'product'],\n",
       " ['eye',\n",
       "  'report',\n",
       "  'indicator',\n",
       "  'demand',\n",
       "  'price',\n",
       "  'jump',\n",
       "  'join',\n",
       "  'worry',\n",
       "  'inflation'],\n",
       " [],\n",
       " ['inflation', 'risk'],\n",
       " ['law', 'monopoly'],\n",
       " ['tax',\n",
       "  'expense',\n",
       "  'business',\n",
       "  'retailer',\n",
       "  'restaurant',\n",
       "  'street',\n",
       "  'inflation',\n",
       "  'policy',\n",
       "  'bidenomic'],\n",
       " ['fate', 'prospect', 'capitalism', 'technocrat'],\n",
       " ['stillless', 'minority', 'leave'],\n",
       " [],\n",
       " [],\n",
       " ['mess',\n",
       "  'shipping',\n",
       "  'container',\n",
       "  'inflation',\n",
       "  'inflation',\n",
       "  'shippingcontainer'],\n",
       " ['work'],\n",
       " ['card', 'pump'],\n",
       " ['path', 'existence'],\n",
       " ['benefit', 'inclusion', 'discussion', 'icba', 'engage'],\n",
       " ['market', 'knowledge', 'market', 'knowledge', 'academia'],\n",
       " ['inflation', 'bank', 'trend', 'governor', 'recovery', 'centralbank'],\n",
       " ['asset', 'price', 'profit', 'whitey', 'moon', 'minority', 'situation'],\n",
       " [],\n",
       " ['money', 'stock', 'bubble'],\n",
       " ['brilliance', 'note'],\n",
       " ['bank', 'money'],\n",
       " ['silver', 'inflation', 'turn', 'silvershortage'],\n",
       " ['money',\n",
       "  'company',\n",
       "  'investor',\n",
       "  'volatility',\n",
       "  'mania',\n",
       "  'market',\n",
       "  'stock',\n",
       "  'valueinveste',\n",
       "  'makemoney',\n",
       "  'investment'],\n",
       " ['inflation', 'rate', 'economist', 'prediction'],\n",
       " ['market',\n",
       "  'market',\n",
       "  'valuation',\n",
       "  'watch',\n",
       "  'sign',\n",
       "  'increase',\n",
       "  'inflation',\n",
       "  'interestrate'],\n",
       " ['money'],\n",
       " ['inflation', 'cryptoasset', 'inflation'],\n",
       " ['inflation', 'rate', 'economist', 'prediction'],\n",
       " ['inflation', 'independence', 'weekend', 'inflation'],\n",
       " ['inflation', 'shock'],\n",
       " ['town',\n",
       "  'estate',\n",
       "  'league',\n",
       "  'pandemic',\n",
       "  'turn',\n",
       "  'table',\n",
       "  'price',\n",
       "  'growth',\n",
       "  'market',\n",
       "  'inflation'],\n",
       " ['market', 'bond', 'buy', 'bond', 'price', 'bank', 'stay', 'solvent'],\n",
       " ['market'],\n",
       " ['event', 'deflation', 'disinflation', 'inflation'],\n",
       " ['event', 'inflation', 'disinflation', 'deflation'],\n",
       " ['art',\n",
       "  'raffle',\n",
       "  'work',\n",
       "  'fill',\n",
       "  'space',\n",
       "  'furryart',\n",
       "  'inflation',\n",
       "  'artraffle'],\n",
       " ['shout'],\n",
       " ['market'],\n",
       " ['friend', 'weekend', 'belly', 'inflation'],\n",
       " ['equality',\n",
       "  'future',\n",
       "  'power',\n",
       "  'leader',\n",
       "  'inflation',\n",
       "  'dot',\n",
       "  'theta',\n",
       "  'link'],\n",
       " ['inflation', 'interestrate', 'policy', 'politic', 'biden'],\n",
       " ['attention',\n",
       "  'income',\n",
       "  'inequality',\n",
       "  'exacerbate',\n",
       "  'problem',\n",
       "  'criticism',\n",
       "  'oppose',\n",
       "  'direction'],\n",
       " [],\n",
       " ['exchange'],\n",
       " ['price', 'inflation'],\n",
       " [],\n",
       " ['market', 'treasurybond', 'bond', 'price', 'bank', 'stay', 'solvent'],\n",
       " ['indicator', 'peak', 'inflation', 'fear', 'support', 'market', 'rally'],\n",
       " ['inflation', 'subprime', 'contain', 'gold', 'bitcoin'],\n",
       " ['fact', 'debt', 'hoovering'],\n",
       " ['sign', 'attention'],\n",
       " ['mother'],\n",
       " ['market', 'head', 'economist', 'inflation'],\n",
       " ['rate'],\n",
       " ['estate', 'price', 'rise', 'inflation'],\n",
       " [],\n",
       " ['inflation',\n",
       "  'worry',\n",
       "  'link',\n",
       "  'comment',\n",
       "  'share',\n",
       "  'inflation',\n",
       "  'financialadvisor'],\n",
       " ['bank', 'sand', 'pressure', 'inflation'],\n",
       " ['inflation', 'gum', 'sale', 'pay', 'airwave', 'money'],\n",
       " ['request', 'difference', 'form', 'hold', 'money', 'mint', 'coinage'],\n",
       " ['juice', 'market', 'update', 'livestream'],\n",
       " ['inflation'],\n",
       " ['board', 'bond', 'trader', 'pay'],\n",
       " ['climate', 'risk', 'certainty'],\n",
       " ['release',\n",
       "  'report',\n",
       "  'detail',\n",
       "  'area',\n",
       "  'guidance',\n",
       "  'inflation',\n",
       "  'labor',\n",
       "  'policy'],\n",
       " ['swamp', 'chance', 'challenge'],\n",
       " ['explore',\n",
       "  'method',\n",
       "  'measure',\n",
       "  'inflation',\n",
       "  'thief',\n",
       "  'strategy',\n",
       "  'fixedincome',\n",
       "  'portfolio',\n",
       "  'bond',\n",
       "  'rate',\n",
       "  'interestrate'],\n",
       " ['yield',\n",
       "  'situation',\n",
       "  'housing',\n",
       "  'market',\n",
       "  'manageable',\n",
       "  'scale',\n",
       "  'speed',\n",
       "  'loom',\n",
       "  'absence',\n",
       "  'support',\n",
       "  'trouble',\n",
       "  'rate'],\n",
       " ['rate', 'investment', 'op', 'personalfinance'],\n",
       " [],\n",
       " ['deficit',\n",
       "  'percent',\n",
       "  'surplus',\n",
       "  'wage',\n",
       "  'living',\n",
       "  'percent',\n",
       "  'deficit',\n",
       "  'minimum',\n",
       "  'wage',\n",
       "  'minimum',\n",
       "  'living'],\n",
       " [],\n",
       " ['federalreserve'],\n",
       " ['inflation', 'lumber'],\n",
       " ['price', 'growth', 'record', 'inflation'],\n",
       " ['emergency', 'policy'],\n",
       " [],\n",
       " ['reason',\n",
       "  'producer',\n",
       "  'inflation',\n",
       "  'shortage',\n",
       "  'labor',\n",
       "  'employment',\n",
       "  'situation',\n",
       "  'challenge',\n",
       "  'family',\n",
       "  'school',\n",
       "  'childcare',\n",
       "  'realestate',\n",
       "  'mortgagelending'],\n",
       " ['emergency'],\n",
       " ['investor', 'return', 'inflation', 'advisory', 'fee'],\n",
       " [],\n",
       " ['mess', 'sustain', 'rate'],\n",
       " ['bank',\n",
       "  'increase',\n",
       "  'dividend',\n",
       "  'institution',\n",
       "  'risk',\n",
       "  'base',\n",
       "  'capital',\n",
       "  'requirement'],\n",
       " ['video',\n",
       "  'stack',\n",
       "  'silver',\n",
       "  'gold',\n",
       "  'help',\n",
       "  'patience',\n",
       "  'discipline',\n",
       "  'money',\n",
       "  'wealth',\n",
       "  'success',\n",
       "  'motivation',\n",
       "  'inspiration',\n",
       "  'economy',\n",
       "  'inflation'],\n",
       " ['housing',\n",
       "  'crisis',\n",
       "  'housing',\n",
       "  'realestate',\n",
       "  'market',\n",
       "  'news',\n",
       "  'trend',\n",
       "  'stock',\n",
       "  'inflation',\n",
       "  'economy'],\n",
       " ['face', 'remind'],\n",
       " ['money'],\n",
       " ['video', 'inflation'],\n",
       " ['home',\n",
       "  'download',\n",
       "  'housing',\n",
       "  'realestate',\n",
       "  'market',\n",
       "  'news',\n",
       "  'trend',\n",
       "  'stock',\n",
       "  'inflation'],\n",
       " ['article', 'metal', 'term', 'gold', 'silver', 'inflation'],\n",
       " ['economy', 'wage', 'job', 'pay', 'worker', 'wage'],\n",
       " ['inflation', 'aspect'],\n",
       " ['inflation', 'bodyinflation', 'blueberryexpansion', 'expansion'],\n",
       " ['gas',\n",
       "  'food',\n",
       "  'electricity',\n",
       "  'lumber',\n",
       "  'metal',\n",
       "  'refund',\n",
       "  'check',\n",
       "  'penny',\n",
       "  'inflation'],\n",
       " ['equity',\n",
       "  'bond',\n",
       "  'correlation',\n",
       "  'update',\n",
       "  'inflation',\n",
       "  'roll',\n",
       "  'correlation',\n",
       "  'bond',\n",
       "  'future',\n",
       "  'territory',\n",
       "  'mar',\n",
       "  'regime',\n",
       "  'change',\n",
       "  'commodity'],\n",
       " ['inflation', 'cc'],\n",
       " [],\n",
       " ['silver'],\n",
       " ['topic', 'inflation', 'altcoin'],\n",
       " ['job'],\n",
       " ['price', 'tag', 'bubble', 'vancity', 'inflation'],\n",
       " ['transitory'],\n",
       " ['enterprise', 'operation', 'align', 'function', 'government'],\n",
       " [],\n",
       " ['dollar', 'stock', 'portfolio', 'population', 'portfolio'],\n",
       " ['credit', 'bordercrisis', 'inflation'],\n",
       " ['work',\n",
       "  'trading',\n",
       "  'option',\n",
       "  'trust',\n",
       "  'play',\n",
       "  'investment',\n",
       "  'anchor',\n",
       "  'success'],\n",
       " ['deposit', 'deposit'],\n",
       " ['economy', 'money', 'money', 'hypocrite', 'inflation'],\n",
       " ['case', 'inflation', 'inflation', 'transitory'],\n",
       " ['attack', 'pool', 'manipulation'],\n",
       " ['financialstability', 'veteran'],\n",
       " ['eye', 'hurricane', 'money', 'supply', 'decrease', 'inflation', 'proof'],\n",
       " ['taper', 'question', 'trade', 'desk', 'spy', 'fomc'],\n",
       " ['rate', 'dip', 'investing', 'federalreserve'],\n",
       " [],\n",
       " ['head',\n",
       "  'shoulder',\n",
       "  'pattern',\n",
       "  'formation',\n",
       "  'view',\n",
       "  'economy',\n",
       "  'inflation',\n",
       "  'job',\n",
       "  'market',\n",
       "  'link'],\n",
       " [],\n",
       " ['dollar', 'sheet', 'plywood', 'inflation'],\n",
       " ['debate',\n",
       "  'inflation',\n",
       "  'deflation',\n",
       "  'market',\n",
       "  'barometer',\n",
       "  'thermometer',\n",
       "  'policy',\n",
       "  'wealth',\n",
       "  'banker',\n",
       "  'copper',\n",
       "  'fomc',\n",
       "  'inflation',\n",
       "  'economy'],\n",
       " ['inflation',\n",
       "  'indicator',\n",
       "  'post',\n",
       "  'decade',\n",
       "  'economy',\n",
       "  'investment',\n",
       "  'lease',\n",
       "  'sale'],\n",
       " ['crisis', 'news', 'digitalasset'],\n",
       " ['inflation'],\n",
       " ['inflation'],\n",
       " ['inflation'],\n",
       " [],\n",
       " ['talk',\n",
       "  'investment',\n",
       "  'strategy',\n",
       "  'inflation',\n",
       "  'disaster',\n",
       "  'author',\n",
       "  'business',\n",
       "  'finance',\n",
       "  'financialeducation',\n",
       "  'inflation',\n",
       "  'investment',\n",
       "  'rate',\n",
       "  'risk',\n",
       "  'spirituality'],\n",
       " ['action', 'federalreserve'],\n",
       " ['inflation', 'push', 'debt'],\n",
       " ['murder'],\n",
       " ['stimuluscheck', 'inflation'],\n",
       " ['retirement',\n",
       "  'inflation',\n",
       "  'term',\n",
       "  'nest',\n",
       "  'egg',\n",
       "  'life',\n",
       "  'optimize',\n",
       "  'possibility'],\n",
       " ['growth', 'inflation'],\n",
       " ['tax', 'payer', 'money'],\n",
       " ['inflation'],\n",
       " ['tax', 'payer', 'money'],\n",
       " ['market', 'start', 'idea', 'inflation', 'spy'],\n",
       " ['increase',\n",
       "  'price',\n",
       "  'sign',\n",
       "  'loom',\n",
       "  'inflation',\n",
       "  'result',\n",
       "  'city',\n",
       "  'suburb',\n",
       "  'question',\n",
       "  'jump',\n",
       "  'realestate',\n",
       "  'market',\n",
       "  'housingmarket'],\n",
       " ['sheet',\n",
       "  'push',\n",
       "  'action',\n",
       "  'market',\n",
       "  'difference',\n",
       "  'federalreserve',\n",
       "  'inflation',\n",
       "  'debt'],\n",
       " ['government',\n",
       "  'technology',\n",
       "  'call',\n",
       "  'print',\n",
       "  'press',\n",
       "  'produce',\n",
       "  'dollar',\n",
       "  'wish',\n",
       "  'cost'],\n",
       " ['inflation', 'opportunity', 'cash', 'invest', 'income', 'asset'],\n",
       " ['inflation',\n",
       "  'worry',\n",
       "  'link',\n",
       "  'comment',\n",
       "  'share',\n",
       "  'inflation',\n",
       "  'financialadvisor'],\n",
       " ['inflation', 'factor'],\n",
       " ['inflation'],\n",
       " ['inflation'],\n",
       " ['collection', 'death'],\n",
       " ['cpisecurity'],\n",
       " ['autumn', 'depression', 'inflation', 'collapse'],\n",
       " ['inflation', 'money', 'financialeducation', 'personalfinance'],\n",
       " ['compare',\n",
       "  'economy',\n",
       "  'infrastructure',\n",
       "  'inflation',\n",
       "  'tech',\n",
       "  'bunch',\n",
       "  'bubble',\n",
       "  'bubble'],\n",
       " ['money', 'money', 'policy'],\n",
       " ['market', 'market'],\n",
       " ['inflation', 'story', 'government', 'help'],\n",
       " [],\n",
       " ['economy', 'genius', 'line'],\n",
       " ['overtime'],\n",
       " ['climate',\n",
       "  'crisis',\n",
       "  'risk',\n",
       "  'greenback',\n",
       "  'go',\n",
       "  'dump',\n",
       "  'argue',\n",
       "  'buying',\n",
       "  'debt'],\n",
       " ['btc', 'btc', 'reach', 'stop', 'print', 'money'],\n",
       " ['idea',\n",
       "  'print',\n",
       "  'bitcoin',\n",
       "  'currency',\n",
       "  'property',\n",
       "  'push',\n",
       "  'tax',\n",
       "  'plan',\n",
       "  'work',\n",
       "  'capital',\n",
       "  'gain'],\n",
       " ['lottery'],\n",
       " ['money', 'supply'],\n",
       " [],\n",
       " ['trust', 'soil', 'inequality', 'bubble', 'inflation', 'oil', 'tax'],\n",
       " ['country'],\n",
       " ['boom', 'economy', 'question'],\n",
       " ['stock'],\n",
       " ['complacency',\n",
       "  'inflation',\n",
       "  'hedge',\n",
       "  'fund',\n",
       "  'head',\n",
       "  'flag',\n",
       "  'concern',\n",
       "  'touch',\n",
       "  'market'],\n",
       " ['blood', 'skin', 'color', 'education', 'level', 'parent'],\n",
       " ['game'],\n",
       " ['fomc'],\n",
       " ['recession', 'price', 'base', 'inflation'],\n",
       " ['inflation', 'stock', 'stockmarket'],\n",
       " ['flour',\n",
       "  'cost',\n",
       "  'couple',\n",
       "  'food',\n",
       "  'item',\n",
       "  'meat',\n",
       "  'price',\n",
       "  'buy',\n",
       "  'lbs',\n",
       "  'taste',\n",
       "  'inflation'],\n",
       " ['cost', 'pass', 'consumer', 'price', 'inflation', 'feed', 'feeding'],\n",
       " ['inflation'],\n",
       " ['consumer',\n",
       "  'shift',\n",
       "  'service',\n",
       "  'underlie',\n",
       "  'trend',\n",
       "  'spending',\n",
       "  'read',\n",
       "  'article',\n",
       "  'economist',\n",
       "  'economy',\n",
       "  'inflation'],\n",
       " ['inflation', 'transitory'],\n",
       " ['property',\n",
       "  'price',\n",
       "  'count',\n",
       "  'price',\n",
       "  'price',\n",
       "  'accelerate',\n",
       "  'pace',\n",
       "  'record'],\n",
       " ['housing', 'realestate', 'market', 'news', 'trend', 'stock', 'inflation'],\n",
       " [],\n",
       " ['inflation', 'concern', 'inflation', 'stock'],\n",
       " ['worry', 'care', 'turn', 'feed', 'outlet'],\n",
       " ['consumer',\n",
       "  'confidence',\n",
       "  'confidence',\n",
       "  'level',\n",
       "  'expectation',\n",
       "  'start',\n",
       "  'worry',\n",
       "  'inflation',\n",
       "  'confidence',\n",
       "  'level',\n",
       "  'inflation',\n",
       "  'expectation',\n",
       "  'yr'],\n",
       " ['steel',\n",
       "  'price',\n",
       "  'commodity',\n",
       "  'rise',\n",
       "  'inflation',\n",
       "  'roll',\n",
       "  'steel',\n",
       "  'price',\n",
       "  'record',\n",
       "  'infrastructure',\n",
       "  'deal'],\n",
       " ['bailout', 'foundation', 'lead', 'creation', 'set'],\n",
       " [],\n",
       " ['reserve',\n",
       "  'history',\n",
       "  'country',\n",
       "  'government',\n",
       "  'history',\n",
       "  'fiat',\n",
       "  'currency',\n",
       "  'gold',\n",
       "  'silver'],\n",
       " ['reserve',\n",
       "  'history',\n",
       "  'country',\n",
       "  'government',\n",
       "  'history',\n",
       "  'fiat',\n",
       "  'currency',\n",
       "  'gold',\n",
       "  'silver'],\n",
       " ['gold', 'gold', 'silver'],\n",
       " ['economy',\n",
       "  'business',\n",
       "  'money',\n",
       "  'digitaltransformation',\n",
       "  'tech',\n",
       "  'science',\n",
       "  'stem',\n",
       "  'stem',\n",
       "  'stemeducation',\n",
       "  'smartvideo'],\n",
       " ['tax',\n",
       "  'expense',\n",
       "  'business',\n",
       "  'retailer',\n",
       "  'restaurant',\n",
       "  'street',\n",
       "  'inflation',\n",
       "  'policy',\n",
       "  'policy'],\n",
       " ['fan',\n",
       "  'pop',\n",
       "  'history',\n",
       "  'pop',\n",
       "  'gold',\n",
       "  'silver',\n",
       "  'investment',\n",
       "  'asset',\n",
       "  'prepper',\n",
       "  'family',\n",
       "  'friend',\n",
       "  'door'],\n",
       " ['fan',\n",
       "  'pop',\n",
       "  'history',\n",
       "  'pop',\n",
       "  'gold',\n",
       "  'silver',\n",
       "  'investment',\n",
       "  'asset',\n",
       "  'prepper',\n",
       "  'family',\n",
       "  'friend',\n",
       "  'door'],\n",
       " ['pay', 'rent', 'consumer', 'dollar', 'stuff', 'feed', 'inflation', 'leave'],\n",
       " ['debate', 'scale', 'mortgage', 'bond', 'purchase', 'mortgage', 'housing'],\n",
       " ['currency', 'fan', 'asset', 'slump', 'gold'],\n",
       " ['dam', 'stake', 'mint', 'inflation', 'smartcontract', 'ethereum'],\n",
       " ['money', 'gold'],\n",
       " ['boost', 'dividend', 'leverage'],\n",
       " ['money'],\n",
       " ['currency'],\n",
       " ['price', 'rent', 'jump', 'record', 'inflation'],\n",
       " ['history', 'water', 'property', 'prepare'],\n",
       " ['inflation',\n",
       "  'sign',\n",
       "  'dxy',\n",
       "  'rally',\n",
       "  'gold',\n",
       "  'roll',\n",
       "  'gold',\n",
       "  'drop',\n",
       "  'dollar',\n",
       "  'gain',\n",
       "  'demand'],\n",
       " ['inflation', 'number', 'corn', 'weat', 'wood', 'jjc'],\n",
       " ['inflation', 'inflation', 'hedge'],\n",
       " ['price', 'mankind', 'money'],\n",
       " ['stomach', 'hole', 'inflation', 'cumflation', 'cumdump'],\n",
       " ['leader', 'majority', 'demand'],\n",
       " ['inflation',\n",
       "  'strategy',\n",
       "  'stage',\n",
       "  'inflation',\n",
       "  'inflation',\n",
       "  'inflation',\n",
       "  'target',\n",
       "  'inflation'],\n",
       " ['work', 'binance', 'coin', 'pump', 'join'],\n",
       " [],\n",
       " [],\n",
       " ['indicator',\n",
       "  'peak',\n",
       "  'inflation',\n",
       "  'support',\n",
       "  'stock',\n",
       "  'market',\n",
       "  'rally',\n",
       "  'inflation',\n",
       "  'stock'],\n",
       " ['ticket', 'fix', 'issue', 'customer', 'service', 'support', 'ticket'],\n",
       " ['inflation',\n",
       "  'stock',\n",
       "  'market',\n",
       "  'crypto',\n",
       "  'trading',\n",
       "  'ban',\n",
       "  'market',\n",
       "  'stock',\n",
       "  'economy',\n",
       "  'inflation',\n",
       "  'bofa',\n",
       "  'rent',\n",
       "  'debt',\n",
       "  'gasoline',\n",
       "  'dxy',\n",
       "  'wti',\n",
       "  'rate'],\n",
       " [],\n",
       " ['transaction', 'love', 'trp'],\n",
       " ['inflation',\n",
       "  'worry',\n",
       "  'link',\n",
       "  'comment',\n",
       "  'share',\n",
       "  'inflation',\n",
       "  'financialadvisor'],\n",
       " ['transport', 'milk', 'europa', 'destiny'],\n",
       " [],\n",
       " ['rate', 'opportunity', 'stack', 'pricing', 'inflation'],\n",
       " ['grandparent',\n",
       "  'struggle',\n",
       "  'home',\n",
       "  'kid',\n",
       "  'pay',\n",
       "  'student',\n",
       "  'loan',\n",
       "  'figure',\n",
       "  'dollar',\n",
       "  'pay',\n",
       "  'crypto',\n",
       "  'cryptotrade',\n",
       "  'inflation',\n",
       "  'socialism',\n",
       "  'globaleconomy'],\n",
       " ['work', 'life'],\n",
       " ['chart', 'literature', 'eye', 'dolarization'],\n",
       " [],\n",
       " ['study',\n",
       "  'volatility',\n",
       "  'inflation',\n",
       "  'economy',\n",
       "  'experience',\n",
       "  'subside',\n",
       "  'job',\n",
       "  'pandemic',\n",
       "  'economy'],\n",
       " ['inflation',\n",
       "  'strategy',\n",
       "  'stage',\n",
       "  'inflation',\n",
       "  'inflation',\n",
       "  'inflation',\n",
       "  'target',\n",
       "  'inflation'],\n",
       " ['dollar'],\n",
       " ['governor', 'interview', 'feed'],\n",
       " ['inflation', 'expectation', 'expectation', 'feed', 'inflation', 'pressure'],\n",
       " ['boom', 'binance'],\n",
       " ['bitch', 'stallion', 'inflation', 'cumflation'],\n",
       " ['bubble', 'call', 'bubble', 'pop'],\n",
       " ['wealth', 'nation', 'credit', 'slavery', 'exchange'],\n",
       " ['papp'],\n",
       " [],\n",
       " ['money', 'sell', 'stock', 'inflation', 'silver', 'gold'],\n",
       " ['debate',\n",
       "  'inflation',\n",
       "  'deflation',\n",
       "  'market',\n",
       "  'barometer',\n",
       "  'thermometer',\n",
       "  'policy',\n",
       "  'wealth',\n",
       "  'banker',\n",
       "  'copper',\n",
       "  'fomc',\n",
       "  'inflation',\n",
       "  'economy'],\n",
       " ['dollar', 'federalreserve', 'regulation'],\n",
       " ['clarification', 'airdrop'],\n",
       " ['taper', 'market', 'indicator', 'digest', 'leave', 'coincide'],\n",
       " ['bond', 'face', 'inflation'],\n",
       " ['boat'],\n",
       " ['spy', 'government', 'fund', 'control'],\n",
       " ['indicator',\n",
       "  'peak',\n",
       "  'inflation',\n",
       "  'fear',\n",
       "  'support',\n",
       "  'market',\n",
       "  'rally',\n",
       "  'inflation',\n",
       "  'market',\n",
       "  'economy',\n",
       "  'stock',\n",
       "  'invest'],\n",
       " ['interview', 'rule', 'rate', 'hike'],\n",
       " ['employment',\n",
       "  'market',\n",
       "  'result',\n",
       "  'inflation',\n",
       "  'risk',\n",
       "  'surface',\n",
       "  'pandemic',\n",
       "  'plan',\n",
       "  'life',\n",
       "  'support'],\n",
       " ['inflation', 'cumflation'],\n",
       " ['company', 'break', 'law', 'wake'],\n",
       " ['inflation'],\n",
       " ['attention', 'statement', 'fomc'],\n",
       " [],\n",
       " ['car', 'trip', 'cost', 'gas', 'price', 'silversqueeze', 'inflation'],\n",
       " ['construction', 'policy', 'dollar', 'dwindle', 'design', 'fix'],\n",
       " ['conventionofstate',\n",
       "  'cancelculture',\n",
       "  'federalreserve',\n",
       "  'technocracy',\n",
       "  'replacement',\n",
       "  'constitution'],\n",
       " ['deflation',\n",
       "  'bond',\n",
       "  'dollar',\n",
       "  'gold',\n",
       "  'inflation',\n",
       "  'threat',\n",
       "  'bond',\n",
       "  'dollar',\n",
       "  'gold',\n",
       "  'bond',\n",
       "  'dollar',\n",
       "  'gold',\n",
       "  'rate',\n",
       "  'deflationary',\n",
       "  'fedistrappe'],\n",
       " [],\n",
       " ['vx',\n",
       "  'inflation',\n",
       "  'policy',\n",
       "  'trade',\n",
       "  'protect',\n",
       "  'gain',\n",
       "  'trading',\n",
       "  'algotrade'],\n",
       " ['stock', 'market', 'sheet'],\n",
       " ['heart',\n",
       "  'suffering',\n",
       "  'home',\n",
       "  'bank',\n",
       "  'force',\n",
       "  'rent',\n",
       "  'silversqueeze',\n",
       "  'inflation'],\n",
       " ['grocery',\n",
       "  'increase',\n",
       "  'inflation',\n",
       "  'gas',\n",
       "  'transportation',\n",
       "  'price',\n",
       "  'talk',\n",
       "  'ice',\n",
       "  'cream',\n",
       "  'inflation'],\n",
       " ['inflation', 'inflation'],\n",
       " ['friend', 'print', 'press', 'bank'],\n",
       " ['stock', 'change', 'market', 'close', 'stock', 'trade', 'inflation'],\n",
       " ['rent', 'inflation', 'price', 'jump'],\n",
       " [],\n",
       " [],\n",
       " ['door', 'join', 'community', 'whitelist', 'power', 'bscgem', 'member'],\n",
       " ['door', 'join', 'community', 'whitelist', 'power', 'bscgem', 'member'],\n",
       " ['check'],\n",
       " ['check'],\n",
       " ['market', 'crash', 'deltavariant'],\n",
       " ['indicator',\n",
       "  'peak',\n",
       "  'inflation',\n",
       "  'fear',\n",
       "  'support',\n",
       "  'market',\n",
       "  'rally',\n",
       "  'house',\n",
       "  'auto',\n",
       "  'gas',\n",
       "  'health',\n",
       "  'insurance',\n",
       "  'business',\n",
       "  'inflation'],\n",
       " ['money', 'print', 'good'],\n",
       " ['consumer',\n",
       "  'confidence',\n",
       "  'level',\n",
       "  'arrive',\n",
       "  'force',\n",
       "  'inflation',\n",
       "  'expectation',\n",
       "  'problem',\n",
       "  'economy',\n",
       "  'recovery'],\n",
       " ['market', 'capitalism', 'market'],\n",
       " ['word'],\n",
       " ['ecosystem',\n",
       "  'cbdcs',\n",
       "  'bank',\n",
       "  'plan',\n",
       "  'confusion',\n",
       "  'stablecoin',\n",
       "  'horse',\n",
       "  'independence'],\n",
       " ['teacher', 'session', 'success'],\n",
       " ['inflation', 'auto'],\n",
       " ['discussion', 'headline', 'investor', 'portfolio', 'podcast', 'inflation'],\n",
       " ['tax'],\n",
       " ['response', 'message', 'expedite', 'ticket', 'call', 'block', 'money'],\n",
       " ['inequality',\n",
       "  'bubble',\n",
       "  'lack',\n",
       "  'economy',\n",
       "  'policy',\n",
       "  'expense',\n",
       "  'inflation',\n",
       "  'corruption',\n",
       "  'run'],\n",
       " ['poverty', 'hand', 'consideration', 'income', 'level', 'consequence'],\n",
       " ['asset', 'revolt'],\n",
       " ['tag', 'money', 'customer', 'freeze', 'reason', 'block', 'scam'],\n",
       " ['taper'],\n",
       " ['inflation',\n",
       "  'rocket',\n",
       "  'shortage',\n",
       "  'supply',\n",
       "  'chain',\n",
       "  'crisis',\n",
       "  'depression',\n",
       "  'collapse',\n",
       "  'inflation',\n",
       "  'unrest',\n",
       "  'summer'],\n",
       " ['skin', 'color'],\n",
       " ['banking', 'ripple', 'centralbank', 'level', 'tier', 'issue', 'rmb'],\n",
       " ['inflation', 'debate', 'inflation'],\n",
       " ['stimulus', 'check', 'news', 'inflation'],\n",
       " ['leader', 'economy', 'leader'],\n",
       " [],\n",
       " ['government', 'transaction', 'inflation'],\n",
       " ['profit', 'bitcoin', 'mining'],\n",
       " [],\n",
       " ['issue', 'money', 'care'],\n",
       " ['inflation', 'stockmarket', 'inflation'],\n",
       " ['market'],\n",
       " ['stopinsanepolicie'],\n",
       " ['loan',\n",
       "  'level',\n",
       "  'crisis',\n",
       "  'mortagage',\n",
       "  'loan',\n",
       "  'orgintion',\n",
       "  'pick',\n",
       "  'fall',\n",
       "  'depression'],\n",
       " ['border', 'money', 'relief'],\n",
       " ['plan', 'fantasy'],\n",
       " [],\n",
       " ['consumer',\n",
       "  'shift',\n",
       "  'service',\n",
       "  'underlie',\n",
       "  'trend',\n",
       "  'spending',\n",
       "  'read',\n",
       "  'article',\n",
       "  'economist',\n",
       "  'economy',\n",
       "  'inflation'],\n",
       " ['component', 'economy', 'federalreserve'],\n",
       " ['dollar'],\n",
       " ['tax'],\n",
       " ['tax', 'sensex', 'nifty'],\n",
       " ['goodness'],\n",
       " ['force'],\n",
       " ['recession', 'fall', 'inflation', 'story', 'bidenrecession'],\n",
       " [],\n",
       " ['tier',\n",
       "  'price',\n",
       "  'indice',\n",
       "  'state',\n",
       "  'element',\n",
       "  'renter',\n",
       "  'pay',\n",
       "  'rent',\n",
       "  'payment',\n",
       "  'upgrade',\n",
       "  'sale',\n",
       "  'leverage'],\n",
       " ...]"
      ]
     },
     "execution_count": 26,
     "metadata": {},
     "output_type": "execute_result"
    }
   ],
   "source": [
    "data_for_modeling"
   ]
  },
  {
   "cell_type": "markdown",
   "metadata": {},
   "source": [
    "<font size = 4><b><center><a id=\"section3\">3. BERT Topic Modeling</a>"
   ]
  },
  {
   "cell_type": "code",
   "execution_count": 27,
   "metadata": {},
   "outputs": [],
   "source": [
    "data = [' '.join(txt) for txt in data_for_modeling]"
   ]
  },
  {
   "cell_type": "code",
   "execution_count": 28,
   "metadata": {},
   "outputs": [
    {
     "data": {
      "text/plain": [
       "['inflation complexity part cdnecon inflation',\n",
       " 'inflation',\n",
       " 'woman',\n",
       " 'inflation',\n",
       " 'polarise bunker camp',\n",
       " 'ticker',\n",
       " 'cryptocurrency inflation level flux defi good',\n",
       " 'drug covid',\n",
       " 'reason inflation',\n",
       " 'inflation',\n",
       " 'inflation financialliteracy inflation government economy tune',\n",
       " 'paycheck protection program processing ppp business detail politician',\n",
       " 'family cell shift attention scandal problem bordercrisis inflation',\n",
       " 'mind action taker face crisis inflation',\n",
       " 'judgment deal dollar distribution mechanism decade sector stablecoin',\n",
       " 'food inflation',\n",
       " '',\n",
       " 'price food gas surge inflation',\n",
       " 'rmb crisis question',\n",
       " 'gold silver index print inflation',\n",
       " 'inflation',\n",
       " 'fact consumer food price food price inflation increase pandemic',\n",
       " 'restaurant price inflation edge',\n",
       " 'fighting',\n",
       " 'investor concern inflation labor shortage supply chain issue',\n",
       " 'inflation tax income household restaurant paring item combo meal strategy employ lift sale profit rise food cost',\n",
       " 'friend print money supply',\n",
       " 'military',\n",
       " 'food chain slash dollar menu family meal inflation',\n",
       " 'policy dream family murder fertility rate decline parent ramp salary cover generation min wage ounce',\n",
       " '',\n",
       " 'money inflation ramp energy sector outperform inflationaryenvironment',\n",
       " 'term debt cycle deleverage meltup record pile debt technician relax',\n",
       " 'shrinkflation company size charge size profit consumer price dollar form inflation',\n",
       " 'child',\n",
       " 'donor mitch',\n",
       " 'dollar',\n",
       " 'similarity period inflation lesson ignore call factor peril',\n",
       " 'inflation price inflation',\n",
       " 'rate debt record economy stock market ride flow money inflation rate debt inflation debt interestrate',\n",
       " '',\n",
       " 'deposit deposit bluevine account money call word',\n",
       " 'reward cryptocurrencie threat crypto',\n",
       " 'price bus order night',\n",
       " 'term consumer inflation expectation area inflation',\n",
       " 'challenge question altcoin',\n",
       " 'inflation datum roll score sale',\n",
       " 'term moron trap',\n",
       " 'concern inflation impact policy ease yield slip',\n",
       " 'face market monopoly charge control economy war defend interest',\n",
       " 'inflation problem inflation gold interestrate',\n",
       " 'pricing fear lack faith source author trend news visit market federalreserve',\n",
       " 'inertia rate pound fear inflation weigh currency',\n",
       " 'inflation inflation grocery shopping tomato price surging fuel',\n",
       " 'life',\n",
       " 'stock market',\n",
       " 'growth inception trading',\n",
       " 'wage price hike majority dal cartoon economy inflation wage',\n",
       " 'stock future fall recession inflation debt tax plan floridabuildingcollapse',\n",
       " 'action story government bail company accountability bailout',\n",
       " 'dividend trade book bond',\n",
       " 'action story government bail company accountability bailout',\n",
       " 'stock investor employment datum indication inflation pressure asianstockmarket business stock inflation',\n",
       " 'inflation lockdown whiplash',\n",
       " 'inflation inflation economy consumer price',\n",
       " '',\n",
       " 'condition ease basis point fomc meeting statement official',\n",
       " '',\n",
       " 'skepticism idea dollar',\n",
       " 'price expectation manufacturing sector service sector revise model show pass producer consumer price inflation',\n",
       " 'inflation risk overshoot inflation transitory',\n",
       " '',\n",
       " 'farm payroll job growth meeting oil fall inflation bond yield fall gold rally base metal ev boom',\n",
       " 'movie cinema theatre trick ticket inflation budget pandemic gt',\n",
       " 'zoom picture silver inflation',\n",
       " 'support fraud collapse fraud',\n",
       " 'trading strength virus fear stock commodity',\n",
       " 'market play game bitfinex exchange usdt',\n",
       " 'demonstrate doubt fraud terrorism',\n",
       " 'stock fall recession inflation debt tax plan floridabuildingcollapse',\n",
       " 'inflation trader',\n",
       " 'fall dollar debt stock fall recession inflation debt tax plan fatality',\n",
       " 'stablecoin risk',\n",
       " 'food price gasoline price price station hit road gasoline inflation gasoline',\n",
       " 'heart loss claim state license money prison confine',\n",
       " 'inflation economy recession fall inflation story',\n",
       " 'soothsayer investment',\n",
       " 'term inflation reason rise rate market bubble blowing economy plunge crisis federalreserve',\n",
       " 'inflation impact trading tune guide opportunity risk',\n",
       " 'vote cease',\n",
       " 'price rise investor inflation risk stockmarket worldmarket investor inflation',\n",
       " 'market investor profit inflation change condition asset class wealth investment',\n",
       " 'work class',\n",
       " 'moon',\n",
       " 'empire',\n",
       " 'consumer confidence rise consumer optimism hinder employment inflation trading inflation',\n",
       " '',\n",
       " 'rate hike economy inflation investing realestate interestrate',\n",
       " 'indictment',\n",
       " 'bike bicycle oil vegetable drip bjp solution inflation',\n",
       " 'construction industry period rise cost variety material construction inflation constractor production price',\n",
       " 'opinion inflatie inflation inflación eurozone',\n",
       " 'market situation gold inflation money rtltbot',\n",
       " 'evictionmoratorium economy job place inflation gasprice fact',\n",
       " 'stablecoin stablecoin',\n",
       " 'tuesdaymotivation policy bill inflation war rift origin abuse troop attack',\n",
       " 'money score inflation investment wealth',\n",
       " 'inflation rate country oil price expectation inflation hold',\n",
       " 'consumer confidence measure exacerbate fear inflation concern level',\n",
       " 'head asset hedge inflation',\n",
       " 'decade',\n",
       " '',\n",
       " 'inflation permanentinflation',\n",
       " 'stupidity dislocation',\n",
       " 'inflation trade inflation money trade',\n",
       " 'investment',\n",
       " 'agenda price consumer confidence barkin speak night',\n",
       " 'response lifting restriction economy consumer engage travel shopping dining inflation dampen enthusiasm degree',\n",
       " 'agenda price consumer confidence barkin speak night',\n",
       " 'cash saving form cash money inflation emergency fund rest',\n",
       " 'level inflation inflation adjust tip note inflation rate level return tip note',\n",
       " 'inflation target level',\n",
       " 'baby step direction policy tightening fomc way bond buying program',\n",
       " 'agenda price consumer confidence barkin speak night',\n",
       " 'fund rate stock commodity price enact comment market pricing rate basis point',\n",
       " 'combination inflation term rate',\n",
       " 'currency analysis question datum trading rkrivofx currency market finance trading usd economy inflation stock',\n",
       " '',\n",
       " '',\n",
       " 'inflation press concern',\n",
       " 'decomposition',\n",
       " 'inflation increase economy price inflation',\n",
       " 'investor',\n",
       " 'fear mutate virus recovery toll risk appetite quarter virus risk currency market finance trading usd economy inflation stock',\n",
       " '',\n",
       " 'school diploma increase college graduate record pressure inflation',\n",
       " 'investor mix signal policy tightening inflation rate yield job',\n",
       " 'eye',\n",
       " 'statement',\n",
       " 'estate moon',\n",
       " 'mortgage mbs market',\n",
       " 'country inflation',\n",
       " 'hedgefund transfer asset inflation diversify',\n",
       " 'reporter mortgage rate mortgage security purchase',\n",
       " 'authorize sign',\n",
       " 'bubble house',\n",
       " 'sink nomination',\n",
       " 'consumerism inflation increase money stock miniscule damage economy taxation print inflation',\n",
       " 'opposite',\n",
       " 'report yield inch consumer confidence investing federalreserve',\n",
       " 'yield inflation datum dollar ground term gold silver',\n",
       " 'point woman son',\n",
       " 'image',\n",
       " 'card plastic metal expiration rest payment fingerprint',\n",
       " 'datum drive guess estimate',\n",
       " '',\n",
       " 'weather cashless society coin gold',\n",
       " 'growth peak inflation recovery drive explosion government finish repeat rate growth peak quarter growth rate inflation',\n",
       " '',\n",
       " 'housing inflation rent land economist skyrocket price transitor car cricket',\n",
       " 'limit earth recommendation flow panic mining regulate calling felon',\n",
       " 'stablecoin fear report',\n",
       " 'condemn inflation',\n",
       " 'woman mortgage security mbs',\n",
       " 'inflation money supply point misdirection moment',\n",
       " 'banking tech',\n",
       " 'inflation impact trading tune minute guide opportunity risk',\n",
       " 'stooge',\n",
       " 'internet',\n",
       " '',\n",
       " 'image',\n",
       " 'term inflation base drive headline inflation sign peak model predict rise core price accelerate economy macro',\n",
       " 'money inflation',\n",
       " 'maoist',\n",
       " 'establishment management flame box mystery meat chip cost inflation',\n",
       " 'return',\n",
       " '',\n",
       " 'sense fomc trading write security fomc raise dividend lead pack',\n",
       " 'pant crypto',\n",
       " 'bellyexpansion inflation',\n",
       " 'inflation transitory',\n",
       " 'cash transfer baby',\n",
       " 'portion tune mark help',\n",
       " 'response lifting restriction economy consumer engage travel shopping dining inflation dampen enthusiasm degree',\n",
       " '',\n",
       " 'number inflation doubt market',\n",
       " 'inflation',\n",
       " 'bubble commentary price inflation cryptoart',\n",
       " 'request government inflation consumer saving struggle lessjobs economy',\n",
       " 'response lifting restriction economy consumer engage travel shopping dining inflation dampen enthusiasm degree',\n",
       " 'inflation',\n",
       " 'security exercise market',\n",
       " 'ability price market inflation stimulus',\n",
       " 'cycle credit condition cycle fix income valuation midyear fix income outlook bond fixedincome coronavirus inflation',\n",
       " 'price fall print gold silver',\n",
       " 'inflation rate',\n",
       " 'fixture capital market debt instrument nail',\n",
       " 'price purchase rise talk inflation podcast click inflation stockmarket',\n",
       " 'shame bidding',\n",
       " 'increase fill position xglobalmarket inflation feed',\n",
       " 'curve class economy inflation',\n",
       " 'pant',\n",
       " 'mortgage banker supply occupant valuation raise gfee',\n",
       " 'inflation article inflation price rate brexit wage rate growth debt price asset market interestrate economy bond recession investment realestate market finance',\n",
       " 'inflation foodstuff',\n",
       " 'eye gage vx bond inflation economy vlo',\n",
       " 'response lifting restriction economy consumer engage travel shopping dining inflation dampen enthusiasm degree',\n",
       " '',\n",
       " 'design',\n",
       " 'economy',\n",
       " 'hate care',\n",
       " 'failure management investor trip risk',\n",
       " '',\n",
       " 'market inflation century',\n",
       " 'percentage pay country president level tax',\n",
       " 'debt bubble junk yield divorce semblance reality debt yield destruction loot formation engineering layoff job policy',\n",
       " 'supply inflation retreat inflation',\n",
       " 'thrill guess',\n",
       " 'bank money risk discipline loan assure loan pay',\n",
       " 'investing focus term fact endure condition inflation investing blog',\n",
       " 'investor currency commodity',\n",
       " 'icymi hike rate rescue money market fund rate call wit',\n",
       " '',\n",
       " 'inflation raise rate',\n",
       " 'joke love biden work',\n",
       " 'gold ratio gold silver term encourage inflation autumn',\n",
       " 'member policy work rate bind inflation',\n",
       " 'price price surge rate case shiller',\n",
       " 'inflation',\n",
       " 'music music lover inflation rowle blacklivesmatter',\n",
       " 'institution majority family home price rate case shiller',\n",
       " '',\n",
       " 'quarter point growth inflation xglobalmarket inflation feed',\n",
       " 'music video promotion audience inflation rowle blacklivesmatter rowling',\n",
       " 'price push supply chain problem pricing condition federalreserve',\n",
       " 'work',\n",
       " 'job buy price inflation criminal',\n",
       " 'question condition change business alter aversion price barkin federalreserve',\n",
       " 'investor indifferent prepayment loss emphasis',\n",
       " 'hip hop edm music audience inflation rowle blacklivesmatter rowling',\n",
       " 'criticalracetheory africanqueen',\n",
       " 'work',\n",
       " 'patreon audience inflation rowle blacklivesmatter rowling',\n",
       " 'pricing retailer shopping globalization federalreserve',\n",
       " '',\n",
       " '',\n",
       " 'traffic inflation rowle blacklivesmatter',\n",
       " 'voice idea insight job child support dick',\n",
       " 'inflation wealth transfer lender professor faculty director',\n",
       " 'music music lover inflation rowle blacklivesmatter',\n",
       " 'inflation handle',\n",
       " 'punt comment stuff usdc transparency issue binance trust',\n",
       " 'flattening yield curve compare inflation inflation market rate hawks',\n",
       " '',\n",
       " '',\n",
       " 'debt',\n",
       " 'music night life inflation rowle blacklivesmatter',\n",
       " 'debt',\n",
       " 'change inflation rowle blacklivesmatter',\n",
       " 'country coin step eye money',\n",
       " 'boi',\n",
       " 'housing market update market watch boom bust market housingboom thefe screeneze',\n",
       " 'invitation trading community asset class stock option follow trade opportunity tradephantom trade stock option forex trader tradesignal inflation',\n",
       " 'inflation risingrent problem decade',\n",
       " 'music food love surfeiting inflation rowle blacklivesmatter',\n",
       " 'charge money',\n",
       " 'race history future',\n",
       " 'work',\n",
       " 'politician inflation watch',\n",
       " '',\n",
       " 'ass',\n",
       " 'inflation bond price gain increase price',\n",
       " 'inflation rowling',\n",
       " 'taper employment xglobalmarket inflation economy employment',\n",
       " 'policy reason inflation burn price surge monetarypolicy structure',\n",
       " 'development fundamental update oil gold fomc',\n",
       " '',\n",
       " 'job payroll figure rise outcome base progress employment inflation federalreserve',\n",
       " 'case price pace price inflation record inflation',\n",
       " 'inflation rowling blacklivesmatter',\n",
       " '',\n",
       " 'uncertainty economy hotter federalreserve',\n",
       " 'policy shift communicate prefer drama barkin federalreserve',\n",
       " 'definition progress',\n",
       " 'channel viewer inflation rowle blacklivesmatter',\n",
       " 'market mess',\n",
       " 'sequencing taper rate rise condition outcome flexibility federalreserve',\n",
       " 'fall dollar debt stock fall recession inflation debt tax plan fatality',\n",
       " '',\n",
       " 'child promotion reader inflation rowle blacklivesmatter',\n",
       " 'increase subscriber inflation rowle blacklivesmatter',\n",
       " 'response era policy inflation macroeconomic',\n",
       " 'price inflation economicrecovery oilprice',\n",
       " 'situation mandate band growth brokerage',\n",
       " 'marketing promotion audience inflation rowle blacklivesmatter',\n",
       " '',\n",
       " 'inflation inflation bitcoinfixesthis',\n",
       " 'promotion audience inflation rowle blacklivesmatter rowling',\n",
       " 'music promotion rise listening inflation rowle blacklivesmatter',\n",
       " 'inflation supply chain delay challenge inflation',\n",
       " 'money inflation',\n",
       " 'spending pay investment stuff pay federalreserve',\n",
       " 'case inflation inflation',\n",
       " 'stimulus boost barkin federalreserve',\n",
       " 'collapse dollar debt stock fall recession inflation debt tax plan fatality',\n",
       " 'growth inflation hike rate report rbi centralbank inflation',\n",
       " 'discipline exercise match policy forecast colleague dot federalreserve',\n",
       " 'money throw sea money',\n",
       " 'stock raise dividend update mannarino crypto trading ban market inflation centralbank buy',\n",
       " 'purpose core consolidation mechanism design advance goal',\n",
       " 'price case shiller call reaction transitory recession prompt housing sector',\n",
       " 'price surge inflation',\n",
       " 'company price inflation surge company pass rise commodity cost consumer',\n",
       " '',\n",
       " 'case pace case charlesrutenbergrealty realtor',\n",
       " 'concern address product strain way concern raise term spera stablecoin',\n",
       " 'economy feed sideline job market xglobalmarket inflation feed economy',\n",
       " 'spy recession history theory stem',\n",
       " 'compensation employee fall household income decline government transfer compensate loss income xglobalmarket inflation economy',\n",
       " 'cycling advise guru misery unemployment inflation मोदीहैतोबर्बादीहै',\n",
       " 'force federalreserve',\n",
       " 'inflation tbf tbt',\n",
       " 'stability',\n",
       " 'stability risk leverage barkin federalreserve',\n",
       " 'juice supply taxpayer cash rate suppression policy stock market travel nosebleedvaluation',\n",
       " 'inflation inflation work',\n",
       " 'government organise crime syndicate sense decepticon inflation extortion',\n",
       " 'figure attempt downplay inflation',\n",
       " 'report issue pick article stock market action stock inflation sevensreport',\n",
       " 'note combination mortgage rate surge price regulator housing sector',\n",
       " 'forbearance inflation post',\n",
       " 'program',\n",
       " 'inflation message test polling publicpolicy inflation marketresearch',\n",
       " 'retiree inflation money budget retiree adcockrental',\n",
       " 'mortgage',\n",
       " 'impact cost earth commodity inflation scare',\n",
       " 'inflation problem inflation',\n",
       " 'trade money spy increase inflation bubble money crypto dollar',\n",
       " 'estate portfolio building equity bond inflation hedge investor manage privateasset complexity premium',\n",
       " 'generate commodity supercycle firm capture move trade talk inflation managedfuture bitcoin',\n",
       " 'inflation gold hedge usinflation silver',\n",
       " 'stockbubblemanager',\n",
       " 'consumer inflation rate expectation inflation',\n",
       " 'condition expectation job bounce number inflation expectation eurozone usd',\n",
       " 'inflation scarcity supply chain loom',\n",
       " 'hyperinflation governor core',\n",
       " 'account promise slam gold',\n",
       " 'supply chain bottleneck inflation transitory',\n",
       " 'rent inflation transitory project money mortgage economy creditscore realtor',\n",
       " 'policy analyst applynow',\n",
       " 'consumer confidence report inflation expectation dent purchase plan',\n",
       " '',\n",
       " 'father',\n",
       " 'market project volatility slowdown project',\n",
       " 'energy break',\n",
       " 'housing bubble inflation price rise inventory demand money supply collapse housing situation',\n",
       " 'trade push economy point unsustainability',\n",
       " 'trade company review',\n",
       " 'mind',\n",
       " 'metal inflation oil erase deal setback strength strength detail',\n",
       " '',\n",
       " 'hair decrease buck',\n",
       " 'dollar',\n",
       " 'trade company review',\n",
       " 'country shareholder gofigure',\n",
       " 'market correction slowdown trigger recession job outpace growth',\n",
       " 'credit contraction crisis bottleneck inventory work print money inflation lending',\n",
       " 'money rate mortgage bond buying yield asset cost',\n",
       " '',\n",
       " 'stimulus tool growth',\n",
       " 'collapse dollar debt stock fall recession inflation debt tax plan fatality',\n",
       " 'ability governor spotlight governor member',\n",
       " 'raise debt ceiling spending debt',\n",
       " 'inflation mortgage bond realestate mortgagenew',\n",
       " 'collapse dollar debt stock fall recession tax plan fatality',\n",
       " 'inflation',\n",
       " 'anxiety solution heart love inflation',\n",
       " 'stress test stage payout',\n",
       " 'mind price pace estate price transitory',\n",
       " 'consumer confidence situation employment optimism firm expectation inflation expectation impact confidence',\n",
       " 'bond mortgage security economy smallbusinesse drown ppp',\n",
       " 'radar trend investor relief inflation fear',\n",
       " 'price rise pace price inflation record source',\n",
       " 'gold stock trade trading silversqueeze investment investor inflation stock',\n",
       " 'gold stock trade trading silversqueeze investment investor inflation',\n",
       " 'inflation amount wealth cash read',\n",
       " 'drug economy increase inflation moneytalk',\n",
       " 'price analysis scenario bitcoin gold inflation term decade',\n",
       " 'bottle inflation',\n",
       " 'datum tue consumer confidence adp process employment report claim employment situation factory order',\n",
       " 'heatingoil price winter inflation',\n",
       " 'inflation progress xglobalmarket inflation feed economy',\n",
       " '',\n",
       " 'inflation tin tomato dearer combine cost stir labourmarket shortage twist brexit weather voila business food',\n",
       " 'color icon',\n",
       " 'agitator investment adviser cheat investment reality loss',\n",
       " 'note metal level view inflation follow',\n",
       " 'price mom inflation transitory realestate reit inflation',\n",
       " 'junk bond yield account coinbase coin coinbase license',\n",
       " 'period dividend pay stock offer buffer growth stock debt cash hand bond stock inflation',\n",
       " 'bull market asset',\n",
       " 'technology compliance practice requirement fedline solution program',\n",
       " 'price quantity price trading platform wallet payment method mainstream method pay contact whatsapp',\n",
       " '',\n",
       " 'inflation hurt economy bank',\n",
       " 'job',\n",
       " 'housing policy joke wealth gap creation stock market nonsense',\n",
       " 'fedhistory',\n",
       " 'employment figure barkin work xglobalmarket inflation growth',\n",
       " '',\n",
       " 'video economy housing market economist banking bond feed federalreserve inflation',\n",
       " 'business economy place',\n",
       " 'bank swap line',\n",
       " 'excitement inflation rate economy',\n",
       " 'inflation reason rate fxe uup',\n",
       " 'inflation term phenomenon reality company precision strategy pricing pressure',\n",
       " 'chart face speculation cheatcode correction inflation gold silversqueeze',\n",
       " 'confidence',\n",
       " 'event inflation',\n",
       " 'concern',\n",
       " 'level contempt',\n",
       " 'inflation catalog price update manufacturer work price ecb inflation manufacturer price',\n",
       " 'consumer confidence inflation expectation rise doubt government spending',\n",
       " 'rate debt record economy stock market ride flow money inflation rate debt inflation debt interestrate',\n",
       " 'cathie wood dollar gain increase yield concern inflation federalreserve measure price rise meet expectation',\n",
       " 'parent inflation',\n",
       " 'pass help piece legislation',\n",
       " 'pain',\n",
       " 'restriction tool',\n",
       " 'job expense employ rock',\n",
       " 'leverage fedballoon bubblemanager',\n",
       " '',\n",
       " 'energy cost inflation crime job moron',\n",
       " 'inflation condition lever economy rate target card wage rate fwn',\n",
       " 'parameter peak commoditie inflation equity estate spread level equity inflation',\n",
       " 'condition hike rate feed barkin circumstance raise rate xglobalmarket inflation growth',\n",
       " 'security church',\n",
       " 'collapse dollar debt stock fall recession tax plan fatality',\n",
       " 'minority comment policy trill wealth guessing response shill',\n",
       " 'budget rise interestrate start liquidity analysis',\n",
       " 'ball debt inflation wealth eye',\n",
       " 'downtrend break head cycle cycle gold silver',\n",
       " 'smoke mirror inflation',\n",
       " 'theme inflation investment growth cash click link inflation ghanaianeconomy investment money financialsecuirity',\n",
       " 'consumer price report percent voter concern price increase polling inflation',\n",
       " 'stock adult life stock market mind blow face market manipulation crash stand',\n",
       " 'inflation framework',\n",
       " 'opinion building',\n",
       " 'climate energy target transformation xglobalmarket inflation',\n",
       " 'transitory',\n",
       " 'inflation plan inflation inflation inflation inflation',\n",
       " 'price inflation inflation inflation',\n",
       " 'rise energy price administration curtail production inflation energyindependence',\n",
       " 'inflation',\n",
       " 'moderation emphasis inflation level unemployment level unemployment level unemployment exacerbate wage inequality bargaining power labor',\n",
       " 'police skyrocket crime inflation drug gun divide communism job',\n",
       " '',\n",
       " 'tail distribution risk management risk assessment risk management aim tail event tailrisk',\n",
       " 'deficit inflation inflation money centralbank stimulus',\n",
       " 'race theory belief family treat family papa reserve industry conglomerate',\n",
       " 'deficit inflation inflation money centralbank stimulus',\n",
       " 'recovery economy hole xglobalmarket inflation feed',\n",
       " 'inflation concern jury impact secondwave infection emerge economy economist',\n",
       " 'address problem fund',\n",
       " 'inflation drive metal financialadvisor',\n",
       " 'credit spread corporation business model access debt equity inflation',\n",
       " 'result credit expansion bank inflation',\n",
       " 'dividend inflation',\n",
       " 'quarter point growth inflation xglobalmarket inflation growth',\n",
       " 'inflation healthcarewithoutborder',\n",
       " 'pay taxessure food material housing cost pay nose policy bidenflation',\n",
       " '',\n",
       " 'price administration bleed pocket bidenlie regulationsmatter',\n",
       " 'pay',\n",
       " 'price price appreciate record',\n",
       " 'inflation inflation economy',\n",
       " 'inflation',\n",
       " 'reading eyeopene cartel',\n",
       " 'inflation policy way address gender inequity',\n",
       " 'chance money',\n",
       " 'hedge fintwit iot trade stockstowatch',\n",
       " 'imagination ostracizingleadership',\n",
       " 'bank work good mbs market',\n",
       " 'recovery crisis stimulus challenge policymaker economy market centralbank inflation publicdebt monetarystimulus',\n",
       " 'car inflation',\n",
       " 'recovery crisis stimulus challenge policymaker economy market centralbank inflation publicdebt monetarystimulus',\n",
       " 'recovery crisis stimulus challenge policymaker economy market centralbank inflation publicdebt monetarystimulus',\n",
       " 'spending inflation crisis',\n",
       " 'market trade cape ratio money invest cost hold step raise rate',\n",
       " 'debate inflation cause market op reduce bond purchase inflation threat',\n",
       " 'attack inflation',\n",
       " 'inflation attempt inflation risk recovery term outlook face twitter',\n",
       " 'bank money',\n",
       " 'analyst war twitter feed',\n",
       " 'factor drugcost',\n",
       " 'company price silver inflation gotsilver',\n",
       " 'factor drugcost',\n",
       " 'inflation destroy economy load pork enemy aid mix blow inflation',\n",
       " 'analysis psychology',\n",
       " 'inflation wage moderation wage work unemployment wage growth',\n",
       " 'inflation technology accelerate resource extraction resource depletion expansion ignore',\n",
       " 'inflation challenge moment issue employment reopen economy',\n",
       " 'mind conflict driver',\n",
       " 'reason chip shortage car shortage appliance shortage increase oil price inflation',\n",
       " 'scam',\n",
       " '',\n",
       " 'money paper',\n",
       " '',\n",
       " 'money vote',\n",
       " '',\n",
       " 'money love avoid victim',\n",
       " 'organization work money',\n",
       " '',\n",
       " 'inflation renegade money inflation bank money history bank',\n",
       " '',\n",
       " 'call tmobile concern money account lie lie lie',\n",
       " 'account',\n",
       " 'consumer consensus estimate consumer inflation growth job wage interestrate',\n",
       " 'deal debt base money falsehood disguise',\n",
       " 'bank raise dividend housing price stock eat trading bank housing inflation',\n",
       " 'competition',\n",
       " 'technology issue',\n",
       " 'thumb cryptocurrency',\n",
       " 'unemployment story inflation',\n",
       " 'momentum crippler wealth economist emerge inflation inflation economy supplychain debt labor',\n",
       " '',\n",
       " 'outlier return theory expansion inflation',\n",
       " 'money',\n",
       " 'pay firework inflation',\n",
       " 'office employee money federalreserve',\n",
       " 'bank money',\n",
       " '',\n",
       " 'market outlook inflation stock growth stock stock stock tackle question economy rest',\n",
       " 'money',\n",
       " 'stock correction risk fall strategist news source trend news visit trade',\n",
       " '',\n",
       " 'reason customer conceal party transact shutdown tmobile money joke',\n",
       " 'money saturate inflation case scenario',\n",
       " '',\n",
       " 'money saturate inflation case scenario',\n",
       " 'guest',\n",
       " 'money saturate inflation case scenario',\n",
       " 'money saturate inflation case scenario',\n",
       " 'money saturate inflation case scenario',\n",
       " 'dollar balance sheet',\n",
       " 'money saturate inflation case scenario',\n",
       " 'print crypto',\n",
       " '',\n",
       " 'boom bust term feed friend',\n",
       " 'inflation price',\n",
       " 'money saturate inflation case scenario',\n",
       " 'life',\n",
       " 'thesis',\n",
       " '',\n",
       " 'consumer shift service underlie trend spending read article economist economy inflation',\n",
       " 'fedhistory',\n",
       " 'bank money',\n",
       " 'life inflation market bubble',\n",
       " 'crypto pose question bank federalreserve',\n",
       " 'balance sheet coincidence',\n",
       " '',\n",
       " 'business',\n",
       " '',\n",
       " 'recovery vaccine growth consumption spending inflation',\n",
       " 'consumer inflation rate expectation level inflation rate growth recovery price pmi oil gas demand price',\n",
       " 'regulator concern effect',\n",
       " 'piece colapse',\n",
       " 'oil price demand expectation supply expectation fall rise fuel input price contributing factor rise ppis cpis',\n",
       " 'restaurant transitorynot inflation',\n",
       " 'business federalreserve',\n",
       " 'liquidity hell',\n",
       " 'dollar inflation',\n",
       " 'inequality',\n",
       " 'currency pose risk benefit cbdcs',\n",
       " 'downtrend chart stack panic inflation',\n",
       " 'tuesdaymotivation inflation inflation gold',\n",
       " 'town cost clam outrage inflation',\n",
       " 'import tax palm oil tax import budget inflation',\n",
       " '',\n",
       " 'spending office project impact reconciliation bill inflation',\n",
       " 'bullshit engineering',\n",
       " 'politician',\n",
       " 'dollar inflation',\n",
       " 'market control spy',\n",
       " '',\n",
       " '',\n",
       " 'blame price increase impact cure print money reason inflation',\n",
       " '',\n",
       " '',\n",
       " 'earth',\n",
       " 'lie inflation',\n",
       " 'inflation',\n",
       " 'inflation',\n",
       " 'banker',\n",
       " 'corporation benefit bonus contribute encourage',\n",
       " 'coin turning benefit change plan future everycoincount',\n",
       " 'scheme',\n",
       " '',\n",
       " 'housing market crash bail government housingcrisis economy investment inflation',\n",
       " 'money bank drain pay share land',\n",
       " 'handler vote green',\n",
       " 'ship order answer question',\n",
       " 'heritage company segment milk product margin profit share inflation stockstowatch',\n",
       " 'quarter quarter',\n",
       " 'country food inflation pricingpower mrp paisawasool budget government business resource industry petrol',\n",
       " 'inflation rate record mark reason market check blog',\n",
       " 'excuse development figure gas room',\n",
       " 'financialstability',\n",
       " 'inflation expert session inflation join inflation',\n",
       " '',\n",
       " 'consumer shift service underlie trend spending read article economist economy inflation',\n",
       " 'phrase',\n",
       " 'target prospect inflation range problem economy case growth inflation process',\n",
       " '',\n",
       " 'market injection liquidity bubble money finance inflation gold',\n",
       " '',\n",
       " '',\n",
       " 'inflation outcome',\n",
       " 'transfer wealth history supervision screw',\n",
       " 'gold silver decade money tin uranium manipulation commodity inflation',\n",
       " '',\n",
       " 'estate realestateinveste crypto inflation',\n",
       " 'story tax favor order policy lawyer train tax specialist pay',\n",
       " 'supply management encourage trend supplier diversity inflation subscribe resource center',\n",
       " 'consumer confidence house price inflation heat economy',\n",
       " 'administration inflation gasshortage gasprice absenteeleadership',\n",
       " '',\n",
       " '',\n",
       " 'inflation explainer',\n",
       " 'security sound fun',\n",
       " 'reset',\n",
       " 'aristocracy',\n",
       " 'tax reform',\n",
       " '',\n",
       " 'inflation bidenbordercrisis inflation donaldtrump',\n",
       " 'argument diversification fix inflation inflation',\n",
       " 'hit market',\n",
       " 'file technologie growth cannabiscommunity',\n",
       " 'tax deal',\n",
       " 'collapse dollar debt stock fall recession tax plan fatality',\n",
       " 'inflation inflation rate bond participant shrug bondmarket',\n",
       " 'supercycle money inflation hackernoontopstory',\n",
       " 'authority policy policy control money control',\n",
       " 'business struggle howto respond management job job work money pay wage inflation customerservice strategy marketing competition worker employee',\n",
       " '',\n",
       " 'estate realestateinveste crypto inflation',\n",
       " '',\n",
       " 'panic cover',\n",
       " 'usd rise rate gold gold catalyst energize market lack impetus buy bar cont weaknesss',\n",
       " 'construction business capital consumer appliance money inflation economy stock invest',\n",
       " 'inflation rate change',\n",
       " 'share view inflation consumer return credit watch clip',\n",
       " 'inflation look commodity car value money privateinvesting capital capitalmarket',\n",
       " 'buying security',\n",
       " 'congressman want madness inflation gold',\n",
       " 'estate goose feed market money',\n",
       " '',\n",
       " 'governor',\n",
       " '',\n",
       " 'governor mix commentary',\n",
       " 'market struggle uncertainty inflation rate supply chain issue stock',\n",
       " 'market struggle uncertainty inflation rate supply chain issue stock',\n",
       " 'market struggle uncertainty inflation rate supply chain issue stock',\n",
       " 'inflation bull inflation',\n",
       " '',\n",
       " 'inflation impact risk benefit inflation stockmarket stock trading',\n",
       " 'theme song',\n",
       " 'police',\n",
       " 'stage inflation plan',\n",
       " 'inflation pattern bond market summerlull equity rein push',\n",
       " 'rock money child hope',\n",
       " 'inflation affect investor return',\n",
       " 'business decision inflation cost product service decision determine business future inflation inflationexpectation',\n",
       " '',\n",
       " 'contribute price surge minority chance support',\n",
       " 'inflation company shrinkflation consumer inflation',\n",
       " 'demand supply imbalance ease inflation auto production capacity semiconductor plant supply microchip inflation',\n",
       " 'inflation pay car inflation sofortcollin',\n",
       " 'money asset',\n",
       " 'inflation transitory',\n",
       " '',\n",
       " 'break tge law work class tent',\n",
       " 'order product',\n",
       " 'eye report indicator demand price jump join worry inflation',\n",
       " '',\n",
       " 'inflation risk',\n",
       " 'law monopoly',\n",
       " 'tax expense business retailer restaurant street inflation policy bidenomic',\n",
       " 'fate prospect capitalism technocrat',\n",
       " 'stillless minority leave',\n",
       " '',\n",
       " '',\n",
       " 'mess shipping container inflation inflation shippingcontainer',\n",
       " 'work',\n",
       " 'card pump',\n",
       " 'path existence',\n",
       " 'benefit inclusion discussion icba engage',\n",
       " 'market knowledge market knowledge academia',\n",
       " 'inflation bank trend governor recovery centralbank',\n",
       " 'asset price profit whitey moon minority situation',\n",
       " '',\n",
       " 'money stock bubble',\n",
       " 'brilliance note',\n",
       " 'bank money',\n",
       " 'silver inflation turn silvershortage',\n",
       " 'money company investor volatility mania market stock valueinveste makemoney investment',\n",
       " 'inflation rate economist prediction',\n",
       " 'market market valuation watch sign increase inflation interestrate',\n",
       " 'money',\n",
       " 'inflation cryptoasset inflation',\n",
       " 'inflation rate economist prediction',\n",
       " 'inflation independence weekend inflation',\n",
       " 'inflation shock',\n",
       " 'town estate league pandemic turn table price growth market inflation',\n",
       " 'market bond buy bond price bank stay solvent',\n",
       " 'market',\n",
       " 'event deflation disinflation inflation',\n",
       " 'event inflation disinflation deflation',\n",
       " 'art raffle work fill space furryart inflation artraffle',\n",
       " 'shout',\n",
       " 'market',\n",
       " 'friend weekend belly inflation',\n",
       " 'equality future power leader inflation dot theta link',\n",
       " 'inflation interestrate policy politic biden',\n",
       " 'attention income inequality exacerbate problem criticism oppose direction',\n",
       " '',\n",
       " 'exchange',\n",
       " 'price inflation',\n",
       " '',\n",
       " 'market treasurybond bond price bank stay solvent',\n",
       " 'indicator peak inflation fear support market rally',\n",
       " 'inflation subprime contain gold bitcoin',\n",
       " 'fact debt hoovering',\n",
       " 'sign attention',\n",
       " 'mother',\n",
       " 'market head economist inflation',\n",
       " 'rate',\n",
       " 'estate price rise inflation',\n",
       " '',\n",
       " 'inflation worry link comment share inflation financialadvisor',\n",
       " 'bank sand pressure inflation',\n",
       " 'inflation gum sale pay airwave money',\n",
       " 'request difference form hold money mint coinage',\n",
       " 'juice market update livestream',\n",
       " 'inflation',\n",
       " 'board bond trader pay',\n",
       " 'climate risk certainty',\n",
       " 'release report detail area guidance inflation labor policy',\n",
       " 'swamp chance challenge',\n",
       " 'explore method measure inflation thief strategy fixedincome portfolio bond rate interestrate',\n",
       " 'yield situation housing market manageable scale speed loom absence support trouble rate',\n",
       " 'rate investment op personalfinance',\n",
       " '',\n",
       " 'deficit percent surplus wage living percent deficit minimum wage minimum living',\n",
       " '',\n",
       " 'federalreserve',\n",
       " 'inflation lumber',\n",
       " 'price growth record inflation',\n",
       " 'emergency policy',\n",
       " '',\n",
       " 'reason producer inflation shortage labor employment situation challenge family school childcare realestate mortgagelending',\n",
       " 'emergency',\n",
       " 'investor return inflation advisory fee',\n",
       " '',\n",
       " 'mess sustain rate',\n",
       " 'bank increase dividend institution risk base capital requirement',\n",
       " 'video stack silver gold help patience discipline money wealth success motivation inspiration economy inflation',\n",
       " 'housing crisis housing realestate market news trend stock inflation economy',\n",
       " 'face remind',\n",
       " 'money',\n",
       " 'video inflation',\n",
       " 'home download housing realestate market news trend stock inflation',\n",
       " 'article metal term gold silver inflation',\n",
       " 'economy wage job pay worker wage',\n",
       " 'inflation aspect',\n",
       " 'inflation bodyinflation blueberryexpansion expansion',\n",
       " 'gas food electricity lumber metal refund check penny inflation',\n",
       " 'equity bond correlation update inflation roll correlation bond future territory mar regime change commodity',\n",
       " 'inflation cc',\n",
       " '',\n",
       " 'silver',\n",
       " 'topic inflation altcoin',\n",
       " 'job',\n",
       " 'price tag bubble vancity inflation',\n",
       " 'transitory',\n",
       " 'enterprise operation align function government',\n",
       " '',\n",
       " 'dollar stock portfolio population portfolio',\n",
       " 'credit bordercrisis inflation',\n",
       " 'work trading option trust play investment anchor success',\n",
       " 'deposit deposit',\n",
       " 'economy money money hypocrite inflation',\n",
       " 'case inflation inflation transitory',\n",
       " 'attack pool manipulation',\n",
       " 'financialstability veteran',\n",
       " 'eye hurricane money supply decrease inflation proof',\n",
       " 'taper question trade desk spy fomc',\n",
       " 'rate dip investing federalreserve',\n",
       " '',\n",
       " 'head shoulder pattern formation view economy inflation job market link',\n",
       " '',\n",
       " 'dollar sheet plywood inflation',\n",
       " 'debate inflation deflation market barometer thermometer policy wealth banker copper fomc inflation economy',\n",
       " 'inflation indicator post decade economy investment lease sale',\n",
       " 'crisis news digitalasset',\n",
       " 'inflation',\n",
       " 'inflation',\n",
       " 'inflation',\n",
       " '',\n",
       " 'talk investment strategy inflation disaster author business finance financialeducation inflation investment rate risk spirituality',\n",
       " 'action federalreserve',\n",
       " 'inflation push debt',\n",
       " 'murder',\n",
       " 'stimuluscheck inflation',\n",
       " 'retirement inflation term nest egg life optimize possibility',\n",
       " 'growth inflation',\n",
       " 'tax payer money',\n",
       " 'inflation',\n",
       " 'tax payer money',\n",
       " 'market start idea inflation spy',\n",
       " 'increase price sign loom inflation result city suburb question jump realestate market housingmarket',\n",
       " 'sheet push action market difference federalreserve inflation debt',\n",
       " 'government technology call print press produce dollar wish cost',\n",
       " 'inflation opportunity cash invest income asset',\n",
       " 'inflation worry link comment share inflation financialadvisor',\n",
       " 'inflation factor',\n",
       " 'inflation',\n",
       " 'inflation',\n",
       " 'collection death',\n",
       " 'cpisecurity',\n",
       " 'autumn depression inflation collapse',\n",
       " 'inflation money financialeducation personalfinance',\n",
       " 'compare economy infrastructure inflation tech bunch bubble bubble',\n",
       " 'money money policy',\n",
       " 'market market',\n",
       " 'inflation story government help',\n",
       " '',\n",
       " 'economy genius line',\n",
       " 'overtime',\n",
       " 'climate crisis risk greenback go dump argue buying debt',\n",
       " 'btc btc reach stop print money',\n",
       " 'idea print bitcoin currency property push tax plan work capital gain',\n",
       " 'lottery',\n",
       " 'money supply',\n",
       " '',\n",
       " 'trust soil inequality bubble inflation oil tax',\n",
       " 'country',\n",
       " 'boom economy question',\n",
       " 'stock',\n",
       " 'complacency inflation hedge fund head flag concern touch market',\n",
       " 'blood skin color education level parent',\n",
       " 'game',\n",
       " 'fomc',\n",
       " 'recession price base inflation',\n",
       " 'inflation stock stockmarket',\n",
       " 'flour cost couple food item meat price buy lbs taste inflation',\n",
       " 'cost pass consumer price inflation feed feeding',\n",
       " 'inflation',\n",
       " 'consumer shift service underlie trend spending read article economist economy inflation',\n",
       " 'inflation transitory',\n",
       " 'property price count price price accelerate pace record',\n",
       " 'housing realestate market news trend stock inflation',\n",
       " '',\n",
       " 'inflation concern inflation stock',\n",
       " 'worry care turn feed outlet',\n",
       " 'consumer confidence confidence level expectation start worry inflation confidence level inflation expectation yr',\n",
       " 'steel price commodity rise inflation roll steel price record infrastructure deal',\n",
       " 'bailout foundation lead creation set',\n",
       " '',\n",
       " 'reserve history country government history fiat currency gold silver',\n",
       " 'reserve history country government history fiat currency gold silver',\n",
       " 'gold gold silver',\n",
       " 'economy business money digitaltransformation tech science stem stem stemeducation smartvideo',\n",
       " 'tax expense business retailer restaurant street inflation policy policy',\n",
       " 'fan pop history pop gold silver investment asset prepper family friend door',\n",
       " 'fan pop history pop gold silver investment asset prepper family friend door',\n",
       " 'pay rent consumer dollar stuff feed inflation leave',\n",
       " 'debate scale mortgage bond purchase mortgage housing',\n",
       " 'currency fan asset slump gold',\n",
       " 'dam stake mint inflation smartcontract ethereum',\n",
       " 'money gold',\n",
       " 'boost dividend leverage',\n",
       " 'money',\n",
       " 'currency',\n",
       " 'price rent jump record inflation',\n",
       " 'history water property prepare',\n",
       " 'inflation sign dxy rally gold roll gold drop dollar gain demand',\n",
       " 'inflation number corn weat wood jjc',\n",
       " 'inflation inflation hedge',\n",
       " 'price mankind money',\n",
       " 'stomach hole inflation cumflation cumdump',\n",
       " 'leader majority demand',\n",
       " 'inflation strategy stage inflation inflation inflation target inflation',\n",
       " 'work binance coin pump join',\n",
       " '',\n",
       " '',\n",
       " 'indicator peak inflation support stock market rally inflation stock',\n",
       " 'ticket fix issue customer service support ticket',\n",
       " 'inflation stock market crypto trading ban market stock economy inflation bofa rent debt gasoline dxy wti rate',\n",
       " '',\n",
       " 'transaction love trp',\n",
       " 'inflation worry link comment share inflation financialadvisor',\n",
       " 'transport milk europa destiny',\n",
       " '',\n",
       " 'rate opportunity stack pricing inflation',\n",
       " 'grandparent struggle home kid pay student loan figure dollar pay crypto cryptotrade inflation socialism globaleconomy',\n",
       " 'work life',\n",
       " 'chart literature eye dolarization',\n",
       " '',\n",
       " 'study volatility inflation economy experience subside job pandemic economy',\n",
       " 'inflation strategy stage inflation inflation inflation target inflation',\n",
       " 'dollar',\n",
       " 'governor interview feed',\n",
       " 'inflation expectation expectation feed inflation pressure',\n",
       " 'boom binance',\n",
       " 'bitch stallion inflation cumflation',\n",
       " 'bubble call bubble pop',\n",
       " 'wealth nation credit slavery exchange',\n",
       " 'papp',\n",
       " '',\n",
       " 'money sell stock inflation silver gold',\n",
       " 'debate inflation deflation market barometer thermometer policy wealth banker copper fomc inflation economy',\n",
       " 'dollar federalreserve regulation',\n",
       " 'clarification airdrop',\n",
       " 'taper market indicator digest leave coincide',\n",
       " 'bond face inflation',\n",
       " 'boat',\n",
       " 'spy government fund control',\n",
       " 'indicator peak inflation fear support market rally inflation market economy stock invest',\n",
       " 'interview rule rate hike',\n",
       " 'employment market result inflation risk surface pandemic plan life support',\n",
       " 'inflation cumflation',\n",
       " 'company break law wake',\n",
       " 'inflation',\n",
       " 'attention statement fomc',\n",
       " '',\n",
       " 'car trip cost gas price silversqueeze inflation',\n",
       " 'construction policy dollar dwindle design fix',\n",
       " 'conventionofstate cancelculture federalreserve technocracy replacement constitution',\n",
       " 'deflation bond dollar gold inflation threat bond dollar gold bond dollar gold rate deflationary fedistrappe',\n",
       " '',\n",
       " 'vx inflation policy trade protect gain trading algotrade',\n",
       " 'stock market sheet',\n",
       " 'heart suffering home bank force rent silversqueeze inflation',\n",
       " 'grocery increase inflation gas transportation price talk ice cream inflation',\n",
       " 'inflation inflation',\n",
       " 'friend print press bank',\n",
       " 'stock change market close stock trade inflation',\n",
       " 'rent inflation price jump',\n",
       " '',\n",
       " '',\n",
       " 'door join community whitelist power bscgem member',\n",
       " 'door join community whitelist power bscgem member',\n",
       " 'check',\n",
       " 'check',\n",
       " 'market crash deltavariant',\n",
       " 'indicator peak inflation fear support market rally house auto gas health insurance business inflation',\n",
       " 'money print good',\n",
       " 'consumer confidence level arrive force inflation expectation problem economy recovery',\n",
       " 'market capitalism market',\n",
       " 'word',\n",
       " 'ecosystem cbdcs bank plan confusion stablecoin horse independence',\n",
       " 'teacher session success',\n",
       " 'inflation auto',\n",
       " 'discussion headline investor portfolio podcast inflation',\n",
       " 'tax',\n",
       " 'response message expedite ticket call block money',\n",
       " 'inequality bubble lack economy policy expense inflation corruption run',\n",
       " 'poverty hand consideration income level consequence',\n",
       " 'asset revolt',\n",
       " 'tag money customer freeze reason block scam',\n",
       " 'taper',\n",
       " 'inflation rocket shortage supply chain crisis depression collapse inflation unrest summer',\n",
       " 'skin color',\n",
       " 'banking ripple centralbank level tier issue rmb',\n",
       " 'inflation debate inflation',\n",
       " 'stimulus check news inflation',\n",
       " 'leader economy leader',\n",
       " '',\n",
       " 'government transaction inflation',\n",
       " 'profit bitcoin mining',\n",
       " '',\n",
       " 'issue money care',\n",
       " 'inflation stockmarket inflation',\n",
       " 'market',\n",
       " 'stopinsanepolicie',\n",
       " 'loan level crisis mortagage loan orgintion pick fall depression',\n",
       " 'border money relief',\n",
       " 'plan fantasy',\n",
       " '',\n",
       " 'consumer shift service underlie trend spending read article economist economy inflation',\n",
       " 'component economy federalreserve',\n",
       " 'dollar',\n",
       " 'tax',\n",
       " 'tax sensex nifty',\n",
       " 'goodness',\n",
       " 'force',\n",
       " 'recession fall inflation story bidenrecession',\n",
       " '',\n",
       " 'tier price indice state element renter pay rent payment upgrade sale leverage',\n",
       " ...]"
      ]
     },
     "execution_count": 28,
     "metadata": {},
     "output_type": "execute_result"
    }
   ],
   "source": [
    "data"
   ]
  },
  {
   "cell_type": "markdown",
   "metadata": {},
   "source": [
    "<font size = 4><b><center><a id=\"section3.1\">3.1 BERTopic Modeling with default setting </a>"
   ]
  },
  {
   "cell_type": "code",
   "execution_count": 29,
   "metadata": {},
   "outputs": [],
   "source": [
    "from bertopic import BERTopic\n",
    "from sentence_transformers import SentenceTransformer"
   ]
  },
  {
   "cell_type": "code",
   "execution_count": 30,
   "metadata": {},
   "outputs": [],
   "source": [
    "# Load sentence transformer model\n",
    "sentence_model = SentenceTransformer('roberta-base-nli-stsb-mean-tokens')#(\"roberta-base-nli-stsb-mean-tokens\")\n",
    "\n",
    "# Create documents embeddings\n",
    "embeddings = sentence_model.encode(data, show_progress_bar=False)"
   ]
  },
  {
   "cell_type": "code",
   "execution_count": 31,
   "metadata": {},
   "outputs": [],
   "source": [
    "# Create BERTopic model\n",
    "topic_model = BERTopic()\n",
    "\n",
    "# Train model, extract topics and probabilities\n",
    "topics, probabilities = topic_model.fit_transform(data, embeddings)"
   ]
  },
  {
   "cell_type": "markdown",
   "metadata": {},
   "source": [
    "### Get Coherence Score of Bertopic"
   ]
  },
  {
   "cell_type": "code",
   "execution_count": 32,
   "metadata": {},
   "outputs": [],
   "source": [
    "def get_coherence_score(model):\n",
    "    import gensim.corpora as corpora\n",
    "    id2word = corpora.Dictionary(data_for_modeling)\n",
    "    texts = data_for_modeling\n",
    "    corpus = [id2word.doc2bow(text) for text in data_for_modeling if text !=[]]\n",
    "\n",
    "    topic_list = []\n",
    "    for j in range(len(model.get_topic_freq())-1):\n",
    "        topic_list.append([i[0] for i in model.get_topic(j) if i[1]>=0.01])\n",
    "    \n",
    "    from gensim.models.coherencemodel import CoherenceModel\n",
    "\n",
    "    coherence_model = CoherenceModel(topics=topic_list, texts=texts, corpus=corpus, dictionary=id2word, coherence='c_v')\n",
    "    return coherence_model.get_coherence()"
   ]
  },
  {
   "cell_type": "code",
   "execution_count": 33,
   "metadata": {},
   "outputs": [
    {
     "data": {
      "text/plain": [
       "0.3860876439147227"
      ]
     },
     "execution_count": 33,
     "metadata": {},
     "output_type": "execute_result"
    }
   ],
   "source": [
    "get_coherence_score(topic_model)"
   ]
  },
  {
   "cell_type": "markdown",
   "metadata": {},
   "source": [
    "<font size = 4><b><center><a id=\"section3.2\">3.2 Tuning BERTopic model parameter-n_neighbors</a>"
   ]
  },
  {
   "cell_type": "code",
   "execution_count": 38,
   "metadata": {},
   "outputs": [],
   "source": [
    "import gensim.corpora as corpora\n",
    "id2word = corpora.Dictionary(data_for_modeling)\n",
    "texts = data_for_modeling\n",
    "corpus = [id2word.doc2bow(text) for text in data_for_modeling if text !=[]]"
   ]
  },
  {
   "cell_type": "code",
   "execution_count": 39,
   "metadata": {},
   "outputs": [],
   "source": [
    "# Define UMAP model to reduce embeddings dimension\n",
    "## since it not easy to tuning parameters through those two models together\n",
    "import umap\n",
    "import hdbscan\n",
    "umap_model = umap.UMAP(n_neighbors=10,\n",
    "                       n_components=10,\n",
    "                       min_dist=0.0,\n",
    "                       metric='cosine',\n",
    "                       low_memory=False)\n",
    "\n",
    "# Define HDBSCAN model to perform documents clustering\n",
    "hdbscan_model = hdbscan.HDBSCAN(min_cluster_size=30,\n",
    "                                min_samples=1,\n",
    "                                metric='l2',\n",
    "                                cluster_selection_method='eom',\n",
    "                                prediction_data=True)"
   ]
  },
  {
   "cell_type": "code",
   "execution_count": 40,
   "metadata": {},
   "outputs": [],
   "source": [
    "def compute_coherence_values1(dictionary, corpus, texts, limit, start=2, step=3):\n",
    "    coherence_values_topic = []\n",
    "    model_list = []\n",
    "    for i in range(start, limit, step):\n",
    "        umap_model = umap.UMAP(n_neighbors=i,\n",
    "                       n_components=10,\n",
    "                       min_dist=0.0,\n",
    "                       metric='cosine',\n",
    "                       low_memory=False)\n",
    "        model = BERTopic(top_n_words=20,\n",
    "                         nr_topics=\"auto\",\n",
    "                         calculate_probabilities=True,\n",
    "                         umap_model= umap_model,\n",
    "                         hdbscan_model=hdbscan_model,\n",
    "                         verbose=True)\n",
    "\n",
    "        # Train model, extract topics and probabilities\n",
    "        topics, probabilities = model.fit_transform(data,embeddings)\n",
    "        \n",
    "        model_list.append(model)\n",
    "        coherencemodel = get_coherence_score(model)\n",
    "        coherence_values_topic.append(coherencemodel)\n",
    "\n",
    "    return model_list, coherence_values_topic"
   ]
  },
  {
   "cell_type": "code",
   "execution_count": 41,
   "metadata": {},
   "outputs": [
    {
     "name": "stderr",
     "output_type": "stream",
     "text": [
      "2021-12-13 14:05:45,797 - BERTopic - Reduced dimensionality with UMAP\n",
      "2021-12-13 14:05:52,675 - BERTopic - Clustered UMAP embeddings with HDBSCAN\n",
      "2021-12-13 14:05:53,243 - BERTopic - Reduced number of topics from 116 to 23\n",
      "2021-12-13 14:06:10,405 - BERTopic - Reduced dimensionality with UMAP\n",
      "2021-12-13 14:06:16,738 - BERTopic - Clustered UMAP embeddings with HDBSCAN\n",
      "2021-12-13 14:06:17,278 - BERTopic - Reduced number of topics from 110 to 32\n",
      "2021-12-13 14:06:34,918 - BERTopic - Reduced dimensionality with UMAP\n",
      "2021-12-13 14:06:41,193 - BERTopic - Clustered UMAP embeddings with HDBSCAN\n",
      "2021-12-13 14:06:41,699 - BERTopic - Reduced number of topics from 102 to 35\n",
      "2021-12-13 14:07:00,717 - BERTopic - Reduced dimensionality with UMAP\n",
      "2021-12-13 14:07:06,550 - BERTopic - Clustered UMAP embeddings with HDBSCAN\n",
      "2021-12-13 14:07:07,061 - BERTopic - Reduced number of topics from 104 to 36\n",
      "2021-12-13 14:07:24,940 - BERTopic - Reduced dimensionality with UMAP\n",
      "2021-12-13 14:07:31,007 - BERTopic - Clustered UMAP embeddings with HDBSCAN\n",
      "2021-12-13 14:07:31,484 - BERTopic - Reduced number of topics from 96 to 37\n",
      "2021-12-13 14:07:50,224 - BERTopic - Reduced dimensionality with UMAP\n",
      "2021-12-13 14:07:56,454 - BERTopic - Clustered UMAP embeddings with HDBSCAN\n",
      "2021-12-13 14:07:57,018 - BERTopic - Reduced number of topics from 111 to 45\n",
      "2021-12-13 14:08:16,096 - BERTopic - Reduced dimensionality with UMAP\n",
      "2021-12-13 14:08:20,827 - BERTopic - Clustered UMAP embeddings with HDBSCAN\n",
      "2021-12-13 14:08:21,263 - BERTopic - Reduced number of topics from 86 to 39\n",
      "2021-12-13 14:08:41,979 - BERTopic - Reduced dimensionality with UMAP\n",
      "2021-12-13 14:08:47,623 - BERTopic - Clustered UMAP embeddings with HDBSCAN\n",
      "2021-12-13 14:08:48,155 - BERTopic - Reduced number of topics from 106 to 36\n",
      "2021-12-13 14:09:08,025 - BERTopic - Reduced dimensionality with UMAP\n",
      "2021-12-13 14:09:13,010 - BERTopic - Clustered UMAP embeddings with HDBSCAN\n",
      "2021-12-13 14:09:13,494 - BERTopic - Reduced number of topics from 95 to 63\n",
      "2021-12-13 14:09:34,311 - BERTopic - Reduced dimensionality with UMAP\n",
      "2021-12-13 14:09:40,043 - BERTopic - Clustered UMAP embeddings with HDBSCAN\n",
      "2021-12-13 14:09:40,515 - BERTopic - Reduced number of topics from 98 to 39\n"
     ]
    },
    {
     "name": "stdout",
     "output_type": "stream",
     "text": [
      "CPU times: user 6min 46s, sys: 8.1 s, total: 6min 54s\n",
      "Wall time: 4min 13s\n"
     ]
    }
   ],
   "source": [
    "%%time\n",
    "model_list, coherence_values_topic = compute_coherence_values1(dictionary = id2word,\n",
    "                                                                    corpus =corpus,\n",
    "                                                                    texts = data,\n",
    "                                                                    start=5, limit=15, step=1)"
   ]
  },
  {
   "cell_type": "code",
   "execution_count": 42,
   "metadata": {
    "scrolled": false
   },
   "outputs": [
    {
     "data": {
      "image/png": "[encoded data removed]",
      "text/plain": [
       "<Figure size 1080x432 with 1 Axes>"
      ]
     },
     "metadata": {
      "needs_background": "light"
     },
     "output_type": "display_data"
    }
   ],
   "source": [
    "fig, ax = plt.subplots(1,1,figsize = (15,6))\n",
    "\n",
    "ax.plot(list(range(5,15, 1)), coherence_values_topic,'-',markersize=2)\n",
    "ax.grid(color = 'grey', alpha =0.1)\n",
    "ax.set_title(('Optimum n_neighbors'))\n",
    "ax.spines['top'].set_color('none')\n",
    "ax.spines['right'].set_color('none')\n",
    "ax.set_ylabel(\"Coherence Score\", fontsize= 16)\n",
    "ax.set_xlabel(\"N_neighbors\", fontsize= 16)\n",
    "\n",
    "plt.show() "
   ]
  },
  {
   "cell_type": "markdown",
   "metadata": {},
   "source": [
    "From this plot, when n_neighbors = 7, the coherence score is the highest one(optimal n_neighbors will change when restart and run)"
   ]
  },
  {
   "cell_type": "markdown",
   "metadata": {},
   "source": [
    "<font size = 4><b><center><a id=\"section3.3\">3.3 Tuning BERTopic model parameter-nr_topics</a>"
   ]
  },
  {
   "cell_type": "code",
   "execution_count": 43,
   "metadata": {},
   "outputs": [],
   "source": [
    "#Defining a function to loop over number of topics to be used to find an \n",
    "#optimal number of tipics\n",
    "def compute_coherence_values(dictionary, corpus, texts, limit, start=2, step=3):\n",
    "    coherence_values_topic = []\n",
    "    model_list = []\n",
    "    for i in range(start, limit, step):\n",
    "        model = BERTopic(top_n_words=20,\n",
    "                         nr_topics=i,\n",
    "                         calculate_probabilities=True,\n",
    "                         umap_model= umap_model,\n",
    "                         hdbscan_model=hdbscan_model,\n",
    "                         verbose=True)\n",
    "\n",
    "        # Train model, extract topics and probabilities\n",
    "        topics, probabilities = model.fit_transform(data,embeddings)\n",
    "        \n",
    "        model_list.append(model)\n",
    "        coherencemodel = get_coherence_score(model)\n",
    "        coherence_values_topic.append(coherencemodel)\n",
    "\n",
    "    return model_list, coherence_values_topic"
   ]
  },
  {
   "cell_type": "code",
   "execution_count": 44,
   "metadata": {},
   "outputs": [
    {
     "name": "stderr",
     "output_type": "stream",
     "text": [
      "2021-12-13 14:09:59,735 - BERTopic - Reduced dimensionality with UMAP\n",
      "2021-12-13 14:10:04,832 - BERTopic - Clustered UMAP embeddings with HDBSCAN\n",
      "2021-12-13 14:10:05,388 - BERTopic - Reduced number of topics from 96 to 21\n",
      "2021-12-13 14:10:23,113 - BERTopic - Reduced dimensionality with UMAP\n",
      "2021-12-13 14:10:28,878 - BERTopic - Clustered UMAP embeddings with HDBSCAN\n",
      "2021-12-13 14:10:29,462 - BERTopic - Reduced number of topics from 105 to 22\n",
      "2021-12-13 14:10:46,900 - BERTopic - Reduced dimensionality with UMAP\n",
      "2021-12-13 14:10:53,081 - BERTopic - Clustered UMAP embeddings with HDBSCAN\n",
      "2021-12-13 14:10:53,644 - BERTopic - Reduced number of topics from 101 to 23\n",
      "2021-12-13 14:11:12,150 - BERTopic - Reduced dimensionality with UMAP\n",
      "2021-12-13 14:11:18,339 - BERTopic - Clustered UMAP embeddings with HDBSCAN\n",
      "2021-12-13 14:11:18,895 - BERTopic - Reduced number of topics from 101 to 24\n",
      "2021-12-13 14:11:37,144 - BERTopic - Reduced dimensionality with UMAP\n",
      "2021-12-13 14:11:43,363 - BERTopic - Clustered UMAP embeddings with HDBSCAN\n",
      "2021-12-13 14:11:43,949 - BERTopic - Reduced number of topics from 96 to 25\n",
      "2021-12-13 14:12:02,177 - BERTopic - Reduced dimensionality with UMAP\n",
      "2021-12-13 14:12:08,119 - BERTopic - Clustered UMAP embeddings with HDBSCAN\n",
      "2021-12-13 14:12:08,928 - BERTopic - Reduced number of topics from 93 to 26\n",
      "2021-12-13 14:12:28,587 - BERTopic - Reduced dimensionality with UMAP\n",
      "2021-12-13 14:12:34,739 - BERTopic - Clustered UMAP embeddings with HDBSCAN\n",
      "2021-12-13 14:12:35,360 - BERTopic - Reduced number of topics from 102 to 27\n",
      "2021-12-13 14:12:54,407 - BERTopic - Reduced dimensionality with UMAP\n",
      "2021-12-13 14:13:00,397 - BERTopic - Clustered UMAP embeddings with HDBSCAN\n",
      "2021-12-13 14:13:01,052 - BERTopic - Reduced number of topics from 100 to 28\n",
      "2021-12-13 14:13:20,085 - BERTopic - Reduced dimensionality with UMAP\n",
      "2021-12-13 14:13:24,934 - BERTopic - Clustered UMAP embeddings with HDBSCAN\n",
      "2021-12-13 14:13:25,422 - BERTopic - Reduced number of topics from 85 to 29\n",
      "2021-12-13 14:13:43,829 - BERTopic - Reduced dimensionality with UMAP\n",
      "2021-12-13 14:13:50,463 - BERTopic - Clustered UMAP embeddings with HDBSCAN\n",
      "2021-12-13 14:13:51,084 - BERTopic - Reduced number of topics from 108 to 30\n"
     ]
    },
    {
     "name": "stdout",
     "output_type": "stream",
     "text": [
      "CPU times: user 6min 54s, sys: 10.2 s, total: 7min 4s\n",
      "Wall time: 4min 10s\n"
     ]
    }
   ],
   "source": [
    "%%time\n",
    "model_list, coherence_values_topic = compute_coherence_values(dictionary = id2word,\n",
    "                                                                    corpus =corpus,\n",
    "                                                                    texts = data,\n",
    "                                                                    start=20, limit=30, step=1)"
   ]
  },
  {
   "cell_type": "code",
   "execution_count": 45,
   "metadata": {},
   "outputs": [
    {
     "data": {
      "image/png": "[encoded data removed]",
      "text/plain": [
       "<Figure size 1080x432 with 1 Axes>"
      ]
     },
     "metadata": {
      "needs_background": "light"
     },
     "output_type": "display_data"
    }
   ],
   "source": [
    "fig, ax = plt.subplots(1,1,figsize = (15,6))\n",
    "\n",
    "ax.plot(list(range(20,30, 1)), coherence_values_topic,'-',markersize=2)\n",
    "ax.grid(color = 'grey', alpha =0.1)\n",
    "ax.set_title(('Optimum number of topics'))\n",
    "ax.spines['top'].set_color('none')\n",
    "ax.spines['right'].set_color('none')\n",
    "ax.set_ylabel(\"Coherence Score\", fontsize= 16)\n",
    "ax.set_xlabel(\"Number of Topic\", fontsize= 16)\n",
    "\n",
    "plt.show() "
   ]
  },
  {
   "cell_type": "markdown",
   "metadata": {},
   "source": [
    "#### Compared with the mutually change the number of topic with the reduce dimensionality automatically, the latter one has the better result."
   ]
  },
  {
   "cell_type": "markdown",
   "metadata": {},
   "source": [
    "<font size = 4><b><center><a id=\"section3.4\">3.4 Get the Optimal BERTopic Model</a>"
   ]
  },
  {
   "cell_type": "code",
   "execution_count": 46,
   "metadata": {},
   "outputs": [],
   "source": [
    "\n",
    "# Load sentence transformer model\n",
    "sentence_model = SentenceTransformer('roberta-base-nli-stsb-mean-tokens')#(\"roberta-base-nli-stsb-mean-tokens\")\n",
    "\n",
    "# Create documents embeddings\n",
    "embeddings = sentence_model.encode(data, show_progress_bar=False)\n"
   ]
  },
  {
   "cell_type": "code",
   "execution_count": 47,
   "metadata": {},
   "outputs": [],
   "source": [
    "# Define UMAP model to reduce embeddings dimension\n",
    "import umap\n",
    "import hdbscan\n",
    "umap_model = umap.UMAP(n_neighbors=10,\n",
    "                       n_components=7,\n",
    "                       min_dist=0.0,\n",
    "                       metric='cosine',\n",
    "                       low_memory=False)\n",
    "\n",
    "# Define HDBSCAN model to perform documents clustering\n",
    "hdbscan_model = hdbscan.HDBSCAN(min_cluster_size=30,\n",
    "                                min_samples=1,\n",
    "                                metric='l2',\n",
    "                                cluster_selection_method='eom',\n",
    "                                prediction_data=True)"
   ]
  },
  {
   "cell_type": "code",
   "execution_count": 48,
   "metadata": {},
   "outputs": [
    {
     "name": "stderr",
     "output_type": "stream",
     "text": [
      "2021-12-13 14:19:19,357 - BERTopic - Reduced dimensionality with UMAP\n",
      "2021-12-13 14:19:24,988 - BERTopic - Clustered UMAP embeddings with HDBSCAN\n",
      "2021-12-13 14:19:25,486 - BERTopic - Reduced number of topics from 102 to 37\n"
     ]
    }
   ],
   "source": [
    "# Applying the BERTopic model\n",
    "warnings.filterwarnings('ignore')\n",
    "topic_model = BERTopic(top_n_words=20,\n",
    "                       nr_topics=\"auto\", ## reduce dimensionality automatically\n",
    "                       calculate_probabilities=True,\n",
    "                       umap_model= umap_model,\n",
    "                       hdbscan_model=hdbscan_model,\n",
    "                       verbose=True)\n",
    "\n",
    "# Train model, extract topics and probabilities\n",
    "topics, probabilities = topic_model.fit_transform(data,embeddings)"
   ]
  },
  {
   "cell_type": "code",
   "execution_count": 49,
   "metadata": {
    "scrolled": true
   },
   "outputs": [
    {
     "data": {
      "text/plain": [
       "0.5853579769516717"
      ]
     },
     "execution_count": 49,
     "metadata": {},
     "output_type": "execute_result"
    }
   ],
   "source": [
    "get_coherence_score(topic_model)"
   ]
  },
  {
   "cell_type": "code",
   "execution_count": 50,
   "metadata": {},
   "outputs": [
    {
     "data": {
      "text/html": [
       "<div>\n",
       "<style scoped>\n",
       "    .dataframe tbody tr th:only-of-type {\n",
       "        vertical-align: middle;\n",
       "    }\n",
       "\n",
       "    .dataframe tbody tr th {\n",
       "        vertical-align: top;\n",
       "    }\n",
       "\n",
       "    .dataframe thead th {\n",
       "        text-align: right;\n",
       "    }\n",
       "</style>\n",
       "<table border=\"1\" class=\"dataframe\">\n",
       "  <thead>\n",
       "    <tr style=\"text-align: right;\">\n",
       "      <th></th>\n",
       "      <th>Topic</th>\n",
       "      <th>Count</th>\n",
       "      <th>Name</th>\n",
       "    </tr>\n",
       "  </thead>\n",
       "  <tbody>\n",
       "    <tr>\n",
       "      <th>0</th>\n",
       "      <td>0</td>\n",
       "      <td>5833</td>\n",
       "      <td>0_gold_commodity_investment_investor</td>\n",
       "    </tr>\n",
       "    <tr>\n",
       "      <th>1</th>\n",
       "      <td>-1</td>\n",
       "      <td>3832</td>\n",
       "      <td>-1_bond_business_stock_growth</td>\n",
       "    </tr>\n",
       "    <tr>\n",
       "      <th>2</th>\n",
       "      <td>1</td>\n",
       "      <td>1400</td>\n",
       "      <td>1_allyabuse_digit_mother_info</td>\n",
       "    </tr>\n",
       "    <tr>\n",
       "      <th>3</th>\n",
       "      <td>2</td>\n",
       "      <td>174</td>\n",
       "      <td>2_trading_manipulation_fomc_volatility</td>\n",
       "    </tr>\n",
       "    <tr>\n",
       "      <th>4</th>\n",
       "      <td>3</td>\n",
       "      <td>142</td>\n",
       "      <td>3_fomc_thefe_hmbl_fomo</td>\n",
       "    </tr>\n",
       "    <tr>\n",
       "      <th>5</th>\n",
       "      <td>4</td>\n",
       "      <td>133</td>\n",
       "      <td>4_meeting_fomc_policy_comment</td>\n",
       "    </tr>\n",
       "    <tr>\n",
       "      <th>6</th>\n",
       "      <td>5</td>\n",
       "      <td>112</td>\n",
       "      <td>5_comment_video_talk_answer</td>\n",
       "    </tr>\n",
       "    <tr>\n",
       "      <th>7</th>\n",
       "      <td>6</td>\n",
       "      <td>94</td>\n",
       "      <td>6_source_plan_pant_point</td>\n",
       "    </tr>\n",
       "    <tr>\n",
       "      <th>8</th>\n",
       "      <td>7</td>\n",
       "      <td>88</td>\n",
       "      <td>7_money_cash_method_wallet</td>\n",
       "    </tr>\n",
       "    <tr>\n",
       "      <th>9</th>\n",
       "      <td>8</td>\n",
       "      <td>84</td>\n",
       "      <td>8_truth_case_reality_reset</td>\n",
       "    </tr>\n",
       "    <tr>\n",
       "      <th>11</th>\n",
       "      <td>11</td>\n",
       "      <td>67</td>\n",
       "      <td>11_announcement_launch_start_news</td>\n",
       "    </tr>\n",
       "    <tr>\n",
       "      <th>12</th>\n",
       "      <td>9</td>\n",
       "      <td>67</td>\n",
       "      <td>9_problem_crisis_federalreserve_risk</td>\n",
       "    </tr>\n",
       "    <tr>\n",
       "      <th>10</th>\n",
       "      <td>10</td>\n",
       "      <td>67</td>\n",
       "      <td>10_ape_expectation_theory_projection</td>\n",
       "    </tr>\n",
       "    <tr>\n",
       "      <th>13</th>\n",
       "      <td>12</td>\n",
       "      <td>61</td>\n",
       "      <td>12_federalreserve_investing_investor_investment</td>\n",
       "    </tr>\n",
       "    <tr>\n",
       "      <th>14</th>\n",
       "      <td>13</td>\n",
       "      <td>59</td>\n",
       "      <td>13_work_child_kid_class</td>\n",
       "    </tr>\n",
       "    <tr>\n",
       "      <th>15</th>\n",
       "      <td>14</td>\n",
       "      <td>56</td>\n",
       "      <td>14_press_meeting_conference_dinner</td>\n",
       "    </tr>\n",
       "    <tr>\n",
       "      <th>16</th>\n",
       "      <td>15</td>\n",
       "      <td>53</td>\n",
       "      <td>15_dollar_gain_operation_aliexpess</td>\n",
       "    </tr>\n",
       "    <tr>\n",
       "      <th>17</th>\n",
       "      <td>16</td>\n",
       "      <td>51</td>\n",
       "      <td>16_piece_end_trash_law</td>\n",
       "    </tr>\n",
       "    <tr>\n",
       "      <th>19</th>\n",
       "      <td>17</td>\n",
       "      <td>42</td>\n",
       "      <td>17_policy_analyst_care_sound</td>\n",
       "    </tr>\n",
       "    <tr>\n",
       "      <th>18</th>\n",
       "      <td>18</td>\n",
       "      <td>42</td>\n",
       "      <td>18_student_democracy_inclusion_participant</td>\n",
       "    </tr>\n",
       "    <tr>\n",
       "      <th>20</th>\n",
       "      <td>19</td>\n",
       "      <td>41</td>\n",
       "      <td>19_tank_number_metal_hand</td>\n",
       "    </tr>\n",
       "    <tr>\n",
       "      <th>21</th>\n",
       "      <td>20</td>\n",
       "      <td>41</td>\n",
       "      <td>20_friend_family_joke_partner</td>\n",
       "    </tr>\n",
       "    <tr>\n",
       "      <th>22</th>\n",
       "      <td>21</td>\n",
       "      <td>40</td>\n",
       "      <td>21_economy_register_economist_leader</td>\n",
       "    </tr>\n",
       "    <tr>\n",
       "      <th>23</th>\n",
       "      <td>22</td>\n",
       "      <td>40</td>\n",
       "      <td>22_vaccine_vaccination_slave_reduce</td>\n",
       "    </tr>\n",
       "    <tr>\n",
       "      <th>24</th>\n",
       "      <td>23</td>\n",
       "      <td>39</td>\n",
       "      <td>23_question_answer_challenge_offence</td>\n",
       "    </tr>\n",
       "    <tr>\n",
       "      <th>25</th>\n",
       "      <td>24</td>\n",
       "      <td>37</td>\n",
       "      <td>24_trump_furryart_blame_wind</td>\n",
       "    </tr>\n",
       "    <tr>\n",
       "      <th>26</th>\n",
       "      <td>25</td>\n",
       "      <td>37</td>\n",
       "      <td>25_ton_taper_toner_tonight</td>\n",
       "    </tr>\n",
       "    <tr>\n",
       "      <th>27</th>\n",
       "      <td>26</td>\n",
       "      <td>37</td>\n",
       "      <td>26_crash_hell_disgust_hate</td>\n",
       "    </tr>\n",
       "    <tr>\n",
       "      <th>29</th>\n",
       "      <td>27</td>\n",
       "      <td>36</td>\n",
       "      <td>27_tax_cut_refund_payer</td>\n",
       "    </tr>\n",
       "    <tr>\n",
       "      <th>28</th>\n",
       "      <td>28</td>\n",
       "      <td>36</td>\n",
       "      <td>28_conspiracy_law_enemy_enforce</td>\n",
       "    </tr>\n",
       "    <tr>\n",
       "      <th>30</th>\n",
       "      <td>29</td>\n",
       "      <td>33</td>\n",
       "      <td>29_idea_decision_literature_moment</td>\n",
       "    </tr>\n",
       "    <tr>\n",
       "      <th>31</th>\n",
       "      <td>30</td>\n",
       "      <td>33</td>\n",
       "      <td>30_news_visit_event_source</td>\n",
       "    </tr>\n",
       "    <tr>\n",
       "      <th>32</th>\n",
       "      <td>31</td>\n",
       "      <td>31</td>\n",
       "      <td>31_paper_balance_sheet_coincidence</td>\n",
       "    </tr>\n",
       "    <tr>\n",
       "      <th>33</th>\n",
       "      <td>32</td>\n",
       "      <td>30</td>\n",
       "      <td>32_father_manmade_pronoun_luck</td>\n",
       "    </tr>\n",
       "    <tr>\n",
       "      <th>34</th>\n",
       "      <td>33</td>\n",
       "      <td>30</td>\n",
       "      <td>33_love_rest_heart_peace</td>\n",
       "    </tr>\n",
       "    <tr>\n",
       "      <th>35</th>\n",
       "      <td>34</td>\n",
       "      <td>30</td>\n",
       "      <td>34_gold_calendar_dip_shill</td>\n",
       "    </tr>\n",
       "    <tr>\n",
       "      <th>36</th>\n",
       "      <td>35</td>\n",
       "      <td>30</td>\n",
       "      <td>35_governor_government_state_figure</td>\n",
       "    </tr>\n",
       "  </tbody>\n",
       "</table>\n",
       "</div>"
      ],
      "text/plain": [
       "    Topic  Count                                             Name\n",
       "0       0   5833             0_gold_commodity_investment_investor\n",
       "1      -1   3832                    -1_bond_business_stock_growth\n",
       "2       1   1400                    1_allyabuse_digit_mother_info\n",
       "3       2    174           2_trading_manipulation_fomc_volatility\n",
       "4       3    142                           3_fomc_thefe_hmbl_fomo\n",
       "5       4    133                    4_meeting_fomc_policy_comment\n",
       "6       5    112                      5_comment_video_talk_answer\n",
       "7       6     94                         6_source_plan_pant_point\n",
       "8       7     88                       7_money_cash_method_wallet\n",
       "9       8     84                       8_truth_case_reality_reset\n",
       "11     11     67                11_announcement_launch_start_news\n",
       "12      9     67             9_problem_crisis_federalreserve_risk\n",
       "10     10     67             10_ape_expectation_theory_projection\n",
       "13     12     61  12_federalreserve_investing_investor_investment\n",
       "14     13     59                          13_work_child_kid_class\n",
       "15     14     56               14_press_meeting_conference_dinner\n",
       "16     15     53               15_dollar_gain_operation_aliexpess\n",
       "17     16     51                           16_piece_end_trash_law\n",
       "19     17     42                     17_policy_analyst_care_sound\n",
       "18     18     42       18_student_democracy_inclusion_participant\n",
       "20     19     41                        19_tank_number_metal_hand\n",
       "21     20     41                    20_friend_family_joke_partner\n",
       "22     21     40             21_economy_register_economist_leader\n",
       "23     22     40              22_vaccine_vaccination_slave_reduce\n",
       "24     23     39             23_question_answer_challenge_offence\n",
       "25     24     37                     24_trump_furryart_blame_wind\n",
       "26     25     37                       25_ton_taper_toner_tonight\n",
       "27     26     37                       26_crash_hell_disgust_hate\n",
       "29     27     36                          27_tax_cut_refund_payer\n",
       "28     28     36                  28_conspiracy_law_enemy_enforce\n",
       "30     29     33               29_idea_decision_literature_moment\n",
       "31     30     33                       30_news_visit_event_source\n",
       "32     31     31               31_paper_balance_sheet_coincidence\n",
       "33     32     30                   32_father_manmade_pronoun_luck\n",
       "34     33     30                         33_love_rest_heart_peace\n",
       "35     34     30                       34_gold_calendar_dip_shill\n",
       "36     35     30              35_governor_government_state_figure"
      ]
     },
     "execution_count": 50,
     "metadata": {},
     "output_type": "execute_result"
    }
   ],
   "source": [
    "freq = topic_model.get_topic_info()\n",
    "freq # from the result, number of topics = 28, the coherence score is the highest one"
   ]
  },
  {
   "cell_type": "code",
   "execution_count": 110,
   "metadata": {},
   "outputs": [
    {
     "data": {
      "text/plain": [
       "[('tax', 0.6440259780869695),\n",
       " ('cut', 0.29933988357703645),\n",
       " ('refund', 0.15133636305217613),\n",
       " ('payer', 0.10089090870145075),\n",
       " ('return', 0.08590518959064078),\n",
       " ('corporation', 0.0827320278970192),\n",
       " ('pay', 0.08205716601710031),\n",
       " ('debt', 0.07750443973991449),\n",
       " ('charge', 0.07301654583252135),\n",
       " ('help', 0.068727104584834),\n",
       " ('treasurydepartment', 0.06374659412290802),\n",
       " ('sin', 0.06374659412290802),\n",
       " ('ballot', 0.06374659412290802),\n",
       " ('deliver', 0.058018105027371286),\n",
       " ('treasury', 0.058018105027371286),\n",
       " ('convert', 0.05466715372069224),\n",
       " ('indictment', 0.052289615931834545),\n",
       " ('reform', 0.05044545435072537),\n",
       " ('element', 0.05044545435072537),\n",
       " ('mail', 0.05044545435072537)]"
      ]
     },
     "execution_count": 110,
     "metadata": {},
     "output_type": "execute_result"
    }
   ],
   "source": [
    "## see more detail of specific topic with probabilities\n",
    "topic_model.get_topic(18)"
   ]
  },
  {
   "cell_type": "markdown",
   "metadata": {},
   "source": [
    "<font size = 4><b><center><a id=\"section3.5\">3.5 Visualizations</a>"
   ]
  },
  {
   "cell_type": "code",
   "execution_count": 111,
   "metadata": {},
   "outputs": [
    {
     "data": {
      "application/vnd.plotly.v1+json": {
       "config": {
        "plotlyServerURL": "https://plot.ly"
       },
       "data": [
        {
         "customdata": [
          [
           -7.16793155670166,
           30.197511672973633,
           0,
           "gold | increase | investor | rise | stock",
           5813
          ],
          [
           10.707140922546387,
           8.523660659790039,
           1,
           "number | run | sense | level | ",
           1393
          ],
          [
           -6.989535331726074,
           30.36668586730957,
           2,
           "fomc | meeting | policy | market | decision",
           564
          ],
          [
           -9.743376731872559,
           -3.3262386322021484,
           3,
           "holiday | reset | juneteenth | blame | trump",
           145
          ],
          [
           -10.314616203308105,
           -3.420534610748291,
           4,
           "announcement | source | office | update | word",
           111
          ],
          [
           15.221443176269531,
           -5.175083637237549,
           5,
           "statement | policy | governor | government | analyst",
           93
          ],
          [
           15.74937915802002,
           -5.100170612335205,
           6,
           "comment | talk | video | speech | message",
           86
          ],
          [
           -9.376696586608887,
           -2.416771173477173,
           7,
           "law | problem | enforce | crisis | indictment",
           82
          ],
          [
           15.356610298156738,
           -4.728255271911621,
           8,
           "ape | expectation | challenge | estimate | experiment",
           81
          ],
          [
           9.36127758026123,
           8.578448295593262,
           9,
           "money | gse | ppls | mankind | domain",
           64
          ],
          [
           10.166521072387695,
           8.639115333557129,
           10,
           "work | job | labor | behance | notification",
           56
          ],
          [
           16.391050338745117,
           -5.153913497924805,
           11,
           "commoditie | economy | register | economist | leader",
           56
          ],
          [
           8.341495513916016,
           9.019669532775879,
           12,
           "life | love | horse | death | end",
           53
          ],
          [
           16.652427673339844,
           -5.2826080322265625,
           13,
           "bread | cake | piece | recco | cream",
           50
          ],
          [
           8.188693046569824,
           9.157428741455078,
           14,
           "future | airdrop | candle | witch | fomc",
           42
          ],
          [
           23.76957130432129,
           -5.355060577392578,
           15,
           "point | pant | penny | ponzi | pizza",
           39
          ],
          [
           -9.61331558227539,
           -1.8294625282287598,
           16,
           "investing | investor | federalreserve | investment | investigation",
           38
          ],
          [
           15.5402250289917,
           -5.054833889007568,
           17,
           "truth | fact | book | reality | responsibility",
           37
          ],
          [
           8.757245063781738,
           8.765467643737793,
           18,
           "tax | cut | refund | payer | return",
           36
          ],
          [
           -9.970344543457031,
           -3.2802183628082275,
           19,
           "extension | swap | liquidity | payment | reparation",
           36
          ],
          [
           10.635390281677246,
           8.947339057922363,
           20,
           "taper | ton | toner | tone | tonight",
           35
          ],
          [
           23.96103286743164,
           -5.551665782928467,
           21,
           "question | answer | offence | speculate | questioning",
           35
          ],
          [
           10.702669143676758,
           8.428138732910156,
           22,
           "child | kid | class | mother | baby",
           34
          ],
          [
           -9.304146766662598,
           -2.7641429901123047,
           23,
           "leverage | trust | borrowing | recess | suspend",
           33
          ],
          [
           14.827462196350098,
           -5.207502365112305,
           24,
           "friend | family | pop | prepper | shout",
           33
          ],
          [
           14.610057830810547,
           -5.296875953674316,
           25,
           "inclusion | decentralize | country | land | sun",
           32
          ],
          [
           -9.0341157913208,
           -2.6577470302581787,
           26,
           "cash | print | money | account | paper",
           32
          ],
          [
           -9.740018844604492,
           -1.880987524986267,
           27,
           "meeting | chatter | dinner | fedmeeting | event",
           31
          ]
         ],
         "hovertemplate": "<b>Topic %{customdata[2]}</b><br>Words: %{customdata[3]}<br>Size: %{customdata[4]}",
         "legendgroup": "",
         "marker": {
          "color": "#B0BEC5",
          "line": {
           "color": "DarkSlateGrey",
           "width": 2
          },
          "size": [
           5813,
           1393,
           564,
           145,
           111,
           93,
           86,
           82,
           81,
           64,
           56,
           56,
           53,
           50,
           42,
           39,
           38,
           37,
           36,
           36,
           35,
           35,
           34,
           33,
           33,
           32,
           32,
           31
          ],
          "sizemode": "area",
          "sizeref": 3.633125,
          "symbol": "circle"
         },
         "mode": "markers",
         "name": "",
         "orientation": "v",
         "showlegend": false,
         "type": "scatter",
         "x": [
          -7.16793155670166,
          10.707140922546387,
          -6.989535331726074,
          -9.743376731872559,
          -10.314616203308105,
          15.221443176269531,
          15.74937915802002,
          -9.376696586608887,
          15.356610298156738,
          9.36127758026123,
          10.166521072387695,
          16.391050338745117,
          8.341495513916016,
          16.652427673339844,
          8.188693046569824,
          23.76957130432129,
          -9.61331558227539,
          15.5402250289917,
          8.757245063781738,
          -9.970344543457031,
          10.635390281677246,
          23.96103286743164,
          10.702669143676758,
          -9.304146766662598,
          14.827462196350098,
          14.610057830810547,
          -9.0341157913208,
          -9.740018844604492
         ],
         "xaxis": "x",
         "y": [
          30.197511672973633,
          8.523660659790039,
          30.36668586730957,
          -3.3262386322021484,
          -3.420534610748291,
          -5.175083637237549,
          -5.100170612335205,
          -2.416771173477173,
          -4.728255271911621,
          8.578448295593262,
          8.639115333557129,
          -5.153913497924805,
          9.019669532775879,
          -5.2826080322265625,
          9.157428741455078,
          -5.355060577392578,
          -1.8294625282287598,
          -5.054833889007568,
          8.765467643737793,
          -3.2802183628082275,
          8.947339057922363,
          -5.551665782928467,
          8.428138732910156,
          -2.7641429901123047,
          -5.207502365112305,
          -5.296875953674316,
          -2.6577470302581787,
          -1.880987524986267
         ],
         "yaxis": "y"
        }
       ],
       "layout": {
        "annotations": [
         {
          "showarrow": false,
          "text": "D1",
          "x": -11.861808633804321,
          "y": 14.268636548519137,
          "yshift": 10
         },
         {
          "showarrow": false,
          "text": "D2",
          "x": 7.846689581871034,
          "xshift": 10,
          "y": 34.92168874740601
         }
        ],
        "height": 650,
        "hoverlabel": {
         "bgcolor": "white",
         "font": {
          "family": "Rockwell",
          "size": 16
         }
        },
        "legend": {
         "itemsizing": "constant",
         "tracegroupgap": 0
        },
        "margin": {
         "t": 60
        },
        "shapes": [
         {
          "line": {
           "color": "#CFD8DC",
           "width": 2
          },
          "type": "line",
          "x0": 7.846689581871034,
          "x1": 7.846689581871034,
          "y0": -6.384415650367737,
          "y1": 34.92168874740601
         },
         {
          "line": {
           "color": "#9E9E9E",
           "width": 2
          },
          "type": "line",
          "x0": -11.861808633804321,
          "x1": 27.555187797546388,
          "y0": 14.268636548519137,
          "y1": 14.268636548519137
         }
        ],
        "sliders": [
         {
          "active": 0,
          "pad": {
           "t": 50
          },
          "steps": [
           {
            "args": [
             {
              "marker.color": [
               [
                "red",
                "#B0BEC5",
                "#B0BEC5",
                "#B0BEC5",
                "#B0BEC5",
                "#B0BEC5",
                "#B0BEC5",
                "#B0BEC5",
                "#B0BEC5",
                "#B0BEC5",
                "#B0BEC5",
                "#B0BEC5",
                "#B0BEC5",
                "#B0BEC5",
                "#B0BEC5",
                "#B0BEC5",
                "#B0BEC5",
                "#B0BEC5",
                "#B0BEC5",
                "#B0BEC5",
                "#B0BEC5",
                "#B0BEC5",
                "#B0BEC5",
                "#B0BEC5",
                "#B0BEC5",
                "#B0BEC5",
                "#B0BEC5",
                "#B0BEC5"
               ]
              ]
             }
            ],
            "label": "Topic 0",
            "method": "update"
           },
           {
            "args": [
             {
              "marker.color": [
               [
                "#B0BEC5",
                "red",
                "#B0BEC5",
                "#B0BEC5",
                "#B0BEC5",
                "#B0BEC5",
                "#B0BEC5",
                "#B0BEC5",
                "#B0BEC5",
                "#B0BEC5",
                "#B0BEC5",
                "#B0BEC5",
                "#B0BEC5",
                "#B0BEC5",
                "#B0BEC5",
                "#B0BEC5",
                "#B0BEC5",
                "#B0BEC5",
                "#B0BEC5",
                "#B0BEC5",
                "#B0BEC5",
                "#B0BEC5",
                "#B0BEC5",
                "#B0BEC5",
                "#B0BEC5",
                "#B0BEC5",
                "#B0BEC5",
                "#B0BEC5"
               ]
              ]
             }
            ],
            "label": "Topic 1",
            "method": "update"
           },
           {
            "args": [
             {
              "marker.color": [
               [
                "#B0BEC5",
                "#B0BEC5",
                "red",
                "#B0BEC5",
                "#B0BEC5",
                "#B0BEC5",
                "#B0BEC5",
                "#B0BEC5",
                "#B0BEC5",
                "#B0BEC5",
                "#B0BEC5",
                "#B0BEC5",
                "#B0BEC5",
                "#B0BEC5",
                "#B0BEC5",
                "#B0BEC5",
                "#B0BEC5",
                "#B0BEC5",
                "#B0BEC5",
                "#B0BEC5",
                "#B0BEC5",
                "#B0BEC5",
                "#B0BEC5",
                "#B0BEC5",
                "#B0BEC5",
                "#B0BEC5",
                "#B0BEC5",
                "#B0BEC5"
               ]
              ]
             }
            ],
            "label": "Topic 2",
            "method": "update"
           },
           {
            "args": [
             {
              "marker.color": [
               [
                "#B0BEC5",
                "#B0BEC5",
                "#B0BEC5",
                "red",
                "#B0BEC5",
                "#B0BEC5",
                "#B0BEC5",
                "#B0BEC5",
                "#B0BEC5",
                "#B0BEC5",
                "#B0BEC5",
                "#B0BEC5",
                "#B0BEC5",
                "#B0BEC5",
                "#B0BEC5",
                "#B0BEC5",
                "#B0BEC5",
                "#B0BEC5",
                "#B0BEC5",
                "#B0BEC5",
                "#B0BEC5",
                "#B0BEC5",
                "#B0BEC5",
                "#B0BEC5",
                "#B0BEC5",
                "#B0BEC5",
                "#B0BEC5",
                "#B0BEC5"
               ]
              ]
             }
            ],
            "label": "Topic 3",
            "method": "update"
           },
           {
            "args": [
             {
              "marker.color": [
               [
                "#B0BEC5",
                "#B0BEC5",
                "#B0BEC5",
                "#B0BEC5",
                "red",
                "#B0BEC5",
                "#B0BEC5",
                "#B0BEC5",
                "#B0BEC5",
                "#B0BEC5",
                "#B0BEC5",
                "#B0BEC5",
                "#B0BEC5",
                "#B0BEC5",
                "#B0BEC5",
                "#B0BEC5",
                "#B0BEC5",
                "#B0BEC5",
                "#B0BEC5",
                "#B0BEC5",
                "#B0BEC5",
                "#B0BEC5",
                "#B0BEC5",
                "#B0BEC5",
                "#B0BEC5",
                "#B0BEC5",
                "#B0BEC5",
                "#B0BEC5"
               ]
              ]
             }
            ],
            "label": "Topic 4",
            "method": "update"
           },
           {
            "args": [
             {
              "marker.color": [
               [
                "#B0BEC5",
                "#B0BEC5",
                "#B0BEC5",
                "#B0BEC5",
                "#B0BEC5",
                "red",
                "#B0BEC5",
                "#B0BEC5",
                "#B0BEC5",
                "#B0BEC5",
                "#B0BEC5",
                "#B0BEC5",
                "#B0BEC5",
                "#B0BEC5",
                "#B0BEC5",
                "#B0BEC5",
                "#B0BEC5",
                "#B0BEC5",
                "#B0BEC5",
                "#B0BEC5",
                "#B0BEC5",
                "#B0BEC5",
                "#B0BEC5",
                "#B0BEC5",
                "#B0BEC5",
                "#B0BEC5",
                "#B0BEC5",
                "#B0BEC5"
               ]
              ]
             }
            ],
            "label": "Topic 5",
            "method": "update"
           },
           {
            "args": [
             {
              "marker.color": [
               [
                "#B0BEC5",
                "#B0BEC5",
                "#B0BEC5",
                "#B0BEC5",
                "#B0BEC5",
                "#B0BEC5",
                "red",
                "#B0BEC5",
                "#B0BEC5",
                "#B0BEC5",
                "#B0BEC5",
                "#B0BEC5",
                "#B0BEC5",
                "#B0BEC5",
                "#B0BEC5",
                "#B0BEC5",
                "#B0BEC5",
                "#B0BEC5",
                "#B0BEC5",
                "#B0BEC5",
                "#B0BEC5",
                "#B0BEC5",
                "#B0BEC5",
                "#B0BEC5",
                "#B0BEC5",
                "#B0BEC5",
                "#B0BEC5",
                "#B0BEC5"
               ]
              ]
             }
            ],
            "label": "Topic 6",
            "method": "update"
           },
           {
            "args": [
             {
              "marker.color": [
               [
                "#B0BEC5",
                "#B0BEC5",
                "#B0BEC5",
                "#B0BEC5",
                "#B0BEC5",
                "#B0BEC5",
                "#B0BEC5",
                "red",
                "#B0BEC5",
                "#B0BEC5",
                "#B0BEC5",
                "#B0BEC5",
                "#B0BEC5",
                "#B0BEC5",
                "#B0BEC5",
                "#B0BEC5",
                "#B0BEC5",
                "#B0BEC5",
                "#B0BEC5",
                "#B0BEC5",
                "#B0BEC5",
                "#B0BEC5",
                "#B0BEC5",
                "#B0BEC5",
                "#B0BEC5",
                "#B0BEC5",
                "#B0BEC5",
                "#B0BEC5"
               ]
              ]
             }
            ],
            "label": "Topic 7",
            "method": "update"
           },
           {
            "args": [
             {
              "marker.color": [
               [
                "#B0BEC5",
                "#B0BEC5",
                "#B0BEC5",
                "#B0BEC5",
                "#B0BEC5",
                "#B0BEC5",
                "#B0BEC5",
                "#B0BEC5",
                "red",
                "#B0BEC5",
                "#B0BEC5",
                "#B0BEC5",
                "#B0BEC5",
                "#B0BEC5",
                "#B0BEC5",
                "#B0BEC5",
                "#B0BEC5",
                "#B0BEC5",
                "#B0BEC5",
                "#B0BEC5",
                "#B0BEC5",
                "#B0BEC5",
                "#B0BEC5",
                "#B0BEC5",
                "#B0BEC5",
                "#B0BEC5",
                "#B0BEC5",
                "#B0BEC5"
               ]
              ]
             }
            ],
            "label": "Topic 8",
            "method": "update"
           },
           {
            "args": [
             {
              "marker.color": [
               [
                "#B0BEC5",
                "#B0BEC5",
                "#B0BEC5",
                "#B0BEC5",
                "#B0BEC5",
                "#B0BEC5",
                "#B0BEC5",
                "#B0BEC5",
                "#B0BEC5",
                "red",
                "#B0BEC5",
                "#B0BEC5",
                "#B0BEC5",
                "#B0BEC5",
                "#B0BEC5",
                "#B0BEC5",
                "#B0BEC5",
                "#B0BEC5",
                "#B0BEC5",
                "#B0BEC5",
                "#B0BEC5",
                "#B0BEC5",
                "#B0BEC5",
                "#B0BEC5",
                "#B0BEC5",
                "#B0BEC5",
                "#B0BEC5",
                "#B0BEC5"
               ]
              ]
             }
            ],
            "label": "Topic 9",
            "method": "update"
           },
           {
            "args": [
             {
              "marker.color": [
               [
                "#B0BEC5",
                "#B0BEC5",
                "#B0BEC5",
                "#B0BEC5",
                "#B0BEC5",
                "#B0BEC5",
                "#B0BEC5",
                "#B0BEC5",
                "#B0BEC5",
                "#B0BEC5",
                "red",
                "#B0BEC5",
                "#B0BEC5",
                "#B0BEC5",
                "#B0BEC5",
                "#B0BEC5",
                "#B0BEC5",
                "#B0BEC5",
                "#B0BEC5",
                "#B0BEC5",
                "#B0BEC5",
                "#B0BEC5",
                "#B0BEC5",
                "#B0BEC5",
                "#B0BEC5",
                "#B0BEC5",
                "#B0BEC5",
                "#B0BEC5"
               ]
              ]
             }
            ],
            "label": "Topic 10",
            "method": "update"
           },
           {
            "args": [
             {
              "marker.color": [
               [
                "#B0BEC5",
                "#B0BEC5",
                "#B0BEC5",
                "#B0BEC5",
                "#B0BEC5",
                "#B0BEC5",
                "#B0BEC5",
                "#B0BEC5",
                "#B0BEC5",
                "#B0BEC5",
                "#B0BEC5",
                "red",
                "#B0BEC5",
                "#B0BEC5",
                "#B0BEC5",
                "#B0BEC5",
                "#B0BEC5",
                "#B0BEC5",
                "#B0BEC5",
                "#B0BEC5",
                "#B0BEC5",
                "#B0BEC5",
                "#B0BEC5",
                "#B0BEC5",
                "#B0BEC5",
                "#B0BEC5",
                "#B0BEC5",
                "#B0BEC5"
               ]
              ]
             }
            ],
            "label": "Topic 11",
            "method": "update"
           },
           {
            "args": [
             {
              "marker.color": [
               [
                "#B0BEC5",
                "#B0BEC5",
                "#B0BEC5",
                "#B0BEC5",
                "#B0BEC5",
                "#B0BEC5",
                "#B0BEC5",
                "#B0BEC5",
                "#B0BEC5",
                "#B0BEC5",
                "#B0BEC5",
                "#B0BEC5",
                "red",
                "#B0BEC5",
                "#B0BEC5",
                "#B0BEC5",
                "#B0BEC5",
                "#B0BEC5",
                "#B0BEC5",
                "#B0BEC5",
                "#B0BEC5",
                "#B0BEC5",
                "#B0BEC5",
                "#B0BEC5",
                "#B0BEC5",
                "#B0BEC5",
                "#B0BEC5",
                "#B0BEC5"
               ]
              ]
             }
            ],
            "label": "Topic 12",
            "method": "update"
           },
           {
            "args": [
             {
              "marker.color": [
               [
                "#B0BEC5",
                "#B0BEC5",
                "#B0BEC5",
                "#B0BEC5",
                "#B0BEC5",
                "#B0BEC5",
                "#B0BEC5",
                "#B0BEC5",
                "#B0BEC5",
                "#B0BEC5",
                "#B0BEC5",
                "#B0BEC5",
                "#B0BEC5",
                "red",
                "#B0BEC5",
                "#B0BEC5",
                "#B0BEC5",
                "#B0BEC5",
                "#B0BEC5",
                "#B0BEC5",
                "#B0BEC5",
                "#B0BEC5",
                "#B0BEC5",
                "#B0BEC5",
                "#B0BEC5",
                "#B0BEC5",
                "#B0BEC5",
                "#B0BEC5"
               ]
              ]
             }
            ],
            "label": "Topic 13",
            "method": "update"
           },
           {
            "args": [
             {
              "marker.color": [
               [
                "#B0BEC5",
                "#B0BEC5",
                "#B0BEC5",
                "#B0BEC5",
                "#B0BEC5",
                "#B0BEC5",
                "#B0BEC5",
                "#B0BEC5",
                "#B0BEC5",
                "#B0BEC5",
                "#B0BEC5",
                "#B0BEC5",
                "#B0BEC5",
                "#B0BEC5",
                "red",
                "#B0BEC5",
                "#B0BEC5",
                "#B0BEC5",
                "#B0BEC5",
                "#B0BEC5",
                "#B0BEC5",
                "#B0BEC5",
                "#B0BEC5",
                "#B0BEC5",
                "#B0BEC5",
                "#B0BEC5",
                "#B0BEC5",
                "#B0BEC5"
               ]
              ]
             }
            ],
            "label": "Topic 14",
            "method": "update"
           },
           {
            "args": [
             {
              "marker.color": [
               [
                "#B0BEC5",
                "#B0BEC5",
                "#B0BEC5",
                "#B0BEC5",
                "#B0BEC5",
                "#B0BEC5",
                "#B0BEC5",
                "#B0BEC5",
                "#B0BEC5",
                "#B0BEC5",
                "#B0BEC5",
                "#B0BEC5",
                "#B0BEC5",
                "#B0BEC5",
                "#B0BEC5",
                "red",
                "#B0BEC5",
                "#B0BEC5",
                "#B0BEC5",
                "#B0BEC5",
                "#B0BEC5",
                "#B0BEC5",
                "#B0BEC5",
                "#B0BEC5",
                "#B0BEC5",
                "#B0BEC5",
                "#B0BEC5",
                "#B0BEC5"
               ]
              ]
             }
            ],
            "label": "Topic 15",
            "method": "update"
           },
           {
            "args": [
             {
              "marker.color": [
               [
                "#B0BEC5",
                "#B0BEC5",
                "#B0BEC5",
                "#B0BEC5",
                "#B0BEC5",
                "#B0BEC5",
                "#B0BEC5",
                "#B0BEC5",
                "#B0BEC5",
                "#B0BEC5",
                "#B0BEC5",
                "#B0BEC5",
                "#B0BEC5",
                "#B0BEC5",
                "#B0BEC5",
                "#B0BEC5",
                "red",
                "#B0BEC5",
                "#B0BEC5",
                "#B0BEC5",
                "#B0BEC5",
                "#B0BEC5",
                "#B0BEC5",
                "#B0BEC5",
                "#B0BEC5",
                "#B0BEC5",
                "#B0BEC5",
                "#B0BEC5"
               ]
              ]
             }
            ],
            "label": "Topic 16",
            "method": "update"
           },
           {
            "args": [
             {
              "marker.color": [
               [
                "#B0BEC5",
                "#B0BEC5",
                "#B0BEC5",
                "#B0BEC5",
                "#B0BEC5",
                "#B0BEC5",
                "#B0BEC5",
                "#B0BEC5",
                "#B0BEC5",
                "#B0BEC5",
                "#B0BEC5",
                "#B0BEC5",
                "#B0BEC5",
                "#B0BEC5",
                "#B0BEC5",
                "#B0BEC5",
                "#B0BEC5",
                "red",
                "#B0BEC5",
                "#B0BEC5",
                "#B0BEC5",
                "#B0BEC5",
                "#B0BEC5",
                "#B0BEC5",
                "#B0BEC5",
                "#B0BEC5",
                "#B0BEC5",
                "#B0BEC5"
               ]
              ]
             }
            ],
            "label": "Topic 17",
            "method": "update"
           },
           {
            "args": [
             {
              "marker.color": [
               [
                "#B0BEC5",
                "#B0BEC5",
                "#B0BEC5",
                "#B0BEC5",
                "#B0BEC5",
                "#B0BEC5",
                "#B0BEC5",
                "#B0BEC5",
                "#B0BEC5",
                "#B0BEC5",
                "#B0BEC5",
                "#B0BEC5",
                "#B0BEC5",
                "#B0BEC5",
                "#B0BEC5",
                "#B0BEC5",
                "#B0BEC5",
                "#B0BEC5",
                "red",
                "#B0BEC5",
                "#B0BEC5",
                "#B0BEC5",
                "#B0BEC5",
                "#B0BEC5",
                "#B0BEC5",
                "#B0BEC5",
                "#B0BEC5",
                "#B0BEC5"
               ]
              ]
             }
            ],
            "label": "Topic 18",
            "method": "update"
           },
           {
            "args": [
             {
              "marker.color": [
               [
                "#B0BEC5",
                "#B0BEC5",
                "#B0BEC5",
                "#B0BEC5",
                "#B0BEC5",
                "#B0BEC5",
                "#B0BEC5",
                "#B0BEC5",
                "#B0BEC5",
                "#B0BEC5",
                "#B0BEC5",
                "#B0BEC5",
                "#B0BEC5",
                "#B0BEC5",
                "#B0BEC5",
                "#B0BEC5",
                "#B0BEC5",
                "#B0BEC5",
                "#B0BEC5",
                "red",
                "#B0BEC5",
                "#B0BEC5",
                "#B0BEC5",
                "#B0BEC5",
                "#B0BEC5",
                "#B0BEC5",
                "#B0BEC5",
                "#B0BEC5"
               ]
              ]
             }
            ],
            "label": "Topic 19",
            "method": "update"
           },
           {
            "args": [
             {
              "marker.color": [
               [
                "#B0BEC5",
                "#B0BEC5",
                "#B0BEC5",
                "#B0BEC5",
                "#B0BEC5",
                "#B0BEC5",
                "#B0BEC5",
                "#B0BEC5",
                "#B0BEC5",
                "#B0BEC5",
                "#B0BEC5",
                "#B0BEC5",
                "#B0BEC5",
                "#B0BEC5",
                "#B0BEC5",
                "#B0BEC5",
                "#B0BEC5",
                "#B0BEC5",
                "#B0BEC5",
                "#B0BEC5",
                "red",
                "#B0BEC5",
                "#B0BEC5",
                "#B0BEC5",
                "#B0BEC5",
                "#B0BEC5",
                "#B0BEC5",
                "#B0BEC5"
               ]
              ]
             }
            ],
            "label": "Topic 20",
            "method": "update"
           },
           {
            "args": [
             {
              "marker.color": [
               [
                "#B0BEC5",
                "#B0BEC5",
                "#B0BEC5",
                "#B0BEC5",
                "#B0BEC5",
                "#B0BEC5",
                "#B0BEC5",
                "#B0BEC5",
                "#B0BEC5",
                "#B0BEC5",
                "#B0BEC5",
                "#B0BEC5",
                "#B0BEC5",
                "#B0BEC5",
                "#B0BEC5",
                "#B0BEC5",
                "#B0BEC5",
                "#B0BEC5",
                "#B0BEC5",
                "#B0BEC5",
                "#B0BEC5",
                "red",
                "#B0BEC5",
                "#B0BEC5",
                "#B0BEC5",
                "#B0BEC5",
                "#B0BEC5",
                "#B0BEC5"
               ]
              ]
             }
            ],
            "label": "Topic 21",
            "method": "update"
           },
           {
            "args": [
             {
              "marker.color": [
               [
                "#B0BEC5",
                "#B0BEC5",
                "#B0BEC5",
                "#B0BEC5",
                "#B0BEC5",
                "#B0BEC5",
                "#B0BEC5",
                "#B0BEC5",
                "#B0BEC5",
                "#B0BEC5",
                "#B0BEC5",
                "#B0BEC5",
                "#B0BEC5",
                "#B0BEC5",
                "#B0BEC5",
                "#B0BEC5",
                "#B0BEC5",
                "#B0BEC5",
                "#B0BEC5",
                "#B0BEC5",
                "#B0BEC5",
                "#B0BEC5",
                "red",
                "#B0BEC5",
                "#B0BEC5",
                "#B0BEC5",
                "#B0BEC5",
                "#B0BEC5"
               ]
              ]
             }
            ],
            "label": "Topic 22",
            "method": "update"
           },
           {
            "args": [
             {
              "marker.color": [
               [
                "#B0BEC5",
                "#B0BEC5",
                "#B0BEC5",
                "#B0BEC5",
                "#B0BEC5",
                "#B0BEC5",
                "#B0BEC5",
                "#B0BEC5",
                "#B0BEC5",
                "#B0BEC5",
                "#B0BEC5",
                "#B0BEC5",
                "#B0BEC5",
                "#B0BEC5",
                "#B0BEC5",
                "#B0BEC5",
                "#B0BEC5",
                "#B0BEC5",
                "#B0BEC5",
                "#B0BEC5",
                "#B0BEC5",
                "#B0BEC5",
                "#B0BEC5",
                "red",
                "#B0BEC5",
                "#B0BEC5",
                "#B0BEC5",
                "#B0BEC5"
               ]
              ]
             }
            ],
            "label": "Topic 23",
            "method": "update"
           },
           {
            "args": [
             {
              "marker.color": [
               [
                "#B0BEC5",
                "#B0BEC5",
                "#B0BEC5",
                "#B0BEC5",
                "#B0BEC5",
                "#B0BEC5",
                "#B0BEC5",
                "#B0BEC5",
                "#B0BEC5",
                "#B0BEC5",
                "#B0BEC5",
                "#B0BEC5",
                "#B0BEC5",
                "#B0BEC5",
                "#B0BEC5",
                "#B0BEC5",
                "#B0BEC5",
                "#B0BEC5",
                "#B0BEC5",
                "#B0BEC5",
                "#B0BEC5",
                "#B0BEC5",
                "#B0BEC5",
                "#B0BEC5",
                "red",
                "#B0BEC5",
                "#B0BEC5",
                "#B0BEC5"
               ]
              ]
             }
            ],
            "label": "Topic 24",
            "method": "update"
           },
           {
            "args": [
             {
              "marker.color": [
               [
                "#B0BEC5",
                "#B0BEC5",
                "#B0BEC5",
                "#B0BEC5",
                "#B0BEC5",
                "#B0BEC5",
                "#B0BEC5",
                "#B0BEC5",
                "#B0BEC5",
                "#B0BEC5",
                "#B0BEC5",
                "#B0BEC5",
                "#B0BEC5",
                "#B0BEC5",
                "#B0BEC5",
                "#B0BEC5",
                "#B0BEC5",
                "#B0BEC5",
                "#B0BEC5",
                "#B0BEC5",
                "#B0BEC5",
                "#B0BEC5",
                "#B0BEC5",
                "#B0BEC5",
                "#B0BEC5",
                "red",
                "#B0BEC5",
                "#B0BEC5"
               ]
              ]
             }
            ],
            "label": "Topic 25",
            "method": "update"
           },
           {
            "args": [
             {
              "marker.color": [
               [
                "#B0BEC5",
                "#B0BEC5",
                "#B0BEC5",
                "#B0BEC5",
                "#B0BEC5",
                "#B0BEC5",
                "#B0BEC5",
                "#B0BEC5",
                "#B0BEC5",
                "#B0BEC5",
                "#B0BEC5",
                "#B0BEC5",
                "#B0BEC5",
                "#B0BEC5",
                "#B0BEC5",
                "#B0BEC5",
                "#B0BEC5",
                "#B0BEC5",
                "#B0BEC5",
                "#B0BEC5",
                "#B0BEC5",
                "#B0BEC5",
                "#B0BEC5",
                "#B0BEC5",
                "#B0BEC5",
                "#B0BEC5",
                "red",
                "#B0BEC5"
               ]
              ]
             }
            ],
            "label": "Topic 26",
            "method": "update"
           },
           {
            "args": [
             {
              "marker.color": [
               [
                "#B0BEC5",
                "#B0BEC5",
                "#B0BEC5",
                "#B0BEC5",
                "#B0BEC5",
                "#B0BEC5",
                "#B0BEC5",
                "#B0BEC5",
                "#B0BEC5",
                "#B0BEC5",
                "#B0BEC5",
                "#B0BEC5",
                "#B0BEC5",
                "#B0BEC5",
                "#B0BEC5",
                "#B0BEC5",
                "#B0BEC5",
                "#B0BEC5",
                "#B0BEC5",
                "#B0BEC5",
                "#B0BEC5",
                "#B0BEC5",
                "#B0BEC5",
                "#B0BEC5",
                "#B0BEC5",
                "#B0BEC5",
                "#B0BEC5",
                "red"
               ]
              ]
             }
            ],
            "label": "Topic 27",
            "method": "update"
           }
          ]
         }
        ],
        "template": {
         "data": {
          "bar": [
           {
            "error_x": {
             "color": "rgb(36,36,36)"
            },
            "error_y": {
             "color": "rgb(36,36,36)"
            },
            "marker": {
             "line": {
              "color": "white",
              "width": 0.5
             }
            },
            "type": "bar"
           }
          ],
          "barpolar": [
           {
            "marker": {
             "line": {
              "color": "white",
              "width": 0.5
             }
            },
            "type": "barpolar"
           }
          ],
          "carpet": [
           {
            "aaxis": {
             "endlinecolor": "rgb(36,36,36)",
             "gridcolor": "white",
             "linecolor": "white",
             "minorgridcolor": "white",
             "startlinecolor": "rgb(36,36,36)"
            },
            "baxis": {
             "endlinecolor": "rgb(36,36,36)",
             "gridcolor": "white",
             "linecolor": "white",
             "minorgridcolor": "white",
             "startlinecolor": "rgb(36,36,36)"
            },
            "type": "carpet"
           }
          ],
          "choropleth": [
           {
            "colorbar": {
             "outlinewidth": 1,
             "tickcolor": "rgb(36,36,36)",
             "ticks": "outside"
            },
            "type": "choropleth"
           }
          ],
          "contour": [
           {
            "colorbar": {
             "outlinewidth": 1,
             "tickcolor": "rgb(36,36,36)",
             "ticks": "outside"
            },
            "colorscale": [
             [
              0,
              "#440154"
             ],
             [
              0.1111111111111111,
              "#482878"
             ],
             [
              0.2222222222222222,
              "#3e4989"
             ],
             [
              0.3333333333333333,
              "#31688e"
             ],
             [
              0.4444444444444444,
              "#26828e"
             ],
             [
              0.5555555555555556,
              "#1f9e89"
             ],
             [
              0.6666666666666666,
              "#35b779"
             ],
             [
              0.7777777777777778,
              "#6ece58"
             ],
             [
              0.8888888888888888,
              "#b5de2b"
             ],
             [
              1,
              "#fde725"
             ]
            ],
            "type": "contour"
           }
          ],
          "contourcarpet": [
           {
            "colorbar": {
             "outlinewidth": 1,
             "tickcolor": "rgb(36,36,36)",
             "ticks": "outside"
            },
            "type": "contourcarpet"
           }
          ],
          "heatmap": [
           {
            "colorbar": {
             "outlinewidth": 1,
             "tickcolor": "rgb(36,36,36)",
             "ticks": "outside"
            },
            "colorscale": [
             [
              0,
              "#440154"
             ],
             [
              0.1111111111111111,
              "#482878"
             ],
             [
              0.2222222222222222,
              "#3e4989"
             ],
             [
              0.3333333333333333,
              "#31688e"
             ],
             [
              0.4444444444444444,
              "#26828e"
             ],
             [
              0.5555555555555556,
              "#1f9e89"
             ],
             [
              0.6666666666666666,
              "#35b779"
             ],
             [
              0.7777777777777778,
              "#6ece58"
             ],
             [
              0.8888888888888888,
              "#b5de2b"
             ],
             [
              1,
              "#fde725"
             ]
            ],
            "type": "heatmap"
           }
          ],
          "heatmapgl": [
           {
            "colorbar": {
             "outlinewidth": 1,
             "tickcolor": "rgb(36,36,36)",
             "ticks": "outside"
            },
            "colorscale": [
             [
              0,
              "#440154"
             ],
             [
              0.1111111111111111,
              "#482878"
             ],
             [
              0.2222222222222222,
              "#3e4989"
             ],
             [
              0.3333333333333333,
              "#31688e"
             ],
             [
              0.4444444444444444,
              "#26828e"
             ],
             [
              0.5555555555555556,
              "#1f9e89"
             ],
             [
              0.6666666666666666,
              "#35b779"
             ],
             [
              0.7777777777777778,
              "#6ece58"
             ],
             [
              0.8888888888888888,
              "#b5de2b"
             ],
             [
              1,
              "#fde725"
             ]
            ],
            "type": "heatmapgl"
           }
          ],
          "histogram": [
           {
            "marker": {
             "line": {
              "color": "white",
              "width": 0.6
             }
            },
            "type": "histogram"
           }
          ],
          "histogram2d": [
           {
            "colorbar": {
             "outlinewidth": 1,
             "tickcolor": "rgb(36,36,36)",
             "ticks": "outside"
            },
            "colorscale": [
             [
              0,
              "#440154"
             ],
             [
              0.1111111111111111,
              "#482878"
             ],
             [
              0.2222222222222222,
              "#3e4989"
             ],
             [
              0.3333333333333333,
              "#31688e"
             ],
             [
              0.4444444444444444,
              "#26828e"
             ],
             [
              0.5555555555555556,
              "#1f9e89"
             ],
             [
              0.6666666666666666,
              "#35b779"
             ],
             [
              0.7777777777777778,
              "#6ece58"
             ],
             [
              0.8888888888888888,
              "#b5de2b"
             ],
             [
              1,
              "#fde725"
             ]
            ],
            "type": "histogram2d"
           }
          ],
          "histogram2dcontour": [
           {
            "colorbar": {
             "outlinewidth": 1,
             "tickcolor": "rgb(36,36,36)",
             "ticks": "outside"
            },
            "colorscale": [
             [
              0,
              "#440154"
             ],
             [
              0.1111111111111111,
              "#482878"
             ],
             [
              0.2222222222222222,
              "#3e4989"
             ],
             [
              0.3333333333333333,
              "#31688e"
             ],
             [
              0.4444444444444444,
              "#26828e"
             ],
             [
              0.5555555555555556,
              "#1f9e89"
             ],
             [
              0.6666666666666666,
              "#35b779"
             ],
             [
              0.7777777777777778,
              "#6ece58"
             ],
             [
              0.8888888888888888,
              "#b5de2b"
             ],
             [
              1,
              "#fde725"
             ]
            ],
            "type": "histogram2dcontour"
           }
          ],
          "mesh3d": [
           {
            "colorbar": {
             "outlinewidth": 1,
             "tickcolor": "rgb(36,36,36)",
             "ticks": "outside"
            },
            "type": "mesh3d"
           }
          ],
          "parcoords": [
           {
            "line": {
             "colorbar": {
              "outlinewidth": 1,
              "tickcolor": "rgb(36,36,36)",
              "ticks": "outside"
             }
            },
            "type": "parcoords"
           }
          ],
          "pie": [
           {
            "automargin": true,
            "type": "pie"
           }
          ],
          "scatter": [
           {
            "marker": {
             "colorbar": {
              "outlinewidth": 1,
              "tickcolor": "rgb(36,36,36)",
              "ticks": "outside"
             }
            },
            "type": "scatter"
           }
          ],
          "scatter3d": [
           {
            "line": {
             "colorbar": {
              "outlinewidth": 1,
              "tickcolor": "rgb(36,36,36)",
              "ticks": "outside"
             }
            },
            "marker": {
             "colorbar": {
              "outlinewidth": 1,
              "tickcolor": "rgb(36,36,36)",
              "ticks": "outside"
             }
            },
            "type": "scatter3d"
           }
          ],
          "scattercarpet": [
           {
            "marker": {
             "colorbar": {
              "outlinewidth": 1,
              "tickcolor": "rgb(36,36,36)",
              "ticks": "outside"
             }
            },
            "type": "scattercarpet"
           }
          ],
          "scattergeo": [
           {
            "marker": {
             "colorbar": {
              "outlinewidth": 1,
              "tickcolor": "rgb(36,36,36)",
              "ticks": "outside"
             }
            },
            "type": "scattergeo"
           }
          ],
          "scattergl": [
           {
            "marker": {
             "colorbar": {
              "outlinewidth": 1,
              "tickcolor": "rgb(36,36,36)",
              "ticks": "outside"
             }
            },
            "type": "scattergl"
           }
          ],
          "scattermapbox": [
           {
            "marker": {
             "colorbar": {
              "outlinewidth": 1,
              "tickcolor": "rgb(36,36,36)",
              "ticks": "outside"
             }
            },
            "type": "scattermapbox"
           }
          ],
          "scatterpolar": [
           {
            "marker": {
             "colorbar": {
              "outlinewidth": 1,
              "tickcolor": "rgb(36,36,36)",
              "ticks": "outside"
             }
            },
            "type": "scatterpolar"
           }
          ],
          "scatterpolargl": [
           {
            "marker": {
             "colorbar": {
              "outlinewidth": 1,
              "tickcolor": "rgb(36,36,36)",
              "ticks": "outside"
             }
            },
            "type": "scatterpolargl"
           }
          ],
          "scatterternary": [
           {
            "marker": {
             "colorbar": {
              "outlinewidth": 1,
              "tickcolor": "rgb(36,36,36)",
              "ticks": "outside"
             }
            },
            "type": "scatterternary"
           }
          ],
          "surface": [
           {
            "colorbar": {
             "outlinewidth": 1,
             "tickcolor": "rgb(36,36,36)",
             "ticks": "outside"
            },
            "colorscale": [
             [
              0,
              "#440154"
             ],
             [
              0.1111111111111111,
              "#482878"
             ],
             [
              0.2222222222222222,
              "#3e4989"
             ],
             [
              0.3333333333333333,
              "#31688e"
             ],
             [
              0.4444444444444444,
              "#26828e"
             ],
             [
              0.5555555555555556,
              "#1f9e89"
             ],
             [
              0.6666666666666666,
              "#35b779"
             ],
             [
              0.7777777777777778,
              "#6ece58"
             ],
             [
              0.8888888888888888,
              "#b5de2b"
             ],
             [
              1,
              "#fde725"
             ]
            ],
            "type": "surface"
           }
          ],
          "table": [
           {
            "cells": {
             "fill": {
              "color": "rgb(237,237,237)"
             },
             "line": {
              "color": "white"
             }
            },
            "header": {
             "fill": {
              "color": "rgb(217,217,217)"
             },
             "line": {
              "color": "white"
             }
            },
            "type": "table"
           }
          ]
         },
         "layout": {
          "annotationdefaults": {
           "arrowhead": 0,
           "arrowwidth": 1
          },
          "autotypenumbers": "strict",
          "coloraxis": {
           "colorbar": {
            "outlinewidth": 1,
            "tickcolor": "rgb(36,36,36)",
            "ticks": "outside"
           }
          },
          "colorscale": {
           "diverging": [
            [
             0,
             "rgb(103,0,31)"
            ],
            [
             0.1,
             "rgb(178,24,43)"
            ],
            [
             0.2,
             "rgb(214,96,77)"
            ],
            [
             0.3,
             "rgb(244,165,130)"
            ],
            [
             0.4,
             "rgb(253,219,199)"
            ],
            [
             0.5,
             "rgb(247,247,247)"
            ],
            [
             0.6,
             "rgb(209,229,240)"
            ],
            [
             0.7,
             "rgb(146,197,222)"
            ],
            [
             0.8,
             "rgb(67,147,195)"
            ],
            [
             0.9,
             "rgb(33,102,172)"
            ],
            [
             1,
             "rgb(5,48,97)"
            ]
           ],
           "sequential": [
            [
             0,
             "#440154"
            ],
            [
             0.1111111111111111,
             "#482878"
            ],
            [
             0.2222222222222222,
             "#3e4989"
            ],
            [
             0.3333333333333333,
             "#31688e"
            ],
            [
             0.4444444444444444,
             "#26828e"
            ],
            [
             0.5555555555555556,
             "#1f9e89"
            ],
            [
             0.6666666666666666,
             "#35b779"
            ],
            [
             0.7777777777777778,
             "#6ece58"
            ],
            [
             0.8888888888888888,
             "#b5de2b"
            ],
            [
             1,
             "#fde725"
            ]
           ],
           "sequentialminus": [
            [
             0,
             "#440154"
            ],
            [
             0.1111111111111111,
             "#482878"
            ],
            [
             0.2222222222222222,
             "#3e4989"
            ],
            [
             0.3333333333333333,
             "#31688e"
            ],
            [
             0.4444444444444444,
             "#26828e"
            ],
            [
             0.5555555555555556,
             "#1f9e89"
            ],
            [
             0.6666666666666666,
             "#35b779"
            ],
            [
             0.7777777777777778,
             "#6ece58"
            ],
            [
             0.8888888888888888,
             "#b5de2b"
            ],
            [
             1,
             "#fde725"
            ]
           ]
          },
          "colorway": [
           "#1F77B4",
           "#FF7F0E",
           "#2CA02C",
           "#D62728",
           "#9467BD",
           "#8C564B",
           "#E377C2",
           "#7F7F7F",
           "#BCBD22",
           "#17BECF"
          ],
          "font": {
           "color": "rgb(36,36,36)"
          },
          "geo": {
           "bgcolor": "white",
           "lakecolor": "white",
           "landcolor": "white",
           "showlakes": true,
           "showland": true,
           "subunitcolor": "white"
          },
          "hoverlabel": {
           "align": "left"
          },
          "hovermode": "closest",
          "mapbox": {
           "style": "light"
          },
          "paper_bgcolor": "white",
          "plot_bgcolor": "white",
          "polar": {
           "angularaxis": {
            "gridcolor": "rgb(232,232,232)",
            "linecolor": "rgb(36,36,36)",
            "showgrid": false,
            "showline": true,
            "ticks": "outside"
           },
           "bgcolor": "white",
           "radialaxis": {
            "gridcolor": "rgb(232,232,232)",
            "linecolor": "rgb(36,36,36)",
            "showgrid": false,
            "showline": true,
            "ticks": "outside"
           }
          },
          "scene": {
           "xaxis": {
            "backgroundcolor": "white",
            "gridcolor": "rgb(232,232,232)",
            "gridwidth": 2,
            "linecolor": "rgb(36,36,36)",
            "showbackground": true,
            "showgrid": false,
            "showline": true,
            "ticks": "outside",
            "zeroline": false,
            "zerolinecolor": "rgb(36,36,36)"
           },
           "yaxis": {
            "backgroundcolor": "white",
            "gridcolor": "rgb(232,232,232)",
            "gridwidth": 2,
            "linecolor": "rgb(36,36,36)",
            "showbackground": true,
            "showgrid": false,
            "showline": true,
            "ticks": "outside",
            "zeroline": false,
            "zerolinecolor": "rgb(36,36,36)"
           },
           "zaxis": {
            "backgroundcolor": "white",
            "gridcolor": "rgb(232,232,232)",
            "gridwidth": 2,
            "linecolor": "rgb(36,36,36)",
            "showbackground": true,
            "showgrid": false,
            "showline": true,
            "ticks": "outside",
            "zeroline": false,
            "zerolinecolor": "rgb(36,36,36)"
           }
          },
          "shapedefaults": {
           "fillcolor": "black",
           "line": {
            "width": 0
           },
           "opacity": 0.3
          },
          "ternary": {
           "aaxis": {
            "gridcolor": "rgb(232,232,232)",
            "linecolor": "rgb(36,36,36)",
            "showgrid": false,
            "showline": true,
            "ticks": "outside"
           },
           "baxis": {
            "gridcolor": "rgb(232,232,232)",
            "linecolor": "rgb(36,36,36)",
            "showgrid": false,
            "showline": true,
            "ticks": "outside"
           },
           "bgcolor": "white",
           "caxis": {
            "gridcolor": "rgb(232,232,232)",
            "linecolor": "rgb(36,36,36)",
            "showgrid": false,
            "showline": true,
            "ticks": "outside"
           }
          },
          "title": {
           "x": 0.05
          },
          "xaxis": {
           "automargin": true,
           "gridcolor": "rgb(232,232,232)",
           "linecolor": "rgb(36,36,36)",
           "showgrid": false,
           "showline": true,
           "ticks": "outside",
           "title": {
            "standoff": 15
           },
           "zeroline": false,
           "zerolinecolor": "rgb(36,36,36)"
          },
          "yaxis": {
           "automargin": true,
           "gridcolor": "rgb(232,232,232)",
           "linecolor": "rgb(36,36,36)",
           "showgrid": false,
           "showline": true,
           "ticks": "outside",
           "title": {
            "standoff": 15
           },
           "zeroline": false,
           "zerolinecolor": "rgb(36,36,36)"
          }
         }
        },
        "title": {
         "font": {
          "color": "Black",
          "size": 22
         },
         "text": "<b>Intertopic Distance Map",
         "x": 0.5,
         "xanchor": "center",
         "y": 0.95,
         "yanchor": "top"
        },
        "width": 650,
        "xaxis": {
         "anchor": "y",
         "domain": [
          0,
          1
         ],
         "range": [
          -11.861808633804321,
          27.555187797546388
         ],
         "title": {
          "text": ""
         },
         "visible": false
        },
        "yaxis": {
         "anchor": "x",
         "domain": [
          0,
          1
         ],
         "range": [
          -6.384415650367737,
          34.92168874740601
         ],
         "title": {
          "text": ""
         },
         "visible": false
        }
       }
      },
      "text/html": [
       "<div>                            <div id=\"d6fae1ce-e439-41d9-ab16-f23f14d5f25f\" class=\"plotly-graph-div\" style=\"height:650px; width:650px;\"></div>            <script type=\"text/javascript\">                require([\"plotly\"], function(Plotly) {                    window.PLOTLYENV=window.PLOTLYENV || {};                                    if (document.getElementById(\"d6fae1ce-e439-41d9-ab16-f23f14d5f25f\")) {                    Plotly.newPlot(                        \"d6fae1ce-e439-41d9-ab16-f23f14d5f25f\",                        [{\"customdata\": [[-7.16793155670166, 30.197511672973633, 0, \"gold | increase | investor | rise | stock\", 5813], [10.707140922546387, 8.523660659790039, 1, \"number | run | sense | level | \", 1393], [-6.989535331726074, 30.36668586730957, 2, \"fomc | meeting | policy | market | decision\", 564], [-9.743376731872559, -3.3262386322021484, 3, \"holiday | reset | juneteenth | blame | trump\", 145], [-10.314616203308105, -3.420534610748291, 4, \"announcement | source | office | update | word\", 111], [15.221443176269531, -5.175083637237549, 5, \"statement | policy | governor | government | analyst\", 93], [15.74937915802002, -5.100170612335205, 6, \"comment | talk | video | speech | message\", 86], [-9.376696586608887, -2.416771173477173, 7, \"law | problem | enforce | crisis | indictment\", 82], [15.356610298156738, -4.728255271911621, 8, \"ape | expectation | challenge | estimate | experiment\", 81], [9.36127758026123, 8.578448295593262, 9, \"money | gse | ppls | mankind | domain\", 64], [10.166521072387695, 8.639115333557129, 10, \"work | job | labor | behance | notification\", 56], [16.391050338745117, -5.153913497924805, 11, \"commoditie | economy | register | economist | leader\", 56], [8.341495513916016, 9.019669532775879, 12, \"life | love | horse | death | end\", 53], [16.652427673339844, -5.2826080322265625, 13, \"bread | cake | piece | recco | cream\", 50], [8.188693046569824, 9.157428741455078, 14, \"future | airdrop | candle | witch | fomc\", 42], [23.76957130432129, -5.355060577392578, 15, \"point | pant | penny | ponzi | pizza\", 39], [-9.61331558227539, -1.8294625282287598, 16, \"investing | investor | federalreserve | investment | investigation\", 38], [15.5402250289917, -5.054833889007568, 17, \"truth | fact | book | reality | responsibility\", 37], [8.757245063781738, 8.765467643737793, 18, \"tax | cut | refund | payer | return\", 36], [-9.970344543457031, -3.2802183628082275, 19, \"extension | swap | liquidity | payment | reparation\", 36], [10.635390281677246, 8.947339057922363, 20, \"taper | ton | toner | tone | tonight\", 35], [23.96103286743164, -5.551665782928467, 21, \"question | answer | offence | speculate | questioning\", 35], [10.702669143676758, 8.428138732910156, 22, \"child | kid | class | mother | baby\", 34], [-9.304146766662598, -2.7641429901123047, 23, \"leverage | trust | borrowing | recess | suspend\", 33], [14.827462196350098, -5.207502365112305, 24, \"friend | family | pop | prepper | shout\", 33], [14.610057830810547, -5.296875953674316, 25, \"inclusion | decentralize | country | land | sun\", 32], [-9.0341157913208, -2.6577470302581787, 26, \"cash | print | money | account | paper\", 32], [-9.740018844604492, -1.880987524986267, 27, \"meeting | chatter | dinner | fedmeeting | event\", 31]], \"hovertemplate\": \"<b>Topic %{customdata[2]}</b><br>Words: %{customdata[3]}<br>Size: %{customdata[4]}\", \"legendgroup\": \"\", \"marker\": {\"color\": \"#B0BEC5\", \"line\": {\"color\": \"DarkSlateGrey\", \"width\": 2}, \"size\": [5813, 1393, 564, 145, 111, 93, 86, 82, 81, 64, 56, 56, 53, 50, 42, 39, 38, 37, 36, 36, 35, 35, 34, 33, 33, 32, 32, 31], \"sizemode\": \"area\", \"sizeref\": 3.633125, \"symbol\": \"circle\"}, \"mode\": \"markers\", \"name\": \"\", \"orientation\": \"v\", \"showlegend\": false, \"type\": \"scatter\", \"x\": [-7.16793155670166, 10.707140922546387, -6.989535331726074, -9.743376731872559, -10.314616203308105, 15.221443176269531, 15.74937915802002, -9.376696586608887, 15.356610298156738, 9.36127758026123, 10.166521072387695, 16.391050338745117, 8.341495513916016, 16.652427673339844, 8.188693046569824, 23.76957130432129, -9.61331558227539, 15.5402250289917, 8.757245063781738, -9.970344543457031, 10.635390281677246, 23.96103286743164, 10.702669143676758, -9.304146766662598, 14.827462196350098, 14.610057830810547, -9.0341157913208, -9.740018844604492], \"xaxis\": \"x\", \"y\": [30.197511672973633, 8.523660659790039, 30.36668586730957, -3.3262386322021484, -3.420534610748291, -5.175083637237549, -5.100170612335205, -2.416771173477173, -4.728255271911621, 8.578448295593262, 8.639115333557129, -5.153913497924805, 9.019669532775879, -5.2826080322265625, 9.157428741455078, -5.355060577392578, -1.8294625282287598, -5.054833889007568, 8.765467643737793, -3.2802183628082275, 8.947339057922363, -5.551665782928467, 8.428138732910156, -2.7641429901123047, -5.207502365112305, -5.296875953674316, -2.6577470302581787, -1.880987524986267], \"yaxis\": \"y\"}],                        {\"annotations\": [{\"showarrow\": false, \"text\": \"D1\", \"x\": -11.861808633804321, \"y\": 14.268636548519137, \"yshift\": 10}, {\"showarrow\": false, \"text\": \"D2\", \"x\": 7.846689581871034, \"xshift\": 10, \"y\": 34.92168874740601}], \"height\": 650, \"hoverlabel\": {\"bgcolor\": \"white\", \"font\": {\"family\": \"Rockwell\", \"size\": 16}}, \"legend\": {\"itemsizing\": \"constant\", \"tracegroupgap\": 0}, \"margin\": {\"t\": 60}, \"shapes\": [{\"line\": {\"color\": \"#CFD8DC\", \"width\": 2}, \"type\": \"line\", \"x0\": 7.846689581871034, \"x1\": 7.846689581871034, \"y0\": -6.384415650367737, \"y1\": 34.92168874740601}, {\"line\": {\"color\": \"#9E9E9E\", \"width\": 2}, \"type\": \"line\", \"x0\": -11.861808633804321, \"x1\": 27.555187797546388, \"y0\": 14.268636548519137, \"y1\": 14.268636548519137}], \"sliders\": [{\"active\": 0, \"pad\": {\"t\": 50}, \"steps\": [{\"args\": [{\"marker.color\": [[\"red\", \"#B0BEC5\", \"#B0BEC5\", \"#B0BEC5\", \"#B0BEC5\", \"#B0BEC5\", \"#B0BEC5\", \"#B0BEC5\", \"#B0BEC5\", \"#B0BEC5\", \"#B0BEC5\", \"#B0BEC5\", \"#B0BEC5\", \"#B0BEC5\", \"#B0BEC5\", \"#B0BEC5\", \"#B0BEC5\", \"#B0BEC5\", \"#B0BEC5\", \"#B0BEC5\", \"#B0BEC5\", \"#B0BEC5\", \"#B0BEC5\", \"#B0BEC5\", \"#B0BEC5\", \"#B0BEC5\", \"#B0BEC5\", \"#B0BEC5\"]]}], \"label\": \"Topic 0\", \"method\": \"update\"}, {\"args\": [{\"marker.color\": [[\"#B0BEC5\", \"red\", \"#B0BEC5\", \"#B0BEC5\", \"#B0BEC5\", \"#B0BEC5\", \"#B0BEC5\", \"#B0BEC5\", \"#B0BEC5\", \"#B0BEC5\", \"#B0BEC5\", \"#B0BEC5\", \"#B0BEC5\", \"#B0BEC5\", \"#B0BEC5\", \"#B0BEC5\", \"#B0BEC5\", \"#B0BEC5\", \"#B0BEC5\", \"#B0BEC5\", \"#B0BEC5\", \"#B0BEC5\", \"#B0BEC5\", \"#B0BEC5\", \"#B0BEC5\", \"#B0BEC5\", \"#B0BEC5\", \"#B0BEC5\"]]}], \"label\": \"Topic 1\", \"method\": \"update\"}, {\"args\": [{\"marker.color\": [[\"#B0BEC5\", \"#B0BEC5\", \"red\", \"#B0BEC5\", \"#B0BEC5\", \"#B0BEC5\", \"#B0BEC5\", \"#B0BEC5\", \"#B0BEC5\", \"#B0BEC5\", \"#B0BEC5\", \"#B0BEC5\", \"#B0BEC5\", \"#B0BEC5\", \"#B0BEC5\", \"#B0BEC5\", \"#B0BEC5\", \"#B0BEC5\", \"#B0BEC5\", \"#B0BEC5\", \"#B0BEC5\", \"#B0BEC5\", \"#B0BEC5\", \"#B0BEC5\", \"#B0BEC5\", \"#B0BEC5\", \"#B0BEC5\", \"#B0BEC5\"]]}], \"label\": \"Topic 2\", \"method\": \"update\"}, {\"args\": [{\"marker.color\": [[\"#B0BEC5\", \"#B0BEC5\", \"#B0BEC5\", \"red\", \"#B0BEC5\", \"#B0BEC5\", \"#B0BEC5\", \"#B0BEC5\", \"#B0BEC5\", \"#B0BEC5\", \"#B0BEC5\", \"#B0BEC5\", \"#B0BEC5\", \"#B0BEC5\", \"#B0BEC5\", \"#B0BEC5\", \"#B0BEC5\", \"#B0BEC5\", \"#B0BEC5\", \"#B0BEC5\", \"#B0BEC5\", \"#B0BEC5\", \"#B0BEC5\", \"#B0BEC5\", \"#B0BEC5\", \"#B0BEC5\", \"#B0BEC5\", \"#B0BEC5\"]]}], \"label\": \"Topic 3\", \"method\": \"update\"}, {\"args\": [{\"marker.color\": [[\"#B0BEC5\", \"#B0BEC5\", \"#B0BEC5\", \"#B0BEC5\", \"red\", \"#B0BEC5\", \"#B0BEC5\", \"#B0BEC5\", \"#B0BEC5\", \"#B0BEC5\", \"#B0BEC5\", \"#B0BEC5\", \"#B0BEC5\", \"#B0BEC5\", \"#B0BEC5\", \"#B0BEC5\", \"#B0BEC5\", \"#B0BEC5\", \"#B0BEC5\", \"#B0BEC5\", \"#B0BEC5\", \"#B0BEC5\", \"#B0BEC5\", \"#B0BEC5\", \"#B0BEC5\", \"#B0BEC5\", \"#B0BEC5\", \"#B0BEC5\"]]}], \"label\": \"Topic 4\", \"method\": \"update\"}, {\"args\": [{\"marker.color\": [[\"#B0BEC5\", \"#B0BEC5\", \"#B0BEC5\", \"#B0BEC5\", \"#B0BEC5\", \"red\", \"#B0BEC5\", \"#B0BEC5\", \"#B0BEC5\", \"#B0BEC5\", \"#B0BEC5\", \"#B0BEC5\", \"#B0BEC5\", \"#B0BEC5\", \"#B0BEC5\", \"#B0BEC5\", \"#B0BEC5\", \"#B0BEC5\", \"#B0BEC5\", \"#B0BEC5\", \"#B0BEC5\", \"#B0BEC5\", \"#B0BEC5\", \"#B0BEC5\", \"#B0BEC5\", \"#B0BEC5\", \"#B0BEC5\", \"#B0BEC5\"]]}], \"label\": \"Topic 5\", \"method\": \"update\"}, {\"args\": [{\"marker.color\": [[\"#B0BEC5\", \"#B0BEC5\", \"#B0BEC5\", \"#B0BEC5\", \"#B0BEC5\", \"#B0BEC5\", \"red\", \"#B0BEC5\", \"#B0BEC5\", \"#B0BEC5\", \"#B0BEC5\", \"#B0BEC5\", \"#B0BEC5\", \"#B0BEC5\", \"#B0BEC5\", \"#B0BEC5\", \"#B0BEC5\", \"#B0BEC5\", \"#B0BEC5\", \"#B0BEC5\", \"#B0BEC5\", \"#B0BEC5\", \"#B0BEC5\", \"#B0BEC5\", \"#B0BEC5\", \"#B0BEC5\", \"#B0BEC5\", \"#B0BEC5\"]]}], \"label\": \"Topic 6\", \"method\": \"update\"}, {\"args\": [{\"marker.color\": [[\"#B0BEC5\", \"#B0BEC5\", \"#B0BEC5\", \"#B0BEC5\", \"#B0BEC5\", \"#B0BEC5\", \"#B0BEC5\", \"red\", \"#B0BEC5\", \"#B0BEC5\", \"#B0BEC5\", \"#B0BEC5\", \"#B0BEC5\", \"#B0BEC5\", \"#B0BEC5\", \"#B0BEC5\", \"#B0BEC5\", \"#B0BEC5\", \"#B0BEC5\", \"#B0BEC5\", \"#B0BEC5\", \"#B0BEC5\", \"#B0BEC5\", \"#B0BEC5\", \"#B0BEC5\", \"#B0BEC5\", \"#B0BEC5\", \"#B0BEC5\"]]}], \"label\": \"Topic 7\", \"method\": \"update\"}, {\"args\": [{\"marker.color\": [[\"#B0BEC5\", \"#B0BEC5\", \"#B0BEC5\", \"#B0BEC5\", \"#B0BEC5\", \"#B0BEC5\", \"#B0BEC5\", \"#B0BEC5\", \"red\", \"#B0BEC5\", \"#B0BEC5\", \"#B0BEC5\", \"#B0BEC5\", \"#B0BEC5\", \"#B0BEC5\", \"#B0BEC5\", \"#B0BEC5\", \"#B0BEC5\", \"#B0BEC5\", \"#B0BEC5\", \"#B0BEC5\", \"#B0BEC5\", \"#B0BEC5\", \"#B0BEC5\", \"#B0BEC5\", \"#B0BEC5\", \"#B0BEC5\", \"#B0BEC5\"]]}], \"label\": \"Topic 8\", \"method\": \"update\"}, {\"args\": [{\"marker.color\": [[\"#B0BEC5\", \"#B0BEC5\", \"#B0BEC5\", \"#B0BEC5\", \"#B0BEC5\", \"#B0BEC5\", \"#B0BEC5\", \"#B0BEC5\", \"#B0BEC5\", \"red\", \"#B0BEC5\", \"#B0BEC5\", \"#B0BEC5\", \"#B0BEC5\", \"#B0BEC5\", \"#B0BEC5\", \"#B0BEC5\", \"#B0BEC5\", \"#B0BEC5\", \"#B0BEC5\", \"#B0BEC5\", \"#B0BEC5\", \"#B0BEC5\", \"#B0BEC5\", \"#B0BEC5\", \"#B0BEC5\", \"#B0BEC5\", \"#B0BEC5\"]]}], \"label\": \"Topic 9\", \"method\": \"update\"}, {\"args\": [{\"marker.color\": [[\"#B0BEC5\", \"#B0BEC5\", \"#B0BEC5\", \"#B0BEC5\", \"#B0BEC5\", \"#B0BEC5\", \"#B0BEC5\", \"#B0BEC5\", \"#B0BEC5\", \"#B0BEC5\", \"red\", \"#B0BEC5\", \"#B0BEC5\", \"#B0BEC5\", \"#B0BEC5\", \"#B0BEC5\", \"#B0BEC5\", \"#B0BEC5\", \"#B0BEC5\", \"#B0BEC5\", \"#B0BEC5\", \"#B0BEC5\", \"#B0BEC5\", \"#B0BEC5\", \"#B0BEC5\", \"#B0BEC5\", \"#B0BEC5\", \"#B0BEC5\"]]}], \"label\": \"Topic 10\", \"method\": \"update\"}, {\"args\": [{\"marker.color\": [[\"#B0BEC5\", \"#B0BEC5\", \"#B0BEC5\", \"#B0BEC5\", \"#B0BEC5\", \"#B0BEC5\", \"#B0BEC5\", \"#B0BEC5\", \"#B0BEC5\", \"#B0BEC5\", \"#B0BEC5\", \"red\", \"#B0BEC5\", \"#B0BEC5\", \"#B0BEC5\", \"#B0BEC5\", \"#B0BEC5\", \"#B0BEC5\", \"#B0BEC5\", \"#B0BEC5\", \"#B0BEC5\", \"#B0BEC5\", \"#B0BEC5\", \"#B0BEC5\", \"#B0BEC5\", \"#B0BEC5\", \"#B0BEC5\", \"#B0BEC5\"]]}], \"label\": \"Topic 11\", \"method\": \"update\"}, {\"args\": [{\"marker.color\": [[\"#B0BEC5\", \"#B0BEC5\", \"#B0BEC5\", \"#B0BEC5\", \"#B0BEC5\", \"#B0BEC5\", \"#B0BEC5\", \"#B0BEC5\", \"#B0BEC5\", \"#B0BEC5\", \"#B0BEC5\", \"#B0BEC5\", \"red\", \"#B0BEC5\", \"#B0BEC5\", \"#B0BEC5\", \"#B0BEC5\", \"#B0BEC5\", \"#B0BEC5\", \"#B0BEC5\", \"#B0BEC5\", \"#B0BEC5\", \"#B0BEC5\", \"#B0BEC5\", \"#B0BEC5\", \"#B0BEC5\", \"#B0BEC5\", \"#B0BEC5\"]]}], \"label\": \"Topic 12\", \"method\": \"update\"}, {\"args\": [{\"marker.color\": [[\"#B0BEC5\", \"#B0BEC5\", \"#B0BEC5\", \"#B0BEC5\", \"#B0BEC5\", \"#B0BEC5\", \"#B0BEC5\", \"#B0BEC5\", \"#B0BEC5\", \"#B0BEC5\", \"#B0BEC5\", \"#B0BEC5\", \"#B0BEC5\", \"red\", \"#B0BEC5\", \"#B0BEC5\", \"#B0BEC5\", \"#B0BEC5\", \"#B0BEC5\", \"#B0BEC5\", \"#B0BEC5\", \"#B0BEC5\", \"#B0BEC5\", \"#B0BEC5\", \"#B0BEC5\", \"#B0BEC5\", \"#B0BEC5\", \"#B0BEC5\"]]}], \"label\": \"Topic 13\", \"method\": \"update\"}, {\"args\": [{\"marker.color\": [[\"#B0BEC5\", \"#B0BEC5\", \"#B0BEC5\", \"#B0BEC5\", \"#B0BEC5\", \"#B0BEC5\", \"#B0BEC5\", \"#B0BEC5\", \"#B0BEC5\", \"#B0BEC5\", \"#B0BEC5\", \"#B0BEC5\", \"#B0BEC5\", \"#B0BEC5\", \"red\", \"#B0BEC5\", \"#B0BEC5\", \"#B0BEC5\", \"#B0BEC5\", \"#B0BEC5\", \"#B0BEC5\", \"#B0BEC5\", \"#B0BEC5\", \"#B0BEC5\", \"#B0BEC5\", \"#B0BEC5\", \"#B0BEC5\", \"#B0BEC5\"]]}], \"label\": \"Topic 14\", \"method\": \"update\"}, {\"args\": [{\"marker.color\": [[\"#B0BEC5\", \"#B0BEC5\", \"#B0BEC5\", \"#B0BEC5\", \"#B0BEC5\", \"#B0BEC5\", \"#B0BEC5\", \"#B0BEC5\", \"#B0BEC5\", \"#B0BEC5\", \"#B0BEC5\", \"#B0BEC5\", \"#B0BEC5\", \"#B0BEC5\", \"#B0BEC5\", \"red\", \"#B0BEC5\", \"#B0BEC5\", \"#B0BEC5\", \"#B0BEC5\", \"#B0BEC5\", \"#B0BEC5\", \"#B0BEC5\", \"#B0BEC5\", \"#B0BEC5\", \"#B0BEC5\", \"#B0BEC5\", \"#B0BEC5\"]]}], \"label\": \"Topic 15\", \"method\": \"update\"}, {\"args\": [{\"marker.color\": [[\"#B0BEC5\", \"#B0BEC5\", \"#B0BEC5\", \"#B0BEC5\", \"#B0BEC5\", \"#B0BEC5\", \"#B0BEC5\", \"#B0BEC5\", \"#B0BEC5\", \"#B0BEC5\", \"#B0BEC5\", \"#B0BEC5\", \"#B0BEC5\", \"#B0BEC5\", \"#B0BEC5\", \"#B0BEC5\", \"red\", \"#B0BEC5\", \"#B0BEC5\", \"#B0BEC5\", \"#B0BEC5\", \"#B0BEC5\", \"#B0BEC5\", \"#B0BEC5\", \"#B0BEC5\", \"#B0BEC5\", \"#B0BEC5\", \"#B0BEC5\"]]}], \"label\": \"Topic 16\", \"method\": \"update\"}, {\"args\": [{\"marker.color\": [[\"#B0BEC5\", \"#B0BEC5\", \"#B0BEC5\", \"#B0BEC5\", \"#B0BEC5\", \"#B0BEC5\", \"#B0BEC5\", \"#B0BEC5\", \"#B0BEC5\", \"#B0BEC5\", \"#B0BEC5\", \"#B0BEC5\", \"#B0BEC5\", \"#B0BEC5\", \"#B0BEC5\", \"#B0BEC5\", \"#B0BEC5\", \"red\", \"#B0BEC5\", \"#B0BEC5\", \"#B0BEC5\", \"#B0BEC5\", \"#B0BEC5\", \"#B0BEC5\", \"#B0BEC5\", \"#B0BEC5\", \"#B0BEC5\", \"#B0BEC5\"]]}], \"label\": \"Topic 17\", \"method\": \"update\"}, {\"args\": [{\"marker.color\": [[\"#B0BEC5\", \"#B0BEC5\", \"#B0BEC5\", \"#B0BEC5\", \"#B0BEC5\", \"#B0BEC5\", \"#B0BEC5\", \"#B0BEC5\", \"#B0BEC5\", \"#B0BEC5\", \"#B0BEC5\", \"#B0BEC5\", \"#B0BEC5\", \"#B0BEC5\", \"#B0BEC5\", \"#B0BEC5\", \"#B0BEC5\", \"#B0BEC5\", \"red\", \"#B0BEC5\", \"#B0BEC5\", \"#B0BEC5\", \"#B0BEC5\", \"#B0BEC5\", \"#B0BEC5\", \"#B0BEC5\", \"#B0BEC5\", \"#B0BEC5\"]]}], \"label\": \"Topic 18\", \"method\": \"update\"}, {\"args\": [{\"marker.color\": [[\"#B0BEC5\", \"#B0BEC5\", \"#B0BEC5\", \"#B0BEC5\", \"#B0BEC5\", \"#B0BEC5\", \"#B0BEC5\", \"#B0BEC5\", \"#B0BEC5\", \"#B0BEC5\", \"#B0BEC5\", \"#B0BEC5\", \"#B0BEC5\", \"#B0BEC5\", \"#B0BEC5\", \"#B0BEC5\", \"#B0BEC5\", \"#B0BEC5\", \"#B0BEC5\", \"red\", \"#B0BEC5\", \"#B0BEC5\", \"#B0BEC5\", \"#B0BEC5\", \"#B0BEC5\", \"#B0BEC5\", \"#B0BEC5\", \"#B0BEC5\"]]}], \"label\": \"Topic 19\", \"method\": \"update\"}, {\"args\": [{\"marker.color\": [[\"#B0BEC5\", \"#B0BEC5\", \"#B0BEC5\", \"#B0BEC5\", \"#B0BEC5\", \"#B0BEC5\", \"#B0BEC5\", \"#B0BEC5\", \"#B0BEC5\", \"#B0BEC5\", \"#B0BEC5\", \"#B0BEC5\", \"#B0BEC5\", \"#B0BEC5\", \"#B0BEC5\", \"#B0BEC5\", \"#B0BEC5\", \"#B0BEC5\", \"#B0BEC5\", \"#B0BEC5\", \"red\", \"#B0BEC5\", \"#B0BEC5\", \"#B0BEC5\", \"#B0BEC5\", \"#B0BEC5\", \"#B0BEC5\", \"#B0BEC5\"]]}], \"label\": \"Topic 20\", \"method\": \"update\"}, {\"args\": [{\"marker.color\": [[\"#B0BEC5\", \"#B0BEC5\", \"#B0BEC5\", \"#B0BEC5\", \"#B0BEC5\", \"#B0BEC5\", \"#B0BEC5\", \"#B0BEC5\", \"#B0BEC5\", \"#B0BEC5\", \"#B0BEC5\", \"#B0BEC5\", \"#B0BEC5\", \"#B0BEC5\", \"#B0BEC5\", \"#B0BEC5\", \"#B0BEC5\", \"#B0BEC5\", \"#B0BEC5\", \"#B0BEC5\", \"#B0BEC5\", \"red\", \"#B0BEC5\", \"#B0BEC5\", \"#B0BEC5\", \"#B0BEC5\", \"#B0BEC5\", \"#B0BEC5\"]]}], \"label\": \"Topic 21\", \"method\": \"update\"}, {\"args\": [{\"marker.color\": [[\"#B0BEC5\", \"#B0BEC5\", \"#B0BEC5\", \"#B0BEC5\", \"#B0BEC5\", \"#B0BEC5\", \"#B0BEC5\", \"#B0BEC5\", \"#B0BEC5\", \"#B0BEC5\", \"#B0BEC5\", \"#B0BEC5\", \"#B0BEC5\", \"#B0BEC5\", \"#B0BEC5\", \"#B0BEC5\", \"#B0BEC5\", \"#B0BEC5\", \"#B0BEC5\", \"#B0BEC5\", \"#B0BEC5\", \"#B0BEC5\", \"red\", \"#B0BEC5\", \"#B0BEC5\", \"#B0BEC5\", \"#B0BEC5\", \"#B0BEC5\"]]}], \"label\": \"Topic 22\", \"method\": \"update\"}, {\"args\": [{\"marker.color\": [[\"#B0BEC5\", \"#B0BEC5\", \"#B0BEC5\", \"#B0BEC5\", \"#B0BEC5\", \"#B0BEC5\", \"#B0BEC5\", \"#B0BEC5\", \"#B0BEC5\", \"#B0BEC5\", \"#B0BEC5\", \"#B0BEC5\", \"#B0BEC5\", \"#B0BEC5\", \"#B0BEC5\", \"#B0BEC5\", \"#B0BEC5\", \"#B0BEC5\", \"#B0BEC5\", \"#B0BEC5\", \"#B0BEC5\", \"#B0BEC5\", \"#B0BEC5\", \"red\", \"#B0BEC5\", \"#B0BEC5\", \"#B0BEC5\", \"#B0BEC5\"]]}], \"label\": \"Topic 23\", \"method\": \"update\"}, {\"args\": [{\"marker.color\": [[\"#B0BEC5\", \"#B0BEC5\", \"#B0BEC5\", \"#B0BEC5\", \"#B0BEC5\", \"#B0BEC5\", \"#B0BEC5\", \"#B0BEC5\", \"#B0BEC5\", \"#B0BEC5\", \"#B0BEC5\", \"#B0BEC5\", \"#B0BEC5\", \"#B0BEC5\", \"#B0BEC5\", \"#B0BEC5\", \"#B0BEC5\", \"#B0BEC5\", \"#B0BEC5\", \"#B0BEC5\", \"#B0BEC5\", \"#B0BEC5\", \"#B0BEC5\", \"#B0BEC5\", \"red\", \"#B0BEC5\", \"#B0BEC5\", \"#B0BEC5\"]]}], \"label\": \"Topic 24\", \"method\": \"update\"}, {\"args\": [{\"marker.color\": [[\"#B0BEC5\", \"#B0BEC5\", \"#B0BEC5\", \"#B0BEC5\", \"#B0BEC5\", \"#B0BEC5\", \"#B0BEC5\", \"#B0BEC5\", \"#B0BEC5\", \"#B0BEC5\", \"#B0BEC5\", \"#B0BEC5\", \"#B0BEC5\", \"#B0BEC5\", \"#B0BEC5\", \"#B0BEC5\", \"#B0BEC5\", \"#B0BEC5\", \"#B0BEC5\", \"#B0BEC5\", \"#B0BEC5\", \"#B0BEC5\", \"#B0BEC5\", \"#B0BEC5\", \"#B0BEC5\", \"red\", \"#B0BEC5\", \"#B0BEC5\"]]}], \"label\": \"Topic 25\", \"method\": \"update\"}, {\"args\": [{\"marker.color\": [[\"#B0BEC5\", \"#B0BEC5\", \"#B0BEC5\", \"#B0BEC5\", \"#B0BEC5\", \"#B0BEC5\", \"#B0BEC5\", \"#B0BEC5\", \"#B0BEC5\", \"#B0BEC5\", \"#B0BEC5\", \"#B0BEC5\", \"#B0BEC5\", \"#B0BEC5\", \"#B0BEC5\", \"#B0BEC5\", \"#B0BEC5\", \"#B0BEC5\", \"#B0BEC5\", \"#B0BEC5\", \"#B0BEC5\", \"#B0BEC5\", \"#B0BEC5\", \"#B0BEC5\", \"#B0BEC5\", \"#B0BEC5\", \"red\", \"#B0BEC5\"]]}], \"label\": \"Topic 26\", \"method\": \"update\"}, {\"args\": [{\"marker.color\": [[\"#B0BEC5\", \"#B0BEC5\", \"#B0BEC5\", \"#B0BEC5\", \"#B0BEC5\", \"#B0BEC5\", \"#B0BEC5\", \"#B0BEC5\", \"#B0BEC5\", \"#B0BEC5\", \"#B0BEC5\", \"#B0BEC5\", \"#B0BEC5\", \"#B0BEC5\", \"#B0BEC5\", \"#B0BEC5\", \"#B0BEC5\", \"#B0BEC5\", \"#B0BEC5\", \"#B0BEC5\", \"#B0BEC5\", \"#B0BEC5\", \"#B0BEC5\", \"#B0BEC5\", \"#B0BEC5\", \"#B0BEC5\", \"#B0BEC5\", \"red\"]]}], \"label\": \"Topic 27\", \"method\": \"update\"}]}], \"template\": {\"data\": {\"bar\": [{\"error_x\": {\"color\": \"rgb(36,36,36)\"}, \"error_y\": {\"color\": \"rgb(36,36,36)\"}, \"marker\": {\"line\": {\"color\": \"white\", \"width\": 0.5}}, \"type\": \"bar\"}], \"barpolar\": [{\"marker\": {\"line\": {\"color\": \"white\", \"width\": 0.5}}, \"type\": \"barpolar\"}], \"carpet\": [{\"aaxis\": {\"endlinecolor\": \"rgb(36,36,36)\", \"gridcolor\": \"white\", \"linecolor\": \"white\", \"minorgridcolor\": \"white\", \"startlinecolor\": \"rgb(36,36,36)\"}, \"baxis\": {\"endlinecolor\": \"rgb(36,36,36)\", \"gridcolor\": \"white\", \"linecolor\": \"white\", \"minorgridcolor\": \"white\", \"startlinecolor\": \"rgb(36,36,36)\"}, \"type\": \"carpet\"}], \"choropleth\": [{\"colorbar\": {\"outlinewidth\": 1, \"tickcolor\": \"rgb(36,36,36)\", \"ticks\": \"outside\"}, \"type\": \"choropleth\"}], \"contour\": [{\"colorbar\": {\"outlinewidth\": 1, \"tickcolor\": \"rgb(36,36,36)\", \"ticks\": \"outside\"}, \"colorscale\": [[0.0, \"#440154\"], [0.1111111111111111, \"#482878\"], [0.2222222222222222, \"#3e4989\"], [0.3333333333333333, \"#31688e\"], [0.4444444444444444, \"#26828e\"], [0.5555555555555556, \"#1f9e89\"], [0.6666666666666666, \"#35b779\"], [0.7777777777777778, \"#6ece58\"], [0.8888888888888888, \"#b5de2b\"], [1.0, \"#fde725\"]], \"type\": \"contour\"}], \"contourcarpet\": [{\"colorbar\": {\"outlinewidth\": 1, \"tickcolor\": \"rgb(36,36,36)\", \"ticks\": \"outside\"}, \"type\": \"contourcarpet\"}], \"heatmap\": [{\"colorbar\": {\"outlinewidth\": 1, \"tickcolor\": \"rgb(36,36,36)\", \"ticks\": \"outside\"}, \"colorscale\": [[0.0, \"#440154\"], [0.1111111111111111, \"#482878\"], [0.2222222222222222, \"#3e4989\"], [0.3333333333333333, \"#31688e\"], [0.4444444444444444, \"#26828e\"], [0.5555555555555556, \"#1f9e89\"], [0.6666666666666666, \"#35b779\"], [0.7777777777777778, \"#6ece58\"], [0.8888888888888888, \"#b5de2b\"], [1.0, \"#fde725\"]], \"type\": \"heatmap\"}], \"heatmapgl\": [{\"colorbar\": {\"outlinewidth\": 1, \"tickcolor\": \"rgb(36,36,36)\", \"ticks\": \"outside\"}, \"colorscale\": [[0.0, \"#440154\"], [0.1111111111111111, \"#482878\"], [0.2222222222222222, \"#3e4989\"], [0.3333333333333333, \"#31688e\"], [0.4444444444444444, \"#26828e\"], [0.5555555555555556, \"#1f9e89\"], [0.6666666666666666, \"#35b779\"], [0.7777777777777778, \"#6ece58\"], [0.8888888888888888, \"#b5de2b\"], [1.0, \"#fde725\"]], \"type\": \"heatmapgl\"}], \"histogram\": [{\"marker\": {\"line\": {\"color\": \"white\", \"width\": 0.6}}, \"type\": \"histogram\"}], \"histogram2d\": [{\"colorbar\": {\"outlinewidth\": 1, \"tickcolor\": \"rgb(36,36,36)\", \"ticks\": \"outside\"}, \"colorscale\": [[0.0, \"#440154\"], [0.1111111111111111, \"#482878\"], [0.2222222222222222, \"#3e4989\"], [0.3333333333333333, \"#31688e\"], [0.4444444444444444, \"#26828e\"], [0.5555555555555556, \"#1f9e89\"], [0.6666666666666666, \"#35b779\"], [0.7777777777777778, \"#6ece58\"], [0.8888888888888888, \"#b5de2b\"], [1.0, \"#fde725\"]], \"type\": \"histogram2d\"}], \"histogram2dcontour\": [{\"colorbar\": {\"outlinewidth\": 1, \"tickcolor\": \"rgb(36,36,36)\", \"ticks\": \"outside\"}, \"colorscale\": [[0.0, \"#440154\"], [0.1111111111111111, \"#482878\"], [0.2222222222222222, \"#3e4989\"], [0.3333333333333333, \"#31688e\"], [0.4444444444444444, \"#26828e\"], [0.5555555555555556, \"#1f9e89\"], [0.6666666666666666, \"#35b779\"], [0.7777777777777778, \"#6ece58\"], [0.8888888888888888, \"#b5de2b\"], [1.0, \"#fde725\"]], \"type\": \"histogram2dcontour\"}], \"mesh3d\": [{\"colorbar\": {\"outlinewidth\": 1, \"tickcolor\": \"rgb(36,36,36)\", \"ticks\": \"outside\"}, \"type\": \"mesh3d\"}], \"parcoords\": [{\"line\": {\"colorbar\": {\"outlinewidth\": 1, \"tickcolor\": \"rgb(36,36,36)\", \"ticks\": \"outside\"}}, \"type\": \"parcoords\"}], \"pie\": [{\"automargin\": true, \"type\": \"pie\"}], \"scatter\": [{\"marker\": {\"colorbar\": {\"outlinewidth\": 1, \"tickcolor\": \"rgb(36,36,36)\", \"ticks\": \"outside\"}}, \"type\": \"scatter\"}], \"scatter3d\": [{\"line\": {\"colorbar\": {\"outlinewidth\": 1, \"tickcolor\": \"rgb(36,36,36)\", \"ticks\": \"outside\"}}, \"marker\": {\"colorbar\": {\"outlinewidth\": 1, \"tickcolor\": \"rgb(36,36,36)\", \"ticks\": \"outside\"}}, \"type\": \"scatter3d\"}], \"scattercarpet\": [{\"marker\": {\"colorbar\": {\"outlinewidth\": 1, \"tickcolor\": \"rgb(36,36,36)\", \"ticks\": \"outside\"}}, \"type\": \"scattercarpet\"}], \"scattergeo\": [{\"marker\": {\"colorbar\": {\"outlinewidth\": 1, \"tickcolor\": \"rgb(36,36,36)\", \"ticks\": \"outside\"}}, \"type\": \"scattergeo\"}], \"scattergl\": [{\"marker\": {\"colorbar\": {\"outlinewidth\": 1, \"tickcolor\": \"rgb(36,36,36)\", \"ticks\": \"outside\"}}, \"type\": \"scattergl\"}], \"scattermapbox\": [{\"marker\": {\"colorbar\": {\"outlinewidth\": 1, \"tickcolor\": \"rgb(36,36,36)\", \"ticks\": \"outside\"}}, \"type\": \"scattermapbox\"}], \"scatterpolar\": [{\"marker\": {\"colorbar\": {\"outlinewidth\": 1, \"tickcolor\": \"rgb(36,36,36)\", \"ticks\": \"outside\"}}, \"type\": \"scatterpolar\"}], \"scatterpolargl\": [{\"marker\": {\"colorbar\": {\"outlinewidth\": 1, \"tickcolor\": \"rgb(36,36,36)\", \"ticks\": \"outside\"}}, \"type\": \"scatterpolargl\"}], \"scatterternary\": [{\"marker\": {\"colorbar\": {\"outlinewidth\": 1, \"tickcolor\": \"rgb(36,36,36)\", \"ticks\": \"outside\"}}, \"type\": \"scatterternary\"}], \"surface\": [{\"colorbar\": {\"outlinewidth\": 1, \"tickcolor\": \"rgb(36,36,36)\", \"ticks\": \"outside\"}, \"colorscale\": [[0.0, \"#440154\"], [0.1111111111111111, \"#482878\"], [0.2222222222222222, \"#3e4989\"], [0.3333333333333333, \"#31688e\"], [0.4444444444444444, \"#26828e\"], [0.5555555555555556, \"#1f9e89\"], [0.6666666666666666, \"#35b779\"], [0.7777777777777778, \"#6ece58\"], [0.8888888888888888, \"#b5de2b\"], [1.0, \"#fde725\"]], \"type\": \"surface\"}], \"table\": [{\"cells\": {\"fill\": {\"color\": \"rgb(237,237,237)\"}, \"line\": {\"color\": \"white\"}}, \"header\": {\"fill\": {\"color\": \"rgb(217,217,217)\"}, \"line\": {\"color\": \"white\"}}, \"type\": \"table\"}]}, \"layout\": {\"annotationdefaults\": {\"arrowhead\": 0, \"arrowwidth\": 1}, \"autotypenumbers\": \"strict\", \"coloraxis\": {\"colorbar\": {\"outlinewidth\": 1, \"tickcolor\": \"rgb(36,36,36)\", \"ticks\": \"outside\"}}, \"colorscale\": {\"diverging\": [[0.0, \"rgb(103,0,31)\"], [0.1, \"rgb(178,24,43)\"], [0.2, \"rgb(214,96,77)\"], [0.3, \"rgb(244,165,130)\"], [0.4, \"rgb(253,219,199)\"], [0.5, \"rgb(247,247,247)\"], [0.6, \"rgb(209,229,240)\"], [0.7, \"rgb(146,197,222)\"], [0.8, \"rgb(67,147,195)\"], [0.9, \"rgb(33,102,172)\"], [1.0, \"rgb(5,48,97)\"]], \"sequential\": [[0.0, \"#440154\"], [0.1111111111111111, \"#482878\"], [0.2222222222222222, \"#3e4989\"], [0.3333333333333333, \"#31688e\"], [0.4444444444444444, \"#26828e\"], [0.5555555555555556, \"#1f9e89\"], [0.6666666666666666, \"#35b779\"], [0.7777777777777778, \"#6ece58\"], [0.8888888888888888, \"#b5de2b\"], [1.0, \"#fde725\"]], \"sequentialminus\": [[0.0, \"#440154\"], [0.1111111111111111, \"#482878\"], [0.2222222222222222, \"#3e4989\"], [0.3333333333333333, \"#31688e\"], [0.4444444444444444, \"#26828e\"], [0.5555555555555556, \"#1f9e89\"], [0.6666666666666666, \"#35b779\"], [0.7777777777777778, \"#6ece58\"], [0.8888888888888888, \"#b5de2b\"], [1.0, \"#fde725\"]]}, \"colorway\": [\"#1F77B4\", \"#FF7F0E\", \"#2CA02C\", \"#D62728\", \"#9467BD\", \"#8C564B\", \"#E377C2\", \"#7F7F7F\", \"#BCBD22\", \"#17BECF\"], \"font\": {\"color\": \"rgb(36,36,36)\"}, \"geo\": {\"bgcolor\": \"white\", \"lakecolor\": \"white\", \"landcolor\": \"white\", \"showlakes\": true, \"showland\": true, \"subunitcolor\": \"white\"}, \"hoverlabel\": {\"align\": \"left\"}, \"hovermode\": \"closest\", \"mapbox\": {\"style\": \"light\"}, \"paper_bgcolor\": \"white\", \"plot_bgcolor\": \"white\", \"polar\": {\"angularaxis\": {\"gridcolor\": \"rgb(232,232,232)\", \"linecolor\": \"rgb(36,36,36)\", \"showgrid\": false, \"showline\": true, \"ticks\": \"outside\"}, \"bgcolor\": \"white\", \"radialaxis\": {\"gridcolor\": \"rgb(232,232,232)\", \"linecolor\": \"rgb(36,36,36)\", \"showgrid\": false, \"showline\": true, \"ticks\": \"outside\"}}, \"scene\": {\"xaxis\": {\"backgroundcolor\": \"white\", \"gridcolor\": \"rgb(232,232,232)\", \"gridwidth\": 2, \"linecolor\": \"rgb(36,36,36)\", \"showbackground\": true, \"showgrid\": false, \"showline\": true, \"ticks\": \"outside\", \"zeroline\": false, \"zerolinecolor\": \"rgb(36,36,36)\"}, \"yaxis\": {\"backgroundcolor\": \"white\", \"gridcolor\": \"rgb(232,232,232)\", \"gridwidth\": 2, \"linecolor\": \"rgb(36,36,36)\", \"showbackground\": true, \"showgrid\": false, \"showline\": true, \"ticks\": \"outside\", \"zeroline\": false, \"zerolinecolor\": \"rgb(36,36,36)\"}, \"zaxis\": {\"backgroundcolor\": \"white\", \"gridcolor\": \"rgb(232,232,232)\", \"gridwidth\": 2, \"linecolor\": \"rgb(36,36,36)\", \"showbackground\": true, \"showgrid\": false, \"showline\": true, \"ticks\": \"outside\", \"zeroline\": false, \"zerolinecolor\": \"rgb(36,36,36)\"}}, \"shapedefaults\": {\"fillcolor\": \"black\", \"line\": {\"width\": 0}, \"opacity\": 0.3}, \"ternary\": {\"aaxis\": {\"gridcolor\": \"rgb(232,232,232)\", \"linecolor\": \"rgb(36,36,36)\", \"showgrid\": false, \"showline\": true, \"ticks\": \"outside\"}, \"baxis\": {\"gridcolor\": \"rgb(232,232,232)\", \"linecolor\": \"rgb(36,36,36)\", \"showgrid\": false, \"showline\": true, \"ticks\": \"outside\"}, \"bgcolor\": \"white\", \"caxis\": {\"gridcolor\": \"rgb(232,232,232)\", \"linecolor\": \"rgb(36,36,36)\", \"showgrid\": false, \"showline\": true, \"ticks\": \"outside\"}}, \"title\": {\"x\": 0.05}, \"xaxis\": {\"automargin\": true, \"gridcolor\": \"rgb(232,232,232)\", \"linecolor\": \"rgb(36,36,36)\", \"showgrid\": false, \"showline\": true, \"ticks\": \"outside\", \"title\": {\"standoff\": 15}, \"zeroline\": false, \"zerolinecolor\": \"rgb(36,36,36)\"}, \"yaxis\": {\"automargin\": true, \"gridcolor\": \"rgb(232,232,232)\", \"linecolor\": \"rgb(36,36,36)\", \"showgrid\": false, \"showline\": true, \"ticks\": \"outside\", \"title\": {\"standoff\": 15}, \"zeroline\": false, \"zerolinecolor\": \"rgb(36,36,36)\"}}}, \"title\": {\"font\": {\"color\": \"Black\", \"size\": 22}, \"text\": \"<b>Intertopic Distance Map\", \"x\": 0.5, \"xanchor\": \"center\", \"y\": 0.95, \"yanchor\": \"top\"}, \"width\": 650, \"xaxis\": {\"anchor\": \"y\", \"domain\": [0.0, 1.0], \"range\": [-11.861808633804321, 27.555187797546388], \"title\": {\"text\": \"\"}, \"visible\": false}, \"yaxis\": {\"anchor\": \"x\", \"domain\": [0.0, 1.0], \"range\": [-6.384415650367737, 34.92168874740601], \"title\": {\"text\": \"\"}, \"visible\": false}},                        {\"responsive\": true}                    ).then(function(){\n",
       "                            \n",
       "var gd = document.getElementById('d6fae1ce-e439-41d9-ab16-f23f14d5f25f');\n",
       "var x = new MutationObserver(function (mutations, observer) {{\n",
       "        var display = window.getComputedStyle(gd).display;\n",
       "        if (!display || display === 'none') {{\n",
       "            console.log([gd, 'removed!']);\n",
       "            Plotly.purge(gd);\n",
       "            observer.disconnect();\n",
       "        }}\n",
       "}});\n",
       "\n",
       "// Listen for the removal of the full notebook cells\n",
       "var notebookContainer = gd.closest('#notebook-container');\n",
       "if (notebookContainer) {{\n",
       "    x.observe(notebookContainer, {childList: true});\n",
       "}}\n",
       "\n",
       "// Listen for the clearing of the current output cell\n",
       "var outputEl = gd.closest('.output');\n",
       "if (outputEl) {{\n",
       "    x.observe(outputEl, {childList: true});\n",
       "}}\n",
       "\n",
       "                        })                };                });            </script>        </div>"
      ]
     },
     "metadata": {},
     "output_type": "display_data"
    }
   ],
   "source": [
    "### visualize the intertopic distance \n",
    "topic_model.visualize_topics()"
   ]
  },
  {
   "cell_type": "code",
   "execution_count": 112,
   "metadata": {},
   "outputs": [
    {
     "data": {
      "application/vnd.plotly.v1+json": {
       "config": {
        "plotlyServerURL": "https://plot.ly"
       },
       "data": [
        {
         "orientation": "h",
         "type": "bar",
         "x": [
          0.013246395064864839,
          0.013392567334747245,
          0.013484053463350356,
          0.01401234312422155,
          0.014606967802153276,
          0.01706629919440844
         ],
         "xaxis": "x",
         "y": [
          "commodity  ",
          "stock  ",
          "rise  ",
          "investor  ",
          "increase  ",
          "gold  "
         ],
         "yaxis": "y"
        },
        {
         "orientation": "h",
         "type": "bar",
         "x": [
          1e-05,
          1e-05,
          0.40587053827355885,
          0.6978295607092848,
          0.9389827245320057,
          1.5064287615397272
         ],
         "xaxis": "x2",
         "y": [
          "  ",
          "  ",
          "level  ",
          "sense  ",
          "run  ",
          "number  "
         ],
         "yaxis": "y2"
        },
        {
         "orientation": "h",
         "type": "bar",
         "x": [
          0.02724763270950081,
          0.027613388816295187,
          0.03495286596818787,
          0.0365106745221853,
          0.07645881640532982,
          0.12850815465769758
         ],
         "xaxis": "x3",
         "y": [
          "event  ",
          "decision  ",
          "market  ",
          "policy  ",
          "meeting  ",
          "fomc  "
         ],
         "yaxis": "y3"
        },
        {
         "orientation": "h",
         "type": "bar",
         "x": [
          0.04858749867278553,
          0.05019990254479312,
          0.056397607749517305,
          0.06672201036218385,
          0.07935065277735259,
          0.11279521549903461
         ],
         "xaxis": "x4",
         "y": [
          "solution  ",
          "trump  ",
          "blame  ",
          "juneteenth  ",
          "reset  ",
          "holiday  "
         ],
         "yaxis": "y4"
        },
        {
         "orientation": "h",
         "type": "bar",
         "x": [
          0.12401211350039405,
          0.12887183171395744,
          0.13367745808682013,
          0.14520299797424777,
          0.17212593667502127,
          0.24603563806571674
         ],
         "xaxis": "x5",
         "y": [
          "launch  ",
          "word  ",
          "update  ",
          "office  ",
          "source  ",
          "announcement  "
         ],
         "yaxis": "y5"
        },
        {
         "orientation": "h",
         "type": "bar",
         "x": [
          0.06895209247407982,
          0.12013308760471446,
          0.12571946444448734,
          0.24596558559224063,
          0.31765951914814244,
          0.4054746000400669
         ],
         "xaxis": "x6",
         "y": [
          "state  ",
          "analyst  ",
          "government  ",
          "governor  ",
          "policy  ",
          "statement  "
         ],
         "yaxis": "y6"
        }
       ],
       "layout": {
        "annotations": [
         {
          "font": {
           "size": 16
          },
          "showarrow": false,
          "text": "Topic 0",
          "x": 0.11666666666666665,
          "xanchor": "center",
          "xref": "paper",
          "y": 1,
          "yanchor": "bottom",
          "yref": "paper"
         },
         {
          "font": {
           "size": 16
          },
          "showarrow": false,
          "text": "Topic 1",
          "x": 0.49999999999999994,
          "xanchor": "center",
          "xref": "paper",
          "y": 1,
          "yanchor": "bottom",
          "yref": "paper"
         },
         {
          "font": {
           "size": 16
          },
          "showarrow": false,
          "text": "Topic 2",
          "x": 0.8833333333333333,
          "xanchor": "center",
          "xref": "paper",
          "y": 1,
          "yanchor": "bottom",
          "yref": "paper"
         },
         {
          "font": {
           "size": 16
          },
          "showarrow": false,
          "text": "Topic 3",
          "x": 0.11666666666666665,
          "xanchor": "center",
          "xref": "paper",
          "y": 0.425,
          "yanchor": "bottom",
          "yref": "paper"
         },
         {
          "font": {
           "size": 16
          },
          "showarrow": false,
          "text": "Topic 4",
          "x": 0.49999999999999994,
          "xanchor": "center",
          "xref": "paper",
          "y": 0.425,
          "yanchor": "bottom",
          "yref": "paper"
         },
         {
          "font": {
           "size": 16
          },
          "showarrow": false,
          "text": "Topic 5",
          "x": 0.8833333333333333,
          "xanchor": "center",
          "xref": "paper",
          "y": 0.425,
          "yanchor": "bottom",
          "yref": "paper"
         }
        ],
        "height": 400,
        "hoverlabel": {
         "bgcolor": "white",
         "font": {
          "family": "Rockwell",
          "size": 16
         }
        },
        "showlegend": false,
        "template": {
         "data": {
          "bar": [
           {
            "error_x": {
             "color": "#2a3f5f"
            },
            "error_y": {
             "color": "#2a3f5f"
            },
            "marker": {
             "line": {
              "color": "white",
              "width": 0.5
             }
            },
            "type": "bar"
           }
          ],
          "barpolar": [
           {
            "marker": {
             "line": {
              "color": "white",
              "width": 0.5
             }
            },
            "type": "barpolar"
           }
          ],
          "carpet": [
           {
            "aaxis": {
             "endlinecolor": "#2a3f5f",
             "gridcolor": "#C8D4E3",
             "linecolor": "#C8D4E3",
             "minorgridcolor": "#C8D4E3",
             "startlinecolor": "#2a3f5f"
            },
            "baxis": {
             "endlinecolor": "#2a3f5f",
             "gridcolor": "#C8D4E3",
             "linecolor": "#C8D4E3",
             "minorgridcolor": "#C8D4E3",
             "startlinecolor": "#2a3f5f"
            },
            "type": "carpet"
           }
          ],
          "choropleth": [
           {
            "colorbar": {
             "outlinewidth": 0,
             "ticks": ""
            },
            "type": "choropleth"
           }
          ],
          "contour": [
           {
            "colorbar": {
             "outlinewidth": 0,
             "ticks": ""
            },
            "colorscale": [
             [
              0,
              "#0d0887"
             ],
             [
              0.1111111111111111,
              "#46039f"
             ],
             [
              0.2222222222222222,
              "#7201a8"
             ],
             [
              0.3333333333333333,
              "#9c179e"
             ],
             [
              0.4444444444444444,
              "#bd3786"
             ],
             [
              0.5555555555555556,
              "#d8576b"
             ],
             [
              0.6666666666666666,
              "#ed7953"
             ],
             [
              0.7777777777777778,
              "#fb9f3a"
             ],
             [
              0.8888888888888888,
              "#fdca26"
             ],
             [
              1,
              "#f0f921"
             ]
            ],
            "type": "contour"
           }
          ],
          "contourcarpet": [
           {
            "colorbar": {
             "outlinewidth": 0,
             "ticks": ""
            },
            "type": "contourcarpet"
           }
          ],
          "heatmap": [
           {
            "colorbar": {
             "outlinewidth": 0,
             "ticks": ""
            },
            "colorscale": [
             [
              0,
              "#0d0887"
             ],
             [
              0.1111111111111111,
              "#46039f"
             ],
             [
              0.2222222222222222,
              "#7201a8"
             ],
             [
              0.3333333333333333,
              "#9c179e"
             ],
             [
              0.4444444444444444,
              "#bd3786"
             ],
             [
              0.5555555555555556,
              "#d8576b"
             ],
             [
              0.6666666666666666,
              "#ed7953"
             ],
             [
              0.7777777777777778,
              "#fb9f3a"
             ],
             [
              0.8888888888888888,
              "#fdca26"
             ],
             [
              1,
              "#f0f921"
             ]
            ],
            "type": "heatmap"
           }
          ],
          "heatmapgl": [
           {
            "colorbar": {
             "outlinewidth": 0,
             "ticks": ""
            },
            "colorscale": [
             [
              0,
              "#0d0887"
             ],
             [
              0.1111111111111111,
              "#46039f"
             ],
             [
              0.2222222222222222,
              "#7201a8"
             ],
             [
              0.3333333333333333,
              "#9c179e"
             ],
             [
              0.4444444444444444,
              "#bd3786"
             ],
             [
              0.5555555555555556,
              "#d8576b"
             ],
             [
              0.6666666666666666,
              "#ed7953"
             ],
             [
              0.7777777777777778,
              "#fb9f3a"
             ],
             [
              0.8888888888888888,
              "#fdca26"
             ],
             [
              1,
              "#f0f921"
             ]
            ],
            "type": "heatmapgl"
           }
          ],
          "histogram": [
           {
            "marker": {
             "colorbar": {
              "outlinewidth": 0,
              "ticks": ""
             }
            },
            "type": "histogram"
           }
          ],
          "histogram2d": [
           {
            "colorbar": {
             "outlinewidth": 0,
             "ticks": ""
            },
            "colorscale": [
             [
              0,
              "#0d0887"
             ],
             [
              0.1111111111111111,
              "#46039f"
             ],
             [
              0.2222222222222222,
              "#7201a8"
             ],
             [
              0.3333333333333333,
              "#9c179e"
             ],
             [
              0.4444444444444444,
              "#bd3786"
             ],
             [
              0.5555555555555556,
              "#d8576b"
             ],
             [
              0.6666666666666666,
              "#ed7953"
             ],
             [
              0.7777777777777778,
              "#fb9f3a"
             ],
             [
              0.8888888888888888,
              "#fdca26"
             ],
             [
              1,
              "#f0f921"
             ]
            ],
            "type": "histogram2d"
           }
          ],
          "histogram2dcontour": [
           {
            "colorbar": {
             "outlinewidth": 0,
             "ticks": ""
            },
            "colorscale": [
             [
              0,
              "#0d0887"
             ],
             [
              0.1111111111111111,
              "#46039f"
             ],
             [
              0.2222222222222222,
              "#7201a8"
             ],
             [
              0.3333333333333333,
              "#9c179e"
             ],
             [
              0.4444444444444444,
              "#bd3786"
             ],
             [
              0.5555555555555556,
              "#d8576b"
             ],
             [
              0.6666666666666666,
              "#ed7953"
             ],
             [
              0.7777777777777778,
              "#fb9f3a"
             ],
             [
              0.8888888888888888,
              "#fdca26"
             ],
             [
              1,
              "#f0f921"
             ]
            ],
            "type": "histogram2dcontour"
           }
          ],
          "mesh3d": [
           {
            "colorbar": {
             "outlinewidth": 0,
             "ticks": ""
            },
            "type": "mesh3d"
           }
          ],
          "parcoords": [
           {
            "line": {
             "colorbar": {
              "outlinewidth": 0,
              "ticks": ""
             }
            },
            "type": "parcoords"
           }
          ],
          "pie": [
           {
            "automargin": true,
            "type": "pie"
           }
          ],
          "scatter": [
           {
            "marker": {
             "colorbar": {
              "outlinewidth": 0,
              "ticks": ""
             }
            },
            "type": "scatter"
           }
          ],
          "scatter3d": [
           {
            "line": {
             "colorbar": {
              "outlinewidth": 0,
              "ticks": ""
             }
            },
            "marker": {
             "colorbar": {
              "outlinewidth": 0,
              "ticks": ""
             }
            },
            "type": "scatter3d"
           }
          ],
          "scattercarpet": [
           {
            "marker": {
             "colorbar": {
              "outlinewidth": 0,
              "ticks": ""
             }
            },
            "type": "scattercarpet"
           }
          ],
          "scattergeo": [
           {
            "marker": {
             "colorbar": {
              "outlinewidth": 0,
              "ticks": ""
             }
            },
            "type": "scattergeo"
           }
          ],
          "scattergl": [
           {
            "marker": {
             "colorbar": {
              "outlinewidth": 0,
              "ticks": ""
             }
            },
            "type": "scattergl"
           }
          ],
          "scattermapbox": [
           {
            "marker": {
             "colorbar": {
              "outlinewidth": 0,
              "ticks": ""
             }
            },
            "type": "scattermapbox"
           }
          ],
          "scatterpolar": [
           {
            "marker": {
             "colorbar": {
              "outlinewidth": 0,
              "ticks": ""
             }
            },
            "type": "scatterpolar"
           }
          ],
          "scatterpolargl": [
           {
            "marker": {
             "colorbar": {
              "outlinewidth": 0,
              "ticks": ""
             }
            },
            "type": "scatterpolargl"
           }
          ],
          "scatterternary": [
           {
            "marker": {
             "colorbar": {
              "outlinewidth": 0,
              "ticks": ""
             }
            },
            "type": "scatterternary"
           }
          ],
          "surface": [
           {
            "colorbar": {
             "outlinewidth": 0,
             "ticks": ""
            },
            "colorscale": [
             [
              0,
              "#0d0887"
             ],
             [
              0.1111111111111111,
              "#46039f"
             ],
             [
              0.2222222222222222,
              "#7201a8"
             ],
             [
              0.3333333333333333,
              "#9c179e"
             ],
             [
              0.4444444444444444,
              "#bd3786"
             ],
             [
              0.5555555555555556,
              "#d8576b"
             ],
             [
              0.6666666666666666,
              "#ed7953"
             ],
             [
              0.7777777777777778,
              "#fb9f3a"
             ],
             [
              0.8888888888888888,
              "#fdca26"
             ],
             [
              1,
              "#f0f921"
             ]
            ],
            "type": "surface"
           }
          ],
          "table": [
           {
            "cells": {
             "fill": {
              "color": "#EBF0F8"
             },
             "line": {
              "color": "white"
             }
            },
            "header": {
             "fill": {
              "color": "#C8D4E3"
             },
             "line": {
              "color": "white"
             }
            },
            "type": "table"
           }
          ]
         },
         "layout": {
          "annotationdefaults": {
           "arrowcolor": "#2a3f5f",
           "arrowhead": 0,
           "arrowwidth": 1
          },
          "autotypenumbers": "strict",
          "coloraxis": {
           "colorbar": {
            "outlinewidth": 0,
            "ticks": ""
           }
          },
          "colorscale": {
           "diverging": [
            [
             0,
             "#8e0152"
            ],
            [
             0.1,
             "#c51b7d"
            ],
            [
             0.2,
             "#de77ae"
            ],
            [
             0.3,
             "#f1b6da"
            ],
            [
             0.4,
             "#fde0ef"
            ],
            [
             0.5,
             "#f7f7f7"
            ],
            [
             0.6,
             "#e6f5d0"
            ],
            [
             0.7,
             "#b8e186"
            ],
            [
             0.8,
             "#7fbc41"
            ],
            [
             0.9,
             "#4d9221"
            ],
            [
             1,
             "#276419"
            ]
           ],
           "sequential": [
            [
             0,
             "#0d0887"
            ],
            [
             0.1111111111111111,
             "#46039f"
            ],
            [
             0.2222222222222222,
             "#7201a8"
            ],
            [
             0.3333333333333333,
             "#9c179e"
            ],
            [
             0.4444444444444444,
             "#bd3786"
            ],
            [
             0.5555555555555556,
             "#d8576b"
            ],
            [
             0.6666666666666666,
             "#ed7953"
            ],
            [
             0.7777777777777778,
             "#fb9f3a"
            ],
            [
             0.8888888888888888,
             "#fdca26"
            ],
            [
             1,
             "#f0f921"
            ]
           ],
           "sequentialminus": [
            [
             0,
             "#0d0887"
            ],
            [
             0.1111111111111111,
             "#46039f"
            ],
            [
             0.2222222222222222,
             "#7201a8"
            ],
            [
             0.3333333333333333,
             "#9c179e"
            ],
            [
             0.4444444444444444,
             "#bd3786"
            ],
            [
             0.5555555555555556,
             "#d8576b"
            ],
            [
             0.6666666666666666,
             "#ed7953"
            ],
            [
             0.7777777777777778,
             "#fb9f3a"
            ],
            [
             0.8888888888888888,
             "#fdca26"
            ],
            [
             1,
             "#f0f921"
            ]
           ]
          },
          "colorway": [
           "#636efa",
           "#EF553B",
           "#00cc96",
           "#ab63fa",
           "#FFA15A",
           "#19d3f3",
           "#FF6692",
           "#B6E880",
           "#FF97FF",
           "#FECB52"
          ],
          "font": {
           "color": "#2a3f5f"
          },
          "geo": {
           "bgcolor": "white",
           "lakecolor": "white",
           "landcolor": "white",
           "showlakes": true,
           "showland": true,
           "subunitcolor": "#C8D4E3"
          },
          "hoverlabel": {
           "align": "left"
          },
          "hovermode": "closest",
          "mapbox": {
           "style": "light"
          },
          "paper_bgcolor": "white",
          "plot_bgcolor": "white",
          "polar": {
           "angularaxis": {
            "gridcolor": "#EBF0F8",
            "linecolor": "#EBF0F8",
            "ticks": ""
           },
           "bgcolor": "white",
           "radialaxis": {
            "gridcolor": "#EBF0F8",
            "linecolor": "#EBF0F8",
            "ticks": ""
           }
          },
          "scene": {
           "xaxis": {
            "backgroundcolor": "white",
            "gridcolor": "#DFE8F3",
            "gridwidth": 2,
            "linecolor": "#EBF0F8",
            "showbackground": true,
            "ticks": "",
            "zerolinecolor": "#EBF0F8"
           },
           "yaxis": {
            "backgroundcolor": "white",
            "gridcolor": "#DFE8F3",
            "gridwidth": 2,
            "linecolor": "#EBF0F8",
            "showbackground": true,
            "ticks": "",
            "zerolinecolor": "#EBF0F8"
           },
           "zaxis": {
            "backgroundcolor": "white",
            "gridcolor": "#DFE8F3",
            "gridwidth": 2,
            "linecolor": "#EBF0F8",
            "showbackground": true,
            "ticks": "",
            "zerolinecolor": "#EBF0F8"
           }
          },
          "shapedefaults": {
           "line": {
            "color": "#2a3f5f"
           }
          },
          "ternary": {
           "aaxis": {
            "gridcolor": "#DFE8F3",
            "linecolor": "#A2B1C6",
            "ticks": ""
           },
           "baxis": {
            "gridcolor": "#DFE8F3",
            "linecolor": "#A2B1C6",
            "ticks": ""
           },
           "bgcolor": "white",
           "caxis": {
            "gridcolor": "#DFE8F3",
            "linecolor": "#A2B1C6",
            "ticks": ""
           }
          },
          "title": {
           "x": 0.05
          },
          "xaxis": {
           "automargin": true,
           "gridcolor": "#EBF0F8",
           "linecolor": "#EBF0F8",
           "ticks": "",
           "title": {
            "standoff": 15
           },
           "zerolinecolor": "#EBF0F8",
           "zerolinewidth": 2
          },
          "yaxis": {
           "automargin": true,
           "gridcolor": "#EBF0F8",
           "linecolor": "#EBF0F8",
           "ticks": "",
           "title": {
            "standoff": 15
           },
           "zerolinecolor": "#EBF0F8",
           "zerolinewidth": 2
          }
         }
        },
        "title": {
         "font": {
          "color": "Black",
          "size": 22
         },
         "text": "<b>Topic Word Scores",
         "x": 0.15,
         "xanchor": "center",
         "y": 0.95,
         "yanchor": "top"
        },
        "width": 800,
        "xaxis": {
         "anchor": "y",
         "domain": [
          0,
          0.2333333333333333
         ],
         "matches": "x4",
         "showgrid": true,
         "showticklabels": false
        },
        "xaxis2": {
         "anchor": "y2",
         "domain": [
          0.3833333333333333,
          0.6166666666666666
         ],
         "matches": "x5",
         "showgrid": true,
         "showticklabels": false
        },
        "xaxis3": {
         "anchor": "y3",
         "domain": [
          0.7666666666666666,
          0.9999999999999999
         ],
         "matches": "x6",
         "showgrid": true,
         "showticklabels": false
        },
        "xaxis4": {
         "anchor": "y4",
         "domain": [
          0,
          0.2333333333333333
         ],
         "showgrid": true
        },
        "xaxis5": {
         "anchor": "y5",
         "domain": [
          0.3833333333333333,
          0.6166666666666666
         ],
         "showgrid": true
        },
        "xaxis6": {
         "anchor": "y6",
         "domain": [
          0.7666666666666666,
          0.9999999999999999
         ],
         "showgrid": true
        },
        "yaxis": {
         "anchor": "x",
         "domain": [
          0.575,
          1
         ],
         "showgrid": true
        },
        "yaxis2": {
         "anchor": "x2",
         "domain": [
          0.575,
          1
         ],
         "showgrid": true
        },
        "yaxis3": {
         "anchor": "x3",
         "domain": [
          0.575,
          1
         ],
         "showgrid": true
        },
        "yaxis4": {
         "anchor": "x4",
         "domain": [
          0,
          0.425
         ],
         "showgrid": true
        },
        "yaxis5": {
         "anchor": "x5",
         "domain": [
          0,
          0.425
         ],
         "showgrid": true
        },
        "yaxis6": {
         "anchor": "x6",
         "domain": [
          0,
          0.425
         ],
         "showgrid": true
        }
       }
      },
      "text/html": [
       "<div>                            <div id=\"2f51845d-caf8-4f10-970e-d15888e8574f\" class=\"plotly-graph-div\" style=\"height:400px; width:800px;\"></div>            <script type=\"text/javascript\">                require([\"plotly\"], function(Plotly) {                    window.PLOTLYENV=window.PLOTLYENV || {};                                    if (document.getElementById(\"2f51845d-caf8-4f10-970e-d15888e8574f\")) {                    Plotly.newPlot(                        \"2f51845d-caf8-4f10-970e-d15888e8574f\",                        [{\"orientation\": \"h\", \"type\": \"bar\", \"x\": [0.013246395064864839, 0.013392567334747245, 0.013484053463350356, 0.01401234312422155, 0.014606967802153276, 0.01706629919440844], \"xaxis\": \"x\", \"y\": [\"commodity  \", \"stock  \", \"rise  \", \"investor  \", \"increase  \", \"gold  \"], \"yaxis\": \"y\"}, {\"orientation\": \"h\", \"type\": \"bar\", \"x\": [1e-05, 1e-05, 0.40587053827355885, 0.6978295607092848, 0.9389827245320057, 1.5064287615397272], \"xaxis\": \"x2\", \"y\": [\"  \", \"  \", \"level  \", \"sense  \", \"run  \", \"number  \"], \"yaxis\": \"y2\"}, {\"orientation\": \"h\", \"type\": \"bar\", \"x\": [0.02724763270950081, 0.027613388816295187, 0.03495286596818787, 0.0365106745221853, 0.07645881640532982, 0.12850815465769758], \"xaxis\": \"x3\", \"y\": [\"event  \", \"decision  \", \"market  \", \"policy  \", \"meeting  \", \"fomc  \"], \"yaxis\": \"y3\"}, {\"orientation\": \"h\", \"type\": \"bar\", \"x\": [0.04858749867278553, 0.05019990254479312, 0.056397607749517305, 0.06672201036218385, 0.07935065277735259, 0.11279521549903461], \"xaxis\": \"x4\", \"y\": [\"solution  \", \"trump  \", \"blame  \", \"juneteenth  \", \"reset  \", \"holiday  \"], \"yaxis\": \"y4\"}, {\"orientation\": \"h\", \"type\": \"bar\", \"x\": [0.12401211350039405, 0.12887183171395744, 0.13367745808682013, 0.14520299797424777, 0.17212593667502127, 0.24603563806571674], \"xaxis\": \"x5\", \"y\": [\"launch  \", \"word  \", \"update  \", \"office  \", \"source  \", \"announcement  \"], \"yaxis\": \"y5\"}, {\"orientation\": \"h\", \"type\": \"bar\", \"x\": [0.06895209247407982, 0.12013308760471446, 0.12571946444448734, 0.24596558559224063, 0.31765951914814244, 0.4054746000400669], \"xaxis\": \"x6\", \"y\": [\"state  \", \"analyst  \", \"government  \", \"governor  \", \"policy  \", \"statement  \"], \"yaxis\": \"y6\"}],                        {\"annotations\": [{\"font\": {\"size\": 16}, \"showarrow\": false, \"text\": \"Topic 0\", \"x\": 0.11666666666666665, \"xanchor\": \"center\", \"xref\": \"paper\", \"y\": 1.0, \"yanchor\": \"bottom\", \"yref\": \"paper\"}, {\"font\": {\"size\": 16}, \"showarrow\": false, \"text\": \"Topic 1\", \"x\": 0.49999999999999994, \"xanchor\": \"center\", \"xref\": \"paper\", \"y\": 1.0, \"yanchor\": \"bottom\", \"yref\": \"paper\"}, {\"font\": {\"size\": 16}, \"showarrow\": false, \"text\": \"Topic 2\", \"x\": 0.8833333333333333, \"xanchor\": \"center\", \"xref\": \"paper\", \"y\": 1.0, \"yanchor\": \"bottom\", \"yref\": \"paper\"}, {\"font\": {\"size\": 16}, \"showarrow\": false, \"text\": \"Topic 3\", \"x\": 0.11666666666666665, \"xanchor\": \"center\", \"xref\": \"paper\", \"y\": 0.425, \"yanchor\": \"bottom\", \"yref\": \"paper\"}, {\"font\": {\"size\": 16}, \"showarrow\": false, \"text\": \"Topic 4\", \"x\": 0.49999999999999994, \"xanchor\": \"center\", \"xref\": \"paper\", \"y\": 0.425, \"yanchor\": \"bottom\", \"yref\": \"paper\"}, {\"font\": {\"size\": 16}, \"showarrow\": false, \"text\": \"Topic 5\", \"x\": 0.8833333333333333, \"xanchor\": \"center\", \"xref\": \"paper\", \"y\": 0.425, \"yanchor\": \"bottom\", \"yref\": \"paper\"}], \"height\": 400, \"hoverlabel\": {\"bgcolor\": \"white\", \"font\": {\"family\": \"Rockwell\", \"size\": 16}}, \"showlegend\": false, \"template\": {\"data\": {\"bar\": [{\"error_x\": {\"color\": \"#2a3f5f\"}, \"error_y\": {\"color\": \"#2a3f5f\"}, \"marker\": {\"line\": {\"color\": \"white\", \"width\": 0.5}}, \"type\": \"bar\"}], \"barpolar\": [{\"marker\": {\"line\": {\"color\": \"white\", \"width\": 0.5}}, \"type\": \"barpolar\"}], \"carpet\": [{\"aaxis\": {\"endlinecolor\": \"#2a3f5f\", \"gridcolor\": \"#C8D4E3\", \"linecolor\": \"#C8D4E3\", \"minorgridcolor\": \"#C8D4E3\", \"startlinecolor\": \"#2a3f5f\"}, \"baxis\": {\"endlinecolor\": \"#2a3f5f\", \"gridcolor\": \"#C8D4E3\", \"linecolor\": \"#C8D4E3\", \"minorgridcolor\": \"#C8D4E3\", \"startlinecolor\": \"#2a3f5f\"}, \"type\": \"carpet\"}], \"choropleth\": [{\"colorbar\": {\"outlinewidth\": 0, \"ticks\": \"\"}, \"type\": \"choropleth\"}], \"contour\": [{\"colorbar\": {\"outlinewidth\": 0, \"ticks\": \"\"}, \"colorscale\": [[0.0, \"#0d0887\"], [0.1111111111111111, \"#46039f\"], [0.2222222222222222, \"#7201a8\"], [0.3333333333333333, \"#9c179e\"], [0.4444444444444444, \"#bd3786\"], [0.5555555555555556, \"#d8576b\"], [0.6666666666666666, \"#ed7953\"], [0.7777777777777778, \"#fb9f3a\"], [0.8888888888888888, \"#fdca26\"], [1.0, \"#f0f921\"]], \"type\": \"contour\"}], \"contourcarpet\": [{\"colorbar\": {\"outlinewidth\": 0, \"ticks\": \"\"}, \"type\": \"contourcarpet\"}], \"heatmap\": [{\"colorbar\": {\"outlinewidth\": 0, \"ticks\": \"\"}, \"colorscale\": [[0.0, \"#0d0887\"], [0.1111111111111111, \"#46039f\"], [0.2222222222222222, \"#7201a8\"], [0.3333333333333333, \"#9c179e\"], [0.4444444444444444, \"#bd3786\"], [0.5555555555555556, \"#d8576b\"], [0.6666666666666666, \"#ed7953\"], [0.7777777777777778, \"#fb9f3a\"], [0.8888888888888888, \"#fdca26\"], [1.0, \"#f0f921\"]], \"type\": \"heatmap\"}], \"heatmapgl\": [{\"colorbar\": {\"outlinewidth\": 0, \"ticks\": \"\"}, \"colorscale\": [[0.0, \"#0d0887\"], [0.1111111111111111, \"#46039f\"], [0.2222222222222222, \"#7201a8\"], [0.3333333333333333, \"#9c179e\"], [0.4444444444444444, \"#bd3786\"], [0.5555555555555556, \"#d8576b\"], [0.6666666666666666, \"#ed7953\"], [0.7777777777777778, \"#fb9f3a\"], [0.8888888888888888, \"#fdca26\"], [1.0, \"#f0f921\"]], \"type\": \"heatmapgl\"}], \"histogram\": [{\"marker\": {\"colorbar\": {\"outlinewidth\": 0, \"ticks\": \"\"}}, \"type\": \"histogram\"}], \"histogram2d\": [{\"colorbar\": {\"outlinewidth\": 0, \"ticks\": \"\"}, \"colorscale\": [[0.0, \"#0d0887\"], [0.1111111111111111, \"#46039f\"], [0.2222222222222222, \"#7201a8\"], [0.3333333333333333, \"#9c179e\"], [0.4444444444444444, \"#bd3786\"], [0.5555555555555556, \"#d8576b\"], [0.6666666666666666, \"#ed7953\"], [0.7777777777777778, \"#fb9f3a\"], [0.8888888888888888, \"#fdca26\"], [1.0, \"#f0f921\"]], \"type\": \"histogram2d\"}], \"histogram2dcontour\": [{\"colorbar\": {\"outlinewidth\": 0, \"ticks\": \"\"}, \"colorscale\": [[0.0, \"#0d0887\"], [0.1111111111111111, \"#46039f\"], [0.2222222222222222, \"#7201a8\"], [0.3333333333333333, \"#9c179e\"], [0.4444444444444444, \"#bd3786\"], [0.5555555555555556, \"#d8576b\"], [0.6666666666666666, \"#ed7953\"], [0.7777777777777778, \"#fb9f3a\"], [0.8888888888888888, \"#fdca26\"], [1.0, \"#f0f921\"]], \"type\": \"histogram2dcontour\"}], \"mesh3d\": [{\"colorbar\": {\"outlinewidth\": 0, \"ticks\": \"\"}, \"type\": \"mesh3d\"}], \"parcoords\": [{\"line\": {\"colorbar\": {\"outlinewidth\": 0, \"ticks\": \"\"}}, \"type\": \"parcoords\"}], \"pie\": [{\"automargin\": true, \"type\": \"pie\"}], \"scatter\": [{\"marker\": {\"colorbar\": {\"outlinewidth\": 0, \"ticks\": \"\"}}, \"type\": \"scatter\"}], \"scatter3d\": [{\"line\": {\"colorbar\": {\"outlinewidth\": 0, \"ticks\": \"\"}}, \"marker\": {\"colorbar\": {\"outlinewidth\": 0, \"ticks\": \"\"}}, \"type\": \"scatter3d\"}], \"scattercarpet\": [{\"marker\": {\"colorbar\": {\"outlinewidth\": 0, \"ticks\": \"\"}}, \"type\": \"scattercarpet\"}], \"scattergeo\": [{\"marker\": {\"colorbar\": {\"outlinewidth\": 0, \"ticks\": \"\"}}, \"type\": \"scattergeo\"}], \"scattergl\": [{\"marker\": {\"colorbar\": {\"outlinewidth\": 0, \"ticks\": \"\"}}, \"type\": \"scattergl\"}], \"scattermapbox\": [{\"marker\": {\"colorbar\": {\"outlinewidth\": 0, \"ticks\": \"\"}}, \"type\": \"scattermapbox\"}], \"scatterpolar\": [{\"marker\": {\"colorbar\": {\"outlinewidth\": 0, \"ticks\": \"\"}}, \"type\": \"scatterpolar\"}], \"scatterpolargl\": [{\"marker\": {\"colorbar\": {\"outlinewidth\": 0, \"ticks\": \"\"}}, \"type\": \"scatterpolargl\"}], \"scatterternary\": [{\"marker\": {\"colorbar\": {\"outlinewidth\": 0, \"ticks\": \"\"}}, \"type\": \"scatterternary\"}], \"surface\": [{\"colorbar\": {\"outlinewidth\": 0, \"ticks\": \"\"}, \"colorscale\": [[0.0, \"#0d0887\"], [0.1111111111111111, \"#46039f\"], [0.2222222222222222, \"#7201a8\"], [0.3333333333333333, \"#9c179e\"], [0.4444444444444444, \"#bd3786\"], [0.5555555555555556, \"#d8576b\"], [0.6666666666666666, \"#ed7953\"], [0.7777777777777778, \"#fb9f3a\"], [0.8888888888888888, \"#fdca26\"], [1.0, \"#f0f921\"]], \"type\": \"surface\"}], \"table\": [{\"cells\": {\"fill\": {\"color\": \"#EBF0F8\"}, \"line\": {\"color\": \"white\"}}, \"header\": {\"fill\": {\"color\": \"#C8D4E3\"}, \"line\": {\"color\": \"white\"}}, \"type\": \"table\"}]}, \"layout\": {\"annotationdefaults\": {\"arrowcolor\": \"#2a3f5f\", \"arrowhead\": 0, \"arrowwidth\": 1}, \"autotypenumbers\": \"strict\", \"coloraxis\": {\"colorbar\": {\"outlinewidth\": 0, \"ticks\": \"\"}}, \"colorscale\": {\"diverging\": [[0, \"#8e0152\"], [0.1, \"#c51b7d\"], [0.2, \"#de77ae\"], [0.3, \"#f1b6da\"], [0.4, \"#fde0ef\"], [0.5, \"#f7f7f7\"], [0.6, \"#e6f5d0\"], [0.7, \"#b8e186\"], [0.8, \"#7fbc41\"], [0.9, \"#4d9221\"], [1, \"#276419\"]], \"sequential\": [[0.0, \"#0d0887\"], [0.1111111111111111, \"#46039f\"], [0.2222222222222222, \"#7201a8\"], [0.3333333333333333, \"#9c179e\"], [0.4444444444444444, \"#bd3786\"], [0.5555555555555556, \"#d8576b\"], [0.6666666666666666, \"#ed7953\"], [0.7777777777777778, \"#fb9f3a\"], [0.8888888888888888, \"#fdca26\"], [1.0, \"#f0f921\"]], \"sequentialminus\": [[0.0, \"#0d0887\"], [0.1111111111111111, \"#46039f\"], [0.2222222222222222, \"#7201a8\"], [0.3333333333333333, \"#9c179e\"], [0.4444444444444444, \"#bd3786\"], [0.5555555555555556, \"#d8576b\"], [0.6666666666666666, \"#ed7953\"], [0.7777777777777778, \"#fb9f3a\"], [0.8888888888888888, \"#fdca26\"], [1.0, \"#f0f921\"]]}, \"colorway\": [\"#636efa\", \"#EF553B\", \"#00cc96\", \"#ab63fa\", \"#FFA15A\", \"#19d3f3\", \"#FF6692\", \"#B6E880\", \"#FF97FF\", \"#FECB52\"], \"font\": {\"color\": \"#2a3f5f\"}, \"geo\": {\"bgcolor\": \"white\", \"lakecolor\": \"white\", \"landcolor\": \"white\", \"showlakes\": true, \"showland\": true, \"subunitcolor\": \"#C8D4E3\"}, \"hoverlabel\": {\"align\": \"left\"}, \"hovermode\": \"closest\", \"mapbox\": {\"style\": \"light\"}, \"paper_bgcolor\": \"white\", \"plot_bgcolor\": \"white\", \"polar\": {\"angularaxis\": {\"gridcolor\": \"#EBF0F8\", \"linecolor\": \"#EBF0F8\", \"ticks\": \"\"}, \"bgcolor\": \"white\", \"radialaxis\": {\"gridcolor\": \"#EBF0F8\", \"linecolor\": \"#EBF0F8\", \"ticks\": \"\"}}, \"scene\": {\"xaxis\": {\"backgroundcolor\": \"white\", \"gridcolor\": \"#DFE8F3\", \"gridwidth\": 2, \"linecolor\": \"#EBF0F8\", \"showbackground\": true, \"ticks\": \"\", \"zerolinecolor\": \"#EBF0F8\"}, \"yaxis\": {\"backgroundcolor\": \"white\", \"gridcolor\": \"#DFE8F3\", \"gridwidth\": 2, \"linecolor\": \"#EBF0F8\", \"showbackground\": true, \"ticks\": \"\", \"zerolinecolor\": \"#EBF0F8\"}, \"zaxis\": {\"backgroundcolor\": \"white\", \"gridcolor\": \"#DFE8F3\", \"gridwidth\": 2, \"linecolor\": \"#EBF0F8\", \"showbackground\": true, \"ticks\": \"\", \"zerolinecolor\": \"#EBF0F8\"}}, \"shapedefaults\": {\"line\": {\"color\": \"#2a3f5f\"}}, \"ternary\": {\"aaxis\": {\"gridcolor\": \"#DFE8F3\", \"linecolor\": \"#A2B1C6\", \"ticks\": \"\"}, \"baxis\": {\"gridcolor\": \"#DFE8F3\", \"linecolor\": \"#A2B1C6\", \"ticks\": \"\"}, \"bgcolor\": \"white\", \"caxis\": {\"gridcolor\": \"#DFE8F3\", \"linecolor\": \"#A2B1C6\", \"ticks\": \"\"}}, \"title\": {\"x\": 0.05}, \"xaxis\": {\"automargin\": true, \"gridcolor\": \"#EBF0F8\", \"linecolor\": \"#EBF0F8\", \"ticks\": \"\", \"title\": {\"standoff\": 15}, \"zerolinecolor\": \"#EBF0F8\", \"zerolinewidth\": 2}, \"yaxis\": {\"automargin\": true, \"gridcolor\": \"#EBF0F8\", \"linecolor\": \"#EBF0F8\", \"ticks\": \"\", \"title\": {\"standoff\": 15}, \"zerolinecolor\": \"#EBF0F8\", \"zerolinewidth\": 2}}}, \"title\": {\"font\": {\"color\": \"Black\", \"size\": 22}, \"text\": \"<b>Topic Word Scores\", \"x\": 0.15, \"xanchor\": \"center\", \"y\": 0.95, \"yanchor\": \"top\"}, \"width\": 800, \"xaxis\": {\"anchor\": \"y\", \"domain\": [0.0, 0.2333333333333333], \"matches\": \"x4\", \"showgrid\": true, \"showticklabels\": false}, \"xaxis2\": {\"anchor\": \"y2\", \"domain\": [0.3833333333333333, 0.6166666666666666], \"matches\": \"x5\", \"showgrid\": true, \"showticklabels\": false}, \"xaxis3\": {\"anchor\": \"y3\", \"domain\": [0.7666666666666666, 0.9999999999999999], \"matches\": \"x6\", \"showgrid\": true, \"showticklabels\": false}, \"xaxis4\": {\"anchor\": \"y4\", \"domain\": [0.0, 0.2333333333333333], \"showgrid\": true}, \"xaxis5\": {\"anchor\": \"y5\", \"domain\": [0.3833333333333333, 0.6166666666666666], \"showgrid\": true}, \"xaxis6\": {\"anchor\": \"y6\", \"domain\": [0.7666666666666666, 0.9999999999999999], \"showgrid\": true}, \"yaxis\": {\"anchor\": \"x\", \"domain\": [0.575, 1.0], \"showgrid\": true}, \"yaxis2\": {\"anchor\": \"x2\", \"domain\": [0.575, 1.0], \"showgrid\": true}, \"yaxis3\": {\"anchor\": \"x3\", \"domain\": [0.575, 1.0], \"showgrid\": true}, \"yaxis4\": {\"anchor\": \"x4\", \"domain\": [0.0, 0.425], \"showgrid\": true}, \"yaxis5\": {\"anchor\": \"x5\", \"domain\": [0.0, 0.425], \"showgrid\": true}, \"yaxis6\": {\"anchor\": \"x6\", \"domain\": [0.0, 0.425], \"showgrid\": true}},                        {\"responsive\": true}                    ).then(function(){\n",
       "                            \n",
       "var gd = document.getElementById('2f51845d-caf8-4f10-970e-d15888e8574f');\n",
       "var x = new MutationObserver(function (mutations, observer) {{\n",
       "        var display = window.getComputedStyle(gd).display;\n",
       "        if (!display || display === 'none') {{\n",
       "            console.log([gd, 'removed!']);\n",
       "            Plotly.purge(gd);\n",
       "            observer.disconnect();\n",
       "        }}\n",
       "}});\n",
       "\n",
       "// Listen for the removal of the full notebook cells\n",
       "var notebookContainer = gd.closest('#notebook-container');\n",
       "if (notebookContainer) {{\n",
       "    x.observe(notebookContainer, {childList: true});\n",
       "}}\n",
       "\n",
       "// Listen for the clearing of the current output cell\n",
       "var outputEl = gd.closest('.output');\n",
       "if (outputEl) {{\n",
       "    x.observe(outputEl, {childList: true});\n",
       "}}\n",
       "\n",
       "                        })                };                });            </script>        </div>"
      ]
     },
     "metadata": {},
     "output_type": "display_data"
    }
   ],
   "source": [
    "### get barplot of each topics and ther probabilities\n",
    "topic_model.visualize_barchart(topics=range(0,6),\n",
    "                       n_words=6,\n",
    "                       width=800,\n",
    "                       height=400)"
   ]
  },
  {
   "cell_type": "code",
   "execution_count": 113,
   "metadata": {},
   "outputs": [],
   "source": [
    "## get the timeseries patterns for output topics\n",
    "timestamps = df_model['Date'].to_list()"
   ]
  },
  {
   "cell_type": "code",
   "execution_count": 114,
   "metadata": {
    "scrolled": true
   },
   "outputs": [
    {
     "name": "stderr",
     "output_type": "stream",
     "text": [
      "13it [00:00, 24.00it/s]\n"
     ]
    }
   ],
   "source": [
    "topics_over_time = topic_model.topics_over_time(data, topics, timestamps)"
   ]
  },
  {
   "cell_type": "code",
   "execution_count": 115,
   "metadata": {
    "scrolled": false
   },
   "outputs": [
    {
     "data": {
      "application/vnd.plotly.v1+json": {
       "config": {
        "plotlyServerURL": "https://plot.ly"
       },
       "data": [
        {
         "hoverinfo": "text",
         "hovertext": [
          "<b>Topic 0</b><br>Words: marketanalysis, phenomenon, strategist, concern, address",
          "<b>Topic 0</b><br>Words: increase, gold, taper, rise, fomc",
          "<b>Topic 0</b><br>Words: gold, rise, increase, dollar, rate",
          "<b>Topic 0</b><br>Words: commodity, gold, silver, stock, investor",
          "<b>Topic 0</b><br>Words: dollar, gold, pay, increase, money",
          "<b>Topic 0</b><br>Words: money, rise, stock, stockreport, gold",
          "<b>Topic 0</b><br>Words: gold, increase, investor, economy, price",
          "<b>Topic 0</b><br>Words: bread, cheese, fruits, cooking, egg",
          "<b>Topic 0</b><br>Words: xglobalmarket, investor, symposium, bankruptcy, increase",
          "<b>Topic 0</b><br>Words: xglobalmarket, gold, oil, price, rise",
          "<b>Topic 0</b><br>Words: dollar, increase, housing, money, federalreserve",
          "<b>Topic 0</b><br>Words: debt, gold, money, stock, housing",
          "<b>Topic 0</b><br>Words: dollar, gold, money, debt, increase"
         ],
         "marker": {
          "color": "#E69F00"
         },
         "mode": "lines",
         "name": "0_gold_increase_investor_rise",
         "type": "scatter",
         "x": [
          "2021-06-15",
          "2021-06-16",
          "2021-06-17",
          "2021-06-18",
          "2021-06-19",
          "2021-06-20",
          "2021-06-21",
          "2021-06-22",
          "2021-06-23",
          "2021-06-24",
          "2021-06-28",
          "2021-06-29",
          "2021-06-30"
         ],
         "y": [
          910,
          1262,
          759,
          519,
          263,
          208,
          566,
          3,
          77,
          200,
          134,
          416,
          496
         ]
        },
        {
         "hoverinfo": "text",
         "hovertext": [
          "<b>Topic 1</b><br>Words: number, run, sense, level, ",
          "<b>Topic 1</b><br>Words: number, run, sense, level, ",
          "<b>Topic 1</b><br>Words: sense, number, run, level, ",
          "<b>Topic 1</b><br>Words: level, number, run, sense, ",
          "<b>Topic 1</b><br>Words: number, run, sense, level, ",
          "<b>Topic 1</b><br>Words: number, run, sense, level, ",
          "<b>Topic 1</b><br>Words: run, number, sense, level, ",
          "<b>Topic 1</b><br>Words: number, run, sense, level, ",
          "<b>Topic 1</b><br>Words: number, run, sense, level, ",
          "<b>Topic 1</b><br>Words: number, run, sense, level, ",
          "<b>Topic 1</b><br>Words: number, run, sense, level, ",
          "<b>Topic 1</b><br>Words: number, run, sense, level, "
         ],
         "marker": {
          "color": "#56B4E9"
         },
         "mode": "lines",
         "name": "1_number_run_sense_level",
         "type": "scatter",
         "x": [
          "2021-06-15",
          "2021-06-16",
          "2021-06-17",
          "2021-06-18",
          "2021-06-19",
          "2021-06-20",
          "2021-06-21",
          "2021-06-23",
          "2021-06-24",
          "2021-06-28",
          "2021-06-29",
          "2021-06-30"
         ],
         "y": [
          159,
          383,
          177,
          80,
          56,
          38,
          93,
          41,
          27,
          47,
          100,
          192
         ]
        },
        {
         "hoverinfo": "text",
         "hovertext": [
          "<b>Topic 2</b><br>Words: fomc, meeting, policy, market, decision",
          "<b>Topic 2</b><br>Words: fomc, meeting, policy, market, dot",
          "<b>Topic 2</b><br>Words: fomc, meeting, event, policy, stock",
          "<b>Topic 2</b><br>Words: fomc, meeting, comment, tapertantrum, market",
          "<b>Topic 2</b><br>Words: fomc, meeting, process, alasdairmacleod, thestateofeconomic",
          "<b>Topic 2</b><br>Words: mind, fomc, company, meeting, rock",
          "<b>Topic 2</b><br>Words: fomc, meeting, member, decision, policy",
          "<b>Topic 2</b><br>Words: employee, team, talk, modification, encampment",
          "<b>Topic 2</b><br>Words: fomc, meeting, monpol, graze, pumppppppppedddddd",
          "<b>Topic 2</b><br>Words: confine, transcript, evil, technocrat, president",
          "<b>Topic 2</b><br>Words: knowledge, mind, iot, aristocracy, academia",
          "<b>Topic 2</b><br>Words: intellect, fomc, destroy, meeting, socialism"
         ],
         "marker": {
          "color": "#009E73"
         },
         "mode": "lines",
         "name": "2_fomc_meeting_policy_market",
         "type": "scatter",
         "x": [
          "2021-06-15",
          "2021-06-16",
          "2021-06-17",
          "2021-06-18",
          "2021-06-19",
          "2021-06-20",
          "2021-06-21",
          "2021-06-23",
          "2021-06-24",
          "2021-06-28",
          "2021-06-29",
          "2021-06-30"
         ],
         "y": [
          61,
          260,
          63,
          39,
          17,
          8,
          42,
          10,
          13,
          5,
          18,
          28
         ]
        },
        {
         "hoverinfo": "text",
         "hovertext": [
          "<b>Topic 3</b><br>Words: analyst, reset, nautanki, snatch, disconfirme",
          "<b>Topic 3</b><br>Words: sport, content, holiday, reset, composition",
          "<b>Topic 3</b><br>Words: holiday, juneteenth, reset, sneeze, story",
          "<b>Topic 3</b><br>Words: scientist, onion, blame, solution, fixd",
          "<b>Topic 3</b><br>Words: crow, monkeys, cartridge, ogreeye, replacement",
          "<b>Topic 3</b><br>Words: excite, weekend, saving, story, holiday",
          "<b>Topic 3</b><br>Words: reset, sneeze, composition, trunk, smallyoutubercommunity",
          "<b>Topic 3</b><br>Words: debunk, dnc, cite, initiative, constitution",
          "<b>Topic 3</b><br>Words: outofthisworld, count, rock, experience, holiday",
          "<b>Topic 3</b><br>Words: developer, shuffle, exodus, request, season",
          "<b>Topic 3</b><br>Words: emergency, demonstrate, ostracizingleadership, authorize, punt",
          "<b>Topic 3</b><br>Words: schedule, check, networksolution, finalsolution, taxheaven"
         ],
         "marker": {
          "color": "#F0E442"
         },
         "mode": "lines",
         "name": "3_holiday_reset_juneteenth_blame",
         "type": "scatter",
         "x": [
          "2021-06-15",
          "2021-06-16",
          "2021-06-17",
          "2021-06-18",
          "2021-06-19",
          "2021-06-20",
          "2021-06-21",
          "2021-06-23",
          "2021-06-24",
          "2021-06-28",
          "2021-06-29",
          "2021-06-30"
         ],
         "y": [
          16,
          26,
          25,
          13,
          6,
          3,
          15,
          5,
          1,
          4,
          14,
          17
         ]
        },
        {
         "hoverinfo": "text",
         "hovertext": [
          "<b>Topic 4</b><br>Words: launch, announcement, step, uselessness, cooperation",
          "<b>Topic 4</b><br>Words: announcement, word, source, update, office",
          "<b>Topic 4</b><br>Words: office, source, announcement, observance, update",
          "<b>Topic 4</b><br>Words: launch, change, office, word, client",
          "<b>Topic 4</b><br>Words: independence, spark, reminder, operation, freedom",
          "<b>Topic 4</b><br>Words: bounce, news, announcement, source, office",
          "<b>Topic 4</b><br>Words: source, front, permissione, share, clarification",
          "<b>Topic 4</b><br>Words: revelinginestablishment, reversion, member, announcement, source",
          "<b>Topic 4</b><br>Words: engger, registration, applynow, host, session",
          "<b>Topic 4</b><br>Words: lebanonprotest, applynow, strike, operation, announce",
          "<b>Topic 4</b><br>Words: church, phrase, internet, security, return",
          "<b>Topic 4</b><br>Words: sense, revolution, launch, establishment, source"
         ],
         "marker": {
          "color": "#D55E00"
         },
         "mode": "lines",
         "name": "4_announcement_source_office_update",
         "type": "scatter",
         "x": [
          "2021-06-15",
          "2021-06-16",
          "2021-06-17",
          "2021-06-18",
          "2021-06-19",
          "2021-06-20",
          "2021-06-21",
          "2021-06-23",
          "2021-06-24",
          "2021-06-28",
          "2021-06-29",
          "2021-06-30"
         ],
         "y": [
          15,
          28,
          19,
          9,
          4,
          1,
          10,
          3,
          5,
          3,
          4,
          10
         ]
        },
        {
         "hoverinfo": "text",
         "hovertext": [
          "<b>Topic 5</b><br>Words: policy, explain, kick, administration, regulation",
          "<b>Topic 5</b><br>Words: statement, policy, governor, government, tag",
          "<b>Topic 5</b><br>Words: policy, statement, ramification, analyst, institution",
          "<b>Topic 5</b><br>Words: governor, recommend, info, state, strategy",
          "<b>Topic 5</b><br>Words: sort, policy, government, headline, press",
          "<b>Topic 5</b><br>Words: stereotype, define, statement, policy, governor",
          "<b>Topic 5</b><br>Words: statement, analyst, policy, rein, institution",
          "<b>Topic 5</b><br>Words: guideline, governor, cra, propose, reform",
          "<b>Topic 5</b><br>Words: statement, government, policy, governor, analyst",
          "<b>Topic 5</b><br>Words: discussion, forthcoming, governor, issue, legislation",
          "<b>Topic 5</b><br>Words: governor, statement, policy, psychology, spotlight",
          "<b>Topic 5</b><br>Words: governor, statement, policy, usgovernment, strung"
         ],
         "marker": {
          "color": "#0072B2"
         },
         "mode": "lines",
         "name": "5_statement_policy_governor_government",
         "type": "scatter",
         "x": [
          "2021-06-15",
          "2021-06-16",
          "2021-06-17",
          "2021-06-18",
          "2021-06-19",
          "2021-06-20",
          "2021-06-21",
          "2021-06-23",
          "2021-06-24",
          "2021-06-28",
          "2021-06-29",
          "2021-06-30"
         ],
         "y": [
          7,
          41,
          9,
          3,
          3,
          1,
          5,
          2,
          2,
          3,
          7,
          10
         ]
        },
        {
         "hoverinfo": "text",
         "hovertext": [
          "<b>Topic 6</b><br>Words: speech, comment, showing, tattoo, mensaje",
          "<b>Topic 6</b><br>Words: comment, talk, audio, video, speech",
          "<b>Topic 6</b><br>Words: message, talk, video, interpreting, watch",
          "<b>Topic 6</b><br>Words: comment, break, honour, obstruct, talk",
          "<b>Topic 6</b><br>Words: documentary, comment, stream, tonight, visit",
          "<b>Topic 6</b><br>Words: outlook, comment, talk, video, speech",
          "<b>Topic 6</b><br>Words: comment, response, chatroom, list, language",
          "<b>Topic 6</b><br>Words: article, audience, ticket, video, talk",
          "<b>Topic 6</b><br>Words: document, attention, process, video, figure",
          "<b>Topic 6</b><br>Words: speech, vision, topic, attention, conversation",
          "<b>Topic 6</b><br>Words: image, comment, talk, video, speech",
          "<b>Topic 6</b><br>Words: comment, experience, speech, smh, speaking"
         ],
         "marker": {
          "color": "#CC79A7"
         },
         "mode": "lines",
         "name": "6_comment_talk_video_speech",
         "type": "scatter",
         "x": [
          "2021-06-15",
          "2021-06-16",
          "2021-06-17",
          "2021-06-18",
          "2021-06-19",
          "2021-06-20",
          "2021-06-21",
          "2021-06-23",
          "2021-06-24",
          "2021-06-28",
          "2021-06-29",
          "2021-06-30"
         ],
         "y": [
          9,
          22,
          10,
          5,
          5,
          1,
          10,
          3,
          3,
          5,
          2,
          11
         ]
        }
       ],
       "layout": {
        "height": 450,
        "hoverlabel": {
         "bgcolor": "white",
         "font": {
          "family": "Rockwell",
          "size": 16
         }
        },
        "legend": {
         "title": {
          "text": "<b>Global Topic Representation"
         }
        },
        "template": {
         "data": {
          "bar": [
           {
            "error_x": {
             "color": "rgb(36,36,36)"
            },
            "error_y": {
             "color": "rgb(36,36,36)"
            },
            "marker": {
             "line": {
              "color": "white",
              "width": 0.5
             }
            },
            "type": "bar"
           }
          ],
          "barpolar": [
           {
            "marker": {
             "line": {
              "color": "white",
              "width": 0.5
             }
            },
            "type": "barpolar"
           }
          ],
          "carpet": [
           {
            "aaxis": {
             "endlinecolor": "rgb(36,36,36)",
             "gridcolor": "white",
             "linecolor": "white",
             "minorgridcolor": "white",
             "startlinecolor": "rgb(36,36,36)"
            },
            "baxis": {
             "endlinecolor": "rgb(36,36,36)",
             "gridcolor": "white",
             "linecolor": "white",
             "minorgridcolor": "white",
             "startlinecolor": "rgb(36,36,36)"
            },
            "type": "carpet"
           }
          ],
          "choropleth": [
           {
            "colorbar": {
             "outlinewidth": 1,
             "tickcolor": "rgb(36,36,36)",
             "ticks": "outside"
            },
            "type": "choropleth"
           }
          ],
          "contour": [
           {
            "colorbar": {
             "outlinewidth": 1,
             "tickcolor": "rgb(36,36,36)",
             "ticks": "outside"
            },
            "colorscale": [
             [
              0,
              "#440154"
             ],
             [
              0.1111111111111111,
              "#482878"
             ],
             [
              0.2222222222222222,
              "#3e4989"
             ],
             [
              0.3333333333333333,
              "#31688e"
             ],
             [
              0.4444444444444444,
              "#26828e"
             ],
             [
              0.5555555555555556,
              "#1f9e89"
             ],
             [
              0.6666666666666666,
              "#35b779"
             ],
             [
              0.7777777777777778,
              "#6ece58"
             ],
             [
              0.8888888888888888,
              "#b5de2b"
             ],
             [
              1,
              "#fde725"
             ]
            ],
            "type": "contour"
           }
          ],
          "contourcarpet": [
           {
            "colorbar": {
             "outlinewidth": 1,
             "tickcolor": "rgb(36,36,36)",
             "ticks": "outside"
            },
            "type": "contourcarpet"
           }
          ],
          "heatmap": [
           {
            "colorbar": {
             "outlinewidth": 1,
             "tickcolor": "rgb(36,36,36)",
             "ticks": "outside"
            },
            "colorscale": [
             [
              0,
              "#440154"
             ],
             [
              0.1111111111111111,
              "#482878"
             ],
             [
              0.2222222222222222,
              "#3e4989"
             ],
             [
              0.3333333333333333,
              "#31688e"
             ],
             [
              0.4444444444444444,
              "#26828e"
             ],
             [
              0.5555555555555556,
              "#1f9e89"
             ],
             [
              0.6666666666666666,
              "#35b779"
             ],
             [
              0.7777777777777778,
              "#6ece58"
             ],
             [
              0.8888888888888888,
              "#b5de2b"
             ],
             [
              1,
              "#fde725"
             ]
            ],
            "type": "heatmap"
           }
          ],
          "heatmapgl": [
           {
            "colorbar": {
             "outlinewidth": 1,
             "tickcolor": "rgb(36,36,36)",
             "ticks": "outside"
            },
            "colorscale": [
             [
              0,
              "#440154"
             ],
             [
              0.1111111111111111,
              "#482878"
             ],
             [
              0.2222222222222222,
              "#3e4989"
             ],
             [
              0.3333333333333333,
              "#31688e"
             ],
             [
              0.4444444444444444,
              "#26828e"
             ],
             [
              0.5555555555555556,
              "#1f9e89"
             ],
             [
              0.6666666666666666,
              "#35b779"
             ],
             [
              0.7777777777777778,
              "#6ece58"
             ],
             [
              0.8888888888888888,
              "#b5de2b"
             ],
             [
              1,
              "#fde725"
             ]
            ],
            "type": "heatmapgl"
           }
          ],
          "histogram": [
           {
            "marker": {
             "line": {
              "color": "white",
              "width": 0.6
             }
            },
            "type": "histogram"
           }
          ],
          "histogram2d": [
           {
            "colorbar": {
             "outlinewidth": 1,
             "tickcolor": "rgb(36,36,36)",
             "ticks": "outside"
            },
            "colorscale": [
             [
              0,
              "#440154"
             ],
             [
              0.1111111111111111,
              "#482878"
             ],
             [
              0.2222222222222222,
              "#3e4989"
             ],
             [
              0.3333333333333333,
              "#31688e"
             ],
             [
              0.4444444444444444,
              "#26828e"
             ],
             [
              0.5555555555555556,
              "#1f9e89"
             ],
             [
              0.6666666666666666,
              "#35b779"
             ],
             [
              0.7777777777777778,
              "#6ece58"
             ],
             [
              0.8888888888888888,
              "#b5de2b"
             ],
             [
              1,
              "#fde725"
             ]
            ],
            "type": "histogram2d"
           }
          ],
          "histogram2dcontour": [
           {
            "colorbar": {
             "outlinewidth": 1,
             "tickcolor": "rgb(36,36,36)",
             "ticks": "outside"
            },
            "colorscale": [
             [
              0,
              "#440154"
             ],
             [
              0.1111111111111111,
              "#482878"
             ],
             [
              0.2222222222222222,
              "#3e4989"
             ],
             [
              0.3333333333333333,
              "#31688e"
             ],
             [
              0.4444444444444444,
              "#26828e"
             ],
             [
              0.5555555555555556,
              "#1f9e89"
             ],
             [
              0.6666666666666666,
              "#35b779"
             ],
             [
              0.7777777777777778,
              "#6ece58"
             ],
             [
              0.8888888888888888,
              "#b5de2b"
             ],
             [
              1,
              "#fde725"
             ]
            ],
            "type": "histogram2dcontour"
           }
          ],
          "mesh3d": [
           {
            "colorbar": {
             "outlinewidth": 1,
             "tickcolor": "rgb(36,36,36)",
             "ticks": "outside"
            },
            "type": "mesh3d"
           }
          ],
          "parcoords": [
           {
            "line": {
             "colorbar": {
              "outlinewidth": 1,
              "tickcolor": "rgb(36,36,36)",
              "ticks": "outside"
             }
            },
            "type": "parcoords"
           }
          ],
          "pie": [
           {
            "automargin": true,
            "type": "pie"
           }
          ],
          "scatter": [
           {
            "marker": {
             "colorbar": {
              "outlinewidth": 1,
              "tickcolor": "rgb(36,36,36)",
              "ticks": "outside"
             }
            },
            "type": "scatter"
           }
          ],
          "scatter3d": [
           {
            "line": {
             "colorbar": {
              "outlinewidth": 1,
              "tickcolor": "rgb(36,36,36)",
              "ticks": "outside"
             }
            },
            "marker": {
             "colorbar": {
              "outlinewidth": 1,
              "tickcolor": "rgb(36,36,36)",
              "ticks": "outside"
             }
            },
            "type": "scatter3d"
           }
          ],
          "scattercarpet": [
           {
            "marker": {
             "colorbar": {
              "outlinewidth": 1,
              "tickcolor": "rgb(36,36,36)",
              "ticks": "outside"
             }
            },
            "type": "scattercarpet"
           }
          ],
          "scattergeo": [
           {
            "marker": {
             "colorbar": {
              "outlinewidth": 1,
              "tickcolor": "rgb(36,36,36)",
              "ticks": "outside"
             }
            },
            "type": "scattergeo"
           }
          ],
          "scattergl": [
           {
            "marker": {
             "colorbar": {
              "outlinewidth": 1,
              "tickcolor": "rgb(36,36,36)",
              "ticks": "outside"
             }
            },
            "type": "scattergl"
           }
          ],
          "scattermapbox": [
           {
            "marker": {
             "colorbar": {
              "outlinewidth": 1,
              "tickcolor": "rgb(36,36,36)",
              "ticks": "outside"
             }
            },
            "type": "scattermapbox"
           }
          ],
          "scatterpolar": [
           {
            "marker": {
             "colorbar": {
              "outlinewidth": 1,
              "tickcolor": "rgb(36,36,36)",
              "ticks": "outside"
             }
            },
            "type": "scatterpolar"
           }
          ],
          "scatterpolargl": [
           {
            "marker": {
             "colorbar": {
              "outlinewidth": 1,
              "tickcolor": "rgb(36,36,36)",
              "ticks": "outside"
             }
            },
            "type": "scatterpolargl"
           }
          ],
          "scatterternary": [
           {
            "marker": {
             "colorbar": {
              "outlinewidth": 1,
              "tickcolor": "rgb(36,36,36)",
              "ticks": "outside"
             }
            },
            "type": "scatterternary"
           }
          ],
          "surface": [
           {
            "colorbar": {
             "outlinewidth": 1,
             "tickcolor": "rgb(36,36,36)",
             "ticks": "outside"
            },
            "colorscale": [
             [
              0,
              "#440154"
             ],
             [
              0.1111111111111111,
              "#482878"
             ],
             [
              0.2222222222222222,
              "#3e4989"
             ],
             [
              0.3333333333333333,
              "#31688e"
             ],
             [
              0.4444444444444444,
              "#26828e"
             ],
             [
              0.5555555555555556,
              "#1f9e89"
             ],
             [
              0.6666666666666666,
              "#35b779"
             ],
             [
              0.7777777777777778,
              "#6ece58"
             ],
             [
              0.8888888888888888,
              "#b5de2b"
             ],
             [
              1,
              "#fde725"
             ]
            ],
            "type": "surface"
           }
          ],
          "table": [
           {
            "cells": {
             "fill": {
              "color": "rgb(237,237,237)"
             },
             "line": {
              "color": "white"
             }
            },
            "header": {
             "fill": {
              "color": "rgb(217,217,217)"
             },
             "line": {
              "color": "white"
             }
            },
            "type": "table"
           }
          ]
         },
         "layout": {
          "annotationdefaults": {
           "arrowhead": 0,
           "arrowwidth": 1
          },
          "autotypenumbers": "strict",
          "coloraxis": {
           "colorbar": {
            "outlinewidth": 1,
            "tickcolor": "rgb(36,36,36)",
            "ticks": "outside"
           }
          },
          "colorscale": {
           "diverging": [
            [
             0,
             "rgb(103,0,31)"
            ],
            [
             0.1,
             "rgb(178,24,43)"
            ],
            [
             0.2,
             "rgb(214,96,77)"
            ],
            [
             0.3,
             "rgb(244,165,130)"
            ],
            [
             0.4,
             "rgb(253,219,199)"
            ],
            [
             0.5,
             "rgb(247,247,247)"
            ],
            [
             0.6,
             "rgb(209,229,240)"
            ],
            [
             0.7,
             "rgb(146,197,222)"
            ],
            [
             0.8,
             "rgb(67,147,195)"
            ],
            [
             0.9,
             "rgb(33,102,172)"
            ],
            [
             1,
             "rgb(5,48,97)"
            ]
           ],
           "sequential": [
            [
             0,
             "#440154"
            ],
            [
             0.1111111111111111,
             "#482878"
            ],
            [
             0.2222222222222222,
             "#3e4989"
            ],
            [
             0.3333333333333333,
             "#31688e"
            ],
            [
             0.4444444444444444,
             "#26828e"
            ],
            [
             0.5555555555555556,
             "#1f9e89"
            ],
            [
             0.6666666666666666,
             "#35b779"
            ],
            [
             0.7777777777777778,
             "#6ece58"
            ],
            [
             0.8888888888888888,
             "#b5de2b"
            ],
            [
             1,
             "#fde725"
            ]
           ],
           "sequentialminus": [
            [
             0,
             "#440154"
            ],
            [
             0.1111111111111111,
             "#482878"
            ],
            [
             0.2222222222222222,
             "#3e4989"
            ],
            [
             0.3333333333333333,
             "#31688e"
            ],
            [
             0.4444444444444444,
             "#26828e"
            ],
            [
             0.5555555555555556,
             "#1f9e89"
            ],
            [
             0.6666666666666666,
             "#35b779"
            ],
            [
             0.7777777777777778,
             "#6ece58"
            ],
            [
             0.8888888888888888,
             "#b5de2b"
            ],
            [
             1,
             "#fde725"
            ]
           ]
          },
          "colorway": [
           "#1F77B4",
           "#FF7F0E",
           "#2CA02C",
           "#D62728",
           "#9467BD",
           "#8C564B",
           "#E377C2",
           "#7F7F7F",
           "#BCBD22",
           "#17BECF"
          ],
          "font": {
           "color": "rgb(36,36,36)"
          },
          "geo": {
           "bgcolor": "white",
           "lakecolor": "white",
           "landcolor": "white",
           "showlakes": true,
           "showland": true,
           "subunitcolor": "white"
          },
          "hoverlabel": {
           "align": "left"
          },
          "hovermode": "closest",
          "mapbox": {
           "style": "light"
          },
          "paper_bgcolor": "white",
          "plot_bgcolor": "white",
          "polar": {
           "angularaxis": {
            "gridcolor": "rgb(232,232,232)",
            "linecolor": "rgb(36,36,36)",
            "showgrid": false,
            "showline": true,
            "ticks": "outside"
           },
           "bgcolor": "white",
           "radialaxis": {
            "gridcolor": "rgb(232,232,232)",
            "linecolor": "rgb(36,36,36)",
            "showgrid": false,
            "showline": true,
            "ticks": "outside"
           }
          },
          "scene": {
           "xaxis": {
            "backgroundcolor": "white",
            "gridcolor": "rgb(232,232,232)",
            "gridwidth": 2,
            "linecolor": "rgb(36,36,36)",
            "showbackground": true,
            "showgrid": false,
            "showline": true,
            "ticks": "outside",
            "zeroline": false,
            "zerolinecolor": "rgb(36,36,36)"
           },
           "yaxis": {
            "backgroundcolor": "white",
            "gridcolor": "rgb(232,232,232)",
            "gridwidth": 2,
            "linecolor": "rgb(36,36,36)",
            "showbackground": true,
            "showgrid": false,
            "showline": true,
            "ticks": "outside",
            "zeroline": false,
            "zerolinecolor": "rgb(36,36,36)"
           },
           "zaxis": {
            "backgroundcolor": "white",
            "gridcolor": "rgb(232,232,232)",
            "gridwidth": 2,
            "linecolor": "rgb(36,36,36)",
            "showbackground": true,
            "showgrid": false,
            "showline": true,
            "ticks": "outside",
            "zeroline": false,
            "zerolinecolor": "rgb(36,36,36)"
           }
          },
          "shapedefaults": {
           "fillcolor": "black",
           "line": {
            "width": 0
           },
           "opacity": 0.3
          },
          "ternary": {
           "aaxis": {
            "gridcolor": "rgb(232,232,232)",
            "linecolor": "rgb(36,36,36)",
            "showgrid": false,
            "showline": true,
            "ticks": "outside"
           },
           "baxis": {
            "gridcolor": "rgb(232,232,232)",
            "linecolor": "rgb(36,36,36)",
            "showgrid": false,
            "showline": true,
            "ticks": "outside"
           },
           "bgcolor": "white",
           "caxis": {
            "gridcolor": "rgb(232,232,232)",
            "linecolor": "rgb(36,36,36)",
            "showgrid": false,
            "showline": true,
            "ticks": "outside"
           }
          },
          "title": {
           "x": 0.05
          },
          "xaxis": {
           "automargin": true,
           "gridcolor": "rgb(232,232,232)",
           "linecolor": "rgb(36,36,36)",
           "showgrid": false,
           "showline": true,
           "ticks": "outside",
           "title": {
            "standoff": 15
           },
           "zeroline": false,
           "zerolinecolor": "rgb(36,36,36)"
          },
          "yaxis": {
           "automargin": true,
           "gridcolor": "rgb(232,232,232)",
           "linecolor": "rgb(36,36,36)",
           "showgrid": false,
           "showline": true,
           "ticks": "outside",
           "title": {
            "standoff": 15
           },
           "zeroline": false,
           "zerolinecolor": "rgb(36,36,36)"
          }
         }
        },
        "title": {
         "font": {
          "color": "Black",
          "size": 22
         },
         "text": "<b>Topics over Time",
         "x": 0.4,
         "xanchor": "center",
         "y": 0.95,
         "yanchor": "top"
        },
        "width": 1250,
        "xaxis": {
         "showgrid": true
        },
        "yaxis": {
         "showgrid": true,
         "title": {
          "text": "Frequency"
         }
        }
       }
      },
      "text/html": [
       "<div>                            <div id=\"156fe95e-2d0a-4bca-bb18-cce4eb260690\" class=\"plotly-graph-div\" style=\"height:450px; width:1250px;\"></div>            <script type=\"text/javascript\">                require([\"plotly\"], function(Plotly) {                    window.PLOTLYENV=window.PLOTLYENV || {};                                    if (document.getElementById(\"156fe95e-2d0a-4bca-bb18-cce4eb260690\")) {                    Plotly.newPlot(                        \"156fe95e-2d0a-4bca-bb18-cce4eb260690\",                        [{\"hoverinfo\": \"text\", \"hovertext\": [\"<b>Topic 0</b><br>Words: marketanalysis, phenomenon, strategist, concern, address\", \"<b>Topic 0</b><br>Words: increase, gold, taper, rise, fomc\", \"<b>Topic 0</b><br>Words: gold, rise, increase, dollar, rate\", \"<b>Topic 0</b><br>Words: commodity, gold, silver, stock, investor\", \"<b>Topic 0</b><br>Words: dollar, gold, pay, increase, money\", \"<b>Topic 0</b><br>Words: money, rise, stock, stockreport, gold\", \"<b>Topic 0</b><br>Words: gold, increase, investor, economy, price\", \"<b>Topic 0</b><br>Words: bread, cheese, fruits, cooking, egg\", \"<b>Topic 0</b><br>Words: xglobalmarket, investor, symposium, bankruptcy, increase\", \"<b>Topic 0</b><br>Words: xglobalmarket, gold, oil, price, rise\", \"<b>Topic 0</b><br>Words: dollar, increase, housing, money, federalreserve\", \"<b>Topic 0</b><br>Words: debt, gold, money, stock, housing\", \"<b>Topic 0</b><br>Words: dollar, gold, money, debt, increase\"], \"marker\": {\"color\": \"#E69F00\"}, \"mode\": \"lines\", \"name\": \"0_gold_increase_investor_rise\", \"type\": \"scatter\", \"x\": [\"2021-06-15\", \"2021-06-16\", \"2021-06-17\", \"2021-06-18\", \"2021-06-19\", \"2021-06-20\", \"2021-06-21\", \"2021-06-22\", \"2021-06-23\", \"2021-06-24\", \"2021-06-28\", \"2021-06-29\", \"2021-06-30\"], \"y\": [910, 1262, 759, 519, 263, 208, 566, 3, 77, 200, 134, 416, 496]}, {\"hoverinfo\": \"text\", \"hovertext\": [\"<b>Topic 1</b><br>Words: number, run, sense, level, \", \"<b>Topic 1</b><br>Words: number, run, sense, level, \", \"<b>Topic 1</b><br>Words: sense, number, run, level, \", \"<b>Topic 1</b><br>Words: level, number, run, sense, \", \"<b>Topic 1</b><br>Words: number, run, sense, level, \", \"<b>Topic 1</b><br>Words: number, run, sense, level, \", \"<b>Topic 1</b><br>Words: run, number, sense, level, \", \"<b>Topic 1</b><br>Words: number, run, sense, level, \", \"<b>Topic 1</b><br>Words: number, run, sense, level, \", \"<b>Topic 1</b><br>Words: number, run, sense, level, \", \"<b>Topic 1</b><br>Words: number, run, sense, level, \", \"<b>Topic 1</b><br>Words: number, run, sense, level, \"], \"marker\": {\"color\": \"#56B4E9\"}, \"mode\": \"lines\", \"name\": \"1_number_run_sense_level\", \"type\": \"scatter\", \"x\": [\"2021-06-15\", \"2021-06-16\", \"2021-06-17\", \"2021-06-18\", \"2021-06-19\", \"2021-06-20\", \"2021-06-21\", \"2021-06-23\", \"2021-06-24\", \"2021-06-28\", \"2021-06-29\", \"2021-06-30\"], \"y\": [159, 383, 177, 80, 56, 38, 93, 41, 27, 47, 100, 192]}, {\"hoverinfo\": \"text\", \"hovertext\": [\"<b>Topic 2</b><br>Words: fomc, meeting, policy, market, decision\", \"<b>Topic 2</b><br>Words: fomc, meeting, policy, market, dot\", \"<b>Topic 2</b><br>Words: fomc, meeting, event, policy, stock\", \"<b>Topic 2</b><br>Words: fomc, meeting, comment, tapertantrum, market\", \"<b>Topic 2</b><br>Words: fomc, meeting, process, alasdairmacleod, thestateofeconomic\", \"<b>Topic 2</b><br>Words: mind, fomc, company, meeting, rock\", \"<b>Topic 2</b><br>Words: fomc, meeting, member, decision, policy\", \"<b>Topic 2</b><br>Words: employee, team, talk, modification, encampment\", \"<b>Topic 2</b><br>Words: fomc, meeting, monpol, graze, pumppppppppedddddd\", \"<b>Topic 2</b><br>Words: confine, transcript, evil, technocrat, president\", \"<b>Topic 2</b><br>Words: knowledge, mind, iot, aristocracy, academia\", \"<b>Topic 2</b><br>Words: intellect, fomc, destroy, meeting, socialism\"], \"marker\": {\"color\": \"#009E73\"}, \"mode\": \"lines\", \"name\": \"2_fomc_meeting_policy_market\", \"type\": \"scatter\", \"x\": [\"2021-06-15\", \"2021-06-16\", \"2021-06-17\", \"2021-06-18\", \"2021-06-19\", \"2021-06-20\", \"2021-06-21\", \"2021-06-23\", \"2021-06-24\", \"2021-06-28\", \"2021-06-29\", \"2021-06-30\"], \"y\": [61, 260, 63, 39, 17, 8, 42, 10, 13, 5, 18, 28]}, {\"hoverinfo\": \"text\", \"hovertext\": [\"<b>Topic 3</b><br>Words: analyst, reset, nautanki, snatch, disconfirme\", \"<b>Topic 3</b><br>Words: sport, content, holiday, reset, composition\", \"<b>Topic 3</b><br>Words: holiday, juneteenth, reset, sneeze, story\", \"<b>Topic 3</b><br>Words: scientist, onion, blame, solution, fixd\", \"<b>Topic 3</b><br>Words: crow, monkeys, cartridge, ogreeye, replacement\", \"<b>Topic 3</b><br>Words: excite, weekend, saving, story, holiday\", \"<b>Topic 3</b><br>Words: reset, sneeze, composition, trunk, smallyoutubercommunity\", \"<b>Topic 3</b><br>Words: debunk, dnc, cite, initiative, constitution\", \"<b>Topic 3</b><br>Words: outofthisworld, count, rock, experience, holiday\", \"<b>Topic 3</b><br>Words: developer, shuffle, exodus, request, season\", \"<b>Topic 3</b><br>Words: emergency, demonstrate, ostracizingleadership, authorize, punt\", \"<b>Topic 3</b><br>Words: schedule, check, networksolution, finalsolution, taxheaven\"], \"marker\": {\"color\": \"#F0E442\"}, \"mode\": \"lines\", \"name\": \"3_holiday_reset_juneteenth_blame\", \"type\": \"scatter\", \"x\": [\"2021-06-15\", \"2021-06-16\", \"2021-06-17\", \"2021-06-18\", \"2021-06-19\", \"2021-06-20\", \"2021-06-21\", \"2021-06-23\", \"2021-06-24\", \"2021-06-28\", \"2021-06-29\", \"2021-06-30\"], \"y\": [16, 26, 25, 13, 6, 3, 15, 5, 1, 4, 14, 17]}, {\"hoverinfo\": \"text\", \"hovertext\": [\"<b>Topic 4</b><br>Words: launch, announcement, step, uselessness, cooperation\", \"<b>Topic 4</b><br>Words: announcement, word, source, update, office\", \"<b>Topic 4</b><br>Words: office, source, announcement, observance, update\", \"<b>Topic 4</b><br>Words: launch, change, office, word, client\", \"<b>Topic 4</b><br>Words: independence, spark, reminder, operation, freedom\", \"<b>Topic 4</b><br>Words: bounce, news, announcement, source, office\", \"<b>Topic 4</b><br>Words: source, front, permissione, share, clarification\", \"<b>Topic 4</b><br>Words: revelinginestablishment, reversion, member, announcement, source\", \"<b>Topic 4</b><br>Words: engger, registration, applynow, host, session\", \"<b>Topic 4</b><br>Words: lebanonprotest, applynow, strike, operation, announce\", \"<b>Topic 4</b><br>Words: church, phrase, internet, security, return\", \"<b>Topic 4</b><br>Words: sense, revolution, launch, establishment, source\"], \"marker\": {\"color\": \"#D55E00\"}, \"mode\": \"lines\", \"name\": \"4_announcement_source_office_update\", \"type\": \"scatter\", \"x\": [\"2021-06-15\", \"2021-06-16\", \"2021-06-17\", \"2021-06-18\", \"2021-06-19\", \"2021-06-20\", \"2021-06-21\", \"2021-06-23\", \"2021-06-24\", \"2021-06-28\", \"2021-06-29\", \"2021-06-30\"], \"y\": [15, 28, 19, 9, 4, 1, 10, 3, 5, 3, 4, 10]}, {\"hoverinfo\": \"text\", \"hovertext\": [\"<b>Topic 5</b><br>Words: policy, explain, kick, administration, regulation\", \"<b>Topic 5</b><br>Words: statement, policy, governor, government, tag\", \"<b>Topic 5</b><br>Words: policy, statement, ramification, analyst, institution\", \"<b>Topic 5</b><br>Words: governor, recommend, info, state, strategy\", \"<b>Topic 5</b><br>Words: sort, policy, government, headline, press\", \"<b>Topic 5</b><br>Words: stereotype, define, statement, policy, governor\", \"<b>Topic 5</b><br>Words: statement, analyst, policy, rein, institution\", \"<b>Topic 5</b><br>Words: guideline, governor, cra, propose, reform\", \"<b>Topic 5</b><br>Words: statement, government, policy, governor, analyst\", \"<b>Topic 5</b><br>Words: discussion, forthcoming, governor, issue, legislation\", \"<b>Topic 5</b><br>Words: governor, statement, policy, psychology, spotlight\", \"<b>Topic 5</b><br>Words: governor, statement, policy, usgovernment, strung\"], \"marker\": {\"color\": \"#0072B2\"}, \"mode\": \"lines\", \"name\": \"5_statement_policy_governor_government\", \"type\": \"scatter\", \"x\": [\"2021-06-15\", \"2021-06-16\", \"2021-06-17\", \"2021-06-18\", \"2021-06-19\", \"2021-06-20\", \"2021-06-21\", \"2021-06-23\", \"2021-06-24\", \"2021-06-28\", \"2021-06-29\", \"2021-06-30\"], \"y\": [7, 41, 9, 3, 3, 1, 5, 2, 2, 3, 7, 10]}, {\"hoverinfo\": \"text\", \"hovertext\": [\"<b>Topic 6</b><br>Words: speech, comment, showing, tattoo, mensaje\", \"<b>Topic 6</b><br>Words: comment, talk, audio, video, speech\", \"<b>Topic 6</b><br>Words: message, talk, video, interpreting, watch\", \"<b>Topic 6</b><br>Words: comment, break, honour, obstruct, talk\", \"<b>Topic 6</b><br>Words: documentary, comment, stream, tonight, visit\", \"<b>Topic 6</b><br>Words: outlook, comment, talk, video, speech\", \"<b>Topic 6</b><br>Words: comment, response, chatroom, list, language\", \"<b>Topic 6</b><br>Words: article, audience, ticket, video, talk\", \"<b>Topic 6</b><br>Words: document, attention, process, video, figure\", \"<b>Topic 6</b><br>Words: speech, vision, topic, attention, conversation\", \"<b>Topic 6</b><br>Words: image, comment, talk, video, speech\", \"<b>Topic 6</b><br>Words: comment, experience, speech, smh, speaking\"], \"marker\": {\"color\": \"#CC79A7\"}, \"mode\": \"lines\", \"name\": \"6_comment_talk_video_speech\", \"type\": \"scatter\", \"x\": [\"2021-06-15\", \"2021-06-16\", \"2021-06-17\", \"2021-06-18\", \"2021-06-19\", \"2021-06-20\", \"2021-06-21\", \"2021-06-23\", \"2021-06-24\", \"2021-06-28\", \"2021-06-29\", \"2021-06-30\"], \"y\": [9, 22, 10, 5, 5, 1, 10, 3, 3, 5, 2, 11]}],                        {\"height\": 450, \"hoverlabel\": {\"bgcolor\": \"white\", \"font\": {\"family\": \"Rockwell\", \"size\": 16}}, \"legend\": {\"title\": {\"text\": \"<b>Global Topic Representation\"}}, \"template\": {\"data\": {\"bar\": [{\"error_x\": {\"color\": \"rgb(36,36,36)\"}, \"error_y\": {\"color\": \"rgb(36,36,36)\"}, \"marker\": {\"line\": {\"color\": \"white\", \"width\": 0.5}}, \"type\": \"bar\"}], \"barpolar\": [{\"marker\": {\"line\": {\"color\": \"white\", \"width\": 0.5}}, \"type\": \"barpolar\"}], \"carpet\": [{\"aaxis\": {\"endlinecolor\": \"rgb(36,36,36)\", \"gridcolor\": \"white\", \"linecolor\": \"white\", \"minorgridcolor\": \"white\", \"startlinecolor\": \"rgb(36,36,36)\"}, \"baxis\": {\"endlinecolor\": \"rgb(36,36,36)\", \"gridcolor\": \"white\", \"linecolor\": \"white\", \"minorgridcolor\": \"white\", \"startlinecolor\": \"rgb(36,36,36)\"}, \"type\": \"carpet\"}], \"choropleth\": [{\"colorbar\": {\"outlinewidth\": 1, \"tickcolor\": \"rgb(36,36,36)\", \"ticks\": \"outside\"}, \"type\": \"choropleth\"}], \"contour\": [{\"colorbar\": {\"outlinewidth\": 1, \"tickcolor\": \"rgb(36,36,36)\", \"ticks\": \"outside\"}, \"colorscale\": [[0.0, \"#440154\"], [0.1111111111111111, \"#482878\"], [0.2222222222222222, \"#3e4989\"], [0.3333333333333333, \"#31688e\"], [0.4444444444444444, \"#26828e\"], [0.5555555555555556, \"#1f9e89\"], [0.6666666666666666, \"#35b779\"], [0.7777777777777778, \"#6ece58\"], [0.8888888888888888, \"#b5de2b\"], [1.0, \"#fde725\"]], \"type\": \"contour\"}], \"contourcarpet\": [{\"colorbar\": {\"outlinewidth\": 1, \"tickcolor\": \"rgb(36,36,36)\", \"ticks\": \"outside\"}, \"type\": \"contourcarpet\"}], \"heatmap\": [{\"colorbar\": {\"outlinewidth\": 1, \"tickcolor\": \"rgb(36,36,36)\", \"ticks\": \"outside\"}, \"colorscale\": [[0.0, \"#440154\"], [0.1111111111111111, \"#482878\"], [0.2222222222222222, \"#3e4989\"], [0.3333333333333333, \"#31688e\"], [0.4444444444444444, \"#26828e\"], [0.5555555555555556, \"#1f9e89\"], [0.6666666666666666, \"#35b779\"], [0.7777777777777778, \"#6ece58\"], [0.8888888888888888, \"#b5de2b\"], [1.0, \"#fde725\"]], \"type\": \"heatmap\"}], \"heatmapgl\": [{\"colorbar\": {\"outlinewidth\": 1, \"tickcolor\": \"rgb(36,36,36)\", \"ticks\": \"outside\"}, \"colorscale\": [[0.0, \"#440154\"], [0.1111111111111111, \"#482878\"], [0.2222222222222222, \"#3e4989\"], [0.3333333333333333, \"#31688e\"], [0.4444444444444444, \"#26828e\"], [0.5555555555555556, \"#1f9e89\"], [0.6666666666666666, \"#35b779\"], [0.7777777777777778, \"#6ece58\"], [0.8888888888888888, \"#b5de2b\"], [1.0, \"#fde725\"]], \"type\": \"heatmapgl\"}], \"histogram\": [{\"marker\": {\"line\": {\"color\": \"white\", \"width\": 0.6}}, \"type\": \"histogram\"}], \"histogram2d\": [{\"colorbar\": {\"outlinewidth\": 1, \"tickcolor\": \"rgb(36,36,36)\", \"ticks\": \"outside\"}, \"colorscale\": [[0.0, \"#440154\"], [0.1111111111111111, \"#482878\"], [0.2222222222222222, \"#3e4989\"], [0.3333333333333333, \"#31688e\"], [0.4444444444444444, \"#26828e\"], [0.5555555555555556, \"#1f9e89\"], [0.6666666666666666, \"#35b779\"], [0.7777777777777778, \"#6ece58\"], [0.8888888888888888, \"#b5de2b\"], [1.0, \"#fde725\"]], \"type\": \"histogram2d\"}], \"histogram2dcontour\": [{\"colorbar\": {\"outlinewidth\": 1, \"tickcolor\": \"rgb(36,36,36)\", \"ticks\": \"outside\"}, \"colorscale\": [[0.0, \"#440154\"], [0.1111111111111111, \"#482878\"], [0.2222222222222222, \"#3e4989\"], [0.3333333333333333, \"#31688e\"], [0.4444444444444444, \"#26828e\"], [0.5555555555555556, \"#1f9e89\"], [0.6666666666666666, \"#35b779\"], [0.7777777777777778, \"#6ece58\"], [0.8888888888888888, \"#b5de2b\"], [1.0, \"#fde725\"]], \"type\": \"histogram2dcontour\"}], \"mesh3d\": [{\"colorbar\": {\"outlinewidth\": 1, \"tickcolor\": \"rgb(36,36,36)\", \"ticks\": \"outside\"}, \"type\": \"mesh3d\"}], \"parcoords\": [{\"line\": {\"colorbar\": {\"outlinewidth\": 1, \"tickcolor\": \"rgb(36,36,36)\", \"ticks\": \"outside\"}}, \"type\": \"parcoords\"}], \"pie\": [{\"automargin\": true, \"type\": \"pie\"}], \"scatter\": [{\"marker\": {\"colorbar\": {\"outlinewidth\": 1, \"tickcolor\": \"rgb(36,36,36)\", \"ticks\": \"outside\"}}, \"type\": \"scatter\"}], \"scatter3d\": [{\"line\": {\"colorbar\": {\"outlinewidth\": 1, \"tickcolor\": \"rgb(36,36,36)\", \"ticks\": \"outside\"}}, \"marker\": {\"colorbar\": {\"outlinewidth\": 1, \"tickcolor\": \"rgb(36,36,36)\", \"ticks\": \"outside\"}}, \"type\": \"scatter3d\"}], \"scattercarpet\": [{\"marker\": {\"colorbar\": {\"outlinewidth\": 1, \"tickcolor\": \"rgb(36,36,36)\", \"ticks\": \"outside\"}}, \"type\": \"scattercarpet\"}], \"scattergeo\": [{\"marker\": {\"colorbar\": {\"outlinewidth\": 1, \"tickcolor\": \"rgb(36,36,36)\", \"ticks\": \"outside\"}}, \"type\": \"scattergeo\"}], \"scattergl\": [{\"marker\": {\"colorbar\": {\"outlinewidth\": 1, \"tickcolor\": \"rgb(36,36,36)\", \"ticks\": \"outside\"}}, \"type\": \"scattergl\"}], \"scattermapbox\": [{\"marker\": {\"colorbar\": {\"outlinewidth\": 1, \"tickcolor\": \"rgb(36,36,36)\", \"ticks\": \"outside\"}}, \"type\": \"scattermapbox\"}], \"scatterpolar\": [{\"marker\": {\"colorbar\": {\"outlinewidth\": 1, \"tickcolor\": \"rgb(36,36,36)\", \"ticks\": \"outside\"}}, \"type\": \"scatterpolar\"}], \"scatterpolargl\": [{\"marker\": {\"colorbar\": {\"outlinewidth\": 1, \"tickcolor\": \"rgb(36,36,36)\", \"ticks\": \"outside\"}}, \"type\": \"scatterpolargl\"}], \"scatterternary\": [{\"marker\": {\"colorbar\": {\"outlinewidth\": 1, \"tickcolor\": \"rgb(36,36,36)\", \"ticks\": \"outside\"}}, \"type\": \"scatterternary\"}], \"surface\": [{\"colorbar\": {\"outlinewidth\": 1, \"tickcolor\": \"rgb(36,36,36)\", \"ticks\": \"outside\"}, \"colorscale\": [[0.0, \"#440154\"], [0.1111111111111111, \"#482878\"], [0.2222222222222222, \"#3e4989\"], [0.3333333333333333, \"#31688e\"], [0.4444444444444444, \"#26828e\"], [0.5555555555555556, \"#1f9e89\"], [0.6666666666666666, \"#35b779\"], [0.7777777777777778, \"#6ece58\"], [0.8888888888888888, \"#b5de2b\"], [1.0, \"#fde725\"]], \"type\": \"surface\"}], \"table\": [{\"cells\": {\"fill\": {\"color\": \"rgb(237,237,237)\"}, \"line\": {\"color\": \"white\"}}, \"header\": {\"fill\": {\"color\": \"rgb(217,217,217)\"}, \"line\": {\"color\": \"white\"}}, \"type\": \"table\"}]}, \"layout\": {\"annotationdefaults\": {\"arrowhead\": 0, \"arrowwidth\": 1}, \"autotypenumbers\": \"strict\", \"coloraxis\": {\"colorbar\": {\"outlinewidth\": 1, \"tickcolor\": \"rgb(36,36,36)\", \"ticks\": \"outside\"}}, \"colorscale\": {\"diverging\": [[0.0, \"rgb(103,0,31)\"], [0.1, \"rgb(178,24,43)\"], [0.2, \"rgb(214,96,77)\"], [0.3, \"rgb(244,165,130)\"], [0.4, \"rgb(253,219,199)\"], [0.5, \"rgb(247,247,247)\"], [0.6, \"rgb(209,229,240)\"], [0.7, \"rgb(146,197,222)\"], [0.8, \"rgb(67,147,195)\"], [0.9, \"rgb(33,102,172)\"], [1.0, \"rgb(5,48,97)\"]], \"sequential\": [[0.0, \"#440154\"], [0.1111111111111111, \"#482878\"], [0.2222222222222222, \"#3e4989\"], [0.3333333333333333, \"#31688e\"], [0.4444444444444444, \"#26828e\"], [0.5555555555555556, \"#1f9e89\"], [0.6666666666666666, \"#35b779\"], [0.7777777777777778, \"#6ece58\"], [0.8888888888888888, \"#b5de2b\"], [1.0, \"#fde725\"]], \"sequentialminus\": [[0.0, \"#440154\"], [0.1111111111111111, \"#482878\"], [0.2222222222222222, \"#3e4989\"], [0.3333333333333333, \"#31688e\"], [0.4444444444444444, \"#26828e\"], [0.5555555555555556, \"#1f9e89\"], [0.6666666666666666, \"#35b779\"], [0.7777777777777778, \"#6ece58\"], [0.8888888888888888, \"#b5de2b\"], [1.0, \"#fde725\"]]}, \"colorway\": [\"#1F77B4\", \"#FF7F0E\", \"#2CA02C\", \"#D62728\", \"#9467BD\", \"#8C564B\", \"#E377C2\", \"#7F7F7F\", \"#BCBD22\", \"#17BECF\"], \"font\": {\"color\": \"rgb(36,36,36)\"}, \"geo\": {\"bgcolor\": \"white\", \"lakecolor\": \"white\", \"landcolor\": \"white\", \"showlakes\": true, \"showland\": true, \"subunitcolor\": \"white\"}, \"hoverlabel\": {\"align\": \"left\"}, \"hovermode\": \"closest\", \"mapbox\": {\"style\": \"light\"}, \"paper_bgcolor\": \"white\", \"plot_bgcolor\": \"white\", \"polar\": {\"angularaxis\": {\"gridcolor\": \"rgb(232,232,232)\", \"linecolor\": \"rgb(36,36,36)\", \"showgrid\": false, \"showline\": true, \"ticks\": \"outside\"}, \"bgcolor\": \"white\", \"radialaxis\": {\"gridcolor\": \"rgb(232,232,232)\", \"linecolor\": \"rgb(36,36,36)\", \"showgrid\": false, \"showline\": true, \"ticks\": \"outside\"}}, \"scene\": {\"xaxis\": {\"backgroundcolor\": \"white\", \"gridcolor\": \"rgb(232,232,232)\", \"gridwidth\": 2, \"linecolor\": \"rgb(36,36,36)\", \"showbackground\": true, \"showgrid\": false, \"showline\": true, \"ticks\": \"outside\", \"zeroline\": false, \"zerolinecolor\": \"rgb(36,36,36)\"}, \"yaxis\": {\"backgroundcolor\": \"white\", \"gridcolor\": \"rgb(232,232,232)\", \"gridwidth\": 2, \"linecolor\": \"rgb(36,36,36)\", \"showbackground\": true, \"showgrid\": false, \"showline\": true, \"ticks\": \"outside\", \"zeroline\": false, \"zerolinecolor\": \"rgb(36,36,36)\"}, \"zaxis\": {\"backgroundcolor\": \"white\", \"gridcolor\": \"rgb(232,232,232)\", \"gridwidth\": 2, \"linecolor\": \"rgb(36,36,36)\", \"showbackground\": true, \"showgrid\": false, \"showline\": true, \"ticks\": \"outside\", \"zeroline\": false, \"zerolinecolor\": \"rgb(36,36,36)\"}}, \"shapedefaults\": {\"fillcolor\": \"black\", \"line\": {\"width\": 0}, \"opacity\": 0.3}, \"ternary\": {\"aaxis\": {\"gridcolor\": \"rgb(232,232,232)\", \"linecolor\": \"rgb(36,36,36)\", \"showgrid\": false, \"showline\": true, \"ticks\": \"outside\"}, \"baxis\": {\"gridcolor\": \"rgb(232,232,232)\", \"linecolor\": \"rgb(36,36,36)\", \"showgrid\": false, \"showline\": true, \"ticks\": \"outside\"}, \"bgcolor\": \"white\", \"caxis\": {\"gridcolor\": \"rgb(232,232,232)\", \"linecolor\": \"rgb(36,36,36)\", \"showgrid\": false, \"showline\": true, \"ticks\": \"outside\"}}, \"title\": {\"x\": 0.05}, \"xaxis\": {\"automargin\": true, \"gridcolor\": \"rgb(232,232,232)\", \"linecolor\": \"rgb(36,36,36)\", \"showgrid\": false, \"showline\": true, \"ticks\": \"outside\", \"title\": {\"standoff\": 15}, \"zeroline\": false, \"zerolinecolor\": \"rgb(36,36,36)\"}, \"yaxis\": {\"automargin\": true, \"gridcolor\": \"rgb(232,232,232)\", \"linecolor\": \"rgb(36,36,36)\", \"showgrid\": false, \"showline\": true, \"ticks\": \"outside\", \"title\": {\"standoff\": 15}, \"zeroline\": false, \"zerolinecolor\": \"rgb(36,36,36)\"}}}, \"title\": {\"font\": {\"color\": \"Black\", \"size\": 22}, \"text\": \"<b>Topics over Time\", \"x\": 0.4, \"xanchor\": \"center\", \"y\": 0.95, \"yanchor\": \"top\"}, \"width\": 1250, \"xaxis\": {\"showgrid\": true}, \"yaxis\": {\"showgrid\": true, \"title\": {\"text\": \"Frequency\"}}},                        {\"responsive\": true}                    ).then(function(){\n",
       "                            \n",
       "var gd = document.getElementById('156fe95e-2d0a-4bca-bb18-cce4eb260690');\n",
       "var x = new MutationObserver(function (mutations, observer) {{\n",
       "        var display = window.getComputedStyle(gd).display;\n",
       "        if (!display || display === 'none') {{\n",
       "            console.log([gd, 'removed!']);\n",
       "            Plotly.purge(gd);\n",
       "            observer.disconnect();\n",
       "        }}\n",
       "}});\n",
       "\n",
       "// Listen for the removal of the full notebook cells\n",
       "var notebookContainer = gd.closest('#notebook-container');\n",
       "if (notebookContainer) {{\n",
       "    x.observe(notebookContainer, {childList: true});\n",
       "}}\n",
       "\n",
       "// Listen for the clearing of the current output cell\n",
       "var outputEl = gd.closest('.output');\n",
       "if (outputEl) {{\n",
       "    x.observe(outputEl, {childList: true});\n",
       "}}\n",
       "\n",
       "                        })                };                });            </script>        </div>"
      ]
     },
     "metadata": {},
     "output_type": "display_data"
    }
   ],
   "source": [
    "topic_model.visualize_topics_over_time(topics_over_time, topics=[0,1,2,3,4,5,6])"
   ]
  },
  {
   "cell_type": "markdown",
   "metadata": {},
   "source": [
    "<font size = 4><b><center><a id=\"section4\">4. Conclusion</a>"
   ]
  },
  {
   "cell_type": "raw",
   "metadata": {},
   "source": [
    "1. BERTopic is really hard to tune conpared to LDA topic modeling.\n",
    "2. Tuning parameters from UMAP and HDBSCAN:\n",
    "    (1) UMAP\n",
    "    o\tN_neighbors - This parameter controls how UMAP balances local versus global structure in the data. Low values will make the model concentrates on very local structure; larger values will result in more global structure. In general, this parameter should often be in the range 5 to 50. We chose it in a range of 10 to 15.\n",
    "    o\tMin_dist - controls how tightly UMAP is allowed to pack points together. Larger values can ensure embedded points to be more evenly distributed, smaller values allow the algorithm to optimize more accurately regarding local structure. Sensible values are in the range 0 to 0.5, we kept our choice to be 0.\n",
    "    (2) HDBSCAN\n",
    "    o\tMin_cluster_size - set it to the smallest size grouping that we consider a cluster.\n",
    "    o\tMin_samples - how conservative the clustering is.\n",
    "    o\tMetrics - compute distances for the clustering.\n",
    "        Min_cluster_size and min_samples must be considered together, the higher the min_samples is, the more points will be declared as noise.  We kept min_samples 1, which is the smallest number. For Distance metrics we only considered Euclidean distance and Euclidean L2 norm.\n",
    "\n",
    "3. Future Work: In the future, we could try another method to improve the coherence score. To improve the coherence of words, Maximal Marginal Relevance is another way to find the most coherent words without having too much overlap between the words themselves. This results in the removal of words that do not contribute to a topic."
   ]
  }
 ],
 "metadata": {
  "kernelspec": {
   "display_name": "Python 3",
   "language": "python",
   "name": "python3"
  },
  "language_info": {
   "codemirror_mode": {
    "name": "ipython",
    "version": 3
   },
   "file_extension": ".py",
   "mimetype": "text/x-python",
   "name": "python",
   "nbconvert_exporter": "python",
   "pygments_lexer": "ipython3",
   "version": "3.8.5"
  }
 },
 "nbformat": 4,
 "nbformat_minor": 5
}
